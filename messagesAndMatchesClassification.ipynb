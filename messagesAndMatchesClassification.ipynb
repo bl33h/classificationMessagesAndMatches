{
 "cells": [
  {
   "cell_type": "markdown",
   "metadata": {},
   "source": [
    "# Laboratorio 2\n",
    "## Miembros del equipo\n",
    "- Ricardo Méndez 21289\n",
    "- Sara Echeverría 21371\n",
    "- Melissa Pérez 21385\n",
    "- Francisco Castillo 21562"
   ]
  },
  {
   "cell_type": "markdown",
   "metadata": {},
   "source": [
    "# Task 1"
   ]
  },
  {
   "cell_type": "markdown",
   "metadata": {},
   "source": [
    "#### ¿Por qué el modelo de Naive Bayes se le considera “naive”?\n",
    "\n",
    "La teoría de Bayes asume que los eventos son dependientes entre sí. Al implementarlo con un acercamiento _naive_ implica que asumimos que los eventos son independientes entre sí. Donde, básicamente, describe que una característica de un conjunto de datos no está relacionada con otra de ellas. En otras palabras, es por su simplicidad de la independencia condicional entre las características o atributos que describen los datos. [(Shoba, 2018)](https://www.sciencedirect.com/science/article/abs/pii/S0169716118300191)"
   ]
  },
  {
   "cell_type": "markdown",
   "metadata": {},
   "source": [
    "#### Explique la formulación matemática que se busca optimizar en Support Vector Machine, además responda ¿cómo funciona el truco del Kernel para este modelo? \n",
    "Las máquinas de soporte vectorial buscan encontrar una frontera que maximice el margen de separation para la classification de los datos. La prediction de los datos se realiza con la siguiente fórmula:\n",
    "$$\n",
    "y_i = sign(w^Tx_i+b)\n",
    "$$\n",
    "El margen se optimiza a través de la distancia perpendicular desde la frontera hacia al punto más cercano de cada clase; es decir, maximizamos esta distancia. Esto se resuelve con multiplicadores de Lagrange (Tantos multiplicadores como cantidad de puntos tenemos)\n",
    "$$\n",
    "argmin_{w, ɑ} \\frac{1}{2}w^Tw- \\sum_{n, m=1}^{N}ɑ_mɑ_ny_my_nx_nx_m\n",
    "$$\n",
    "Tras resolver el problema de optimización, se obtiene la siguiente fórmula:\n",
    "$$\n",
    "argmax_w \\sum_{n=1}^{N}ɑ_n - \\frac{1}{2} \\sum_{n, m=1}^{N}ɑ_nɑ_my_my_n{x_n}^Tx_m\n",
    "$$\n",
    "Se puede apreciar que ya no dependemos de los pesos ($w$) y el bias ($b$), sino que dependemos de los multiplicadores de Lagrange ($ɑ$). Estos multiplicadores son los que nos permiten encontrar la frontera de decision.\n",
    "\n",
    "Las predicciones ahora se hacen de la siguiente manera:\n",
    "$$\n",
    "y_i = sign(\\sum_{n=1}^{N}ɑ_ny_nx_n^Tx_i+b)\n",
    "$$\n",
    "Los datos de $x_i$ solamente aparecen como un producto punto, el cual podemos representar con una función de kernel.\n",
    "$$\n",
    "y_i = sign(\\sum_{n=1}^{N}ɑ_ny_nK(x_n,x_i)+b)\n",
    "$$\n",
    "\n",
    "El utilizar esta function nos permite ingress el _truco del kernel_. Este truco nos permite mapear los datos a un espacio de mayor dimension, donde es más facial encontrar una frontera de decision que no es necesariamente lineal.  [(Ranjan, 2019)](https://towardsdatascience.com/truly-understanding-the-kernel-trick-1aeb11560769)"
   ]
  },
  {
   "cell_type": "markdown",
   "metadata": {},
   "source": [
    "### ¿Qué tipo de ensemble learning es este modelo (Random Forest)?\n",
    "Random Forest es un ensemble learning de tipo _Bootstrap Aggregation_ o _bagging_. Se utiliza para reducir la varianza de un modelo de machine learning a base de crear multiples modelos y combinarlos para obtener un modelo final. En un _Random Forest_ todos los modelos son árboles de decision. Cada arbol se entrena con diferentes subconjuntos de datos los cuales son combinados para obtener un modelo final. [(Sruthi, 2024)](https://www.analyticsvidhya.com/blog/2021/06/understanding-random-forest/)"
   ]
  },
  {
   "cell_type": "markdown",
   "metadata": {},
   "source": [
    "### ¿Cuál es la idea general detrás de Random Forest?\n",
    "Como se ha mencionado anteriormente, el objetivo es crear un modelo de aprendizaje que combine la salida de multiples árboles de decision para llegar a un resultado unico. "
   ]
  },
  {
   "cell_type": "markdown",
   "metadata": {},
   "source": [
    "### ¿Por qué se busca baja correlación entre los árboles de Random Forest?\n",
    "Se busca que los _features_ tengan baja correlación para reducir la varianza y mejorar la precision de las predicciones. Si la correlación es alta entre estos árboles, es muy probable que cometan los mismos errores en la predicción, lo que no ofrecería ninguna mejora. [(Breiman & Cutler, s.f.)](https://www.stat.berkeley.edu/~breiman/RandomForests/cc_home.htm)"
   ]
  },
  {
   "cell_type": "code",
   "execution_count": 31,
   "metadata": {
    "ExecuteTime": {
     "end_time": "2024-01-26T20:23:23.287434Z",
     "start_time": "2024-01-26T20:23:23.159535300Z"
    },
    "collapsed": false
   },
   "outputs": [],
   "source": [
    "import pandas as pd\n",
    "import numpy as np\n",
    "import string\n",
    "import matplotlib.pyplot as plt\n",
    "from sklearn.preprocessing import StandardScaler\n",
    "from sklearn.model_selection import train_test_split\n",
    "\n",
    "scaler = StandardScaler()"
   ]
  },
  {
   "cell_type": "markdown",
   "metadata": {},
   "source": [
    "# Task 2 Naive Bayes: Clasificador de Mensajes Ham/Spam\n",
    "\n",
    "Los datos de prueba han sido obtenidos de [este enlace](https://github.com/Sk70249/NLP-Spam-Ham-Classifier/blob/master/data/SMSSpamCollection.tsv)"
   ]
  },
  {
   "cell_type": "markdown",
   "metadata": {},
   "source": [
    "# Task 2.1"
   ]
  },
  {
   "cell_type": "code",
   "execution_count": 6,
   "metadata": {
    "ExecuteTime": {
     "end_time": "2024-01-26T20:23:23.345717100Z",
     "start_time": "2024-01-26T20:23:23.294375100Z"
    },
    "collapsed": false
   },
   "outputs": [],
   "source": [
    "data = []\n",
    "with open('data/entrenamiento.txt', 'r') as file:\n",
    "    for line in file:\n",
    "        split = line.split('\\t')\n",
    "        if len(split) == 2:\n",
    "            classification = split[0]\n",
    "            message = split[1].lower()\n",
    "            \n",
    "            #Clean the message\n",
    "            chars = ['\\n', '.', ',', '!', '?', '(', ')', '\"', ':', ';']\n",
    "            for char in chars:\n",
    "                message = message.replace(char, '')\n",
    "            \n",
    "            data.append([classification, message])"
   ]
  },
  {
   "cell_type": "code",
   "execution_count": 7,
   "metadata": {
    "ExecuteTime": {
     "end_time": "2024-01-26T20:23:23.348265900Z",
     "start_time": "2024-01-26T20:23:23.333527500Z"
    },
    "collapsed": false
   },
   "outputs": [],
   "source": [
    "df = pd.DataFrame(data, columns=['classification', 'message'])"
   ]
  },
  {
   "cell_type": "code",
   "execution_count": 8,
   "metadata": {
    "ExecuteTime": {
     "end_time": "2024-01-26T20:23:23.440922900Z",
     "start_time": "2024-01-26T20:23:23.357269400Z"
    },
    "collapsed": false
   },
   "outputs": [
    {
     "data": {
      "text/html": [
       "<div>\n",
       "<style scoped>\n",
       "    .dataframe tbody tr th:only-of-type {\n",
       "        vertical-align: middle;\n",
       "    }\n",
       "\n",
       "    .dataframe tbody tr th {\n",
       "        vertical-align: top;\n",
       "    }\n",
       "\n",
       "    .dataframe thead th {\n",
       "        text-align: right;\n",
       "    }\n",
       "</style>\n",
       "<table border=\"1\" class=\"dataframe\">\n",
       "  <thead>\n",
       "    <tr style=\"text-align: right;\">\n",
       "      <th></th>\n",
       "      <th>classification</th>\n",
       "      <th>message</th>\n",
       "    </tr>\n",
       "  </thead>\n",
       "  <tbody>\n",
       "    <tr>\n",
       "      <th>0</th>\n",
       "      <td>ham</td>\n",
       "      <td>go until jurong point crazy available only in ...</td>\n",
       "    </tr>\n",
       "    <tr>\n",
       "      <th>1</th>\n",
       "      <td>ham</td>\n",
       "      <td>ok lar joking wif u oni</td>\n",
       "    </tr>\n",
       "    <tr>\n",
       "      <th>2</th>\n",
       "      <td>spam</td>\n",
       "      <td>free entry in 2 a wkly comp to win fa cup fina...</td>\n",
       "    </tr>\n",
       "    <tr>\n",
       "      <th>3</th>\n",
       "      <td>ham</td>\n",
       "      <td>u dun say so early hor u c already then say</td>\n",
       "    </tr>\n",
       "    <tr>\n",
       "      <th>4</th>\n",
       "      <td>ham</td>\n",
       "      <td>nah i don't think he goes to usf he lives arou...</td>\n",
       "    </tr>\n",
       "    <tr>\n",
       "      <th>5</th>\n",
       "      <td>spam</td>\n",
       "      <td>freemsg hey there darling it's been 3 week's n...</td>\n",
       "    </tr>\n",
       "    <tr>\n",
       "      <th>6</th>\n",
       "      <td>ham</td>\n",
       "      <td>even my brother is not like to speak with me t...</td>\n",
       "    </tr>\n",
       "    <tr>\n",
       "      <th>7</th>\n",
       "      <td>ham</td>\n",
       "      <td>as per your request 'melle melle oru minnaminu...</td>\n",
       "    </tr>\n",
       "    <tr>\n",
       "      <th>8</th>\n",
       "      <td>spam</td>\n",
       "      <td>winner as a valued network customer you have b...</td>\n",
       "    </tr>\n",
       "    <tr>\n",
       "      <th>9</th>\n",
       "      <td>spam</td>\n",
       "      <td>had your mobile 11 months or more u r entitled...</td>\n",
       "    </tr>\n",
       "  </tbody>\n",
       "</table>\n",
       "</div>"
      ],
      "text/plain": [
       "  classification                                            message\n",
       "0            ham  go until jurong point crazy available only in ...\n",
       "1            ham                            ok lar joking wif u oni\n",
       "2           spam  free entry in 2 a wkly comp to win fa cup fina...\n",
       "3            ham        u dun say so early hor u c already then say\n",
       "4            ham  nah i don't think he goes to usf he lives arou...\n",
       "5           spam  freemsg hey there darling it's been 3 week's n...\n",
       "6            ham  even my brother is not like to speak with me t...\n",
       "7            ham  as per your request 'melle melle oru minnaminu...\n",
       "8           spam  winner as a valued network customer you have b...\n",
       "9           spam  had your mobile 11 months or more u r entitled..."
      ]
     },
     "execution_count": 8,
     "metadata": {},
     "output_type": "execute_result"
    }
   ],
   "source": [
    "df.head(10)"
   ]
  },
  {
   "cell_type": "code",
   "execution_count": 9,
   "metadata": {
    "ExecuteTime": {
     "end_time": "2024-01-26T20:23:23.449678700Z",
     "start_time": "2024-01-26T20:23:23.368278700Z"
    },
    "collapsed": false
   },
   "outputs": [
    {
     "name": "stdout",
     "output_type": "stream",
     "text": [
      "<class 'pandas.core.frame.DataFrame'>\n",
      "RangeIndex: 5565 entries, 0 to 5564\n",
      "Data columns (total 2 columns):\n",
      " #   Column          Non-Null Count  Dtype \n",
      "---  ------          --------------  ----- \n",
      " 0   classification  5565 non-null   object\n",
      " 1   message         5565 non-null   object\n",
      "dtypes: object(2)\n",
      "memory usage: 87.1+ KB\n"
     ]
    }
   ],
   "source": [
    "df.info()"
   ]
  },
  {
   "cell_type": "code",
   "execution_count": 10,
   "metadata": {
    "ExecuteTime": {
     "end_time": "2024-01-26T20:23:23.544266500Z",
     "start_time": "2024-01-26T20:23:23.452673400Z"
    },
    "collapsed": false
   },
   "outputs": [],
   "source": [
    "df['classification'] = df['classification'].map({'ham': 0, 'spam': 1})"
   ]
  },
  {
   "cell_type": "code",
   "execution_count": 11,
   "metadata": {
    "ExecuteTime": {
     "end_time": "2024-01-26T20:23:23.598085300Z",
     "start_time": "2024-01-26T20:23:23.491837200Z"
    },
    "collapsed": false
   },
   "outputs": [
    {
     "data": {
      "text/html": [
       "<div>\n",
       "<style scoped>\n",
       "    .dataframe tbody tr th:only-of-type {\n",
       "        vertical-align: middle;\n",
       "    }\n",
       "\n",
       "    .dataframe tbody tr th {\n",
       "        vertical-align: top;\n",
       "    }\n",
       "\n",
       "    .dataframe thead th {\n",
       "        text-align: right;\n",
       "    }\n",
       "</style>\n",
       "<table border=\"1\" class=\"dataframe\">\n",
       "  <thead>\n",
       "    <tr style=\"text-align: right;\">\n",
       "      <th></th>\n",
       "      <th>classification</th>\n",
       "      <th>message</th>\n",
       "    </tr>\n",
       "  </thead>\n",
       "  <tbody>\n",
       "    <tr>\n",
       "      <th>0</th>\n",
       "      <td>0</td>\n",
       "      <td>go until jurong point crazy available only in ...</td>\n",
       "    </tr>\n",
       "    <tr>\n",
       "      <th>1</th>\n",
       "      <td>0</td>\n",
       "      <td>ok lar joking wif u oni</td>\n",
       "    </tr>\n",
       "    <tr>\n",
       "      <th>2</th>\n",
       "      <td>1</td>\n",
       "      <td>free entry in 2 a wkly comp to win fa cup fina...</td>\n",
       "    </tr>\n",
       "    <tr>\n",
       "      <th>3</th>\n",
       "      <td>0</td>\n",
       "      <td>u dun say so early hor u c already then say</td>\n",
       "    </tr>\n",
       "    <tr>\n",
       "      <th>4</th>\n",
       "      <td>0</td>\n",
       "      <td>nah i don't think he goes to usf he lives arou...</td>\n",
       "    </tr>\n",
       "  </tbody>\n",
       "</table>\n",
       "</div>"
      ],
      "text/plain": [
       "   classification                                            message\n",
       "0               0  go until jurong point crazy available only in ...\n",
       "1               0                            ok lar joking wif u oni\n",
       "2               1  free entry in 2 a wkly comp to win fa cup fina...\n",
       "3               0        u dun say so early hor u c already then say\n",
       "4               0  nah i don't think he goes to usf he lives arou..."
      ]
     },
     "execution_count": 11,
     "metadata": {},
     "output_type": "execute_result"
    }
   ],
   "source": [
    "df.head()"
   ]
  },
  {
   "cell_type": "code",
   "execution_count": 12,
   "metadata": {
    "ExecuteTime": {
     "end_time": "2024-01-26T20:23:23.651081200Z",
     "start_time": "2024-01-26T20:23:23.601502Z"
    },
    "collapsed": false
   },
   "outputs": [
    {
     "data": {
      "text/plain": [
       "classification\n",
       "0    0.865768\n",
       "1    0.134232\n",
       "Name: proportion, dtype: float64"
      ]
     },
     "execution_count": 12,
     "metadata": {},
     "output_type": "execute_result"
    }
   ],
   "source": [
    "df['classification'].value_counts(normalize=True)"
   ]
  },
  {
   "cell_type": "code",
   "execution_count": 13,
   "metadata": {
    "ExecuteTime": {
     "end_time": "2024-01-26T20:23:23.712265800Z",
     "start_time": "2024-01-26T20:23:23.646254Z"
    },
    "collapsed": false
   },
   "outputs": [],
   "source": [
    "# Balance the dataset\n",
    "df_ham = df[df['classification'] == 0]\n",
    "df_spam = df[df['classification'] == 1]\n",
    "df_ham = df_ham.sample(n=len(df_spam), random_state=7)\n",
    "df = pd.concat([df_ham, df_spam])"
   ]
  },
  {
   "cell_type": "code",
   "execution_count": 14,
   "metadata": {
    "ExecuteTime": {
     "end_time": "2024-01-26T20:23:23.746272300Z",
     "start_time": "2024-01-26T20:23:23.690336600Z"
    },
    "collapsed": false
   },
   "outputs": [
    {
     "data": {
      "text/plain": [
       "classification\n",
       "0    747\n",
       "1    747\n",
       "Name: count, dtype: int64"
      ]
     },
     "execution_count": 14,
     "metadata": {},
     "output_type": "execute_result"
    }
   ],
   "source": [
    "df['classification'].value_counts()"
   ]
  },
  {
   "cell_type": "code",
   "execution_count": 15,
   "metadata": {
    "ExecuteTime": {
     "end_time": "2024-01-26T20:23:23.842494Z",
     "start_time": "2024-01-26T20:23:23.749794900Z"
    },
    "collapsed": false
   },
   "outputs": [],
   "source": [
    "features = df['message']\n",
    "target = df['classification']"
   ]
  },
  {
   "cell_type": "code",
   "execution_count": 16,
   "metadata": {
    "ExecuteTime": {
     "end_time": "2024-01-26T20:23:23.858662300Z",
     "start_time": "2024-01-26T20:23:23.847080300Z"
    },
    "collapsed": false
   },
   "outputs": [],
   "source": [
    "X_train, X_test, y_train, y_test = train_test_split(features, target, test_size=0.2, random_state=7)"
   ]
  },
  {
   "cell_type": "markdown",
   "metadata": {},
   "source": [
    "# Task 2.2"
   ]
  },
  {
   "cell_type": "code",
   "execution_count": 17,
   "metadata": {},
   "outputs": [
    {
     "name": "stdout",
     "output_type": "stream",
     "text": [
      "Probability of spam: 0.5087866108786611\n",
      "Probability of ham: 0.49121338912133894\n",
      "\n",
      "Spam word probabilities: {'bin': 0.00010567473317129874, 'sore': 5.283736658564937e-05, 'get': 0.0035401035612385077, 'transferacc': 5.283736658564937e-05, 'christmas': 0.00010567473317129874, 'anythin': 5.283736658564937e-05, 'upgrade': 0.00021134946634259749, 'married': 0.00010567473317129874, 'weight': 5.283736658564937e-05, '09065174042': 0.00010567473317129874, 'moon': 5.283736658564937e-05, 'ends': 0.00026418683292824685, 'came': 0.00010567473317129874, 'cross': 0.00010567473317129874, 'bailiff': 0.00010567473317129874, 'bears': 0.00015851209975694812, 'name2': 0.00015851209975694812, 'opinion': 5.283736658564937e-05, '£800': 0.00047553629927084436, 'unni': 5.283736658564937e-05, \"valentine's\": 0.00010567473317129874, 'present': 5.283736658564937e-05, '16': 0.0012152594314699355, 'bored': 0.00026418683292824685, 'cancer': 5.283736658564937e-05, 'limited': 5.283736658564937e-05, 'jamstercouk': 0.00010567473317129874, 'or2stoptxt': 0.00015851209975694812, 'questionstd': 0.00015851209975694812, '88039': 0.00010567473317129874, 'player': 0.0006340483990277925, 'agree': 5.283736658564937e-05, 'crash': 5.283736658564937e-05, 'oh': 0.00010567473317129874, 'abuse': 0.00010567473317129874, 'join': 0.0008453978653703899, '8attractive': 5.283736658564937e-05, 'correct': 0.00021134946634259749, 'mah': 5.283736658564937e-05, '£150/wk': 0.00010567473317129874, 'locations': 0.00031702419951389624, 'flag': 0.00031702419951389624, 'textbuddy': 0.00015851209975694812, 'gender': 0.00010567473317129874, 'swashbuckling': 5.283736658564937e-05, 'location': 5.283736658564937e-05, 'affairs': 5.283736658564937e-05, 'nothing': 0.00015851209975694812, 'subscriptn3gbp/wk': 0.00010567473317129874, '09065069154': 0.00010567473317129874, '400minscall': 0.00010567473317129874, 'funky': 0.00010567473317129874, 'delayed': 5.283736658564937e-05, '10000': 0.00010567473317129874, 'pub': 0.00015851209975694812, 'block': 0.00010567473317129874, 'nick': 0.00010567473317129874, 'notified': 0.00010567473317129874, '09065989182': 0.00015851209975694812, 'help': 0.0008453978653703899, 'text82228>>': 0.00010567473317129874, 'os': 5.283736658564937e-05, '08448714184': 0.00010567473317129874, 'gbp150/week': 0.00010567473317129874, '09058094583': 0.00010567473317129874, '87077': 0.00031702419951389624, 'hava': 0.00010567473317129874, 'jada': 5.283736658564937e-05, 'outgoing': 0.00010567473317129874, 'connected': 0.00010567473317129874, 'plus': 0.00042269893268519497, 'goes': 5.283736658564937e-05, 'sara': 0.00010567473317129874, 'fwiw': 5.283736658564937e-05, 'hungry': 0.00015851209975694812, 'trywales': 0.00010567473317129874, 'rcbbattle': 5.283736658564937e-05, 'po19': 0.00010567473317129874, 'msgrcvd18+': 0.00010567473317129874, 'absence': 5.283736658564937e-05, 'kalstiyathen': 5.283736658564937e-05, 'remove': 0.00015851209975694812, 'congrats': 0.0003698615660995456, 'wrc': 0.00010567473317129874, 'tea/coffee': 5.283736658564937e-05, 'dorothy@kiefercom': 0.00010567473317129874, 'seeds': 0.00015851209975694812, 'adore': 5.283736658564937e-05, 'midnight': 0.00010567473317129874, 'games': 0.00047553629927084436, 'yo': 0.00010567473317129874, 'ph08700435505150p': 0.00010567473317129874, '8883': 0.00010567473317129874, 'unintentionally': 5.283736658564937e-05, '40533': 0.00015851209975694812, 'review': 0.00026418683292824685, '8007': 0.0006340483990277925, 'friendship': 5.283736658564937e-05, 'largest': 0.00026418683292824685, 'fast': 0.00010567473317129874, 'fund': 0.00010567473317129874, 'your': 0.01172989538201416, 'nowreply': 0.00010567473317129874, 'ps': 5.283736658564937e-05, 'upd8': 0.00010567473317129874, 'java': 0.00015851209975694812, 'throat': 5.283736658564937e-05, 'sexy': 0.0007397231321990912, 'tells': 0.00010567473317129874, '89105': 0.00010567473317129874, '151': 0.00010567473317129874, 'purchase': 0.00010567473317129874, 'gas': 5.283736658564937e-05, 'call2optout/n9dx': 0.00015851209975694812, '07808247860': 0.00010567473317129874, 'song': 0.00021134946634259749, 'dealfarm': 5.283736658564937e-05, 'service': 0.002694705695868118, 'nange': 5.283736658564937e-05, 'win': 0.0026418683292824684, 'free>ringtonereply': 0.00010567473317129874, 'moralone': 5.283736658564937e-05, 'nag': 5.283736658564937e-05, 'speaking': 5.283736658564937e-05, 'smear': 5.283736658564937e-05, '16+': 0.001003909965127338, 'wwwmovietriviatv': 0.00015851209975694812, 'mila': 0.00015851209975694812, 'nope': 5.283736658564937e-05, '5226': 0.00010567473317129874, 'checked': 5.283736658564937e-05, 'itcould': 0.00010567473317129874, '09061790121': 0.00021134946634259749, 'em': 0.00010567473317129874, 'hv': 5.283736658564937e-05, 'wwwclubmobycom': 0.00010567473317129874, '08717168528': 0.00010567473317129874, 'west': 5.283736658564937e-05, 'alfie': 0.00021134946634259749, 'explicit': 0.00015851209975694812, '+£400': 0.00010567473317129874, 'sending': 0.00015851209975694812, 'confirm': 0.00010567473317129874, '3ss': 0.00015851209975694812, 'unbelievable': 5.283736658564937e-05, 'stoptxtstop': 0.00010567473317129874, '08712400200': 0.00010567473317129874, 'voda': 0.00031702419951389624, 'gay': 0.00031702419951389624, '1/1': 0.00010567473317129874, 'after': 0.00026418683292824685, '08708034412': 0.00010567473317129874, 'msg150p': 0.00015851209975694812, 'abroad': 0.00010567473317129874, 'rupaul': 5.283736658564937e-05, 'hustle': 5.283736658564937e-05, 'moved': 5.283736658564937e-05, 'heygreat': 5.283736658564937e-05, '7634': 0.00010567473317129874, 'go2': 0.00015851209975694812, 'new': 0.0030645672619676635, \"couldn't\": 5.283736658564937e-05, '27/03': 0.00010567473317129874, 'po': 0.0014794462643981823, 'requires': 5.283736658564937e-05, 'rply': 0.00021134946634259749, 'oso': 5.283736658564937e-05, 'roger': 5.283736658564937e-05, 'youto': 0.00010567473317129874, 'min': 0.0007397231321990912, '69888nyt': 0.00010567473317129874, '09058091854': 0.00015851209975694812, 'goal': 5.283736658564937e-05, 't': 0.0006340483990277925, 'write': 5.283736658564937e-05, 'beg': 0.00010567473317129874, 'ecstacy': 0.00010567473317129874, '41782': 0.00010567473317129874, 'women': 0.00010567473317129874, '08712317606': 0.00015851209975694812, 'tsunami': 0.00010567473317129874, 'where': 0.00015851209975694812, 'textpod': 0.00010567473317129874, 'mad1': 0.00010567473317129874, 'mr': 0.00015851209975694812, 'dictionary': 5.283736658564937e-05, 'l8er': 0.00010567473317129874, '0': 0.00010567473317129874, 'inviting': 0.00026418683292824685, 'ac/smsrewards': 0.00010567473317129874, 'against': 5.283736658564937e-05, 'heavy': 5.283736658564937e-05, 'here>>': 0.00010567473317129874, 'number': 0.0014794462643981823, 'save': 0.00015851209975694812, 'tho-': 5.283736658564937e-05, 'comes': 0.00021134946634259749, 'today': 0.0007397231321990912, '08000839402': 0.000581211032442143, 'pay': 0.00010567473317129874, 'costing': 0.00010567473317129874, 'purpose': 0.00021134946634259749, 'f=': 0.00015851209975694812, 'tattoos': 0.00010567473317129874, 'ibh': 0.00010567473317129874, 'wk': 0.0006340483990277925, 'coca-cola': 0.00010567473317129874, 'modules': 5.283736658564937e-05, 'mono': 0.00015851209975694812, 'computer': 0.00021134946634259749, \"'simple'\": 5.283736658564937e-05, 'dirtiest': 0.00010567473317129874, 'milk': 5.283736658564937e-05, 'o2': 0.00026418683292824685, '08717509990': 0.00010567473317129874, 'ml': 5.283736658564937e-05, 'face': 5.283736658564937e-05, 'but': 0.00042269893268519497, 'anyway': 5.283736658564937e-05, 'didnt': 5.283736658564937e-05, 'comingtmorow': 5.283736658564937e-05, 'wwwshortbreaksorguk': 0.00010567473317129874, 'calls£1/minmobsmorelkpobox177hp51fl': 0.00010567473317129874, 'on': 0.006076297157349678, 'tendencies': 5.283736658564937e-05, 'orig': 0.00010567473317129874, 'solved': 5.283736658564937e-05, 'call2optout/674': 0.00010567473317129874, 'bowa': 5.283736658564937e-05, 'theirs': 0.00010567473317129874, 'msg': 0.001003909965127338, 'difficult': 5.283736658564937e-05, 'admirer': 0.0003698615660995456, 'received': 0.00010567473317129874, 'frm': 5.283736658564937e-05, 'free>ringtone': 0.00010567473317129874, 'sensitive': 5.283736658564937e-05, 'twinks': 0.00010567473317129874, 'jane': 0.00010567473317129874, 'interview': 5.283736658564937e-05, 'sweetest': 5.283736658564937e-05, 'tonexs': 0.00010567473317129874, 'diddy': 5.283736658564937e-05, '09094646899': 0.00015851209975694812, 'goals/team': 0.00010567473317129874, 'http//careers': 0.00015851209975694812, 'unemployed': 5.283736658564937e-05, 'activate': 0.00026418683292824685, 'bad': 5.283736658564937e-05, 'coach': 5.283736658564937e-05, '09050002311': 0.00015851209975694812, 'adult': 0.00021134946634259749, 'sold': 5.283736658564937e-05, 'london': 0.00021134946634259749, 'nagar': 5.283736658564937e-05, 'bill': 0.00021134946634259749, 'm8s': 0.00021134946634259749, 'ghodbandar': 5.283736658564937e-05, 'vl': 5.283736658564937e-05, 'ldnw15h': 0.00021134946634259749, \"'\": 5.283736658564937e-05, 'youclean': 5.283736658564937e-05, '2kbsubject': 0.00010567473317129874, 'cover': 5.283736658564937e-05, 'masked': 0.00010567473317129874, 'quote': 0.00010567473317129874, 'big': 0.00015851209975694812, 'following': 0.00031702419951389624, 'they': 0.000581211032442143, 'programs': 5.283736658564937e-05, 'sp': 0.00021134946634259749, '7250': 0.00010567473317129874, 'digits': 0.00010567473317129874, 'goodnoon': 5.283736658564937e-05, 'spelling': 5.283736658564937e-05, '£350': 0.000581211032442143, 'age16': 0.00026418683292824685, 'jjc': 5.283736658564937e-05, 'meh': 5.283736658564937e-05, 'easily': 5.283736658564937e-05, 'back': 0.0010567473317129874, '82242': 0.00021134946634259749, 'wwwb4utelecom': 0.00010567473317129874, 'yeshere': 5.283736658564937e-05, 'plan': 5.283736658564937e-05, 'jsco': 0.00015851209975694812, 'somewhere': 5.283736658564937e-05, 'collection': 0.0010567473317129874, 'mush': 5.283736658564937e-05, 'jordan': 0.00015851209975694812, 'than': 5.283736658564937e-05, 'hppnss': 5.283736658564937e-05, 'jamster': 0.00015851209975694812, 'held': 0.00010567473317129874, 'winnersclub': 0.00010567473317129874, 'passes': 0.00010567473317129874, 'frog-axel': 0.00010567473317129874, 'wining': 0.00010567473317129874, 'locaxx': 5.283736658564937e-05, '448712404000>please': 0.00010567473317129874, 'sugar': 5.283736658564937e-05, '18': 0.001268096798055585, \"u'll\": 5.283736658564937e-05, '4-7/12': 0.00010567473317129874, 'kit': 0.00010567473317129874, 'flirt': 0.00026418683292824685, 'moby': 0.00026418683292824685, 'failed': 0.00010567473317129874, 'chatting': 0.00015851209975694812, 'coming': 5.283736658564937e-05, 'learn': 0.00015851209975694812, 'rajas': 5.283736658564937e-05, 'seven': 5.283736658564937e-05, 'interested': 5.283736658564937e-05, '100p/sms': 0.00010567473317129874, '7876150ppm': 0.00010567473317129874, 'telephonic': 5.283736658564937e-05, 'doggin': 0.00010567473317129874, 'free-send': 0.00015851209975694812, 'granite': 0.00015851209975694812, 'theredo': 0.00010567473317129874, 'honeybee': 5.283736658564937e-05, \"girl'\": 0.00010567473317129874, '09066382422': 0.00015851209975694812, 'depends': 5.283736658564937e-05, 'reward': 0.0003698615660995456, '09090204448': 0.00010567473317129874, 'individual': 5.283736658564937e-05, '07/11/04': 0.00015851209975694812, 'landmark': 0.00010567473317129874, 'jokes': 5.283736658564937e-05, 'eye': 0.00015851209975694812, 'indyarockscom': 5.283736658564937e-05, 'oooh': 5.283736658564937e-05, 'could': 0.0003698615660995456, 'europe': 0.00010567473317129874, 'allow': 0.00010567473317129874, 'rcd': 0.00010567473317129874, 'payee': 5.283736658564937e-05, 'difficult-': 5.283736658564937e-05, 'boss': 5.283736658564937e-05, 'trained': 0.00010567473317129874, 'doesn\\x92t': 5.283736658564937e-05, 'missed': 0.00015851209975694812, '&xxx': 0.00010567473317129874, '09058094507': 0.00010567473317129874, 'toilet': 0.00010567473317129874, 'you': 0.01257529324738455, 'stadium': 0.00010567473317129874, 'stressfull': 5.283736658564937e-05, 'reality': 0.00010567473317129874, 'incorrect': 0.00010567473317129874, '#150': 0.00010567473317129874, 'yesterday': 0.00015851209975694812, 'faglord': 5.283736658564937e-05, '4info': 0.00026418683292824685, 'wwwidewcom': 0.00015851209975694812, 'spjanuary': 0.00010567473317129874, 'getzedcouk': 0.00010567473317129874, 'warning': 5.283736658564937e-05, 'rates': 0.0005283736658564937, 'chaps': 0.00010567473317129874, 'en': 5.283736658564937e-05, 'row/w1jhl': 0.00021134946634259749, \"did'nt\": 5.283736658564937e-05, 'loxahatchee': 5.283736658564937e-05, '087123002209am-7pm': 0.00010567473317129874, 'valentine': 5.283736658564937e-05, 'phoenix': 0.00015851209975694812, '29/03/05': 0.00010567473317129874, '08715500022': 0.00010567473317129874, '2667': 0.00010567473317129874, '9061100010': 0.00010567473317129874, 'wmlid=1b6a5ecef91ff9*37819&first=true180430-jul-05': 0.00010567473317129874, 'questions': 0.0003698615660995456, 'secret': 0.0003698615660995456, 'lucozade': 0.00010567473317129874, 'england': 0.00042269893268519497, 'entered': 0.00026418683292824685, '*billing': 0.00010567473317129874, 'otbox': 0.00010567473317129874, 'freefone': 0.00015851209975694812, 'nyc': 5.283736658564937e-05, 'singles': 0.00026418683292824685, 'least': 5.283736658564937e-05, 'soladha': 5.283736658564937e-05, 'fgkslpo': 0.00010567473317129874, '£12': 0.00010567473317129874, 'informed': 0.00015851209975694812, 'loving': 5.283736658564937e-05, '2day': 0.00026418683292824685, 'disclose': 5.283736658564937e-05, '150p': 0.0008453978653703899, 'turn': 5.283736658564937e-05, '7250i': 0.00021134946634259749, 'meets': 5.283736658564937e-05, 'facebook': 5.283736658564937e-05, '£5000': 0.0009510725985416887, 'notxtcouk': 0.00015851209975694812, 'credits': 0.0005283736658564937, 'dark': 0.00010567473317129874, 'darling': 0.00010567473317129874, 'nights': 0.00010567473317129874, 'charts': 0.00010567473317129874, 't-mobile': 0.00021134946634259749, 'response': 0.00010567473317129874, 'star': 0.00010567473317129874, 'haf': 5.283736658564937e-05, 'meal': 0.00010567473317129874, 'global': 0.00010567473317129874, 'infowww100percent-realcom': 0.00021134946634259749, 'panren': 5.283736658564937e-05, 'special-call': 0.00031702419951389624, 'eyes': 5.283736658564937e-05, 'grumble': 5.283736658564937e-05, 'provided': 0.00021134946634259749, '68866': 0.00010567473317129874, 'bt-national-rate': 0.0003698615660995456, 'box326': 0.00015851209975694812, '£250': 0.0007925604987847406, '6230': 0.00010567473317129874, 'kiss*': 5.283736658564937e-05, 'tcs': 0.00026418683292824685, 'award': 0.0013737715312268836, 'ru': 5.283736658564937e-05, 'chance': 0.0011095846982986368, 'lookin': 5.283736658564937e-05, \"ki'm\": 5.283736658564937e-05, 'box1146': 0.00010567473317129874, 'envelope': 0.00015851209975694812, 'um': 5.283736658564937e-05, 'bothering': 5.283736658564937e-05, 'two': 0.00010567473317129874, '08712460324nat': 0.00010567473317129874, 'vldo': 5.283736658564937e-05, 'lucozadecouk/wrc': 0.00010567473317129874, 'favourite': 5.283736658564937e-05, 'normal': 0.00010567473317129874, 'dob': 0.00010567473317129874, 'more': 0.001268096798055585, 'caller': 0.0006340483990277925, 'tulip': 0.00015851209975694812, 'brand': 0.00021134946634259749, 'x49your': 0.00010567473317129874, '09050001808': 0.00015851209975694812, 'e-threats': 5.283736658564937e-05, 'lions': 0.00015851209975694812, 'statement': 0.0008982352319560393, 'space': 0.00010567473317129874, 'day': 0.0007925604987847406, 'still': 0.00026418683292824685, 'watch': 5.283736658564937e-05, 'drinks': 0.00015851209975694812, '12': 0.00026418683292824685, 'doublemins': 0.00010567473317129874, '07xxxxxxxxx': 0.00021134946634259749, 'daily': 0.00026418683292824685, 'ya': 5.283736658564937e-05, 'smith-switch': 0.00010567473317129874, '47': 0.00010567473317129874, 'lab': 5.283736658564937e-05, 'roomate': 5.283736658564937e-05, '150p/mt': 0.00010567473317129874, 'internet/service': 0.00010567473317129874, 'strong-buy': 0.00015851209975694812, 'pobox': 0.00047553629927084436, 'pin': 0.00010567473317129874, 'quizwin': 0.00015851209975694812, 'stockport': 0.00026418683292824685, '2000': 0.00021134946634259749, '087018728737': 0.00010567473317129874, '£100000': 0.00015851209975694812, 'paper': 5.283736658564937e-05, 'rentl': 0.00015851209975694812, 'pics': 0.000581211032442143, '09050000460': 0.00010567473317129874, 'drivin': 5.283736658564937e-05, 'poor': 5.283736658564937e-05, 'wid': 0.00015851209975694812, 'lifetime': 0.00015851209975694812, '@warner': 0.00010567473317129874, 'cm': 0.00010567473317129874, '09058094599': 0.00015851209975694812, '24': 0.00015851209975694812, 'elaborating': 5.283736658564937e-05, 'fancies': 0.00015851209975694812, 'day2': 0.00010567473317129874, '1327': 0.00031702419951389624, 'verified': 5.283736658564937e-05, 'lor': 5.283736658564937e-05, 'car': 5.283736658564937e-05, '09066362231': 0.00021134946634259749, 'fuck': 5.283736658564937e-05, 'guys': 0.0003698615660995456, 'cro1327': 0.00010567473317129874, 'single': 5.283736658564937e-05, 'hunt': 5.283736658564937e-05, 'box177': 0.00015851209975694812, 'movie': 0.00015851209975694812, 'wrote': 0.00010567473317129874, 'wot': 0.00010567473317129874, 'girl': 0.00026418683292824685, 'plans': 5.283736658564937e-05, '09099726395': 0.00010567473317129874, 'fb': 5.283736658564937e-05, 'texts/weekend': 0.00010567473317129874, 'catch': 5.283736658564937e-05, 'spanish': 0.00015851209975694812, 'islands': 0.00015851209975694812, '61610': 0.00015851209975694812, 'mean': 5.283736658564937e-05, 'geeee': 5.283736658564937e-05, '81151': 0.00010567473317129874, '£150/msg': 0.00015851209975694812, 'wwwtklscom': 0.00010567473317129874, 'pobox334': 0.00026418683292824685, 'santa': 0.00026418683292824685, 'stuff': 0.00010567473317129874, 'pro': 0.00010567473317129874, '08718725756': 0.00010567473317129874, 'expensive': 5.283736658564937e-05, 'ppl': 5.283736658564937e-05, 'were': 0.00021134946634259749, 'aha': 5.283736658564937e-05, '1013': 0.00010567473317129874, 'pictxt': 0.00010567473317129874, 'unsubscribe': 0.0009510725985416887, '£5': 0.00010567473317129874, 'include': 0.00015851209975694812, 'aathiwhere': 5.283736658564937e-05, '83355': 0.00026418683292824685, 'cudnt': 5.283736658564937e-05, '83332please': 0.00010567473317129874, 'aom': 0.00015851209975694812, 'healthy': 5.283736658564937e-05, 'keyword': 0.00010567473317129874, 'him': 0.00010567473317129874, 'ordered': 0.00021134946634259749, 'urgent': 0.002694705695868118, '08002888812': 0.00015851209975694812, 'console': 0.00010567473317129874, 'silent': 5.283736658564937e-05, 'word': 0.001003909965127338, 'mrng': 5.283736658564937e-05, '81618': 0.00010567473317129874, 'customercare': 0.00010567473317129874, 'birthday': 0.00010567473317129874, 'jade': 5.283736658564937e-05, 'improved': 0.00015851209975694812, 'evng': 5.283736658564937e-05, 'dunno': 5.283736658564937e-05, 'rows': 5.283736658564937e-05, 'hardcore': 0.00010567473317129874, '2': 0.007291556588819613, 'free-nokia': 0.00010567473317129874, '82277': 0.00026418683292824685, 'matrix3': 0.00015851209975694812, 'code': 0.0014794462643981823, 'shortly': 0.00015851209975694812, 'line': 0.0015322836309838318, 'child': 0.00010567473317129874, 'wow': 0.00015851209975694812, 'alrite': 5.283736658564937e-05, 'frying': 5.283736658564937e-05, 'ec2a': 0.00026418683292824685, 'box334sk38ch': 0.00015851209975694812, 'timing': 5.283736658564937e-05, 'ph08704050406': 0.00010567473317129874, '88800': 0.00010567473317129874, 'tablets': 5.283736658564937e-05, 'guaranteed': 0.0023776814963542216, 'shitstorm': 5.283736658564937e-05, 'i’m': 5.283736658564937e-05, '2-4-1': 0.00010567473317129874, 'xafter': 0.00010567473317129874, 'availablei': 5.283736658564937e-05, 'wwwgambtv': 0.00010567473317129874, '09058095107': 0.00010567473317129874, 'customer': 0.002272006763182923, '[sic]': 0.00010567473317129874, 'huh': 5.283736658564937e-05, 'open': 0.00010567473317129874, '89545': 0.00021134946634259749, 'earth': 5.283736658564937e-05, 'able': 5.283736658564937e-05, 'hot': 0.0007397231321990912, 'haha': 5.283736658564937e-05, 'lacsthere': 5.283736658564937e-05, \"where's\": 5.283736658564937e-05, 'dont': 0.0005283736658564937, 'returns': 5.283736658564937e-05, '08712103738': 0.00010567473317129874, 'goto': 0.00031702419951389624, 'luv': 0.00026418683292824685, 'nite': 5.283736658564937e-05, 'busy': 0.00015851209975694812, 'tmr': 5.283736658564937e-05, 'bed': 5.283736658564937e-05, '11mths': 0.00015851209975694812, 'mobs': 0.00010567473317129874, 'detail': 5.283736658564937e-05, 'info@ringtonekingcouk': 0.00010567473317129874, 'everything': 5.283736658564937e-05, 'awaiting': 0.0003698615660995456, 'mobilesdirect': 0.00015851209975694812, 'club4mobilescom': 0.00010567473317129874, 'deposit': 5.283736658564937e-05, 'custcare08718720201': 0.00015851209975694812, '85023': 0.00031702419951389624, 'barbie': 0.00010567473317129874, 'bx526': 0.00010567473317129874, 'both': 5.283736658564937e-05, 'flowers': 0.00010567473317129874, 'realized': 5.283736658564937e-05, 'arrive': 0.0003698615660995456, 'register': 5.283736658564937e-05, 'deal': 5.283736658564937e-05, 'drizzling': 5.283736658564937e-05, 'nature': 5.283736658564937e-05, 'format': 0.00010567473317129874, '0871-872-9755': 0.00010567473317129874, 'lecture': 5.283736658564937e-05, 'wwwldewcomsubs16+1win150ppmx3': 0.00015851209975694812, '20': 0.00015851209975694812, '150p/tone': 0.00026418683292824685, 'thnx': 5.283736658564937e-05, 'dun': 5.283736658564937e-05, '48922': 0.00010567473317129874, '08718738001': 0.00015851209975694812, 'simple': 5.283736658564937e-05, 'slip': 5.283736658564937e-05, 'linerental': 0.00015851209975694812, 'artists': 0.00010567473317129874, 'inches': 5.283736658564937e-05, 'faber': 5.283736658564937e-05, 'www07781482378com': 0.00010567473317129874, 'okie': 5.283736658564937e-05, 'company': 0.00015851209975694812, '09061744553': 0.00010567473317129874, 'price': 0.0006340483990277925, 'tomorrow/today': 5.283736658564937e-05, 'fran': 5.283736658564937e-05, 'doggy': 5.283736658564937e-05, 'now4t&': 0.00010567473317129874, 'peak': 0.00015851209975694812, 'hubby': 0.00010567473317129874, 'november': 0.00010567473317129874, 'collecting': 5.283736658564937e-05, '10am-7pm': 0.00026418683292824685, 'lazy': 5.283736658564937e-05, 'ibiza': 0.00021134946634259749, 'taxt': 5.283736658564937e-05, 'fr': 5.283736658564937e-05, 'instead': 5.283736658564937e-05, 'gbp/week': 0.00010567473317129874, '9yt': 0.00010567473317129874, '07090298926': 0.00010567473317129874, '07008009200': 0.00010567473317129874, 'thin': 5.283736658564937e-05, 'babygoodbye': 0.00010567473317129874, 't&c': 0.0008453978653703899, '&': 0.003962802493923703, 'identifier': 0.0008982352319560393, 'urself-': 5.283736658564937e-05, 'weeks>': 0.00010567473317129874, 'nok': 0.00015851209975694812, '11': 0.00021134946634259749, 'honeymoon': 5.283736658564937e-05, '9': 5.283736658564937e-05, 'garden': 0.00015851209975694812, 'wwwasjesuscom': 0.00010567473317129874, 'gossip': 0.00010567473317129874, 'just': 0.0034872661946528587, 'lots': 0.00015851209975694812, '09066368753': 0.00010567473317129874, 'roommates': 5.283736658564937e-05, 'settle': 5.283736658564937e-05, 'camera/video': 0.00015851209975694812, '3qxj9': 0.00026418683292824685, 'paris': 0.00021134946634259749, 'xxsp': 0.00010567473317129874, '0796xxxxxx': 0.00010567473317129874, 'usual': 5.283736658564937e-05, 'stopcost': 0.00010567473317129874, 'ladiesu': 0.00010567473317129874, 'unconscious': 5.283736658564937e-05, 'wylie': 5.283736658564937e-05, 'crack': 5.283736658564937e-05, '89070': 0.00015851209975694812, 'management': 5.283736658564937e-05, 'bathe': 5.283736658564937e-05, 'wats': 5.283736658564937e-05, '4*': 0.0010567473317129874, 'that‘s': 5.283736658564937e-05, 'wings': 0.00010567473317129874, '169': 0.00015851209975694812, 'support': 0.00015851209975694812, 'hor': 5.283736658564937e-05, 'seem': 0.00010567473317129874, 'gotta': 5.283736658564937e-05, 'dontcha': 0.00010567473317129874, '\\x93harry': 0.00010567473317129874, '£900': 0.00026418683292824685, 'videosounds+2': 0.00010567473317129874, 'hotels': 0.00010567473317129874, '81618-3': 0.00015851209975694812, 'txts': 0.0006340483990277925, 'british': 0.00010567473317129874, 'tirunelvali': 5.283736658564937e-05, '060505': 0.00010567473317129874, 'opened': 5.283736658564937e-05, 'sofa': 5.283736658564937e-05, 'wwwldewcom': 0.00015851209975694812, 'passion': 0.00010567473317129874, '29/m': 0.00010567473317129874, '100': 0.0006868857656134418, 'wwwsmsac/u/nat27081980': 0.00010567473317129874, 'joined': 0.00015851209975694812, 'stairs': 5.283736658564937e-05, 'nuerologist': 5.283736658564937e-05, 'wkend': 0.00010567473317129874, '09064015307': 0.00010567473317129874, 'from': 0.005389411391736236, '021': 0.00015851209975694812, 'dot': 0.00015851209975694812, 'services': 0.0007925604987847406, 'deluxe': 0.00010567473317129874, 'getting': 0.00015851209975694812, 'harlem': 5.283736658564937e-05, 'slots': 5.283736658564937e-05, 'bx420-ip4-5we': 0.00015851209975694812, 'rays': 5.283736658564937e-05, 'winning': 5.283736658564937e-05, '40': 0.00015851209975694812, 'gentle': 5.283736658564937e-05, 'book': 0.00031702419951389624, 'natwest': 5.283736658564937e-05, '21/11/04': 0.00010567473317129874, '08002988890': 0.00010567473317129874, 'had': 0.0007925604987847406, 'unfortunately': 5.283736658564937e-05, 'downloads': 0.00021134946634259749, 'splashmobile': 0.00010567473317129874, 'barmed': 5.283736658564937e-05, \"isn't\": 5.283736658564937e-05, 'terms': 0.0003698615660995456, 'carlie': 0.00010567473317129874, '87021': 0.00021134946634259749, 'calldrove': 5.283736658564937e-05, 'tonesreply': 0.00010567473317129874, 'chic': 5.283736658564937e-05, 'kallis': 5.283736658564937e-05, '£450': 0.00026418683292824685, '24/10/04': 0.00010567473317129874, 'play': 0.0006340483990277925, 'might': 5.283736658564937e-05, 'photo': 0.00021134946634259749, 'strokes': 0.00010567473317129874, 'knickers': 0.00010567473317129874, 'pookie': 5.283736658564937e-05, 'minute': 0.00031702419951389624, 'large': 0.00010567473317129874, 'buns': 5.283736658564937e-05, 'heater': 5.283736658564937e-05, 'become': 0.00010567473317129874, 'during': 0.00010567473317129874, 'gbp/sms': 0.00010567473317129874, 'whose': 0.00010567473317129874, 'ma': 5.283736658564937e-05, 'breathe1': 0.00010567473317129874, 'supply': 0.00015851209975694812, 'something': 5.283736658564937e-05, 'dey': 5.283736658564937e-05, 'sms': 0.001162422064884286, '08719180248': 0.00015851209975694812, 'subscribe6gbp/mnth': 0.00010567473317129874, '09061701461': 0.00010567473317129874, 'stereophonics': 0.00010567473317129874, 'found': 0.00010567473317129874, 'dining': 0.00010567473317129874, '125gift': 0.00015851209975694812, 'mornin': 5.283736658564937e-05, 't&csc': 0.00010567473317129874, 'these': 0.00031702419951389624, \"i'm\": 0.00031702419951389624, 'k': 5.283736658564937e-05, '08717507382': 0.00010567473317129874, '83738': 0.00010567473317129874, 'blue': 5.283736658564937e-05, 'diskyou': 5.283736658564937e-05, 'friends': 0.00031702419951389624, 'accounting': 5.283736658564937e-05, 'mat': 0.00010567473317129874, 'awarded': 0.0017964704639120786, 'enter': 0.0005283736658564937, \"tomocan't\": 5.283736658564937e-05, 'icicibankcom': 5.283736658564937e-05, 'degrees': 5.283736658564937e-05, 'si': 5.283736658564937e-05, 'charity': 0.0005283736658564937, 'weeks': 0.00042269893268519497, 'nookii': 0.00010567473317129874, 'diff': 5.283736658564937e-05, '09099726553': 0.00010567473317129874, 'tc-llc': 0.00010567473317129874, 'if': 0.001426608897812533, 'mids': 5.283736658564937e-05, 'latest': 0.0014794462643981823, 'protect': 5.283736658564937e-05, 'user': 0.0003698615660995456, 'la1': 0.00010567473317129874, 'connection': 0.00010567473317129874, 'history': 5.283736658564937e-05, 'txt250com': 0.00010567473317129874, 'know': 0.0011095846982986368, 'c-red': 0.00010567473317129874, 'pa': 5.283736658564937e-05, 'phoned': 5.283736658564937e-05, '82468': 0.00015851209975694812, 'enjoyed': 0.00015851209975694812, 'dirty': 0.00010567473317129874, 'wmlid=820554ad0a1705572711&first=true¡c': 0.00010567473317129874, 'advise': 0.00021134946634259749, 'done': 0.00021134946634259749, 'sol': 0.00026418683292824685, 'mths': 0.00021134946634259749, 'super': 0.00021134946634259749, '09053750005': 0.00010567473317129874, 'black': 0.00010567473317129874, '087104711148': 0.00010567473317129874, \"'terrorist'\": 5.283736658564937e-05, 'calls£1/minmoremobsemspobox45po139wa': 0.00010567473317129874, 'loved': 5.283736658564937e-05, 'babysitting': 5.283736658564937e-05, '2naughty': 5.283736658564937e-05, 'armand': 5.283736658564937e-05, '505060': 0.00010567473317129874, 'helpline': 0.00015851209975694812, 'ab': 0.00010567473317129874, 'argh': 5.283736658564937e-05, 'parties': 0.00010567473317129874, 'mesages': 5.283736658564937e-05, '4jx': 0.00010567473317129874, 'ready': 0.0003698615660995456, '&amp': 5.283736658564937e-05, '08081560665': 0.00010567473317129874, 'txtauction': 0.00021134946634259749, 'callcost': 0.00015851209975694812, 'wherever': 5.283736658564937e-05, 'ads': 0.00015851209975694812, \"mum's\": 5.283736658564937e-05, '+': 0.0009510725985416887, 'poured': 5.283736658564937e-05, 'stylish': 5.283736658564937e-05, 'sn': 0.00010567473317129874, 'dom': 5.283736658564937e-05, 'rite': 5.283736658564937e-05, 'potential': 0.00010567473317129874, 'sinco': 5.283736658564937e-05, 'meeting': 5.283736658564937e-05, 'mall': 5.283736658564937e-05, '09071512432': 0.00010567473317129874, 'simpsons': 0.00010567473317129874, 'starwars3': 0.00015851209975694812, 'http//alto18couk/wave/waveaspo=44345': 0.00010567473317129874, 'porn': 0.00026418683292824685, 'newest': 0.00021134946634259749, '20p': 0.00031702419951389624, '09061790125': 0.00010567473317129874, 'inclu': 0.00010567473317129874, 'ltdhelpdesk': 0.00010567473317129874, 'voicemail': 0.00010567473317129874, 'wwwringtonescouk': 0.00026418683292824685, '80062': 0.00026418683292824685, 'aiyah': 5.283736658564937e-05, 'liverpool': 0.00010567473317129874, '7684': 0.00010567473317129874, '08714712394': 0.00010567473317129874, '89034': 0.00010567473317129874, 'messaging': 0.00015851209975694812, 'while': 0.00021134946634259749, 'forgot': 5.283736658564937e-05, 'stamps': 5.283736658564937e-05, 'video/pic': 0.00010567473317129874, 'remember': 5.283736658564937e-05, 'important': 0.000581211032442143, 'tool': 5.283736658564937e-05, 'ten': 0.00010567473317129874, 'twins': 5.283736658564937e-05, 'bank': 0.00015851209975694812, 'x29': 0.00010567473317129874, 'offers': 0.00047553629927084436, '£5/month': 0.00010567473317129874, '21st': 0.00015851209975694812, 'subscribe': 0.00010567473317129874, 'own': 5.283736658564937e-05, 'weddingfriend': 0.00010567473317129874, 'draw': 0.001849307830497728, 'm95': 0.00015851209975694812, 'pai': 5.283736658564937e-05, 'stamped': 0.00015851209975694812, 'australia': 0.00010567473317129874, 'chinchillas': 5.283736658564937e-05, '2006': 0.00010567473317129874, 'skip': 0.00010567473317129874, 'txtx': 0.00010567473317129874, 'tried': 0.0008453978653703899, 'sf': 0.00010567473317129874, 'barry': 0.00010567473317129874, '-call': 0.00010567473317129874, 'sen': 5.283736658564937e-05, 'further': 0.00015851209975694812, 'my-tonecom/enjoy': 0.00010567473317129874, \"quote''\": 5.283736658564937e-05, 'fa': 0.00026418683292824685, 'sunday': 5.283736658564937e-05, 'thru': 5.283736658564937e-05, 'queries': 0.00010567473317129874, 'my': 0.0003698615660995456, 'quality': 0.00010567473317129874, 'along': 5.283736658564937e-05, 'strong': 0.00010567473317129874, 'buzzzz': 5.283736658564937e-05, 'billed': 0.00021134946634259749, '83118': 0.00010567473317129874, 'vouchers': 0.001003909965127338, 'prompts': 0.00010567473317129874, 'easter': 0.00010567473317129874, 'afternoon': 5.283736658564937e-05, 'swat': 0.00010567473317129874, 'trip': 0.00021134946634259749, '326': 0.00010567473317129874, '07090201529': 0.00010567473317129874, 'down': 0.00010567473317129874, 'savamob': 0.00047553629927084436, '8pm': 0.00010567473317129874, 'sorrow': 5.283736658564937e-05, 'dnt': 5.283736658564937e-05, \"we're\": 5.283736658564937e-05, '02073162414': 0.00015851209975694812, '“harry': 0.00010567473317129874, '946': 0.00010567473317129874, 'gsoh': 0.00010567473317129874, 'nat': 0.00010567473317129874, 'wktxt': 0.00010567473317129874, 'ended': 5.283736658564937e-05, 'john': 5.283736658564937e-05, 'start': 0.00021134946634259749, '84025': 0.00021134946634259749, 'alerts': 0.00010567473317129874, 'three': 5.283736658564937e-05, 'fixes': 5.283736658564937e-05, 'sender': 0.00010567473317129874, 'a-green': 0.00010567473317129874, '20p/min': 0.00015851209975694812, '3xx': 0.00010567473317129874, '3uz': 0.00021134946634259749, 'adam': 0.00015851209975694812, 'kaypoh': 5.283736658564937e-05, 'wwwclubzedcouk': 0.00010567473317129874, '69855': 0.00010567473317129874, 'question': 0.00026418683292824685, 'dislikes': 5.283736658564937e-05, 'neighbor': 5.283736658564937e-05, 'wwwcnupdatescom/newsletter': 0.00010567473317129874, 'reunion': 5.283736658564937e-05, 'california': 5.283736658564937e-05, 'lingerie': 0.00010567473317129874, 'wins': 0.00010567473317129874, 'charges': 0.00015851209975694812, 'as': 0.0014794462643981823, 'tomorrow': 0.00047553629927084436, 'upload': 0.00015851209975694812, '89080': 0.00010567473317129874, 'mid': 0.00010567473317129874, 'self': 0.00015851209975694812, '0870753331018+': 0.00010567473317129874, 'ultimate': 0.00010567473317129874, 'summers': 0.00010567473317129874, 'fine': 5.283736658564937e-05, '80878': 0.00015851209975694812, 'fault': 5.283736658564937e-05, 'juz': 5.283736658564937e-05, 'sae': 0.0008453978653703899, 'subscrition': 0.00010567473317129874, 'x': 0.00042269893268519497, 'go': 0.0014794462643981823, 'trash': 5.283736658564937e-05, 'bb': 5.283736658564937e-05, 'http//wwwgr8prizescom': 0.00010567473317129874, 'packalso': 5.283736658564937e-05, 'mum': 5.283736658564937e-05, 'lotr': 0.00015851209975694812, '08718711108': 0.00010567473317129874, 'wwworangecouk/ow': 0.00010567473317129874, '450p': 0.00010567473317129874, '2nights': 0.00010567473317129874, 'hol': 0.00010567473317129874, '6wu': 0.00015851209975694812, 'dave': 0.00015851209975694812, 'ask-': 5.283736658564937e-05, 'dubsack': 5.283736658564937e-05, 'phone750': 0.00010567473317129874, 'bahamas': 0.00015851209975694812, '|': 5.283736658564937e-05, 'attach': 5.283736658564937e-05, '01223585334': 0.00015851209975694812, 'nokia6600': 0.00010567473317129874, '#5000': 0.00015851209975694812, 'euro': 0.00021134946634259749, '150pm': 0.00026418683292824685, 'adults': 5.283736658564937e-05, '2stoptxt': 0.00015851209975694812, 'worry': 5.283736658564937e-05, 'work': 0.00015851209975694812, 'wan2': 0.00015851209975694812, 'missionary': 5.283736658564937e-05, 'standard': 0.0003698615660995456, 'law': 5.283736658564937e-05, 'wa14': 0.00010567473317129874, '87575': 0.00021134946634259749, 'thanxxx': 5.283736658564937e-05, '09064017295': 0.00010567473317129874, 'source': 5.283736658564937e-05, 'lesson': 5.283736658564937e-05, 'freaking': 5.283736658564937e-05, 'develop': 5.283736658564937e-05, '$500': 0.00015851209975694812, 'trying': 0.0007397231321990912, 'valentines': 0.00015851209975694812, 'cloud': 5.283736658564937e-05, 'bw': 5.283736658564937e-05, 'nt': 0.00010567473317129874, 'tree': 5.283736658564937e-05, 'acl03530150pm': 0.00015851209975694812, 'poly': 0.0007925604987847406, 'quickly': 5.283736658564937e-05, 'smth': 5.283736658564937e-05, '>>>more': 0.00010567473317129874, 'dict': 5.283736658564937e-05, 'todaydo': 5.283736658564937e-05, 'bck': 5.283736658564937e-05, 'deliveredtomorrow': 0.00021134946634259749, 'salary': 5.283736658564937e-05, 'any': 0.0011095846982986368, '220-cm2': 0.00021134946634259749, 'd': 0.00015851209975694812, 'link': 0.00026418683292824685, 'asap': 0.00031702419951389624, 'i‘m': 5.283736658564937e-05, 'leona': 5.283736658564937e-05, '0845': 0.00021134946634259749, 'uu': 0.00021134946634259749, 'valid12hrs': 0.00021134946634259749, 'login': 0.00010567473317129874, 'unable': 0.00015851209975694812, 'suite': 0.00015851209975694812, 'worth': 0.000581211032442143, 'listening': 0.00010567473317129874, 'survey': 0.00010567473317129874, '26/11/04': 0.00010567473317129874, 'lonely': 0.00010567473317129874, 'land': 0.0008982352319560393, 'pobox1': 0.00010567473317129874, '08709222922': 0.00015851209975694812, 'drawplease': 0.00010567473317129874, 'finest': 0.00010567473317129874, '22': 0.00010567473317129874, 'original': 0.00026418683292824685, 'see': 0.0007397231321990912, '09099726481': 0.00010567473317129874, 'n-gage': 0.00010567473317129874, '69911£150p': 0.00010567473317129874, \"see's\": 5.283736658564937e-05, '24hrs': 0.00015851209975694812, 'rate': 0.0009510725985416887, '69698': 0.00015851209975694812, 'period': 5.283736658564937e-05, 'interviews': 5.283736658564937e-05, 'sonyericsson': 0.00021134946634259749, 'silly': 5.283736658564937e-05, 'processed': 0.00010567473317129874, 'xmas': 0.0006868857656134418, 'snappy': 0.00010567473317129874, 'sms-08718727870': 0.00015851209975694812, 'box245c2150pm': 0.00010567473317129874, '4get': 5.283736658564937e-05, 'for': 0.008612490753460848, '69969': 0.00010567473317129874, 'his': 0.00010567473317129874, '7': 0.00010567473317129874, 'would': 0.00021134946634259749, 'cares': 5.283736658564937e-05, 'cst': 0.00010567473317129874, 'sprwm': 0.00010567473317129874, 'treats': 5.283736658564937e-05, 'hit': 0.00015851209975694812, 'discount': 0.00042269893268519497, 'vid': 0.00010567473317129874, 'box434sk38wp150ppm18+': 0.00010567473317129874, 'mini': 0.00010567473317129874, 'rechargerakhesh': 5.283736658564937e-05, 'ppt150x3+normal': 0.00010567473317129874, '3030': 0.00047553629927084436, '1mcfly-all': 0.00010567473317129874, 'ringtone-get': 0.00015851209975694812, 'distance': 5.283736658564937e-05, 'house': 0.00010567473317129874, \"kki'm\": 5.283736658564937e-05, 'raining': 5.283736658564937e-05, 'apply2': 0.00010567473317129874, 'unsub': 0.00031702419951389624, '87121': 0.00021134946634259749, 'bitch': 0.00010567473317129874, 'sun': 5.283736658564937e-05, 'teletext': 0.00010567473317129874, 'stone': 5.283736658564937e-05, 'mix': 0.00015851209975694812, '£1000call': 0.00010567473317129874, '18+': 0.0008982352319560393, 'money': 0.00026418683292824685, 'num': 5.283736658564937e-05, 'n': 0.0005283736658564937, 'cmon': 0.00010567473317129874, '42049': 0.00010567473317129874, 'jorge-shock': 0.00010567473317129874, 'worlds': 0.00010567473317129874, '09050280520': 0.00010567473317129874, 'mon': 5.283736658564937e-05, 'challenge': 0.00010567473317129874, 'died': 0.00010567473317129874, 'hi': 0.0006868857656134418, 'replied': 0.00010567473317129874, 'elephant': 5.283736658564937e-05, 'cd': 0.00042269893268519497, 'scratching': 5.283736658564937e-05, 'laid': 0.00021134946634259749, '09066358152': 0.00010567473317129874, '09064011000': 0.00015851209975694812, 'll': 0.00010567473317129874, '08000776320': 0.00015851209975694812, '09058094455': 0.00010567473317129874, 'yoville': 5.283736658564937e-05, 'smiling': 5.283736658564937e-05, '3mobile': 0.00010567473317129874, 'actor': 5.283736658564937e-05, '0825': 0.00015851209975694812, 'secretly': 0.00015851209975694812, 'seems': 5.283736658564937e-05, 'celebrate': 5.283736658564937e-05, '09065171142-stopsms-08718727870150ppm': 0.00010567473317129874, 'running': 0.00010567473317129874, 'first': 0.0003698615660995456, 'elvis': 0.00010567473317129874, 'w8in': 0.00010567473317129874, 'evone': 5.283736658564937e-05, 'mjzgroup': 0.00010567473317129874, 'customersqueries@netvisionukcom': 0.00010567473317129874, 'mens': 0.00010567473317129874, 'list': 5.283736658564937e-05, 'mre': 0.00010567473317129874, 'itz': 5.283736658564937e-05, '09050000332': 0.00010567473317129874, \"unicef's\": 0.00010567473317129874, 'movies': 5.283736658564937e-05, 'mfl': 0.00010567473317129874, 'nytec2a3lpmsg@150p': 0.00010567473317129874, 'this': 0.004015639860509352, 'out': 0.0022191693965972737, 'kkwhat': 5.283736658564937e-05, 'princess': 5.283736658564937e-05, 'comuk220cm2': 0.00010567473317129874, 'ave': 0.00021134946634259749, 'of£2000': 0.00010567473317129874, 'people': 0.00015851209975694812, '=': 0.00021134946634259749, 'lovely': 5.283736658564937e-05, 'invoices': 5.283736658564937e-05, 'ig11': 0.00010567473317129874, 'logo': 0.00026418683292824685, 'blonde': 0.00015851209975694812, 'safe': 5.283736658564937e-05, 'apply': 0.0015322836309838318, 'general': 5.283736658564937e-05, '£500': 0.001003909965127338, 'o': 0.00010567473317129874, 'played': 0.00010567473317129874, 'what': 0.0008453978653703899, 'foreign': 5.283736658564937e-05, 'ag': 0.00015851209975694812, '£125': 0.00010567473317129874, 'coincidence': 0.00010567473317129874, 'sept': 0.00021134946634259749, 'mins/texts': 0.00010567473317129874, 'mystery': 5.283736658564937e-05, 'yahoo': 0.00015851209975694812, 'auction': 0.0006868857656134418, 'matches': 0.00042269893268519497, 'getstop': 0.00015851209975694812, 'ba128nnfwfly150ppm': 0.00010567473317129874, '06': 0.00010567473317129874, '1956669': 0.00021134946634259749, 'w111wx': 0.00015851209975694812, 'phone': 0.0021663320300116242, 'mins': 0.0013209341646412342, '400': 0.00010567473317129874, 'prospects': 5.283736658564937e-05, '09061701851': 0.00010567473317129874, '150p/wk': 0.00015851209975694812, 'it‘s': 5.283736658564937e-05, '150p/sms': 0.00010567473317129874, 'leaving': 5.283736658564937e-05, 'normally': 5.283736658564937e-05, 'footie': 5.283736658564937e-05, 'tcr/w1': 0.00015851209975694812, 'm6': 0.00015851209975694812, 'fit': 0.00010567473317129874, 'lord': 0.00010567473317129874, 'entry': 0.0013209341646412342, 'babes': 0.00015851209975694812, '£200': 0.00042269893268519497, 'no-434': 0.00010567473317129874, 'promo': 0.00015851209975694812, '09061221061': 0.00015851209975694812, '28days': 0.00015851209975694812, 'patent': 5.283736658564937e-05, 'title': 0.00010567473317129874, 'spider-man': 0.00010567473317129874, 'wanted': 0.00010567473317129874, 'cup': 0.00026418683292824685, 'year': 0.00031702419951389624, 'optin': 0.00010567473317129874, '<forwarded': 0.00026418683292824685, 'bray': 0.00015851209975694812, 'mobstorequiz10ppm': 0.00010567473317129874, 'p': 0.00021134946634259749, '09058091870': 0.00010567473317129874, '18p/txt': 0.00015851209975694812, 'massagetie-pos': 5.283736658564937e-05, 'noe': 5.283736658564937e-05, 'officer': 5.283736658564937e-05, 'portal': 5.283736658564937e-05, 'rally': 0.00015851209975694812, 'lies': 5.283736658564937e-05, 'wkly': 0.0006340483990277925, 'press': 0.00010567473317129874, 'nokia': 0.002430518862939871, 'lar': 5.283736658564937e-05, '08448350055': 0.00010567473317129874, 'smoke': 5.283736658564937e-05, 'size': 5.283736658564937e-05, 'call2optout/yhl': 0.00010567473317129874, '09063442151': 0.00010567473317129874, 'bathing': 5.283736658564937e-05, 'currently': 0.00047553629927084436, 'tel': 0.00010567473317129874, 'avoiding': 5.283736658564937e-05, \"i'd\": 5.283736658564937e-05, 'heroes': 0.00010567473317129874, 'invited': 0.00026418683292824685, 'wwwsmsac/u/goldviking': 0.00010567473317129874, 'wwwtxt82228com': 0.00010567473317129874, '08717898035': 0.00015851209975694812, '09065171142-stopsms-08': 0.00010567473317129874, 'reserve': 5.283736658564937e-05, \"mom's\": 5.283736658564937e-05, 'chatter': 0.00010567473317129874, 'woulda': 5.283736658564937e-05, '08000938767': 0.00015851209975694812, 'password': 0.00010567473317129874, '09111030116': 0.00010567473317129874, 'urgentlyits': 5.283736658564937e-05, 'zoe': 0.00010567473317129874, 'everyone': 0.00010567473317129874, 'walls': 5.283736658564937e-05, 'adsense': 5.283736658564937e-05, 'wwwsmsconet': 0.00010567473317129874, '12mths': 0.00010567473317129874, 'pocketbabecouk': 0.00015851209975694812, 'violet': 0.00015851209975694812, 'uks': 0.00021134946634259749, 'tenerife': 0.00031702419951389624, 'forevr': 5.283736658564937e-05, '150p/day': 0.00010567473317129874, 'strt': 0.00010567473317129874, 'h': 5.283736658564937e-05, 'coherently': 5.283736658564937e-05, 'usualiam': 5.283736658564937e-05, 'infra': 5.283736658564937e-05, '08704439680ts&cs': 0.00010567473317129874, 'xxxxx': 0.00010567473317129874, '150p/mtmsg': 0.00010567473317129874, 't&cs/stop': 0.00021134946634259749, 'nit': 5.283736658564937e-05, 'impossible': 5.283736658564937e-05, 'goodies': 0.00010567473317129874, 'boston': 5.283736658564937e-05, 'conditions': 0.00021134946634259749, '09058094594': 0.00010567473317129874, '09061743811': 0.00010567473317129874, '09066362220': 0.00010567473317129874, '84484': 0.00010567473317129874, 'beautiful': 5.283736658564937e-05, 'prices': 5.283736658564937e-05, 'week': 0.0019021451970833774, 'one': 0.00042269893268519497, 'code4xx26': 0.00010567473317129874, 'fraction': 0.00010567473317129874, 'cruise': 0.00010567473317129874, 'real1': 0.00010567473317129874, 'with': 0.004649688259537144, 'ring': 0.00026418683292824685, 'wallpaper': 0.00015851209975694812, 'reveal': 0.00015851209975694812, '£50award': 0.00010567473317129874, '87131': 0.00026418683292824685, \"08452810075over18's\": 0.00015851209975694812, '8800': 0.00010567473317129874, 'buddys': 0.00010567473317129874, 'thanx': 5.283736658564937e-05, 'txting': 0.0003698615660995456, '0121': 0.00010567473317129874, \"moon's\": 0.00021134946634259749, 'opinions': 0.00010567473317129874, 'serious': 5.283736658564937e-05, 'making': 5.283736658564937e-05, 'arsenal': 0.00010567473317129874, 'request': 0.00010567473317129874, \"blake's\": 5.283736658564937e-05, 'wrongtake': 5.283736658564937e-05, 'bt': 0.00031702419951389624, 'engaged': 5.283736658564937e-05, 'pod': 0.00026418683292824685, 'types': 0.00010567473317129874, '87070': 0.00010567473317129874, 'jordantxt': 0.00010567473317129874, 'boys': 0.00015851209975694812, 'chik': 0.00010567473317129874, 'removed': 0.00010567473317129874, 'strange': 5.283736658564937e-05, 'wildest': 0.00010567473317129874, '80086': 0.00015851209975694812, 'network': 0.001162422064884286, '2u': 0.00010567473317129874, '10p/min': 0.000581211032442143, '08450542832': 0.00010567473317129874, '08718730555': 0.00010567473317129874, 'wit': 5.283736658564937e-05, 'videosound': 0.00010567473317129874, 'including': 5.283736658564937e-05, 'pages': 5.283736658564937e-05, 'yar': 5.283736658564937e-05, 'eight': 5.283736658564937e-05, 'good': 0.0006868857656134418, '30pp/txt': 0.00015851209975694812, 'tot': 5.283736658564937e-05, 'about': 0.00042269893268519497, 'nr31': 0.00010567473317129874, 'cost£375max': 0.00010567473317129874, 'recd@thirtyeight': 0.00010567473317129874, 'access': 0.00031702419951389624, '4rowdy': 5.283736658564937e-05, 'speed': 0.00010567473317129874, 'studying': 5.283736658564937e-05, 'mobcudb': 0.00010567473317129874, 'fromm': 0.00021134946634259749, 'instantly': 0.00010567473317129874, 'surely': 5.283736658564937e-05, 'attempt': 0.0010567473317129874, 'station': 0.00010567473317129874, 'box97n7qp': 0.00015851209975694812, 'norcorp': 0.00010567473317129874, 'cost': 0.001162422064884286, 'willing': 0.00010567473317129874, '–': 5.283736658564937e-05, 'break': 0.00021134946634259749, 'u-find': 0.00031702419951389624, 'arrow': 0.00010567473317129874, 'guild': 5.283736658564937e-05, 'note': 5.283736658564937e-05, 'fingers': 5.283736658564937e-05, 'incredible': 0.00015851209975694812, 'stewartsize': 0.00010567473317129874, 'revealed': 0.00026418683292824685, 'unique': 0.00010567473317129874, 'meatballs': 5.283736658564937e-05, 'half8th': 5.283736658564937e-05, 'legitimat': 0.00010567473317129874, 'uncle': 5.283736658564937e-05, '08081263000': 0.00010567473317129874, '08714712379': 0.00010567473317129874, 'sib': 5.283736658564937e-05, 'woodland': 5.283736658564937e-05, 'cashbincouk': 0.00010567473317129874, 'bring': 5.283736658564937e-05, 'interesting': 5.283736658564937e-05, \"s'fine\": 5.283736658564937e-05, 'xxuk': 0.00010567473317129874, '4press': 5.283736658564937e-05, 'no-440': 0.00010567473317129874, 'tampa': 5.283736658564937e-05, '08715203694': 0.00010567473317129874, 'ldn': 0.0005283736658564937, 'shracomorsglsuplt10': 0.00010567473317129874, 'booking': 0.00010567473317129874, 'coimbatore': 5.283736658564937e-05, 'official': 0.00021134946634259749, 'hrs': 0.00010567473317129874, 'dresser': 5.283736658564937e-05, '2003': 0.0007397231321990912, '08719899229': 0.00010567473317129874, 'burgundy': 5.283736658564937e-05, 'vomiting': 5.283736658564937e-05, 'special': 0.0005283736658564937, 'booked': 5.283736658564937e-05, 'ppm': 0.00010567473317129874, 'living': 0.00010567473317129874, '£100': 0.0011095846982986368, '078': 0.00010567473317129874, '18+6*£150morefrmmob': 0.00010567473317129874, 'wwwcomuknet': 0.00031702419951389624, 'case': 5.283736658564937e-05, 'within': 0.0003698615660995456, '08718720201': 0.00026418683292824685, 'housewives': 0.00015851209975694812, 'eg': 0.00047553629927084436, 'ignorant': 5.283736658564937e-05, 'distract': 5.283736658564937e-05, 'sorry': 0.00021134946634259749, 'pg': 0.00010567473317129874, 'draws': 0.00010567473317129874, 'scotsman': 0.00015851209975694812, '10/06/03': 0.00010567473317129874, 'inclusive': 0.00031702419951389624, 'approved': 5.283736658564937e-05, 'points': 0.0008982352319560393, 'deltomorrow': 0.00010567473317129874, '07123456789': 0.00015851209975694812, 'make': 0.000581211032442143, 'anywhere': 5.283736658564937e-05, 'ate': 5.283736658564937e-05, 'at': 0.001268096798055585, '2px': 0.00010567473317129874, 'pap': 5.283736658564937e-05, 'sony': 0.00042269893268519497, 'photos': 5.283736658564937e-05, 'please': 0.002324844129768572, 'w14rg': 0.00010567473317129874, '08712402578': 0.00010567473317129874, 'lead': 5.283736658564937e-05, 'art': 5.283736658564937e-05, '08712405022': 0.00015851209975694812, '08717205546': 0.00010567473317129874, 'licks': 5.283736658564937e-05, 'trav': 0.00010567473317129874, 'vu': 0.00015851209975694812, 'shortage': 5.283736658564937e-05, 'dating': 0.0007397231321990912, 'plyr': 0.00010567473317129874, 'song-': 5.283736658564937e-05, 'who': 0.001849307830497728, '81010': 0.00015851209975694812, 'folks': 0.00010567473317129874, '08715705022': 0.00021134946634259749, 'agency': 5.283736658564937e-05, 'call2optout/hf8': 0.00010567473317129874, 'mk45': 0.00015851209975694812, 'india': 0.00010567473317129874, 'loan': 0.00026418683292824685, 'woke': 5.283736658564937e-05, 'must': 0.00026418683292824685, 'gets': 5.283736658564937e-05, 'project': 5.283736658564937e-05, '30': 0.00015851209975694812, '09071512433': 0.00015851209975694812, 'trust': 5.283736658564937e-05, 'floppy': 0.00010567473317129874, 'gaytextbuddycom': 0.00015851209975694812, '3680offer': 0.00010567473317129874, 'different': 5.283736658564937e-05, 'never': 0.00010567473317129874, 'show': 0.00021134946634259749, '$50': 5.283736658564937e-05, 'selected': 0.0012152594314699355, 'dog': 5.283736658564937e-05, 'renewed': 0.00010567473317129874, 'working': 5.283736658564937e-05, 'tell': 0.0006340483990277925, 'abt': 5.283736658564937e-05, '4fil': 0.00015851209975694812, 'together': 5.283736658564937e-05, 'box139': 0.00010567473317129874, '*turn*': 0.00010567473317129874, 'august': 0.00015851209975694812, 'f': 0.00015851209975694812, 'fall': 0.00010567473317129874, 'crazy': 0.00021134946634259749, '1er': 0.00010567473317129874, 'conacted': 0.00010567473317129874, 'closer': 5.283736658564937e-05, '6missed': 5.283736658564937e-05, '09065989180': 0.00010567473317129874, 'dvd': 0.00031702419951389624, 'tariffs': 0.00026418683292824685, 'expression': 5.283736658564937e-05, 'messages-text': 0.00010567473317129874, 'fantasy': 0.00015851209975694812, 'cochin': 5.283736658564937e-05, 'saibaba': 5.283736658564937e-05, 'be': 0.0023776814963542216, 'real': 0.0006340483990277925, 'prescripiton': 0.00010567473317129874, 'justbeen': 5.283736658564937e-05, '£1250': 0.00015851209975694812, 'dane': 5.283736658564937e-05, 'motorola': 0.00042269893268519497, 'urgh': 5.283736658564937e-05, 'find': 0.001003909965127338, '08718726971': 0.00010567473317129874, 'scrounge': 5.283736658564937e-05, 'ideas': 5.283736658564937e-05, 'bloo': 5.283736658564937e-05, '9am-11pm': 0.00026418683292824685, 'ystrdayice': 5.283736658564937e-05, '-msg': 0.00010567473317129874, 'maybe': 0.00010567473317129874, 'un-redeemed': 0.0006868857656134418, 'b4280703': 0.00015851209975694812, 'xxxmobilemovieclubcomn=qjkgighjjgcbl': 0.00010567473317129874, 'dearregret': 5.283736658564937e-05, 'laughing': 5.283736658564937e-05, 'outstanding': 5.283736658564937e-05, 'yrs': 0.00015851209975694812, '5/9/03': 0.00010567473317129874, 'rock': 0.00010567473317129874, 'six': 0.00015851209975694812, 'ü': 5.283736658564937e-05, 'mine': 5.283736658564937e-05, 'toothpaste': 5.283736658564937e-05, 'meet': 0.00031702419951389624, 'extreme': 0.00010567473317129874, \"*i'm\": 5.283736658564937e-05, 'top': 0.0007397231321990912, 'regard': 0.00010567473317129874, '145': 0.00026418683292824685, '08701417012': 0.00021134946634259749, 'i': 0.0022191693965972737, 'passwordsatm/sms': 5.283736658564937e-05, 'parish': 5.283736658564937e-05, 'okmail': 0.00010567473317129874, 'euro2004': 0.00026418683292824685, 'cashto': 0.00015851209975694812, \"ratet&c's\": 0.00015851209975694812, 'fink': 0.00010567473317129874, '2c': 0.00015851209975694812, 'dena': 0.00010567473317129874, 'bang': 5.283736658564937e-05, 'holla': 5.283736658564937e-05, 'boost': 5.283736658564937e-05, 'finishing': 5.283736658564937e-05, 'showers': 5.283736658564937e-05, '£400': 0.00021134946634259749, 'tight': 5.283736658564937e-05, 'leadership': 0.00010567473317129874, '&lt#&gt': 5.283736658564937e-05, 'pouch': 5.283736658564937e-05, 'cinema': 0.00015851209975694812, 'shag': 0.00010567473317129874, '08718726970': 0.00010567473317129874, '13/4/04': 0.00010567473317129874, 'next': 0.0007925604987847406, '89938': 0.00010567473317129874, 'renewal': 0.00010567473317129874, '1-month': 0.00010567473317129874, 'pobox114/14tcr/w1': 0.00010567473317129874, 'and/or': 5.283736658564937e-05, 'president': 0.00010567473317129874, 'spider': 0.00010567473317129874, '114/14': 0.00015851209975694812, 'twenty': 5.283736658564937e-05, '0808': 0.00026418683292824685, '864233': 0.00010567473317129874, 'frog': 0.00010567473317129874, '82324': 0.00010567473317129874, 'minded': 0.00010567473317129874, '150p/msgrcvdhg/suite342/2lands/row/w1j6hl': 0.00021134946634259749, 'remind': 5.283736658564937e-05, 'vary': 0.0003698615660995456, 'membership': 0.00015851209975694812, 'presence': 0.00010567473317129874, '09064019014': 0.00010567473317129874, 'sex': 0.000581211032442143, 'adventuring': 5.283736658564937e-05, 'oil': 5.283736658564937e-05, 'liked': 5.283736658564937e-05, 'directly': 5.283736658564937e-05, 'later': 5.283736658564937e-05, 'dentists': 5.283736658564937e-05, 'redeemable': 0.00010567473317129874, 'success': 5.283736658564937e-05, 'cuz': 5.283736658564937e-05, 'southern': 5.283736658564937e-05, 'we‘ll': 5.283736658564937e-05, 'neville': 5.283736658564937e-05, 'aiyo': 5.283736658564937e-05, \"si'm\": 5.283736658564937e-05, 'sell': 0.00010567473317129874, 'thought': 0.00010567473317129874, 'sure': 5.283736658564937e-05, 'calls150ppm': 0.00010567473317129874, 'promised': 0.00010567473317129874, 'nowcan': 5.283736658564937e-05, '2untamed': 0.00015851209975694812, 'box': 0.0014794462643981823, 'fact': 0.00010567473317129874, 'double': 0.000581211032442143, 'river': 5.283736658564937e-05, 'colour': 0.0007925604987847406, 'smile': 5.283736658564937e-05, '@kiosk': 0.00010567473317129874, 'only': 0.0036457782944098066, 'gwr': 5.283736658564937e-05, 'wc1n': 0.00010567473317129874, 'c52': 0.00015851209975694812, 'yesfrom': 5.283736658564937e-05, 'concert': 0.00010567473317129874, 'margaret': 5.283736658564937e-05, 'gpu': 5.283736658564937e-05, 'buy': 0.00015851209975694812, 'bian': 5.283736658564937e-05, 'homeowners': 0.00021134946634259749, 'sent': 0.000581211032442143, 'specially': 0.0005283736658564937, \"t's&c's\": 0.00026418683292824685, '6romantic': 5.283736658564937e-05, 'ni8swt': 5.283736658564937e-05, 'tog': 5.283736658564937e-05, 'cost£150/pm': 0.00026418683292824685, '£1500': 0.00026418683292824685, 'herself': 0.00015851209975694812, 'started': 0.00010567473317129874, '121': 0.00021134946634259749, 'naughty': 5.283736658564937e-05, '32/f': 0.00010567473317129874, 'dude': 5.283736658564937e-05, 'hottest': 0.00010567473317129874, '09050005321': 0.00010567473317129874, '450ppw': 0.00010567473317129874, 'travel': 0.00015851209975694812, '06/11/04': 0.00010567473317129874, 'leaves': 5.283736658564937e-05, '/oz': 5.283736658564937e-05, 'info@vipclub4u': 0.00010567473317129874, \"there're\": 5.283736658564937e-05, '80122300p/wk': 0.00010567473317129874, 'lyricalladie21/f': 0.00010567473317129874, 'flash': 5.283736658564937e-05, 'canary': 0.00015851209975694812, 'near': 5.283736658564937e-05, 'slo': 0.00010567473317129874, \"how's\": 5.283736658564937e-05, '£150': 0.0011095846982986368, 'term': 0.00015851209975694812, 'action': 0.00026418683292824685, 'mouth': 5.283736658564937e-05, '08707509020': 0.00026418683292824685, '24m': 0.00010567473317129874, 'videos': 0.00010567473317129874, 'jus': 5.283736658564937e-05, '09094100151': 0.00010567473317129874, '07099833605': 0.00010567473317129874, 'recognise': 5.283736658564937e-05, 'dial': 0.00010567473317129874, 'condition': 0.00010567473317129874, 'impressively': 5.283736658564937e-05, '1st': 0.0010567473317129874, 'wwwtxt43com': 0.00010567473317129874, 'change': 5.283736658564937e-05, 'b-blue': 0.00010567473317129874, 'starting': 0.00021134946634259749, 'drvgsto': 0.00010567473317129874, 'p£399': 0.00015851209975694812, 'colours': 0.00010567473317129874, 'holidayso': 5.283736658564937e-05, '<ukp>2000': 0.00010567473317129874, '0906346330': 0.00010567473317129874, 'away': 0.00026418683292824685, 'right': 0.00015851209975694812, '2channel': 0.00010567473317129874, 'fave': 5.283736658564937e-05, 'pobox45w2tg150p': 0.00010567473317129874, 'valid': 0.0011095846982986368, 'current': 0.00015851209975694812, 'begging': 5.283736658564937e-05, '542': 0.00015851209975694812, 'names': 0.00015851209975694812, 'misscall': 5.283736658564937e-05, 'cs': 0.00042269893268519497, 'changes': 5.283736658564937e-05, \"don't\": 0.0006340483990277925, 'resubmit': 0.00010567473317129874, 'nikiyu4net': 0.00010567473317129874, 'confused': 5.283736658564937e-05, 'friend': 0.0005283736658564937, \"'comfort'\": 5.283736658564937e-05, 'didn\\x92t': 5.283736658564937e-05, '118p/msg': 0.00010567473317129874, 'bluetooth': 0.00031702419951389624, 'magazine': 5.283736658564937e-05, 'tacos': 5.283736658564937e-05, 'personality': 5.283736658564937e-05, 'videochat': 0.00015851209975694812, 'personal': 0.00010567473317129874, '09050000555': 0.00010567473317129874, 'nasty': 0.00010567473317129874, 'fones': 0.00010567473317129874, 'instructions': 0.00015851209975694812, 'keeping': 5.283736658564937e-05, 'run': 5.283736658564937e-05, 'stu': 5.283736658564937e-05, '09066380611': 0.00010567473317129874, 'always': 5.283736658564937e-05, 'anytime': 0.0005283736658564937, 'mobiles': 0.000581211032442143, 'no83355': 0.00010567473317129874, 'alert': 0.00026418683292824685, '*grins*': 5.283736658564937e-05, 'and': 0.0054950861249075346, 'thousands': 0.00010567473317129874, 'logos+musicnews': 0.00010567473317129874, 'hence': 5.283736658564937e-05, 'tackle': 5.283736658564937e-05, 'follows': 0.00010567473317129874, 'prizeto': 0.00010567473317129874, 'channel': 0.00010567473317129874, 'lounge': 0.00010567473317129874, '*a': 5.283736658564937e-05, 'fri': 0.00015851209975694812, 'meaning': 5.283736658564937e-05, '123': 0.00010567473317129874, 'smashed': 0.00010567473317129874, 'sunshine': 0.00042269893268519497, 'captaining': 5.283736658564937e-05, 'sport': 0.00026418683292824685, 'either': 0.00047553629927084436, '08704439680': 0.00010567473317129874, 'asian': 0.00010567473317129874, 'nowt&cs': 0.00010567473317129874, 'bcoz': 5.283736658564937e-05, 'when': 0.0005283736658564937, 'hurry': 0.00010567473317129874, 'prizeawaiting': 0.00010567473317129874, '08718726270150gbp/mtmsg18': 0.00021134946634259749, 'thinks': 0.0003698615660995456, 'yest': 5.283736658564937e-05, 'del': 0.0003698615660995456, '09061104276': 0.00010567473317129874, 'hmmmstill': 5.283736658564937e-05, 'charge': 0.0005283736658564937, 'another': 0.00015851209975694812, 'name1': 0.00015851209975694812, 'meetins': 0.00010567473317129874, 'sipix': 0.00031702419951389624, 'satisfy': 0.00010567473317129874, '10ppm': 0.00015851209975694812, 'shake': 5.283736658564937e-05, 'yeah': 5.283736658564937e-05, 'call': 0.015005812110324422, 'avenue': 5.283736658564937e-05, '61200': 0.00010567473317129874, 'head': 5.283736658564937e-05, '6zf': 0.00010567473317129874, '13/10/04': 0.00010567473317129874, 'ou': 0.00010567473317129874, 'audiitions': 5.283736658564937e-05, '80182': 0.00021134946634259749, 'row': 0.00010567473317129874, 'wwwringtonekingcouk': 0.00010567473317129874, 'gail': 5.283736658564937e-05, \"t&c's\": 0.0003698615660995456, 'bloodsend': 5.283736658564937e-05, 'gained': 5.283736658564937e-05, '450': 0.00021134946634259749, '195': 0.00010567473317129874, 'buzz': 5.283736658564937e-05, 'anythiing': 5.283736658564937e-05, 'literally': 5.283736658564937e-05, 'cloth': 5.283736658564937e-05, 'envy': 5.283736658564937e-05, 'dps': 0.00010567473317129874, 'capital': 0.00010567473317129874, 'teach': 5.283736658564937e-05, '+447797706009': 0.00015851209975694812, 'early': 5.283736658564937e-05, '08002986030': 0.00015851209975694812, 'lessons': 5.283736658564937e-05, 'dialling': 0.00010567473317129874, '80608': 0.00015851209975694812, \"'uptown\": 0.00010567473317129874, 'bcm4284': 0.00015851209975694812, 'loyalty': 0.00031702419951389624, 'frndship': 5.283736658564937e-05, 'entitled': 0.00042269893268519497, \"didn't\": 5.283736658564937e-05, 'online': 5.283736658564937e-05, 'december': 0.00031702419951389624, 'sooner': 5.283736658564937e-05, 'set': 0.00010567473317129874, 'ls1': 0.00010567473317129874, 'jesus': 5.283736658564937e-05, 'hopefully': 5.283736658564937e-05, 'balance': 0.00015851209975694812, 'aathilove': 5.283736658564937e-05, 'payment': 5.283736658564937e-05, '150p/msg': 0.0007397231321990912, 'misundrstud': 5.283736658564937e-05, '5pm': 5.283736658564937e-05, 'waking': 5.283736658564937e-05, 'tom': 0.00010567473317129874, 'saucy': 0.00010567473317129874, 'refundedthis': 0.00010567473317129874, 'bringing': 0.00010567473317129874, 'news': 0.00047553629927084436, 'unlimited': 0.0005283736658564937, 'jocks': 0.00010567473317129874, '78p/min': 0.00015851209975694812, 'bristol': 5.283736658564937e-05, 'godi': 5.283736658564937e-05, 'telephone': 0.00010567473317129874, 'sundayish': 5.283736658564937e-05, 'goldviking': 0.00010567473317129874, 'fucking': 5.283736658564937e-05, 'txtno': 0.00015851209975694812, 'predictive': 5.283736658564937e-05, '2nd': 0.0008982352319560393, 'hotmix': 0.00010567473317129874, 'anonymous': 0.00010567473317129874, 'angry': 5.283736658564937e-05, 'knock': 0.00015851209975694812, 'or2optout/hv9d': 0.00010567473317129874, 'posh': 0.00010567473317129874, 'tiwary': 5.283736658564937e-05, 'call2optout=j5q': 0.00010567473317129874, '-message': 0.00015851209975694812, 'slow': 5.283736658564937e-05, 'duchess': 0.00015851209975694812, \"wouldn't\": 5.283736658564937e-05, 'prize': 0.004438338793194547, 'return': 5.283736658564937e-05, 'claim': 0.005125224558807989, 'fantastic': 0.0003698615660995456, '150p/rcvd': 0.00010567473317129874, '62735=£450': 0.00010567473317129874, \"today's\": 0.00021134946634259749, 'manchester': 0.00010567473317129874, 'ny-usa': 0.00010567473317129874, 're-schedule': 0.00015851209975694812, 'bx420': 0.00015851209975694812, 'bloomberg': 0.00015851209975694812, 'complementary': 0.00010567473317129874, 'receipt': 0.00015851209975694812, '3510i': 0.00031702419951389624, '6months': 0.00015851209975694812, 'graduated': 5.283736658564937e-05, 'investigate': 5.283736658564937e-05, 'walked': 5.283736658564937e-05, 'position': 5.283736658564937e-05, 'ntwk': 0.00015851209975694812, 'executive': 5.283736658564937e-05, 'sed': 0.00010567473317129874, 'panasonic': 0.00010567473317129874, 'poboxox36504w45wq': 0.00010567473317129874, 'mmmmm': 5.283736658564937e-05, '09066364349': 0.00010567473317129874, 'freemsgfeelin': 0.00010567473317129874, 'pobox365o4w45wq': 0.00010567473317129874, 'hlp': 0.00015851209975694812, 'timeyou': 5.283736658564937e-05, '08715203649': 0.00010567473317129874, '113': 0.00015851209975694812, 'songs': 5.283736658564937e-05, 'knowthis': 5.283736658564937e-05, 'freemsg>fav': 0.00010567473317129874, '150ppmpobox10183bhamb64xe': 0.00010567473317129874, 'boy': 5.283736658564937e-05, '5we': 0.00021134946634259749, 'toppoly': 0.00010567473317129874, 'yeovil': 5.283736658564937e-05, 'hmv1': 0.00010567473317129874, 'expecting': 5.283736658564937e-05, 'chrgd@50p': 0.00010567473317129874, 'loyal': 0.00010567473317129874, '150p/text': 0.00010567473317129874, 'listen': 0.00015851209975694812, 'wishin': 5.283736658564937e-05, 'suppliers': 0.00010567473317129874, 'mother': 5.283736658564937e-05, 'okey': 5.283736658564937e-05, 'hope': 0.00021134946634259749, 'matched': 0.00010567473317129874, 'e£nd': 0.00010567473317129874, '£54': 0.00010567473317129874, 'available': 0.00021134946634259749, 'eh': 5.283736658564937e-05, 'music': 0.0008982352319560393, '08712460324': 0.0003698615660995456, '£75000': 0.00021134946634259749, 'ooooooh': 5.283736658564937e-05, 'burrito': 5.283736658564937e-05, 'you-': 5.283736658564937e-05, 'mob': 0.001162422064884286, 'mode': 5.283736658564937e-05, 'tenants': 0.00021134946634259749, 'westlife': 0.00015851209975694812, 'street': 0.00015851209975694812, 'ttyl': 5.283736658564937e-05, 'uk-mobile-date': 0.00010567473317129874, 'random': 5.283736658564937e-05, 'freemsg': 0.0005283736658564937, \"uk's\": 0.00042269893268519497, '83039': 0.00010567473317129874, 'ntt': 0.00047553629927084436, 'dointerested': 0.00010567473317129874, 'unredeemed': 0.00026418683292824685, 'forever': 5.283736658564937e-05, 'skins': 0.00010567473317129874, 'shesil': 5.283736658564937e-05, '£10': 0.00021134946634259749, 'shd': 5.283736658564937e-05, 'http//gotbabescouk': 0.00010567473317129874, \"1000's\": 0.00015851209975694812, '08706091795': 0.00015851209975694812, 'true': 0.00021134946634259749, 'chk': 5.283736658564937e-05, 'great': 0.00047553629927084436, 'yourinclusive': 0.00010567473317129874, 'passed': 5.283736658564937e-05, 'look': 0.00021134946634259749, 'shy': 0.00010567473317129874, 'complimentary': 0.00042269893268519497, 'wwwflirtpartyus': 0.00010567473317129874, 'e=': 0.00015851209975694812, 'actually': 5.283736658564937e-05, '20m12aq': 0.00010567473317129874, 'wwwwin-82050couk': 0.00015851209975694812, 'felt': 5.283736658564937e-05, 'stand': 5.283736658564937e-05, '86688': 0.0008982352319560393, '30s': 0.00010567473317129874, 'marvel': 0.00010567473317129874, '09066350750': 0.00010567473317129874, 'firsg': 5.283736658564937e-05, 'eerie': 0.00021134946634259749, '050703': 0.00015851209975694812, 'ar': 5.283736658564937e-05, 'sppok': 0.00010567473317129874, 'box385': 0.00015851209975694812, 'round': 0.00010567473317129874, 'without': 5.283736658564937e-05, 'worried': 5.283736658564937e-05, 'accommodationvouchers': 0.00010567473317129874, 'so': 0.0010567473317129874, 'overa': 5.283736658564937e-05, 'eat': 5.283736658564937e-05, 'offerthe': 0.00010567473317129874, 'ladies': 0.00010567473317129874, 'gbp450/week': 0.00010567473317129874, 'gn-': 5.283736658564937e-05, '1/08/03': 0.00010567473317129874, 'gonna': 5.283736658564937e-05, 'off': 0.00015851209975694812, 'premium': 0.00010567473317129874, 'summer': 0.00042269893268519497, 'shorter': 5.283736658564937e-05, 'rd': 5.283736658564937e-05, 'care': 0.00026418683292824685, 'algarve': 0.00015851209975694812, 'gym': 5.283736658564937e-05, '150p/mtmsgrcvd18': 0.00015851209975694812, 'carlos': 5.283736658564937e-05, 'some': 0.00031702419951389624, '86021': 0.00026418683292824685, 'beware': 5.283736658564937e-05, 'we‘re': 5.283736658564937e-05, '31': 0.00010567473317129874, 'fgkslpopw': 0.00010567473317129874, 'confirmd': 5.283736658564937e-05, 'male': 0.00021134946634259749, 'wwwsantacallingcom': 0.00010567473317129874, 'twelve': 5.283736658564937e-05, 'called': 0.00010567473317129874, 'bbq': 5.283736658564937e-05, 'lets': 0.00010567473317129874, 'amy': 0.00010567473317129874, 'disconnect': 5.283736658564937e-05, 'minapn': 0.00010567473317129874, '30th': 0.00010567473317129874, '450pw': 0.00010567473317129874, '9ae': 0.00026418683292824685, '09061213237': 0.00015851209975694812, 'epi': 5.283736658564937e-05, '5i\\x92m': 5.283736658564937e-05, 'breaks': 0.00010567473317129874, 'wanna': 0.0005283736658564937, 'hon': 5.283736658564937e-05, 'she': 5.283736658564937e-05, 'norm150p/tone': 0.00021134946634259749, 'leh': 5.283736658564937e-05, 'xxxx': 0.00010567473317129874, 'calls£1/minmobsmore': 0.00010567473317129874, 'straight': 0.00015851209975694812, 'kisses*': 5.283736658564937e-05, '3hrs': 0.00010567473317129874, 'l8tr': 5.283736658564937e-05, '09065394514': 0.00010567473317129874, 'textoperator': 0.00010567473317129874, 'rem': 5.283736658564937e-05, 'reassuring': 5.283736658564937e-05, 'bluetoothhdset': 0.00010567473317129874, 'chennai': 5.283736658564937e-05, 'msg*': 0.00010567473317129874, '0870737910216yrs': 0.00010567473317129874, '+123': 0.00015851209975694812, 'apparently': 5.283736658564937e-05, 'delivery': 0.001003909965127338, 'lunch': 5.283736658564937e-05, 'offer': 0.0011095846982986368, 'champneys': 0.00010567473317129874, 'glass': 5.283736658564937e-05, '62468': 0.00031702419951389624, 'picsfree1': 0.00015851209975694812, 'wrong': 5.283736658564937e-05, 'end': 0.0006868857656134418, 'mandy': 0.00010567473317129874, '087147123779am-7pm': 0.00010567473317129874, 'smart': 0.00010567473317129874, 'regular': 5.283736658564937e-05, 'else': 0.00010567473317129874, '£2000': 0.0015322836309838318, 'hair': 5.283736658564937e-05, 'wire3net': 0.00010567473317129874, 'part': 0.00042269893268519497, 'free-message': 0.00010567473317129874, '0870': 0.00031702419951389624, 'http//wwwwtlpcouk/text': 0.00010567473317129874, 'speedchat': 0.00015851209975694812, 'bay': 5.283736658564937e-05, 'wwwdbuknet': 0.00015851209975694812, 'snap': 0.00010567473317129874, 'advice': 5.283736658564937e-05, '15541': 0.00010567473317129874, 'graphics': 0.00010567473317129874, 'share': 5.283736658564937e-05, 'sexiest': 0.00010567473317129874, 'dollar': 5.283736658564937e-05, 'urself': 5.283736658564937e-05, 'm221bp': 0.00015851209975694812, '3aj': 0.00010567473317129874, 'flight': 0.00010567473317129874, 'checkup': 5.283736658564937e-05, 'rain': 5.283736658564937e-05, 'argue': 5.283736658564937e-05, 'phil': 5.283736658564937e-05, 'la32wu': 0.00010567473317129874, 'neo69': 0.00010567473317129874, 'de': 5.283736658564937e-05, 'meanwhile': 5.283736658564937e-05, 'companies': 0.00010567473317129874, 'dear': 0.0007397231321990912, 'broke': 5.283736658564937e-05, 'kbut': 5.283736658564937e-05, 'removal': 0.00010567473317129874, 'keep': 0.0003698615660995456, 'colany': 5.283736658564937e-05, 'gift': 0.0008453978653703899, 'looking': 0.0003698615660995456, 'fair': 5.283736658564937e-05, '09071517866': 0.00010567473317129874, 'bcm1896wc1n3xx': 0.00015851209975694812, 'try': 0.00031702419951389624, '2end': 0.00015851209975694812, 'brings': 0.00010567473317129874, 'gmw': 0.00010567473317129874, '$95/pax': 5.283736658564937e-05, 'kochi': 5.283736658564937e-05, 'mailbox': 0.00015851209975694812, \"ryan's\": 5.283736658564937e-05, 'complete': 0.00010567473317129874, 'children': 0.00021134946634259749, 'helloyou': 0.00010567473317129874, 'k61': 0.00010567473317129874, 'lovable': 5.283736658564937e-05, 'rude': 0.00021134946634259749, 'love': 0.00047553629927084436, 'gettin': 0.00015851209975694812, 'the': 0.009405051252245588, '1225': 0.00010567473317129874, 'jogging': 5.283736658564937e-05, 'immediately': 0.00021134946634259749, 'muchxxlove': 5.283736658564937e-05, \"u're\": 5.283736658564937e-05, 'wamma': 0.00010567473317129874, 'library': 5.283736658564937e-05, 'wan': 0.00015851209975694812, 'minutes': 0.00031702419951389624, 'range': 5.283736658564937e-05, 'careful': 0.00010567473317129874, '7shy': 5.283736658564937e-05, \"you've\": 0.00015851209975694812, '88877': 0.00010567473317129874, 'dept': 0.00010567473317129874, 'opt': 0.0005283736658564937, 'chances': 0.00010567473317129874, 'recently': 0.00015851209975694812, 'adds': 5.283736658564937e-05, '@': 0.00021134946634259749, 'costs': 0.00021134946634259749, 'cuddling': 5.283736658564937e-05, 'outbid': 0.00010567473317129874, '300': 0.00021134946634259749, 'bcm': 0.00010567473317129874, 'mad2': 0.00010567473317129874, 'devils': 0.00010567473317129874, 'going': 0.00015851209975694812, 'finance': 5.283736658564937e-05, 'arng': 5.283736658564937e-05, 'alright': 5.283736658564937e-05, 'shows': 0.0015851209975694812, 'ebay': 5.283736658564937e-05, 'details': 0.0003698615660995456, 'cool': 0.00010567473317129874, 'ref': 0.00015851209975694812, 'w45wq': 0.00021134946634259749, \"aren't\": 5.283736658564937e-05, 'nyt': 0.00010567473317129874, 'father': 5.283736658564937e-05, 'walmart': 5.283736658564937e-05, 'stocked': 5.283736658564937e-05, '09050003091': 0.00015851209975694812, 'baby': 0.00015851209975694812, 'logo/pic': 0.00015851209975694812, 'concentrating': 5.283736658564937e-05, 'parents': 5.283736658564937e-05, 'bangb': 0.00010567473317129874, '07815296484': 0.00010567473317129874, 'tonight': 0.00015851209975694812, 'pounds': 0.0007397231321990912, '£3': 0.00026418683292824685, 'name': 0.0006868857656134418, 'probably': 5.283736658564937e-05, 'godyou': 5.283736658564937e-05, 'behave': 5.283736658564937e-05, 'chasing': 0.00010567473317129874, '09066649731from': 0.00010567473317129874, 'secs': 0.00015851209975694812, 'vague': 5.283736658564937e-05, 'figure': 5.283736658564937e-05, 'wondering': 5.283736658564937e-05, 'landline': 0.001426608897812533, 'likely': 5.283736658564937e-05, 'naked': 0.00010567473317129874, '11mths+': 0.00031702419951389624, 'lect': 5.283736658564937e-05, 'may': 0.00042269893268519497, 'cash-in': 0.00031702419951389624, 'wil': 5.283736658564937e-05, 'da': 5.283736658564937e-05, 'cheap': 0.00026418683292824685, 'except': 5.283736658564937e-05, 'grab': 5.283736658564937e-05, 'skillgame': 0.00015851209975694812, 'garments': 5.283736658564937e-05, \"weekend's\": 0.00015851209975694812, 'def': 5.283736658564937e-05, '4403ldnw1a7rw18': 0.00015851209975694812, 'apart': 5.283736658564937e-05, 'ta': 0.00010567473317129874, 'mention': 5.283736658564937e-05, 'asking': 5.283736658564937e-05, 'snickering': 5.283736658564937e-05, 'served': 5.283736658564937e-05, 'calling': 0.00031702419951389624, 'village': 0.00015851209975694812, '-pls': 0.00010567473317129874, \"100's\": 0.00010567473317129874, 'drink': 5.283736658564937e-05, '1000': 0.00026418683292824685, 'webeburnin': 0.00010567473317129874, 'numbers': 0.00047553629927084436, 'coping': 5.283736658564937e-05, 'palm': 5.283736658564937e-05, 'gm+gn+ge+gn': 5.283736658564937e-05, 'pick': 0.00015851209975694812, 'eastenders': 0.00015851209975694812, 'x2': 5.283736658564937e-05, \"when's\": 5.283736658564937e-05, 'think': 0.00021134946634259749, 'bonus': 0.0011095846982986368, 'nte-': 5.283736658564937e-05, '25': 0.00015851209975694812, 'information': 0.00042269893268519497, 'ringtone¡': 0.00010567473317129874, 'hurt': 5.283736658564937e-05, 'wwwrtfsphostingcom': 0.00010567473317129874, '08701752560': 0.00010567473317129874, 'postcode': 0.00021134946634259749, '87066': 0.0006868857656134418, \"he's\": 5.283736658564937e-05, 'fans': 0.00010567473317129874, 'genuine': 0.00021134946634259749, 'postponed': 5.283736658564937e-05, 'changed': 0.00010567473317129874, 'farrell': 0.00010567473317129874, 'better': 5.283736658564937e-05, \"we'll\": 0.00015851209975694812, '08717507711': 0.00015851209975694812, '07753741225': 0.00010567473317129874, 'apps': 5.283736658564937e-05, 'high': 0.00021134946634259749, 'grahmbell': 5.283736658564937e-05, 'u’ve': 0.00010567473317129874, '08715203652': 0.00010567473317129874, '2exit': 0.00010567473317129874, '20000': 0.00010567473317129874, 'expires': 0.0009510725985416887, '09050001295': 0.00010567473317129874, 'sir': 0.00010567473317129874, 'divorce': 0.00010567473317129874, 'stock': 5.283736658564937e-05, '1hr': 5.283736658564937e-05, '2309': 0.00010567473317129874, '6hl': 0.00015851209975694812, 'unsubscribed': 0.00010567473317129874, 'inside': 5.283736658564937e-05, 'iouri': 5.283736658564937e-05, 'holiday': 0.0013737715312268836, 'whens': 5.283736658564937e-05, 'dreading': 5.283736658564937e-05, '09064017305': 0.00010567473317129874, 'among': 0.00015851209975694812, '08719181259': 0.00010567473317129874, 'order': 0.0007397231321990912, 'im': 0.00031702419951389624, 'february': 5.283736658564937e-05, 'meetin': 5.283736658564937e-05, 'content': 0.000581211032442143, 'gd': 5.283736658564937e-05, '140ppm': 0.00010567473317129874, '08712300220': 0.0003698615660995456, 'believe': 0.00015851209975694812, 'univ': 5.283736658564937e-05, 'wwwsmsac/u/bootydelious': 0.00010567473317129874, 'hg/suite342/2lands/row/w1j6hl': 0.00021134946634259749, '0a$networks': 0.00010567473317129874, 'moan': 0.00010567473317129874, 'watching': 5.283736658564937e-05, '£600': 0.00010567473317129874, 'starti': 5.283736658564937e-05, 'no': 0.0026418683292824684, 'class': 0.00015851209975694812, 'xt': 0.00010567473317129874, 'sonathaya': 5.283736658564937e-05, 'erm': 5.283736658564937e-05, 'foley': 0.00015851209975694812, 'triple': 0.00010567473317129874, 'fml': 0.00010567473317129874, 'thinkin': 5.283736658564937e-05, 'msgs@150p': 0.00015851209975694812, 'page': 0.00010567473317129874, 'oja': 0.00010567473317129874, '07046744435': 0.00010567473317129874, 'marry': 5.283736658564937e-05, 'handset': 0.00026418683292824685, 'operator': 0.0007397231321990912, 'xxxmobilemovieclub': 0.00010567473317129874, 'used': 5.283736658564937e-05, 'digital': 0.00042269893268519497, 'credited': 0.00010567473317129874, 'school': 5.283736658564937e-05, 'yoyyooo': 5.283736658564937e-05, 'b4u': 0.00010567473317129874, 'takes': 0.00021134946634259749, '09061221066': 0.00021134946634259749, 'recorder': 0.00010567473317129874, 'up+not': 5.283736658564937e-05, 'tooo': 5.283736658564937e-05, \"guy's\": 5.283736658564937e-05, \"month's\": 0.00010567473317129874, 'lion': 5.283736658564937e-05, 'looks': 5.283736658564937e-05, '2814032': 0.00010567473317129874, 'finish': 5.283736658564937e-05, 'sunny': 5.283736658564937e-05, '3000': 0.00010567473317129874, '*smiles*': 5.283736658564937e-05, 'outside': 5.283736658564937e-05, 'rhythm': 5.283736658564937e-05, 'due': 0.00015851209975694812, 'community': 0.00015851209975694812, 'help08712400602450p': 0.00015851209975694812, 'pause': 0.00010567473317129874, '10am': 0.00010567473317129874, 'u': 0.006393321356863574, 'pobox84': 0.00031702419951389624, 'sullivan': 0.00010567473317129874, 'rg21': 0.00010567473317129874, '07801543489': 0.00010567473317129874, 'racal': 0.00010567473317129874, '08702490080': 0.00010567473317129874, 'bruv': 5.283736658564937e-05, 'cr01327bt': 0.00015851209975694812, 'favor': 5.283736658564937e-05, 'u4': 0.00021134946634259749, 'sports': 0.00015851209975694812, 'quoting': 0.00031702419951389624, 'bein': 5.283736658564937e-05, 'talk': 0.00026418683292824685, '24/7mp': 0.00010567473317129874, 'packs': 0.00010567473317129874, 'texting': 0.00010567473317129874, 'k718': 0.00010567473317129874, 'abiola': 5.283736658564937e-05, 'there': 0.00047553629927084436, '2/3': 0.00010567473317129874, 'chinese': 5.283736658564937e-05, 'ill': 0.00010567473317129874, '80160': 0.00010567473317129874, '12hrs': 0.0008453978653703899, '07734396839': 0.00010567473317129874, 'lot': 5.283736658564937e-05, 'kept': 0.00021134946634259749, 'glad': 0.00010567473317129874, '50%': 0.00010567473317129874, 'mondaynxt': 5.283736658564937e-05, 'am': 0.0005283736658564937, 'ibn': 5.283736658564937e-05, 'sptv': 0.00015851209975694812, 'xx': 0.00021134946634259749, 'm263uz': 0.00021134946634259749, 'hey': 0.00021134946634259749, 'dinnermsg': 5.283736658564937e-05, '+cheer': 5.283736658564937e-05, 'settings': 0.00010567473317129874, 'golden': 5.283736658564937e-05, 'thurs': 0.00015851209975694812, 'quick': 5.283736658564937e-05, '2im': 5.283736658564937e-05, '2004': 0.00047553629927084436, 'shit': 0.00010567473317129874, 'himso': 5.283736658564937e-05, '***************': 0.00010567473317129874, 'begin': 0.00010567473317129874, 'babe': 0.00042269893268519497, 'vat': 0.00010567473317129874, 'lol': 5.283736658564937e-05, '08707808226': 0.00010567473317129874, 'ptbo': 5.283736658564937e-05, 'forth': 5.283736658564937e-05, 'ctla': 5.283736658564937e-05, 'din': 5.283736658564937e-05, 'soundtrack': 0.00010567473317129874, '3rd': 5.283736658564937e-05, 'natalja': 0.00010567473317129874, '7ws': 0.00010567473317129874, 'grandfather': 5.283736658564937e-05, 'afraid': 0.00010567473317129874, 'whole': 5.283736658564937e-05, 'once': 5.283736658564937e-05, '09096102316': 0.00010567473317129874, 'todays': 0.0008453978653703899, 'http//wwwurawinnercom': 0.00031702419951389624, 'ubandu': 5.283736658564937e-05, 'april': 5.283736658564937e-05, 'by': 0.0014794462643981823, 'sale': 0.00026418683292824685, 'blessed': 5.283736658564937e-05, 'oz': 0.00010567473317129874, 'ac': 0.00021134946634259749, '88039skilgmetscs087147403231winawkage16+£150perwksub': 0.00010567473317129874, 'worryuse': 5.283736658564937e-05, 'landlineonly': 0.00010567473317129874, 'zac': 5.283736658564937e-05, '3sentiment': 5.283736658564937e-05, 'kiss': 5.283736658564937e-05, 'abnormally': 5.283736658564937e-05, 'yr': 0.0005283736658564937, '09058098002': 0.00010567473317129874, 'energy': 0.00015851209975694812, 'missing': 0.00010567473317129874, 'bat': 5.283736658564937e-05, 'optout': 0.00026418683292824685, '08712400603': 0.00010567473317129874, '83021': 0.00010567473317129874, 'got': 0.0003698615660995456, 'laidwant': 0.00010567473317129874, '0870241182716': 0.00010567473317129874, 'donate': 0.00015851209975694812, '2morro': 0.00010567473317129874, 'matured': 5.283736658564937e-05, 'wks': 0.00015851209975694812, 'national': 0.0006340483990277925, 'seh': 5.283736658564937e-05, '3unkempt': 0.00015851209975694812, 'monthlysubscription@50p/msg': 0.00010567473317129874, 'tirunelvai': 5.283736658564937e-05, 'delivered': 0.00026418683292824685, 'ok': 0.00021134946634259749, 'win150ppmx3age16': 0.00010567473317129874, 'nearer': 5.283736658564937e-05, 'arguments': 5.283736658564937e-05, 'here': 0.00026418683292824685, 'texts': 0.0008453978653703899, 'date': 0.00047553629927084436, 'put': 0.00010567473317129874, 'await': 0.0007397231321990912, 'goodmorningmy': 5.283736658564937e-05, 'convey': 5.283736658564937e-05, 'domain': 5.283736658564937e-05, 'dreams': 5.283736658564937e-05, 'possessiveness': 5.283736658564937e-05, '15p/min': 0.00015851209975694812, 'canname': 0.00010567473317129874, 'come': 0.00010567473317129874, 'morning': 5.283736658564937e-05, 'gary': 5.283736658564937e-05, '89123': 0.00010567473317129874, '08715203685': 0.00010567473317129874, '7zs': 0.00010567473317129874, 'seventeen': 5.283736658564937e-05, 'todayfrom': 0.00015851209975694812, 'arcade': 0.00015851209975694812, 'sucks': 5.283736658564937e-05, 'duvet': 5.283736658564937e-05, 'retrieve': 0.00015851209975694812, '26th': 0.00010567473317129874, 'burger': 0.00015851209975694812, 'years': 0.0003698615660995456, '8': 5.283736658564937e-05, 'kickoff': 0.00015851209975694812, 'mega': 0.00010567473317129874, 'rt-king': 0.00010567473317129874, 'msgwe': 0.00010567473317129874, '09090900040': 0.00010567473317129874, '83049': 0.00015851209975694812, 'mquiz': 0.00010567473317129874, 'logos': 0.00010567473317129874, '3lp': 0.00015851209975694812, 'asleep': 5.283736658564937e-05, 'smartcall': 0.00010567473317129874, 'kidz': 5.283736658564937e-05, '350': 0.00010567473317129874, 'soiree': 5.283736658564937e-05, '750': 0.0007925604987847406, 'w/question': 0.00010567473317129874, \"b'day\": 5.283736658564937e-05, 'type': 5.283736658564937e-05, 'wallet': 5.283736658564937e-05, '5249': 0.00010567473317129874, \"let's\": 0.00026418683292824685, 'realize': 0.00010567473317129874, 'them': 0.00015851209975694812, '08714714011': 0.00010567473317129874, 'costa': 0.00026418683292824685, 'hunks': 0.00010567473317129874, 'pc': 0.00031702419951389624, 'mistake': 0.00010567473317129874, 'birds': 0.00010567473317129874, 'dogging': 0.0006340483990277925, 'pple': 5.283736658564937e-05, 'colin': 0.00010567473317129874, 'dream': 5.283736658564937e-05, 'uve': 0.00010567473317129874, 'hour': 5.283736658564937e-05, 'uk': 0.0007925604987847406, 'j89': 0.00010567473317129874, 'restrictions': 0.00010567473317129874, '0789xxxxxxx': 0.00010567473317129874, 'jay': 5.283736658564937e-05, 'belovd': 5.283736658564937e-05, '2ez': 0.00010567473317129874, 'checking': 5.283736658564937e-05, 'mates': 0.0003698615660995456, 'hav': 5.283736658564937e-05, '09058099801': 0.00010567473317129874, '21': 0.00010567473317129874, '88600': 0.00021134946634259749, '54': 0.00010567473317129874, 'otherwise': 5.283736658564937e-05, 'kinda': 0.00010567473317129874, 'innings': 5.283736658564937e-05, 'lei': 5.283736658564937e-05, 'dick': 0.00010567473317129874, 'dokey': 5.283736658564937e-05, \"80's\": 0.00010567473317129874, 'stayed': 5.283736658564937e-05, '84': 0.00010567473317129874, 'amazing': 0.00021134946634259749, 'picture': 0.00010567473317129874, 'waiting': 0.0006340483990277925, '09061743386': 0.00010567473317129874, 'requests': 0.00010567473317129874, 'med': 0.00021134946634259749, '27/6/03': 0.00010567473317129874, 'nimyapls': 5.283736658564937e-05, 'e14': 0.00010567473317129874, 'really': 0.00010567473317129874, 'receivea': 0.00010567473317129874, 'prizes': 0.00015851209975694812, '08719839835': 0.00010567473317129874, 'freeentry': 0.00010567473317129874, '*****': 0.00010567473317129874, 't&cs': 0.0007925604987847406, 'search': 0.00015851209975694812, '3g': 0.00015851209975694812, 'calls': 0.0006340483990277925, 'chosen': 0.00021134946634259749, 'sleepingwith': 0.00010567473317129874, 'howz': 5.283736658564937e-05, 'ringtone': 0.0011095846982986368, 'times': 5.283736658564937e-05, \"u've\": 0.00026418683292824685, 'itplspls': 5.283736658564937e-05, '6669': 0.00010567473317129874, '300%': 0.00015851209975694812, 'every': 0.0013737715312268836, 'mnths': 0.00010567473317129874, 'total': 0.00010567473317129874, 'lt': 5.283736658564937e-05, '45239': 0.00021134946634259749, 'chg': 0.00010567473317129874, 'logon': 0.00010567473317129874, '300603': 0.00015851209975694812, 'pain': 5.283736658564937e-05, 'ts&cs': 0.00047553629927084436, 'exhibition': 5.283736658564937e-05, '***********': 0.00021134946634259749, 'story': 5.283736658564937e-05, 'completing': 5.283736658564937e-05, 'returned': 5.283736658564937e-05, '09061749602': 0.00010567473317129874, '434': 0.00015851209975694812, 'v': 0.00021134946634259749, 'to': 0.03038148578674839, 'janx': 5.283736658564937e-05, '80488biz': 0.00010567473317129874, 'tips': 0.00010567473317129874, 'sleepingand': 5.283736658564937e-05, 'months': 0.00021134946634259749, 'wwwt-cbiz': 0.00015851209975694812, 'welcome': 0.0005283736658564937, '07786200117': 0.00010567473317129874, 'lionp': 0.00015851209975694812, '86888': 0.00010567473317129874, 'cash-balance': 0.00031702419951389624, 'holder': 0.0003698615660995456, 'sub': 0.00021134946634259749, 'click': 0.00031702419951389624, 'ls278bb': 0.00010567473317129874, 'compare': 0.00015851209975694812, 'bbc': 0.00010567473317129874, 'sing': 5.283736658564937e-05, '09063458130': 0.00010567473317129874, 'hurts': 5.283736658564937e-05, 'connections': 5.283736658564937e-05, 'ref9280114': 0.00010567473317129874, 'secured': 0.00010567473317129874, 'becausethey': 0.00010567473317129874, 'subscription': 0.00026418683292824685, 'which': 0.00042269893268519497, 'ripped': 0.00010567473317129874, 'hcl': 5.283736658564937e-05, 'excellent': 5.283736658564937e-05, \"'luxury'\": 5.283736658564937e-05, '9funny': 5.283736658564937e-05, 'spree': 0.00026418683292824685, 'however': 0.00010567473317129874, 'anyone': 5.283736658564937e-05, 'footy': 0.00010567473317129874, 'signin': 5.283736658564937e-05, 'nanny': 5.283736658564937e-05, 'accept': 5.283736658564937e-05, '8000930705': 0.00010567473317129874, 'profit': 0.00021134946634259749, 'boytoy': 5.283736658564937e-05, '09066361921': 0.00010567473317129874, 'isn’t': 5.283736658564937e-05, 'miracle': 5.283736658564937e-05, 'polyph': 0.00010567473317129874, '5': 0.0005283736658564937, 'rec': 0.00010567473317129874, 'nasdaq': 0.00015851209975694812, 'voice': 5.283736658564937e-05, 'audition': 5.283736658564937e-05, '08712404000': 0.00010567473317129874, 'golddigger': 0.00010567473317129874, 'cust': 0.00021134946634259749, 'ipod': 0.0006340483990277925, 'starts': 0.00015851209975694812, 'recent': 0.00021134946634259749, 'promise': 5.283736658564937e-05, 'sleep': 5.283736658564937e-05, 'around': 0.00015851209975694812, 'tc': 0.00021134946634259749, 'misbehaved': 5.283736658564937e-05, 'oga': 5.283736658564937e-05, 'area': 0.00042269893268519497, 'phne': 5.283736658564937e-05, 'little': 0.00021134946634259749, '7ish': 5.283736658564937e-05, 'length': 5.283736658564937e-05, 'jst': 0.00010567473317129874, 'dartboard': 0.00010567473317129874, 'collected': 0.00010567473317129874, 'call2optout/lf56': 0.00010567473317129874, '4utxt': 0.00010567473317129874, 'do': 0.0011095846982986368, '08452810073': 0.00021134946634259749, '09066660100': 0.00010567473317129874, 'vibrator': 5.283736658564937e-05, 'june': 0.00010567473317129874, 'soo': 5.283736658564937e-05, 'onto': 0.0003698615660995456, 'simonwatson5120': 0.00010567473317129874, 'inconsiderate': 5.283736658564937e-05, \"'an\": 5.283736658564937e-05, '500': 0.0009510725985416887, 'joanna': 5.283736658564937e-05, '2optout': 0.00026418683292824685, 'yaxxx': 5.283736658564937e-05, 'damn': 5.283736658564937e-05, 'machan': 5.283736658564937e-05, 'customers': 0.00010567473317129874, 'deep': 5.283736658564937e-05, 'dload': 0.00015851209975694812, 'respond': 5.283736658564937e-05, 'campus': 5.283736658564937e-05, 'bf': 5.283736658564937e-05, '31pmsg@150p': 0.00015851209975694812, 'wwwbridalpetticoatdreamscouk': 0.00010567473317129874, \"joy's\": 5.283736658564937e-05, 'heartsnot': 5.283736658564937e-05, 'met': 0.00010567473317129874, 'id': 5.283736658564937e-05, '0844': 0.00010567473317129874, '69669': 0.00015851209975694812, 'fault&al': 5.283736658564937e-05, 'sexual': 0.00010567473317129874, 'co': 0.00031702419951389624, 'dat': 5.283736658564937e-05, '£150perwksub': 0.00010567473317129874, 'is': 0.006393321356863574, '+449071512431': 0.00010567473317129874, 'rental': 0.00047553629927084436, 'sang': 0.00010567473317129874, 'club>>': 0.00010567473317129874, 'explosive': 0.00015851209975694812, 'chapter': 5.283736658564937e-05, '1childish': 5.283736658564937e-05, 'f>>>': 0.00010567473317129874, 'skillgame1winaweek': 0.00010567473317129874, '**free': 0.00010567473317129874, 'amanda': 0.00010567473317129874, 'wait': 0.00015851209975694812, 'stop2': 0.00010567473317129874, 'upgrdcentre': 0.00010567473317129874, 'textand': 0.00010567473317129874, 'hols': 0.00015851209975694812, 'need': 0.000581211032442143, 'paying': 0.00010567473317129874, 'themob>': 0.00010567473317129874, 'expiry': 0.00010567473317129874, '02085076972': 0.00010567473317129874, 'gprs': 0.00010567473317129874, 'shall': 5.283736658564937e-05, 'bffs': 5.283736658564937e-05, 'deck': 0.00010567473317129874, 'nowuse': 0.00010567473317129874, 'knackered': 5.283736658564937e-05, 'scallies': 0.00010567473317129874, 'tarot': 0.00010567473317129874, 'use': 0.0003698615660995456, 'corrct': 5.283736658564937e-05, 'die': 5.283736658564937e-05, 'twice': 5.283736658564937e-05, 'error': 0.00010567473317129874, '600': 0.00010567473317129874, 'local': 0.00031702419951389624, 'gong': 5.283736658564937e-05, 'read': 0.00010567473317129874, 'needs': 0.00010567473317129874, '30apr': 0.00010567473317129874, 'custcare': 0.00031702419951389624, '92h': 0.00010567473317129874, \"she's\": 5.283736658564937e-05, 'lucky': 0.00042269893268519497, 'giving': 0.00010567473317129874, 'bootydelious': 0.00010567473317129874, 'guesses': 5.283736658564937e-05, 'trebles': 0.00010567473317129874, '*': 0.00010567473317129874, 'party': 5.283736658564937e-05, '2moro': 0.00010567473317129874, 'bakrid': 5.283736658564937e-05, \"that's\": 5.283736658564937e-05, 'wont': 5.283736658564937e-05, 'bishan': 5.283736658564937e-05, 'card': 0.00026418683292824685, 'app': 0.00026418683292824685, 'stop2stop': 0.00010567473317129874, 'heart': 0.00021134946634259749, 'pls': 0.000581211032442143, 'reference': 0.00021134946634259749, 'her': 0.00047553629927084436, 'landlines': 0.00015851209975694812, '10': 0.0003698615660995456, '4th': 5.283736658564937e-05, 'selling': 0.00010567473317129874, 'collect': 0.0010567473317129874, 'same': 0.00010567473317129874, 'ge-': 5.283736658564937e-05, \"george's\": 0.00010567473317129874, 'lift': 5.283736658564937e-05, 'mgs': 0.00010567473317129874, 'stop': 0.005178061925393639, 'will': 0.002113494663425975, '#': 5.283736658564937e-05, 'luxury': 0.00015851209975694812, '800': 0.0007397231321990912, 'lines': 0.00015851209975694812, 'thats': 5.283736658564937e-05, 'cell': 5.283736658564937e-05, 'anybody': 5.283736658564937e-05, 'soon': 0.00015851209975694812, 'nice': 5.283736658564937e-05, 'lighters': 5.283736658564937e-05, 'track': 5.283736658564937e-05, '3': 0.0009510725985416887, 'g': 0.00026418683292824685, 'uni': 5.283736658564937e-05, 'le': 0.00010567473317129874, 'nowi': 5.283736658564937e-05, 'cc100p/min': 0.00010567473317129874, 'july': 0.00015851209975694812, 'comei': 5.283736658564937e-05, 'm8': 0.00015851209975694812, 'callin': 5.283736658564937e-05, '09066364311': 0.00015851209975694812, 'lastest': 0.00010567473317129874, 'hockey': 0.00010567473317129874, 'eaten': 5.283736658564937e-05, \"t's\": 0.00021134946634259749, 'slept': 5.283736658564937e-05, 'especially': 5.283736658564937e-05, 'words': 5.283736658564937e-05, 'slap': 5.283736658564937e-05, 'aka': 5.283736658564937e-05, 'woman': 5.283736658564937e-05, '08701237397': 0.00010567473317129874, 'mobno': 0.00015851209975694812, 'geting': 5.283736658564937e-05, 'shinco': 0.00010567473317129874, 'competition': 0.00021134946634259749, 'hee': 5.283736658564937e-05, 'brother': 0.00010567473317129874, 'sam': 0.00021134946634259749, 'mu': 5.283736658564937e-05, 'lick': 5.283736658564937e-05, 'iscoming': 0.00015851209975694812, 'mk17': 0.00010567473317129874, \"you'll\": 5.283736658564937e-05, 'm26': 0.00021134946634259749, 'presleys': 0.00010567473317129874, 'plz': 5.283736658564937e-05, '09064018838': 0.00010567473317129874, 'gobi': 5.283736658564937e-05, 'cash': 0.0027475430624537673, 'choice': 0.00021134946634259749, '09066364589': 0.00015851209975694812, '£50-£500': 0.00010567473317129874, '84128custcare': 0.00010567473317129874, '9153': 0.00010567473317129874, 'tune': 0.00010567473317129874, 'representative': 0.000581211032442143, 'marley': 0.00010567473317129874, 'responding': 0.00010567473317129874, 'results': 0.00021134946634259749, '08715203656': 0.00010567473317129874, 'fullonsmscom': 5.283736658564937e-05, 'scotland': 0.00010567473317129874, 'bookmark': 0.00010567473317129874, 'w1t1jy': 0.00010567473317129874, 'various': 0.00010567473317129874, 'interflora': 0.00015851209975694812, '7732584351': 0.00010567473317129874, 'email': 0.00015851209975694812, 'pre-book': 0.00010567473317129874, 'cum': 0.00026418683292824685, 'also': 0.00010567473317129874, 'tessypls': 5.283736658564937e-05, 'lccltd': 0.00015851209975694812, 'install': 0.00010567473317129874, 'havent': 5.283736658564937e-05, 'celeb': 0.00010567473317129874, 'attributed': 5.283736658564937e-05, '09061209465': 0.00015851209975694812, 'contacted': 0.00021134946634259749, 'reply': 0.004596850892951495, 'gudnitetcpractice': 5.283736658564937e-05, 'nokias': 0.00021134946634259749, 'http//wwwbubbletextcom': 0.00010567473317129874, 'tone': 0.002007819930254676, 'shun': 5.283736658564937e-05, 'tuesday': 5.283736658564937e-05, 'atleast': 5.283736658564937e-05, 'you‘ll': 5.283736658564937e-05, 'dads': 5.283736658564937e-05, \"what's\": 5.283736658564937e-05, 'liao': 5.283736658564937e-05, 'bath': 5.283736658564937e-05, '3mins': 0.00021134946634259749, 'crazyin': 0.00010567473317129874, '-no': 5.283736658564937e-05, 'left': 0.00010567473317129874, 'info': 0.0003698615660995456, '3680': 0.00010567473317129874, 'w/c': 0.00010567473317129874, 'subsequent': 0.00010567473317129874, 'tnc': 0.00015851209975694812, 'wating': 5.283736658564937e-05, 'myspace': 5.283736658564937e-05, 'fell': 5.283736658564937e-05, 'sweet': 5.283736658564937e-05, '83435': 0.00010567473317129874, 'feels': 5.283736658564937e-05, 'tscs087147403231winawkage16': 0.00010567473317129874, 'sea': 5.283736658564937e-05, 'cornwall': 0.00015851209975694812, 'rp176781': 0.00010567473317129874, 'cds': 0.00026418683292824685, 'freshers': 5.283736658564937e-05, 'romantic': 0.00010567473317129874, 'b4': 0.0003698615660995456, 'pic': 0.00042269893268519497, 'sch': 5.283736658564937e-05, 'increments': 0.00015851209975694812, 'themob>yo': 0.00010567473317129874, 'wasnt': 5.283736658564937e-05, 'shagged': 0.00015851209975694812, 'sections': 5.283736658564937e-05, 'already': 5.283736658564937e-05, '08701213186': 0.00010567473317129874, '80488': 0.00021134946634259749, 'happened': 5.283736658564937e-05, 'in2': 0.00010567473317129874, 'moms': 5.283736658564937e-05, 'chat80155': 0.00010567473317129874, 'anthony': 5.283736658564937e-05, '88888': 0.00015851209975694812, 'av': 5.283736658564937e-05, 'you\\x92re': 5.283736658564937e-05, 'went': 5.283736658564937e-05, 'wicklow': 0.00015851209975694812, 'pobox75ldns7': 0.00010567473317129874, '28th': 0.00010567473317129874, '85': 0.00015851209975694812, 'ish': 5.283736658564937e-05, 'boring': 5.283736658564937e-05, 'aiyar': 5.283736658564937e-05, 'orchard': 5.283736658564937e-05, 'a21': 0.00010567473317129874, 'meet+greet': 0.00015851209975694812, 'ago': 5.283736658564937e-05, 'notifications': 0.00010567473317129874, 'declare': 5.283736658564937e-05, 'world*': 5.283736658564937e-05, 'select': 0.00010567473317129874, 'chatim': 0.00010567473317129874, 'akon-lonely>>>': 0.00010567473317129874, '69696': 0.00015851209975694812, 'much': 0.00010567473317129874, 'today-sundaysunday': 5.283736658564937e-05, 'omg': 5.283736658564937e-05, 'subscriptions': 0.00010567473317129874, 'rgent': 0.00010567473317129874, '69101': 0.00010567473317129874, 'uncountable': 5.283736658564937e-05, 'welcomes': 5.283736658564937e-05, 'wwwphb1com': 0.00010567473317129874, 'acc': 5.283736658564937e-05, 'registered': 0.00021134946634259749, 'pie': 5.283736658564937e-05, 'wwwfullonsmscom': 5.283736658564937e-05, 'ducking': 5.283736658564937e-05, 'browse': 0.00010567473317129874, 'that': 0.0012152594314699355, '4882': 0.00010567473317129874, 'university': 5.283736658564937e-05, 'forgets': 5.283736658564937e-05, 'message**thanks': 0.00010567473317129874, 'knows': 0.00010567473317129874, 'txtauctiontxt': 0.00010567473317129874, 'wwwldewcom1win150ppmx3age16subscription': 0.00010567473317129874, 'whatever': 5.283736658564937e-05, '08707500020': 0.00010567473317129874, 'yourself': 0.00010567473317129874, 'gave': 5.283736658564937e-05, 'gbp5/month': 0.00010567473317129874, '630': 5.283736658564937e-05, 'sufficient': 0.00010567473317129874, 'sexychat': 0.00010567473317129874, 'hell': 5.283736658564937e-05, 'several': 5.283736658564937e-05, 'plenty': 5.283736658564937e-05, 'prince': 5.283736658564937e-05, 'logged': 5.283736658564937e-05, '$350': 0.00010567473317129874, 'wwwldewcom1win150ppmx3age16': 0.00021134946634259749, 'between': 0.000581211032442143, 'coughing': 5.283736658564937e-05, 'visit': 0.0003698615660995456, 'thirunelvali': 5.283736658564937e-05, 'cdgt': 0.00015851209975694812, 'fun': 0.00042269893268519497, 'spook': 0.00031702419951389624, 'resent': 0.00010567473317129874, 'appendix': 5.283736658564937e-05, 'tests': 5.283736658564937e-05, 'mm': 5.283736658564937e-05, '£s': 0.00010567473317129874, 'xxx': 0.00042269893268519497, '08718723815': 0.00010567473317129874, 'download': 0.00021134946634259749, 'ben': 0.00010567473317129874, 'subpoly': 0.00021134946634259749, 'funk': 0.00015851209975694812, 'kl341': 0.00010567473317129874, 'mayb': 5.283736658564937e-05, \"prashanthettan's\": 5.283736658564937e-05, 'maths': 5.283736658564937e-05, 'trains': 5.283736658564937e-05, '26/10/04': 0.00010567473317129874, '97n7qp': 0.00010567473317129874, \"x'mas\": 5.283736658564937e-05, 'cnn': 5.283736658564937e-05, '08718726978': 0.00010567473317129874, 'usually': 5.283736658564937e-05, 'previous': 0.00010567473317129874, 'frauds': 5.283736658564937e-05, 'lipo': 5.283736658564937e-05, '146tf150p': 0.00010567473317129874, 'released': 0.00010567473317129874, 'maximum': 0.00010567473317129874, 'reminder': 0.00010567473317129874, 'textcomp': 0.00010567473317129874, 'ho': 5.283736658564937e-05, 'cc': 0.00026418683292824685, 'usher': 0.00010567473317129874, 'oncall': 0.00010567473317129874, '09056242159': 0.00015851209975694812, '6ish': 5.283736658564937e-05, 'fifa': 0.00010567473317129874, 'galsu': 5.283736658564937e-05, 'saw': 5.283736658564937e-05, '373': 0.00015851209975694812, 'petrol-rs': 5.283736658564937e-05, '08714712388': 0.00010567473317129874, 'grand': 5.283736658564937e-05, 'i\\x92m': 5.283736658564937e-05, 'lucy': 0.00015851209975694812, 'contact': 0.0024833562295255205, 'loose': 5.283736658564937e-05, 'nìte': 5.283736658564937e-05, '18/11/04': 0.00010567473317129874, 'logo&pic': 0.00010567473317129874, 'weekends': 0.00026418683292824685, 'peace': 5.283736658564937e-05, 'female': 0.00010567473317129874, 'trackmarque': 0.00010567473317129874, '08000407165': 0.00015851209975694812, 'havnt': 5.283736658564937e-05, 'lie': 5.283736658564937e-05, 'afford': 5.283736658564937e-05, 'arts': 5.283736658564937e-05, \"ken's\": 0.00010567473317129874, '08452810071': 0.00010567473317129874, 'slo4msgs': 0.00010567473317129874, 'yupz': 5.283736658564937e-05, 'bbdeluxe': 0.00010567473317129874, 'somebody': 0.00015851209975694812, '3100': 0.00015851209975694812, 'http//wwwe-tlpcouk/reward': 0.00010567473317129874, 'upto': 0.00010567473317129874, 'flights': 0.0003698615660995456, 'rpl': 0.00010567473317129874, 'hate': 5.283736658564937e-05, 'b4190604': 0.00010567473317129874, 'bslvyl': 5.283736658564937e-05, 'screen': 5.283736658564937e-05, 'chat': 0.001954982563669027, 'moral': 5.283736658564937e-05, 'don‘t': 5.283736658564937e-05, 'post': 0.00021134946634259749, 'laptop': 5.283736658564937e-05, 'paid': 5.283736658564937e-05, 'leave': 0.00015851209975694812, 'fat': 5.283736658564937e-05, 'pray': 5.283736658564937e-05, 'cumin': 0.00010567473317129874, 'beer-rs': 5.283736658564937e-05, 'finewhen': 5.283736658564937e-05, 'gotto': 0.00010567473317129874, 'dan': 5.283736658564937e-05, 'den': 5.283736658564937e-05, '87239': 0.00015851209975694812, '09065069120': 0.00010567473317129874, 'since': 0.00015851209975694812, 'ringtoneking': 0.00010567473317129874, 'chillaxin': 5.283736658564937e-05, '731': 0.00010567473317129874, 'eire': 0.00015851209975694812, 'into': 0.0003698615660995456, 'ofcourse': 5.283736658564937e-05, 'http//wwwe-tlpcouk/expressoffer': 0.00015851209975694812, '||': 5.283736658564937e-05, 'dumb': 5.283736658564937e-05, '2nite': 0.00021134946634259749, 'an': 0.001003909965127338, 'swing': 5.283736658564937e-05, 'benefits': 0.00010567473317129874, 'favour': 5.283736658564937e-05, 'txt>': 0.00010567473317129874, '0870k': 0.00010567473317129874, 'max£7': 0.00021134946634259749, 'ignore': 0.00010567473317129874, 'understanding': 5.283736658564937e-05, 'indicate': 0.00010567473317129874, 'yetunde': 5.283736658564937e-05, '150ppm': 0.0017964704639120786, 'many': 0.00021134946634259749, 'package': 0.00010567473317129874, 'responsible': 0.00010567473317129874, 'replying': 0.00031702419951389624, 'chest': 5.283736658564937e-05, 'subscriber': 0.00021134946634259749, 'finally': 0.00010567473317129874, 'hg/suite342/2lands': 0.0003698615660995456, 'pass': 0.00021134946634259749, 'msg+ticket@kioskvalid': 0.00010567473317129874, '6hrs': 5.283736658564937e-05, '5k': 0.00015851209975694812, 'amount': 5.283736658564937e-05, 'thanku': 5.283736658564937e-05, 'red': 0.00010567473317129874, 'pobox202': 0.00010567473317129874, '40gb': 0.00031702419951389624, 'cast': 0.00010567473317129874, 'honey': 5.283736658564937e-05, 'sextextukcom': 0.00010567473317129874, 'its': 0.0003698615660995456, '18yrs': 0.00015851209975694812, 'dad': 5.283736658564937e-05, '300p': 0.00015851209975694812, 'renewing': 0.00010567473317129874, 'swell': 5.283736658564937e-05, 'ass': 5.283736658564937e-05, 'college': 5.283736658564937e-05, 'why': 0.000581211032442143, '1000s': 0.00015851209975694812, '3lions': 0.00010567473317129874, \"you're\": 0.00010567473317129874, \"alex's\": 5.283736658564937e-05, '0870141701216+': 0.00010567473317129874, 'pale': 5.283736658564937e-05, 'santha': 5.283736658564937e-05, 'hotel': 0.00015851209975694812, '449050000301': 0.00010567473317129874, 'rodger': 0.00010567473317129874, '402': 0.00010567473317129874, '£71': 0.00010567473317129874, 'fastest': 0.00015851209975694812, '89555': 0.00010567473317129874, 'free': 0.009140864419317342, '6th': 5.283736658564937e-05, 'help08714742804': 0.00010567473317129874, 'looked': 5.283736658564937e-05, 'stupid': 5.283736658564937e-05, 'fire': 5.283736658564937e-05, 'second': 5.283736658564937e-05, 'germany': 0.00015851209975694812, 'noun': 5.283736658564937e-05, 'showing': 5.283736658564937e-05, 'thk': 5.283736658564937e-05, 'hang': 5.283736658564937e-05, 'aspects': 5.283736658564937e-05, 'video': 0.001268096798055585, '08719181513': 0.00010567473317129874, 'exp': 0.00010567473317129874, 'person': 0.00010567473317129874, 'accounts': 5.283736658564937e-05, 'announcement': 0.00031702419951389624, 'features': 0.00010567473317129874, 'sorts': 5.283736658564937e-05, 'hours': 0.00021134946634259749, '3750': 0.00010567473317129874, 'cops': 0.00010567473317129874, \"'need'\": 5.283736658564937e-05, 'before': 0.00031702419951389624, 'that\\x92s': 5.283736658564937e-05, 'invnted': 5.283736658564937e-05, 'best': 0.00047553629927084436, '153': 0.00015851209975694812, '83600': 0.00026418683292824685, 'shijas': 5.283736658564937e-05, 'weird': 5.283736658564937e-05, 'members': 0.00021134946634259749, 'goodfriend': 5.283736658564937e-05, 'past': 5.283736658564937e-05, 'world-': 5.283736658564937e-05, '1146': 0.00010567473317129874, 'bugis': 5.283736658564937e-05, '08702840625comuk': 0.00021134946634259749, 'punto': 5.283736658564937e-05, '09050000878': 0.00010567473317129874, 'oic': 5.283736658564937e-05, 'spam': 0.00010567473317129874, 'someone': 0.000581211032442143, 'airport': 0.00010567473317129874, '08718738002': 0.00010567473317129874, '08719899230': 0.00010567473317129874, 'ansr': 0.00021134946634259749, 'wordcollect': 0.00010567473317129874, 'radio': 0.00010567473317129874, 'business': 5.283736658564937e-05, 's3xy': 0.00010567473317129874, 'd=': 0.00015851209975694812, 'definitely': 0.00010567473317129874, 'answering': 5.283736658564937e-05, 'give': 0.00042269893268519497, '07973788240': 0.00010567473317129874, 'xxxxxx': 0.00010567473317129874, '*waitu': 5.283736658564937e-05, 'boat': 5.283736658564937e-05, 'member': 0.00026418683292824685, '£79': 0.00010567473317129874, '18+only': 0.00015851209975694812, '£1450': 0.00021134946634259749, 'philosophy': 5.283736658564937e-05, 'lose': 0.00010567473317129874, 'no-910': 0.00010567473317129874, 'replys150': 0.00010567473317129874, 'shes': 5.283736658564937e-05, 'rent': 5.283736658564937e-05, 'http//wap': 0.00010567473317129874, 'c': 0.0008453978653703899, '4mths': 0.00015851209975694812, 'burden': 5.283736658564937e-05, 'did': 0.00015851209975694812, 'upgrading': 0.00010567473317129874, 'reformat': 5.283736658564937e-05, 'driving': 5.283736658564937e-05, 'help08700469649': 0.00010567473317129874, '1/2': 0.00015851209975694812, 'most': 0.00015851209975694812, 'repair': 5.283736658564937e-05, 'polyphonic': 0.00031702419951389624, '177': 0.00015851209975694812, 'tour': 0.00021134946634259749, 'stdtxtrate': 0.00010567473317129874, 'miss': 0.00031702419951389624, 'tickets': 0.00021134946634259749, \"week's\": 0.00021134946634259749, 'helloooo': 5.283736658564937e-05, '$': 5.283736658564937e-05, 'toclaim': 0.00026418683292824685, 'ms': 5.283736658564937e-05, 'being': 0.00031702419951389624, 'few': 5.283736658564937e-05, 'accordinglyor': 5.283736658564937e-05, 'worse': 5.283736658564937e-05, 'bmw': 5.283736658564937e-05, 'cant': 0.00021134946634259749, 'slowly': 5.283736658564937e-05, 'enough': 0.00015851209975694812, '4217': 0.00010567473317129874, 'tiring': 5.283736658564937e-05, 'doinghow': 5.283736658564937e-05, 'blu': 0.00015851209975694812, 'per': 0.002007819930254676, 'popcornjust': 0.00010567473317129874, '7th': 5.283736658564937e-05, 'pissed': 5.283736658564937e-05, 'drop': 0.00015851209975694812, \"riley's\": 5.283736658564937e-05, 'vry': 5.283736658564937e-05, 'matter': 5.283736658564937e-05, 'walk': 0.00010567473317129874, 'hack': 0.00010567473317129874, 'tgxxrz': 0.00010567473317129874, '6': 0.00015851209975694812, 'polo': 0.00015851209975694812, '09064012160': 0.00015851209975694812, 'maturity': 5.283736658564937e-05, '08719899217': 0.00010567473317129874, 'str*': 0.00010567473317129874, 'passionate': 5.283736658564937e-05, '09061743806': 0.00015851209975694812, 'future': 0.00026418683292824685, 'films': 0.00015851209975694812, 'gb': 0.00010567473317129874, '310303': 0.00010567473317129874, 'bruce': 5.283736658564937e-05, 'availa': 0.00010567473317129874, 'tkts': 0.00021134946634259749, 'annoncement': 0.00010567473317129874, '2/2': 0.00010567473317129874, 'system': 5.283736658564937e-05, 'messagesim': 0.00010567473317129874, 'hii': 5.283736658564937e-05, '08712402779': 0.00010567473317129874, 'family': 5.283736658564937e-05, 'y': 5.283736658564937e-05, 'gent': 0.00015851209975694812, 'premier': 0.00010567473317129874, 'text': 0.0054950861249075346, 'rose': 5.283736658564937e-05, 'chloe': 0.00010567473317129874, 'yes-434': 0.00010567473317129874, 'maximize': 0.00031702419951389624, 'picking': 5.283736658564937e-05, 'camera': 0.001426608897812533, 'bit': 5.283736658564937e-05, '*have': 5.283736658564937e-05, 'anna': 5.283736658564937e-05, 'phones': 0.00047553629927084436, 'ref9307622': 0.00010567473317129874, 're': 0.0005283736658564937, 'outfit': 5.283736658564937e-05, 'norm': 0.00010567473317129874, 'kid': 5.283736658564937e-05, 'age23': 0.00015851209975694812, 'frnd': 0.00026418683292824685, 'infernal': 5.283736658564937e-05, 'jd': 5.283736658564937e-05, 'neva': 5.283736658564937e-05, 'wed': 0.00010567473317129874, '09701213186': 0.00010567473317129874, 'massages': 5.283736658564937e-05, 'quite': 5.283736658564937e-05, 'harry': 0.00015851209975694812, '&cs': 0.00010567473317129874, '09058095201': 0.00010567473317129874, 'chikku': 5.283736658564937e-05, \"no's\": 5.283736658564937e-05, 'tbs/persolvo': 0.00010567473317129874, 'poly/true/pix/ringtones/games': 0.00010567473317129874, '09064012103': 0.00010567473317129874, 'touch': 0.00010567473317129874, '5free': 0.00015851209975694812, '6031': 0.00015851209975694812, 'asus': 5.283736658564937e-05, 'feathery': 5.283736658564937e-05, 'syria': 5.283736658564937e-05, 'storming': 5.283736658564937e-05, 'ltd': 0.0007397231321990912, 'callback': 0.00015851209975694812, '3650': 0.00015851209975694812, 'bids': 0.00010567473317129874, 'g696ga': 0.00010567473317129874, 'help08718728876': 0.00015851209975694812, 'sticky': 0.00010567473317129874, 'clever': 5.283736658564937e-05, '4': 0.003857127760752404, 'days': 0.0006340483990277925, 'city': 0.00015851209975694812, '3cover': 5.283736658564937e-05, 'gr8prizes': 0.00010567473317129874, 'gold': 0.00010567473317129874, 'settled': 5.283736658564937e-05, 'reading': 5.283736658564937e-05, 'necessary': 5.283736658564937e-05, 'light': 5.283736658564937e-05, 'recpt': 0.00010567473317129874, 'wishes': 5.283736658564937e-05, 'sptyrone': 0.00021134946634259749, 'job': 5.283736658564937e-05, 'discuss': 5.283736658564937e-05, '2wt': 0.00015851209975694812, 'vodafone': 0.00021134946634259749, 'yes-910': 0.00010567473317129874, 'feel': 5.283736658564937e-05, 'messages': 0.000581211032442143, 'walking': 5.283736658564937e-05, 'tookplace': 5.283736658564937e-05, 'or': 0.007978442354433055, 'terrible': 5.283736658564937e-05, 'r*reveal': 0.00031702419951389624, 'th': 5.283736658564937e-05, 'iz': 5.283736658564937e-05, '88877>free': 0.00010567473317129874, 'mind': 0.00015851209975694812, 'st': 0.00010567473317129874, '07808': 0.00010567473317129874, 'strip': 0.00010567473317129874, 'no1': 0.00026418683292824685, 'world': 0.00010567473317129874, 'jamsterget': 0.00010567473317129874, 'carente': 5.283736658564937e-05, '07821230901': 0.00010567473317129874, 've': 0.00015851209975694812, 'claims': 0.00015851209975694812, '69888': 0.00015851209975694812, 'muz': 5.283736658564937e-05, 'basically': 5.283736658564937e-05, 'how': 0.00047553629927084436, 'wwwtextcompcom': 0.00015851209975694812, 'ask': 5.283736658564937e-05, '02': 0.00010567473317129874, '02/09/03': 0.00015851209975694812, '£50': 0.00010567473317129874, 'kg': 5.283736658564937e-05, 'full': 5.283736658564937e-05, 'research': 5.283736658564937e-05, 'ha': 5.283736658564937e-05, 'recieve': 0.00010567473317129874, 'cool-mob': 0.00010567473317129874, \"it's\": 0.00026418683292824685, 'wwwtxttowincouk': 0.00015851209975694812, 'servs': 0.00010567473317129874, 'ymca': 0.00010567473317129874, 'wedding': 0.00010567473317129874, 'nan': 5.283736658564937e-05, 'guai': 5.283736658564937e-05, 'login=': 0.00026418683292824685, 'wwwcashbincouk': 0.00010567473317129874, 'celeb4': 0.00010567473317129874, 'shortcode': 0.00010567473317129874, 'tick': 5.283736658564937e-05, '3gbp': 0.00026418683292824685, 'town': 0.00021134946634259749, 'cw25wx': 0.00021134946634259749, 'their': 0.00010567473317129874, 'generally': 5.283736658564937e-05, 'time': 0.0007925604987847406, 'recharge': 5.283736658564937e-05, 'kusruthi': 5.283736658564937e-05, '0871-4719-523': 0.00010567473317129874, 'ip4': 0.00021134946634259749, '85069': 0.00010567473317129874, 'yo-here': 0.00010567473317129874, '0721072': 0.00010567473317129874, 'finished': 5.283736658564937e-05, 'experiencehttp//wwwvouch4mecom/etlp/diningasp': 0.00010567473317129874, 'ithis': 0.00010567473317129874, '1/3': 0.00010567473317129874, 'across': 5.283736658564937e-05, 'accenture': 5.283736658564937e-05, 'said': 5.283736658564937e-05, '36504': 0.00021134946634259749, 'jeri': 0.00010567473317129874, 'polyh': 0.00010567473317129874, 'establish': 5.283736658564937e-05, '09058094565': 0.00010567473317129874, '08718730666': 0.00015851209975694812, 'seriously': 5.283736658564937e-05, 'raise': 5.283736658564937e-05, 'mokka': 5.283736658564937e-05, 'neighbors': 5.283736658564937e-05, 'php': 0.00015851209975694812, 'warranty': 0.00015851209975694812, 'are': 0.0037514530275811054, 'subscribers': 0.00010567473317129874, 'dizzee': 0.00010567473317129874, 'w1j': 0.00015851209975694812, 'hunlove': 5.283736658564937e-05, '£10000': 0.00031702419951389624, 'fish': 5.283736658564937e-05, 'hello': 0.00021134946634259749, \"haven't\": 0.00010567473317129874, 'of': 0.004438338793194547, 'attend': 5.283736658564937e-05, 'mobilesvary': 0.00015851209975694812, 'surprise': 0.00026418683292824685, 'recession': 5.283736658564937e-05, '*****up': 0.00015851209975694812, 'darren': 5.283736658564937e-05, 'check': 0.00021134946634259749, 'connect': 0.00015851209975694812, 'ishtamayoohappy': 5.283736658564937e-05, 'yellow': 5.283736658564937e-05, 'smells': 5.283736658564937e-05, 'hiya': 5.283736658564937e-05, 'happy': 0.00010567473317129874, 'phony': 0.00010567473317129874, 'txtin': 0.00026418683292824685, 'jackpot': 0.00015851209975694812, \"28thfebt&c's\": 0.00010567473317129874, 'cos': 5.283736658564937e-05, 'till': 0.00021134946634259749, 'oranges': 0.00010567473317129874, 'simply': 0.00010567473317129874, 'seen': 5.283736658564937e-05, 'subs': 0.00015851209975694812, '200': 0.00021134946634259749, 'yet': 0.00015851209975694812, 'truth': 5.283736658564937e-05, '8wp': 0.00015851209975694812, 'valued': 0.0005283736658564937, '08715203028': 0.00010567473317129874, 'superb': 0.00010567473317129874, 'continued': 0.00010567473317129874, 'heading': 5.283736658564937e-05, 'five': 0.00021134946634259749, '50p': 0.00021134946634259749, '*sighs*': 5.283736658564937e-05, 'fixedline': 0.00015851209975694812, '07742676969': 0.00015851209975694812, 'value': 5.283736658564937e-05, 'hp20': 0.00010567473317129874, 'box39822': 0.00015851209975694812, 'through': 5.283736658564937e-05, 'tear': 5.283736658564937e-05, 'randy': 0.00010567473317129874, '£150ea': 0.00010567473317129874, 'decided': 5.283736658564937e-05, '42810': 0.00010567473317129874, 'fringe': 5.283736658564937e-05, 'sim': 0.00031702419951389624, '260305': 0.00010567473317129874, 'laughed': 5.283736658564937e-05, 'bother': 5.283736658564937e-05, '08712402050': 0.00015851209975694812, 'until': 0.00031702419951389624, 'verify': 0.00010567473317129874, 'ticket': 5.283736658564937e-05, 'callfreefone': 0.00010567473317129874, 'e': 0.00021134946634259749, 'menu': 0.00010567473317129874, 'players': 5.283736658564937e-05, 'cnl': 0.00010567473317129874, 'update': 0.0009510725985416887, 'semester': 5.283736658564937e-05, 'funny': 5.283736658564937e-05, 'unless': 5.283736658564937e-05, 'omw': 5.283736658564937e-05, '£3350': 0.00015851209975694812, 'eng': 0.00015851209975694812, 'sad': 5.283736658564937e-05, '4u': 0.00010567473317129874, 'bangbabes': 0.00010567473317129874, 'a£150': 0.00010567473317129874, 'mandan': 5.283736658564937e-05, 'b': 0.0006340483990277925, 'warm': 0.00015851209975694812, '08001950382': 0.00010567473317129874, 'flower': 0.00015851209975694812, 'like': 0.000581211032442143, 'marketing': 0.00010567473317129874, 'men': 5.283736658564937e-05, 'monthly': 5.283736658564937e-05, 'truly': 0.00021134946634259749, 'feb': 0.00010567473317129874, 'life': 0.00021134946634259749, 'center': 0.00015851209975694812, 'doubles': 0.00010567473317129874, '£500000': 0.00010567473317129874, 'ans': 0.00026418683292824685, 'charged@150p/msg2': 0.00010567473317129874, 'stay': 0.00015851209975694812, 'rooms': 0.00010567473317129874, \"they're\": 0.00010567473317129874, 'lionm': 0.00015851209975694812, 'dangerous': 5.283736658564937e-05, 'traffic': 5.283736658564937e-05, '008704050406': 0.00015851209975694812, 'yours': 0.0005283736658564937, 'hardly': 5.283736658564937e-05, 'message': 0.0012152594314699355, 'lost': 0.00015851209975694812, 'masters': 5.283736658564937e-05, 'wonder': 5.283736658564937e-05, 'in': 0.0034872661946528587, 'escape': 5.283736658564937e-05, '1yf': 0.00010567473317129874, 'wwwareyouuniquecouk': 0.00010567473317129874, 'copy': 5.283736658564937e-05, 'january': 0.00010567473317129874, 'xchat': 0.00026418683292824685, '08712101358': 0.00010567473317129874, 'pence': 0.00015851209975694812, 'r836': 0.00010567473317129874, 't-shirt': 5.283736658564937e-05, 'pm': 0.00015851209975694812, '2rcv': 0.00015851209975694812, 'mail': 5.283736658564937e-05, 'loverboy': 5.283736658564937e-05, 'clearer': 5.283736658564937e-05, 'bcmsfwc1n3xx': 0.00010567473317129874, 'everyones': 5.283736658564937e-05, 'pete': 0.00010567473317129874, '40411': 0.00010567473317129874, 'hl': 0.00031702419951389624, '32000': 0.00010567473317129874, 'chip': 5.283736658564937e-05, 'pussy': 5.283736658564937e-05, '8077': 0.00010567473317129874, 'custom': 5.283736658564937e-05, '84128': 0.00015851209975694812, 'wwwtextpodnet': 0.00010567473317129874, 'candont': 5.283736658564937e-05, '74355': 0.00010567473317129874, '250': 0.00026418683292824685, 'giv': 0.00010567473317129874, '83338': 0.00010567473317129874, 'wwwregalportfoliocouk': 0.00010567473317129874, 'itself': 5.283736658564937e-05, 'merry': 5.283736658564937e-05, 'thinking': 5.283736658564937e-05, 'pushbutton': 0.00010567473317129874, 'orh': 5.283736658564937e-05, 'askin': 5.283736658564937e-05, 'sign': 0.00010567473317129874, 'even': 0.00031702419951389624, '10am-9pm': 0.00015851209975694812, 'detroit': 0.00010567473317129874, \"doesn't\": 5.283736658564937e-05, 'painit': 5.283736658564937e-05, 'pilates': 5.283736658564937e-05, \"'help'\": 0.00026418683292824685, 'erotic': 0.00010567473317129874, 'brains': 5.283736658564937e-05, 'ones': 0.00015851209975694812, 'randomly': 0.00010567473317129874, 'proof': 5.283736658564937e-05, 'disturb': 5.283736658564937e-05, 'wnt': 5.283736658564937e-05, 'over': 0.0006868857656134418, '6days': 0.00010567473317129874, 'completely': 0.00010567473317129874, 'amt': 5.283736658564937e-05, 'ltd£150/mtmsgrcvd18+': 0.00010567473317129874, 'police': 0.00010567473317129874, 'likes': 5.283736658564937e-05, '08702840625': 0.00010567473317129874, 'netno': 5.283736658564937e-05, 'tonights': 0.00010567473317129874, '84122': 0.00010567473317129874, 'latests': 0.00010567473317129874, 'receiving': 0.00015851209975694812, 'ending': 0.00042269893268519497, 'gravel': 0.00010567473317129874, '5th': 5.283736658564937e-05, 'netcollex': 0.00026418683292824685, 'guess': 0.0003698615660995456, 'gigolo': 0.00010567473317129874, 'etc': 0.00026418683292824685, '08712466669': 0.00010567473317129874, 'knw': 5.283736658564937e-05, 'smsservices': 0.00010567473317129874, 'previously': 0.00021134946634259749, '£1/minmobsmorelkpobox177hp51fl': 0.00010567473317129874, 'common': 5.283736658564937e-05, 'created': 0.00010567473317129874, 'orange': 0.0010567473317129874, 'cal': 5.283736658564937e-05, '+std': 0.00015851209975694812, 'it+both': 5.283736658564937e-05, 'mobile': 0.005336574025150587, 'hard': 0.00021134946634259749, 'winner': 0.0008453978653703899, '“': 0.00010567473317129874, 'pdate_now': 0.00010567473317129874, 'daddy': 5.283736658564937e-05, '150p/meg': 0.00010567473317129874, 'transferred': 0.00010567473317129874, 'anything': 5.283736658564937e-05, 'bob': 0.00010567473317129874, 'wonders': 5.283736658564937e-05, 'breaker': 0.00010567473317129874, 'place': 0.00031702419951389624, 'week-stop': 0.00015851209975694812, 'jersey': 0.00010567473317129874, 'sounds': 0.00010567473317129874, 'txt': 0.006287646623692275, 'til': 5.283736658564937e-05, 'account': 0.0010567473317129874, 'english': 5.283736658564937e-05, 'sun0819': 0.00010567473317129874, 'filthy': 0.00015851209975694812, '£300': 0.00031702419951389624, 's': 0.0006340483990277925, 'b/tooth': 0.00010567473317129874, 'brought': 0.00015851209975694812, \"he'll\": 5.283736658564937e-05, 'a': 0.01685511994082215, 'inform': 5.283736658564937e-05, 'exciting': 0.00026418683292824685, 'final': 0.0007925604987847406, 'guarantee': 0.00010567473317129874, 'bloombergcom': 0.00015851209975694812, 'not': 0.0011095846982986368, '08002986906': 0.00026418683292824685, 'mssuman': 5.283736658564937e-05, 'msg@£150rcvd': 0.00010567473317129874, 'country': 0.00021134946634259749, 'heard': 0.00021134946634259749, 'lkpobox177hp51fl': 0.00010567473317129874, 'squatting': 5.283736658564937e-05, '528': 0.00010567473317129874, 'safety': 5.283736658564937e-05, 'send': 0.0029060551622107156, 'reach': 0.00026418683292824685, '83222': 0.00021134946634259749, 'sweetie': 5.283736658564937e-05, 'growing': 0.00015851209975694812, '09050090044': 0.00026418683292824685, '81303': 0.00015851209975694812, \"won't\": 0.00021134946634259749, 'darlin': 5.283736658564937e-05, 'tones2u': 0.00015851209975694812, 'yay': 5.283736658564937e-05, '-sub': 0.00015851209975694812, 'oops': 5.283736658564937e-05, 'burns': 0.00010567473317129874, \"can't\": 0.00010567473317129874, 'took': 5.283736658564937e-05, 'horniest': 0.00010567473317129874, 'skills': 0.00010567473317129874, 'pobox12n146tf15': 0.00010567473317129874, 'reason': 5.283736658564937e-05, 'credit': 0.00047553629927084436, 'lover': 0.00015851209975694812, '5wb': 0.00031702419951389624, '10th': 0.00010567473317129874, 'extra': 0.00042269893268519497, '88066': 0.00021134946634259749, 'luck': 0.0003698615660995456, 'each': 0.00042269893268519497, 'knowing': 5.283736658564937e-05, 'cherthalain': 5.283736658564937e-05, 'prepayment': 0.00010567473317129874, 'evening': 0.00010567473317129874, 'accommodation': 0.00010567473317129874, '09066612661': 0.00015851209975694812, 'girlfrnd': 5.283736658564937e-05, 'comedycant': 5.283736658564937e-05, 'urn': 5.283736658564937e-05, 'opener': 5.283736658564937e-05, 'ahead': 5.283736658564937e-05, 'mom': 5.283736658564937e-05, '150p/min': 0.00026418683292824685, 'bid': 0.00042269893268519497, 'ibhltd': 0.00021134946634259749, 'jason': 5.283736658564937e-05, 'ouch': 5.283736658564937e-05, 'widelivecom/index': 0.00015851209975694812, 'address': 0.00026418683292824685, 'wake': 5.283736658564937e-05, 'exam': 5.283736658564937e-05, 'thanks': 0.0006340483990277925, '44': 0.00010567473317129874, 'nitros': 5.283736658564937e-05, 'cr9': 0.00031702419951389624, 'sensible': 5.283736658564937e-05, 'comp': 0.000581211032442143, 'stops': 5.283736658564937e-05, 'lnly': 0.00010567473317129874, 'if/when/how': 5.283736658564937e-05, 'nusstu': 5.283736658564937e-05, 'gt': 5.283736658564937e-05, '89693': 0.00015851209975694812, '50': 0.00021134946634259749, '2go': 5.283736658564937e-05, 'doubletxt': 0.00010567473317129874, 'kate': 5.283736658564937e-05, '80082': 0.00021134946634259749, 'k52': 0.00021134946634259749, 'mobileupd8': 0.000581211032442143, '300603t&csbcm4235wc1n3xxcallcost150ppmmobilesvary': 0.00010567473317129874, 'pan': 5.283736658564937e-05, 'datingi': 0.00010567473317129874, '0871277810710p/min': 0.00010567473317129874, 'mt': 5.283736658564937e-05, 'aids': 5.283736658564937e-05, 'quiz': 0.0006868857656134418, 'team': 0.00010567473317129874, 'guy': 5.283736658564937e-05, 'pieces': 5.283736658564937e-05, 'notice': 0.00015851209975694812, 'day2find': 0.00010567473317129874, 'bout': 5.283736658564937e-05, 'box403': 0.00010567473317129874, 'ringtones': 0.00031702419951389624, 'biggest': 0.00021134946634259749, 'added': 0.00015851209975694812, 'kath': 0.00010567473317129874, 'filthyguys': 0.00010567473317129874, 'says': 5.283736658564937e-05, '8027': 0.00010567473317129874, '150': 0.00042269893268519497, 'switch': 5.283736658564937e-05, 'symbol': 0.00015851209975694812, \"doesn\\\\'t\": 5.283736658564937e-05, '08700621170150p': 0.00015851209975694812, 'jeans': 5.283736658564937e-05, 'free2day': 0.00010567473317129874, '07808726822': 0.00010567473317129874, 'files': 5.283736658564937e-05, 'info@txt82228couk': 0.00010567473317129874, 'jackson': 5.283736658564937e-05, 'totally': 5.283736658564937e-05, 'perhaps': 5.283736658564937e-05, 'hand': 5.283736658564937e-05, 'lily': 0.00015851209975694812, '09066368470': 0.00010567473317129874, 'owl': 5.283736658564937e-05, 'pix': 0.00015851209975694812, 'couple': 0.00010567473317129874, 'ur': 0.00586494769100708, 'yes': 0.0007397231321990912, 'those': 5.283736658564937e-05, 'tons': 0.00010567473317129874, 'anyways': 5.283736658564937e-05, 'office': 0.00010567473317129874, 'ugh': 5.283736658564937e-05, '09058094454': 0.00010567473317129874, 'discreet': 0.00015851209975694812, '4742': 0.00026418683292824685, 'hide': 5.283736658564937e-05, 'me': 0.001426608897812533, 'home': 0.00010567473317129874, 'weekend': 0.00031702419951389624, 'i‘ll': 5.283736658564937e-05, 'themob': 0.00015851209975694812, 'yep': 5.283736658564937e-05, 'weed': 5.283736658564937e-05, 'hoping': 5.283736658564937e-05, 'voucher': 0.0008453978653703899, '/': 0.00010567473317129874, 'occurs': 5.283736658564937e-05, '69876': 0.00010567473317129874, 'callcoz': 5.283736658564937e-05, 'doesnt': 5.283736658564937e-05, 'sk38xh': 0.00026418683292824685, 'rcvd': 0.00042269893268519497, '[colour=red]text[/colour]txtstar': 0.00010567473317129874, 'kids': 5.283736658564937e-05, '087016248': 0.00010567473317129874, '2p': 0.00015851209975694812, 'chords': 5.283736658564937e-05, '2mrw': 5.283736658564937e-05, 'lemme': 5.283736658564937e-05, 'cheaper': 0.00015851209975694812, '01223585236': 0.00010567473317129874, 'usc': 5.283736658564937e-05, 'wonderful': 5.283736658564937e-05, 'homeleft': 5.283736658564937e-05, '0871-872-9758': 0.00010567473317129874, 'take': 0.0006340483990277925, 'chill': 5.283736658564937e-05, '0089my': 0.00010567473317129874, 'door': 0.00010567473317129874, 'proze': 0.00010567473317129874, 'box61m60': 0.00010567473317129874, 'king': 0.00021134946634259749, 'teaching': 5.283736658564937e-05, 'de-': 5.283736658564937e-05, 'ba': 5.283736658564937e-05, 'free*': 0.00010567473317129874, 'hmv': 0.000581211032442143, 'bhaskar': 5.283736658564937e-05, 'lmao': 5.283736658564937e-05, '09050000301': 0.00010567473317129874, 'paul': 5.283736658564937e-05, 'horny': 0.00042269893268519497, 'macedonia': 0.00010567473317129874, 'mac': 5.283736658564937e-05, 'truekdo': 5.283736658564937e-05, 'log': 0.0003698615660995456, 'legal': 5.283736658564937e-05, '08712405020': 0.00021134946634259749, '0207': 0.00015851209975694812, '3pound': 0.00010567473317129874, 'sorry-i': 5.283736658564937e-05, 'wetherspoons': 5.283736658564937e-05, 'dinner': 5.283736658564937e-05, 'means': 5.283736658564937e-05, 'efreefone': 0.00010567473317129874, 'wanting': 0.00010567473317129874, 'thinkthis': 5.283736658564937e-05, '41685': 0.00015851209975694812, 'canada': 5.283736658564937e-05, 'aiya': 5.283736658564937e-05, 'box95qu': 0.00021134946634259749, '10k': 0.00021134946634259749, 'accident': 0.00010567473317129874, 'web2mobile': 0.00010567473317129874, 'aft': 5.283736658564937e-05, 'carefully': 5.283736658564937e-05, 'poop': 5.283736658564937e-05, 'ringsreturn': 0.00010567473317129874, 'chatlines': 0.00010567473317129874, 'aight': 5.283736658564937e-05, 'potter': 0.00015851209975694812, 'easy': 0.000581211032442143, '*covers': 5.283736658564937e-05, 'permissions': 5.283736658564937e-05, 'pickle': 5.283736658564937e-05, 'laugh': 0.00010567473317129874, 'fantasies': 0.00026418683292824685, 'yes-440': 0.00010567473317129874, '=d': 5.283736658564937e-05, '31/10/04': 0.00015851209975694812, 'onion-rs': 5.283736658564937e-05, 'instant': 0.00010567473317129874, 'o2couk/games': 0.00010567473317129874, 'god': 0.00010567473317129874, 'stoptxtstop£150/week': 0.00010567473317129874, '4txt/ú120': 0.00010567473317129874, 'vco': 0.00010567473317129874, 'hear': 0.00021134946634259749, 'csh11': 0.00010567473317129874, '08715203677': 0.00010567473317129874, 'wild': 0.00010567473317129874, 'drive': 5.283736658564937e-05, 'sparkling': 0.00010567473317129874, 'stories': 0.00010567473317129874, 'vip': 0.00026418683292824685, 'max6/month': 0.00010567473317129874, 'fone': 0.00026418683292824685, 'season': 5.283736658564937e-05, 'wife': 0.00010567473317129874, '4t&ctxt': 0.00010567473317129874, 'pound': 0.00021134946634259749, 'bt-national': 0.00015851209975694812, 'hitteranyway': 5.283736658564937e-05, 'invaders': 0.00010567473317129874, 'wwwapplausestorecom': 0.00010567473317129874, 'wwwtxt-2-shopcom': 0.00010567473317129874, 'sound': 0.00010567473317129874, 'warner': 0.00010567473317129874, 'things': 0.00015851209975694812, 'now': 0.008084117087604354, '08000930705': 0.0007925604987847406, 'he': 5.283736658564937e-05, 'shopping': 0.00031702419951389624, 'puzzeles': 5.283736658564937e-05, 'girls': 0.00031702419951389624, '21870000>hi': 0.00015851209975694812, 'subscribed': 0.00021134946634259749, 'no81151': 0.00010567473317129874, 'renting': 5.283736658564937e-05, 'yes-762': 0.00010567473317129874, 'kick': 0.00015851209975694812, 'dropped': 5.283736658564937e-05, 'half': 0.0005283736658564937, 'character': 5.283736658564937e-05, 'abta': 0.00015851209975694812, '1winaweek': 0.00015851209975694812, '08718727870': 0.00015851209975694812, '150p/msgrcvd': 0.00010567473317129874, 'theatre': 5.283736658564937e-05, '£1million': 0.00010567473317129874, '150ppermesssubscription': 0.00015851209975694812, 'pobox36504w45wq': 0.00021134946634259749, 'long': 5.283736658564937e-05, '83370': 0.00010567473317129874, '09065394973': 0.00010567473317129874, 'wt': 5.283736658564937e-05, 'wc1n3xx': 0.00026418683292824685, 'housing': 5.283736658564937e-05, 'charming': 5.283736658564937e-05, '5p': 0.00010567473317129874, 'highest': 0.00010567473317129874, 'game': 0.00031702419951389624, 'freephone': 0.0003698615660995456, 'sort': 5.283736658564937e-05, 'truble': 5.283736658564937e-05, 'advisors': 0.00010567473317129874, 'motor': 5.283736658564937e-05, 'halloween': 0.00021134946634259749, 'sos': 5.283736658564937e-05, 'ice': 0.00010567473317129874, 'picked': 0.00015851209975694812, 'park': 0.00010567473317129874, 'carly': 5.283736658564937e-05, 'batch': 5.283736658564937e-05, 'cock': 0.00010567473317129874, 'wwwgetzedcouk': 0.00021134946634259749, 'gud': 5.283736658564937e-05, 'kgive': 5.283736658564937e-05, 'wiv': 0.00010567473317129874, 'thesmszonecom': 0.00010567473317129874, 'ccna': 5.283736658564937e-05, 'psychic': 0.00010567473317129874, '0871277810810': 0.00015851209975694812, '09077818151': 0.00010567473317129874, 'yup': 5.283736658564937e-05, 'inc': 0.00042269893268519497, 'mrt': 5.283736658564937e-05, 'tscs': 0.00021134946634259749, 'std': 0.00031702419951389624, '42478': 0.00010567473317129874, 'fault&fed': 5.283736658564937e-05, 'anymore': 5.283736658564937e-05, 'accidant': 5.283736658564937e-05, 'realy': 5.283736658564937e-05, 'spring': 5.283736658564937e-05, 'hates': 5.283736658564937e-05, 'don': 5.283736658564937e-05, 'urgnt': 5.283736658564937e-05, '85555': 0.00010567473317129874, 'memory': 5.283736658564937e-05, 'paru': 5.283736658564937e-05, '85233': 0.00010567473317129874, 'teasing': 5.283736658564937e-05, 'studyn': 5.283736658564937e-05, 'food': 5.283736658564937e-05, 'specify': 5.283736658564937e-05, 'topped': 0.00010567473317129874, 'age': 0.00031702419951389624, '2025050': 0.00010567473317129874, 'trial': 0.00010567473317129874, 'ah': 5.283736658564937e-05, 'cancel': 0.00031702419951389624, 'asked': 0.00031702419951389624, 'wap': 0.00042269893268519497, 'charged': 0.0005283736658564937, 'no>': 0.00010567473317129874, '02/06/03': 0.00021134946634259749, 'thing': 0.00010567473317129874, 'q': 0.00021134946634259749, 'mtalk': 0.00015851209975694812, 'direct': 0.0005283736658564937, '1unbreakable': 0.00015851209975694812, 'alone': 0.00010567473317129874, '25/f': 0.00010567473317129874, 'ages': 0.00010567473317129874, 'dogs': 0.00010567473317129874, 'match': 0.0003698615660995456, 'atm': 5.283736658564937e-05, 'max': 5.283736658564937e-05, 'surfing': 5.283736658564937e-05, 'treat': 5.283736658564937e-05, 'www4-tcbiz': 0.00021134946634259749, 'tsandcs': 0.00010567473317129874, 'we': 0.002324844129768572, 'has': 0.001426608897812533, 'receive': 0.0016379583641551304, '5ful': 5.283736658564937e-05, '4txt/120p': 0.00010567473317129874, 'way': 0.00010567473317129874, '1131': 0.00010567473317129874, 'telphone': 5.283736658564937e-05, 'no-762': 0.00010567473317129874, 'croydon': 0.00031702419951389624, \"c's\": 0.00026418683292824685, 'listed': 5.283736658564937e-05, 'box420': 0.00010567473317129874, 'whenever': 5.283736658564937e-05, 'britney': 0.00010567473317129874, 'row/w1j6hl': 0.00021134946634259749, 'enjoy': 0.0005283736658564937, 'let': 5.283736658564937e-05, 'comin': 5.283736658564937e-05, 'blow': 0.00015851209975694812, '9th': 0.00010567473317129874, '08701417012150p': 0.00015851209975694812, 'talking': 5.283736658564937e-05, 'film': 0.00015851209975694812, 'evei': 5.283736658564937e-05, '3x£150pw': 0.00010567473317129874, 'live': 0.0013737715312268836, 'blood': 5.283736658564937e-05, 't&csbcm4235wc1n3xx': 0.00015851209975694812, 'perfect': 0.00010567473317129874, '12hours': 0.00010567473317129874, 'swap': 0.00010567473317129874, 'colleagues': 5.283736658564937e-05, 'been': 0.0020606572968403254, 'standing|': 5.283736658564937e-05, '…': 5.283736658564937e-05, 'don\\x92t': 5.283736658564937e-05, '0776xxxxxxx': 0.00010567473317129874, 'table': 5.283736658564937e-05, 'decide': 5.283736658564937e-05, 'yck': 5.283736658564937e-05, '09061702893': 0.00010567473317129874, '08717895698': 0.00010567473317129874, 'moves': 5.283736658564937e-05, '<fone': 0.00010567473317129874, 'ron': 5.283736658564937e-05, 'follow': 0.00015851209975694812, 'pretty': 5.283736658564937e-05, '84199': 0.00015851209975694812, 'sat': 0.00015851209975694812, 'old': 0.00010567473317129874, 'fmyou': 0.00010567473317129874, 'sk3': 0.00015851209975694812, '82277unsub': 0.00015851209975694812, 'it': 0.0013209341646412342, 'course': 5.283736658564937e-05, 'thou': 5.283736658564937e-05, 'w1a': 0.00010567473317129874, 'refused': 0.00026418683292824685, 'attitude': 5.283736658564937e-05, 'bakra': 5.283736658564937e-05, 'm': 0.000581211032442143, 'networks': 0.00015851209975694812, 'unsecured': 0.00010567473317129874, 'our': 0.004015639860509352, 'zed': 0.0003698615660995456, 'club': 0.0008453978653703899, 'all': 0.0012152594314699355, \"ny's\": 5.283736658564937e-05, 'miserable': 5.283736658564937e-05, 'someonone': 0.00010567473317129874, 'frndz': 5.283736658564937e-05, '786': 0.00026418683292824685, 'disaster': 0.00010567473317129874, 'magic': 5.283736658564937e-05, '0871277810910p/min': 0.00010567473317129874, 'contract': 0.00021134946634259749, 'rstm': 0.00015851209975694812, 'moment': 5.283736658564937e-05, 'road': 5.283736658564937e-05, 'want': 0.0014794462643981823, 'ummmmmaah': 5.283736658564937e-05, 'html': 0.00010567473317129874, 'again': 0.00015851209975694812, 'suprman': 0.00015851209975694812, 'saying': 5.283736658564937e-05, 'hook': 5.283736658564937e-05, '09095350301': 0.00010567473317129874, 'suzy': 0.00010567473317129874, 'pleased': 0.00021134946634259749, 'answers': 5.283736658564937e-05, 'prob': 5.283736658564937e-05, '530': 5.283736658564937e-05, 'eurodisinc': 0.00010567473317129874, 'eyed-dont': 0.00010567473317129874, 'wif': 5.283736658564937e-05, 'gua': 5.283736658564937e-05, 'eldest': 5.283736658564937e-05, 'body': 5.283736658564937e-05, '£1000': 0.0016907957307407799, 'say': 0.00010567473317129874, 'planettalkinstantcom': 0.00010567473317129874, 'fixed': 0.00010567473317129874, 'x49': 0.00010567473317129874, 'last': 0.000581211032442143, '80155': 0.00010567473317129874, 'scared': 5.283736658564937e-05, 'march': 5.283736658564937e-05, 'gsex': 0.00010567473317129874, 'breath': 0.00010567473317129874, \"i've\": 0.00010567473317129874, 'spl': 5.283736658564937e-05, '7548': 0.00010567473317129874, 'expiredso': 5.283736658564937e-05, 'www80488biz': 0.00010567473317129874, 'doing': 5.283736658564937e-05, '83110': 0.00010567473317129874, 'shop': 0.00031702419951389624, 'backdoor': 0.00010567473317129874, '2007': 0.00015851209975694812, '10p': 0.0006868857656134418, 'strings': 0.00010567473317129874, 'burning': 5.283736658564937e-05, 'stolen': 0.00010567473317129874, 'echo': 0.00010567473317129874, 'limits': 5.283736658564937e-05, 'late': 0.00010567473317129874, 'subject': 0.00010567473317129874, 'processexcellent': 5.283736658564937e-05, '*phews*': 5.283736658564937e-05, 'bowl': 5.283736658564937e-05, 'taking': 0.00010567473317129874, 'goodmorning': 5.283736658564937e-05, 'privacy': 0.00010567473317129874, 'records': 0.00015851209975694812, 'saristar': 0.00010567473317129874, '5gently': 5.283736658564937e-05, 'won': 0.0034872661946528587, 'monday': 5.283736658564937e-05, 'longer': 5.283736658564937e-05, 'visionsmscom': 0.00015851209975694812, 'for£38': 0.00010567473317129874, 'meare': 5.283736658564937e-05, 'arrange': 0.00015851209975694812, 'alertfrom': 0.00010567473317129874, 'fifteen': 5.283736658564937e-05, 'uses': 5.283736658564937e-05, 'hmm': 5.283736658564937e-05, 'pole': 0.00010567473317129874, 'ard': 5.283736658564937e-05, 'libertines': 0.00010567473317129874, 'irritating': 5.283736658564937e-05, 'tho': 5.283736658564937e-05, 'prods': 0.00010567473317129874, 'was': 0.0005283736658564937, '09061701444': 0.00010567473317129874, 'titles': 0.00010567473317129874, 'sw7': 0.00015851209975694812, 'goodnite': 5.283736658564937e-05, 'box42wr29c': 0.00010567473317129874, 'nownyt': 0.00010567473317129874, '6986618': 0.00015851209975694812, 'marsms': 0.00010567473317129874, 'ringtonefrom': 0.00010567473317129874, 'hvae': 0.00010567473317129874, '1': 0.0012152594314699355, 'places': 5.283736658564937e-05, 'workin': 5.283736658564937e-05, '60p/min': 0.00021134946634259749, 'bfore': 5.283736658564937e-05, 'month': 0.00015851209975694812, '69200': 0.00010567473317129874, 'o2fwd': 0.00015851209975694812, 'smsshsexnetun': 0.00010567473317129874, '08714712412': 0.00010567473317129874, 'problem': 5.283736658564937e-05, 'joy': 5.283736658564937e-05, 'wish': 0.00015851209975694812, 'weightloss': 5.283736658564937e-05, '9am': 5.283736658564937e-05, '2stop': 0.00010567473317129874, 'pressure': 5.283736658564937e-05, \"\\x93it's\": 0.00010567473317129874, 'tones2youcouk': 0.00015851209975694812, 'does': 0.00015851209975694812, 'orno': 0.00010567473317129874, 'wordstart': 0.00010567473317129874, 'private': 0.001003909965127338, 'filth': 0.00010567473317129874, 'band': 0.00010567473317129874, 'stoptxt': 0.00010567473317129874, '45': 0.00010567473317129874, '09041940223': 0.00010567473317129874, 'videophones': 0.00015851209975694812, 'itmail': 5.283736658564937e-05, '1stchoicecouk': 0.00010567473317129874, 'datebox1282essexcm61xn': 0.00015851209975694812, 'answer': 0.00047553629927084436, 'speak': 0.00047553629927084436, 'store': 0.0003698615660995456, 'readers': 0.00015851209975694812, 'skilgme': 0.00010567473317129874, 'wwwsmsac/u/hmmross': 0.00010567473317129874, 'afternon': 5.283736658564937e-05, 'camcorder': 0.0007925604987847406, 'letters': 5.283736658564937e-05, '16+only': 0.00015851209975694812, 'too': 0.00010567473317129874, 'explain': 5.283736658564937e-05, 'cute': 0.00010567473317129874, 'wen': 5.283736658564937e-05, '28': 0.00021134946634259749, 'immed': 5.283736658564937e-05, 'max10mins': 0.00026418683292824685, '08718727868': 0.00015851209975694812, '83383': 0.00015851209975694812, 'quizclub': 0.00010567473317129874, '09061790126': 0.00010567473317129874, 'screaming': 5.283736658564937e-05, '88222': 0.00015851209975694812, 'teenager': 0.00010567473317129874, 'cbe': 5.283736658564937e-05, 'man': 0.00010567473317129874, '08718726270': 0.00015851209975694812, 'installing': 5.283736658564937e-05, '9996': 0.00010567473317129874, 'behind': 5.283736658564937e-05, 'hold': 5.283736658564937e-05, 'night': 0.0003698615660995456, 'oredi': 5.283736658564937e-05, 'fancy': 0.00047553629927084436, 'feeling': 0.00010567473317129874, 'happens': 5.283736658564937e-05, 'wwwmusic-trivianet': 0.00010567473317129874, '1st4terms': 0.00010567473317129874, 'split': 5.283736658564937e-05, 'asks': 5.283736658564937e-05, 'neededsalary': 5.283736658564937e-05, 'thot': 5.283736658564937e-05, 'chit-chat': 0.00010567473317129874, 'wkent/150p16+': 0.00015851209975694812, 'four': 0.00010567473317129874, 'fondly': 5.283736658564937e-05, 'up': 0.0009510725985416887, 'can': 0.001426608897812533, 'sheffield': 5.283736658564937e-05, 'posts': 0.00010567473317129874, 'wet': 0.00015851209975694812, \"dat's\": 5.283736658564937e-05, 'r': 0.001003909965127338, 'chart': 0.00015851209975694812, 'tv': 0.00021134946634259749, 'bus': 5.283736658564937e-05, 'dates': 0.00010567473317129874, 'noline': 0.00015851209975694812, '07732584351': 0.00010567473317129874, '150p/mtmsgrcvd18+': 0.00010567473317129874, 'jess': 5.283736658564937e-05, '087143423992stop': 0.00010567473317129874, '2005': 0.00021134946634259749, \"there's\": 0.00021134946634259749, 'made': 0.00010567473317129874, 'wear': 5.283736658564937e-05, '0800': 0.0006340483990277925, 'ree': 0.00010567473317129874, '861': 0.00010567473317129874, 'sometimes': 5.283736658564937e-05, '1x150p/wk': 0.00026418683292824685, \"i'll\": 5.283736658564937e-05, '-via': 5.283736658564937e-05, 'hundred': 5.283736658564937e-05, 'web': 0.00015851209975694812, 'ever': 0.00015851209975694812, 'evening*': 5.283736658564937e-05, 'gravity': 5.283736658564937e-05, 'lit': 5.283736658564937e-05, '14thmarch': 0.00010567473317129874, 'dis': 0.00010567473317129874, 'saturday': 0.00031702419951389624, 'then': 0.00042269893268519497, 'tncs': 0.00031702419951389624, 'al': 5.283736658564937e-05, '-': 0.0023776814963542216, 'sister': 5.283736658564937e-05, 'pt2': 0.00015851209975694812, 'worries': 5.283736658564937e-05, 'club4': 0.00010567473317129874, 'us': 0.00047553629927084436, '2yr': 0.00015851209975694812, 'agent': 0.00010567473317129874, 'mustprovide': 0.00010567473317129874, 'cut': 5.283736658564937e-05, 'leading': 0.00010567473317129874, 'relocate': 5.283736658564937e-05, 'tones': 0.001003909965127338, 'yer': 0.00015851209975694812, 'beneath': 5.283736658564937e-05, 'coffee': 5.283736658564937e-05, 'mp3': 0.00031702419951389624, '-shakespeare-': 5.283736658564937e-05, 'close': 0.00026418683292824685, 'having': 5.283736658564937e-05, 'forget': 0.00015851209975694812, 'gr8': 0.0003698615660995456, 'fowler': 5.283736658564937e-05, 'http//tms': 0.00015851209975694812, 'website': 0.00010567473317129874, 'usb': 5.283736658564937e-05, 'msgs': 0.00031702419951389624, 'sw73ss': 0.00010567473317129874, 'well': 0.00026418683292824685, 'romcapspam': 0.00010567473317129874, '078498****7': 0.00010567473317129874, 'isn‘t': 5.283736658564937e-05, 'using': 0.00015851209975694812, 'told': 5.283736658564937e-05, 'webadres': 5.283736658564937e-05, 'low-cost': 0.00010567473317129874, 'wants': 0.00010567473317129874, 'medicine': 5.283736658564937e-05, 'issues': 0.00015851209975694812, 'lacsthats': 5.283736658564937e-05, 'update_now': 0.00010567473317129874, 'have': 0.00586494769100708, 'wah': 5.283736658564937e-05, 'record': 5.283736658564937e-05, 'bloke': 0.00010567473317129874, 'psp': 0.00010567473317129874, '60p': 0.00010567473317129874, 'wat': 0.00010567473317129874, 'dearme': 5.283736658564937e-05, 'age16150ppermesssubscription': 0.00010567473317129874, 'flirting': 0.00010567473317129874, 'bulbs': 0.00015851209975694812, '£1': 0.00021134946634259749, 'loads': 0.00010567473317129874, 'recd': 0.00015851209975694812, 'obey': 5.283736658564937e-05, 'shove': 5.283736658564937e-05, 'worryc': 5.283736658564937e-05, 'dammit': 5.283736658564937e-05, 'nokia6650': 0.00010567473317129874, 'waste': 5.283736658564937e-05, '85222': 0.00010567473317129874, '09064019788': 0.00010567473317129874, 'stopbcm': 0.00010567473317129874, '8ball': 0.00010567473317129874, '25p': 0.00042269893268519497, 'replies': 0.00010567473317129874, 'because': 0.00010567473317129874, '08719180219': 0.00010567473317129874, 'wlcome': 5.283736658564937e-05, 'selection': 0.00031702419951389624, '29/10/0': 0.00010567473317129874, 'choose': 0.0005283736658564937, 'slovely': 5.283736658564937e-05, 'via': 0.00015851209975694812, 'congratulations': 0.0006868857656134418, 'style': 5.283736658564937e-05, 'partner': 0.00021134946634259749, 'm227xy': 0.00015851209975694812, 'whats': 0.00010567473317129874, 'small': 5.283736658564937e-05, '4041': 0.00010567473317129874, '08006344447': 0.00010567473317129874, 'okay': 5.283736658564937e-05, 'very': 0.00010567473317129874, 'weekly': 0.0012152594314699355, 'thank': 0.00010567473317129874, '£3/wk': 0.00021134946634259749, 'add': 5.283736658564937e-05, 'virgins': 0.00010567473317129874, 'planned': 5.283736658564937e-05, 'should': 0.00042269893268519497, 'lool': 5.283736658564937e-05, 'polys': 0.0003698615660995456, 'call09050000327': 0.00015851209975694812, 'opt-out': 0.00021134946634259749, 'awesome': 5.283736658564937e-05, '8552': 0.00026418683292824685, 'ignoring': 5.283736658564937e-05, 'aco&entry41': 0.00010567473317129874, 'cam': 0.00015851209975694812, 'other': 0.00021134946634259749, \"hubby's\": 0.00010567473317129874, 'urgentbut': 5.283736658564937e-05, '49557': 0.00010567473317129874, 'eve': 0.00031702419951389624}\n",
      "Ham word probabilities: {'bin': 7.92895654931811e-05, 'sore': 0.0001585791309863622, 'get': 0.002378686964795433, 'transferacc': 0.0001585791309863622, 'christmas': 0.0001585791309863622, 'anythin': 0.0001585791309863622, 'upgrade': 7.92895654931811e-05, 'married': 7.92895654931811e-05, 'weight': 0.0001585791309863622, '09065174042': 7.92895654931811e-05, 'moon': 0.0001585791309863622, 'ends': 0.0002378686964795433, 'came': 0.0001585791309863622, 'cross': 7.92895654931811e-05, 'bailiff': 7.92895654931811e-05, 'bears': 7.92895654931811e-05, 'name2': 7.92895654931811e-05, 'opinion': 0.0002378686964795433, '£800': 7.92895654931811e-05, 'unni': 0.0001585791309863622, \"valentine's\": 7.92895654931811e-05, 'present': 0.0002378686964795433, '16': 0.0001585791309863622, 'bored': 0.0002378686964795433, 'cancer': 0.0002378686964795433, 'limited': 0.0001585791309863622, 'jamstercouk': 7.92895654931811e-05, 'or2stoptxt': 7.92895654931811e-05, 'questionstd': 7.92895654931811e-05, '88039': 7.92895654931811e-05, 'player': 7.92895654931811e-05, 'agree': 0.0001585791309863622, 'crash': 0.0001585791309863622, 'oh': 0.0013479226133840787, 'abuse': 7.92895654931811e-05, 'join': 0.0001585791309863622, '8attractive': 0.0001585791309863622, 'correct': 0.0001585791309863622, 'mah': 0.0003964478274659055, '£150/wk': 7.92895654931811e-05, 'locations': 7.92895654931811e-05, 'flag': 7.92895654931811e-05, 'textbuddy': 7.92895654931811e-05, 'gender': 7.92895654931811e-05, 'swashbuckling': 0.0001585791309863622, 'location': 0.0001585791309863622, 'affairs': 0.0001585791309863622, 'nothing': 0.0007136060894386299, 'subscriptn3gbp/wk': 7.92895654931811e-05, '09065069154': 7.92895654931811e-05, '400minscall': 7.92895654931811e-05, 'funky': 7.92895654931811e-05, 'delayed': 0.0001585791309863622, '10000': 7.92895654931811e-05, 'pub': 0.0001585791309863622, 'block': 7.92895654931811e-05, 'nick': 7.92895654931811e-05, 'notified': 7.92895654931811e-05, '09065989182': 7.92895654931811e-05, 'help': 0.0002378686964795433, 'text82228>>': 7.92895654931811e-05, 'os': 0.0002378686964795433, '08448714184': 7.92895654931811e-05, 'gbp150/week': 7.92895654931811e-05, '09058094583': 7.92895654931811e-05, '87077': 7.92895654931811e-05, 'hava': 7.92895654931811e-05, 'jada': 0.0001585791309863622, 'outgoing': 7.92895654931811e-05, 'connected': 7.92895654931811e-05, 'plus': 0.0001585791309863622, 'goes': 0.0005550269584522677, 'sara': 7.92895654931811e-05, 'fwiw': 0.0001585791309863622, 'hungry': 7.92895654931811e-05, 'trywales': 7.92895654931811e-05, 'rcbbattle': 0.0001585791309863622, 'po19': 7.92895654931811e-05, 'msgrcvd18+': 7.92895654931811e-05, 'absence': 0.0001585791309863622, 'kalstiyathen': 0.0001585791309863622, 'remove': 0.0001585791309863622, 'congrats': 7.92895654931811e-05, 'wrc': 7.92895654931811e-05, 'tea/coffee': 0.0001585791309863622, 'dorothy@kiefercom': 7.92895654931811e-05, 'seeds': 7.92895654931811e-05, 'adore': 0.0001585791309863622, 'midnight': 7.92895654931811e-05, 'games': 7.92895654931811e-05, 'yo': 0.0005550269584522677, 'ph08700435505150p': 7.92895654931811e-05, '8883': 7.92895654931811e-05, 'unintentionally': 0.0001585791309863622, '40533': 7.92895654931811e-05, 'review': 7.92895654931811e-05, '8007': 7.92895654931811e-05, 'friendship': 0.0003171582619727244, 'largest': 7.92895654931811e-05, 'fast': 0.0001585791309863622, 'fund': 7.92895654931811e-05, 'your': 0.0049952426260704095, 'nowreply': 7.92895654931811e-05, 'ps': 0.0001585791309863622, 'upd8': 7.92895654931811e-05, 'java': 7.92895654931811e-05, 'throat': 0.0001585791309863622, 'sexy': 0.0001585791309863622, 'tells': 0.0002378686964795433, '89105': 7.92895654931811e-05, '151': 7.92895654931811e-05, 'purchase': 7.92895654931811e-05, 'gas': 0.0001585791309863622, 'call2optout/n9dx': 7.92895654931811e-05, '07808247860': 7.92895654931811e-05, 'song': 7.92895654931811e-05, 'dealfarm': 0.0001585791309863622, 'service': 0.0001585791309863622, 'nange': 0.0001585791309863622, 'win': 7.92895654931811e-05, 'free>ringtonereply': 7.92895654931811e-05, 'moralone': 0.0001585791309863622, 'nag': 0.0001585791309863622, 'speaking': 0.0001585791309863622, 'smear': 0.0001585791309863622, '16+': 7.92895654931811e-05, 'wwwmovietriviatv': 7.92895654931811e-05, 'mila': 7.92895654931811e-05, 'nope': 0.0001585791309863622, '5226': 7.92895654931811e-05, 'checked': 0.0001585791309863622, 'itcould': 7.92895654931811e-05, '09061790121': 7.92895654931811e-05, 'em': 7.92895654931811e-05, 'hv': 0.0001585791309863622, 'wwwclubmobycom': 7.92895654931811e-05, '08717168528': 7.92895654931811e-05, 'west': 0.0001585791309863622, 'alfie': 7.92895654931811e-05, 'explicit': 7.92895654931811e-05, '+£400': 7.92895654931811e-05, 'sending': 0.0001585791309863622, 'confirm': 0.0003171582619727244, '3ss': 7.92895654931811e-05, 'unbelievable': 0.0001585791309863622, 'stoptxtstop': 7.92895654931811e-05, '08712400200': 7.92895654931811e-05, 'voda': 7.92895654931811e-05, 'gay': 7.92895654931811e-05, '1/1': 7.92895654931811e-05, 'after': 0.0006343165239454488, '08708034412': 7.92895654931811e-05, 'msg150p': 7.92895654931811e-05, 'abroad': 7.92895654931811e-05, 'rupaul': 0.0001585791309863622, 'hustle': 0.0001585791309863622, 'moved': 0.0001585791309863622, 'heygreat': 0.0001585791309863622, '7634': 7.92895654931811e-05, 'go2': 7.92895654931811e-05, 'new': 0.000792895654931811, \"couldn't\": 0.0001585791309863622, '27/03': 7.92895654931811e-05, 'po': 7.92895654931811e-05, 'requires': 0.0001585791309863622, 'rply': 7.92895654931811e-05, 'oso': 0.0001585791309863622, 'roger': 0.0002378686964795433, 'youto': 7.92895654931811e-05, 'min': 0.0002378686964795433, '69888nyt': 7.92895654931811e-05, '09058091854': 7.92895654931811e-05, 'goal': 0.0001585791309863622, 't': 0.0001585791309863622, 'write': 0.0003964478274659055, 'beg': 7.92895654931811e-05, 'ecstacy': 7.92895654931811e-05, '41782': 7.92895654931811e-05, 'women': 7.92895654931811e-05, '08712317606': 7.92895654931811e-05, 'tsunami': 7.92895654931811e-05, 'where': 0.0007136060894386299, 'textpod': 7.92895654931811e-05, 'mad1': 7.92895654931811e-05, 'mr': 0.0003171582619727244, 'dictionary': 0.0002378686964795433, 'l8er': 7.92895654931811e-05, '0': 7.92895654931811e-05, 'inviting': 7.92895654931811e-05, 'ac/smsrewards': 7.92895654931811e-05, 'against': 0.0001585791309863622, 'heavy': 0.0001585791309863622, 'here>>': 7.92895654931811e-05, 'number': 0.0008721852204249921, 'save': 0.0001585791309863622, 'tho-': 0.0001585791309863622, 'comes': 0.0003171582619727244, 'today': 0.001665080875356803, '08000839402': 7.92895654931811e-05, 'pay': 0.0006343165239454488, 'costing': 7.92895654931811e-05, 'purpose': 7.92895654931811e-05, 'f=': 7.92895654931811e-05, 'tattoos': 7.92895654931811e-05, 'ibh': 7.92895654931811e-05, 'wk': 0.0001585791309863622, 'coca-cola': 7.92895654931811e-05, 'modules': 0.0001585791309863622, 'mono': 7.92895654931811e-05, 'computer': 7.92895654931811e-05, \"'simple'\": 0.0002378686964795433, 'dirtiest': 7.92895654931811e-05, 'milk': 0.0001585791309863622, 'o2': 7.92895654931811e-05, '08717509990': 7.92895654931811e-05, 'ml': 0.0001585791309863622, 'face': 0.0001585791309863622, 'but': 0.005233111322549952, 'anyway': 0.0003171582619727244, 'didnt': 0.0003171582619727244, 'comingtmorow': 0.0001585791309863622, 'wwwshortbreaksorguk': 7.92895654931811e-05, 'calls£1/minmobsmorelkpobox177hp51fl': 7.92895654931811e-05, 'on': 0.003964478274659055, 'tendencies': 0.0001585791309863622, 'orig': 7.92895654931811e-05, 'solved': 0.0001585791309863622, 'call2optout/674': 7.92895654931811e-05, 'bowa': 0.0001585791309863622, 'theirs': 7.92895654931811e-05, 'msg': 0.0007136060894386299, 'difficult': 0.0003964478274659055, 'admirer': 7.92895654931811e-05, 'received': 7.92895654931811e-05, 'frm': 0.0002378686964795433, 'free>ringtone': 7.92895654931811e-05, 'sensitive': 0.0001585791309863622, 'twinks': 7.92895654931811e-05, 'jane': 7.92895654931811e-05, 'interview': 0.0003171582619727244, 'sweetest': 0.0001585791309863622, 'tonexs': 7.92895654931811e-05, 'diddy': 0.0001585791309863622, '09094646899': 7.92895654931811e-05, 'goals/team': 7.92895654931811e-05, 'http//careers': 7.92895654931811e-05, 'unemployed': 0.0002378686964795433, 'activate': 7.92895654931811e-05, 'bad': 0.0001585791309863622, 'coach': 0.0001585791309863622, '09050002311': 7.92895654931811e-05, 'adult': 7.92895654931811e-05, 'sold': 0.0001585791309863622, 'london': 7.92895654931811e-05, 'nagar': 0.0001585791309863622, 'bill': 0.0002378686964795433, 'm8s': 7.92895654931811e-05, 'ghodbandar': 0.0001585791309863622, 'vl': 0.0001585791309863622, 'ldnw15h': 7.92895654931811e-05, \"'\": 0.0001585791309863622, 'youclean': 0.0001585791309863622, '2kbsubject': 7.92895654931811e-05, 'cover': 0.0001585791309863622, 'masked': 7.92895654931811e-05, 'quote': 7.92895654931811e-05, 'big': 0.0005550269584522677, 'following': 7.92895654931811e-05, 'they': 0.0008721852204249921, 'programs': 0.0001585791309863622, 'sp': 7.92895654931811e-05, '7250': 7.92895654931811e-05, 'digits': 7.92895654931811e-05, 'goodnoon': 0.0001585791309863622, 'spelling': 0.0001585791309863622, '£350': 7.92895654931811e-05, 'age16': 7.92895654931811e-05, 'jjc': 0.0001585791309863622, 'meh': 0.0001585791309863622, 'easily': 0.0001585791309863622, 'back': 0.0009514747859181732, '82242': 7.92895654931811e-05, 'wwwb4utelecom': 7.92895654931811e-05, 'yeshere': 0.0001585791309863622, 'plan': 0.0001585791309863622, 'jsco': 7.92895654931811e-05, 'somewhere': 0.0004757373929590866, 'collection': 7.92895654931811e-05, 'mush': 0.0001585791309863622, 'jordan': 7.92895654931811e-05, 'than': 0.0003171582619727244, 'hppnss': 0.0001585791309863622, 'jamster': 7.92895654931811e-05, 'held': 7.92895654931811e-05, 'winnersclub': 7.92895654931811e-05, 'passes': 7.92895654931811e-05, 'frog-axel': 7.92895654931811e-05, 'wining': 7.92895654931811e-05, 'locaxx': 0.0001585791309863622, '448712404000>please': 7.92895654931811e-05, 'sugar': 0.0001585791309863622, '18': 7.92895654931811e-05, \"u'll\": 0.0002378686964795433, '4-7/12': 7.92895654931811e-05, 'kit': 7.92895654931811e-05, 'flirt': 7.92895654931811e-05, 'moby': 7.92895654931811e-05, 'failed': 7.92895654931811e-05, 'chatting': 7.92895654931811e-05, 'coming': 0.0004757373929590866, 'learn': 0.0001585791309863622, 'rajas': 0.0001585791309863622, 'seven': 0.0001585791309863622, 'interested': 0.0001585791309863622, '100p/sms': 7.92895654931811e-05, '7876150ppm': 7.92895654931811e-05, 'telephonic': 0.0001585791309863622, 'doggin': 7.92895654931811e-05, 'free-send': 7.92895654931811e-05, 'granite': 7.92895654931811e-05, 'theredo': 7.92895654931811e-05, 'honeybee': 0.0001585791309863622, \"girl'\": 7.92895654931811e-05, '09066382422': 7.92895654931811e-05, 'depends': 0.0001585791309863622, 'reward': 7.92895654931811e-05, '09090204448': 7.92895654931811e-05, 'individual': 0.0001585791309863622, '07/11/04': 7.92895654931811e-05, 'landmark': 7.92895654931811e-05, 'jokes': 0.0001585791309863622, 'eye': 0.0001585791309863622, 'indyarockscom': 0.0001585791309863622, 'oooh': 0.0001585791309863622, 'could': 0.0003964478274659055, 'europe': 7.92895654931811e-05, 'allow': 7.92895654931811e-05, 'rcd': 7.92895654931811e-05, 'payee': 0.0001585791309863622, 'difficult-': 0.0001585791309863622, 'boss': 0.0002378686964795433, 'trained': 7.92895654931811e-05, 'doesn\\x92t': 0.0001585791309863622, 'missed': 7.92895654931811e-05, '&xxx': 7.92895654931811e-05, '09058094507': 7.92895654931811e-05, 'toilet': 7.92895654931811e-05, 'you': 0.017760862670472565, 'stadium': 7.92895654931811e-05, 'stressfull': 0.0001585791309863622, 'reality': 7.92895654931811e-05, 'incorrect': 7.92895654931811e-05, '#150': 7.92895654931811e-05, 'yesterday': 0.0004757373929590866, 'faglord': 0.0001585791309863622, '4info': 7.92895654931811e-05, 'wwwidewcom': 7.92895654931811e-05, 'spjanuary': 7.92895654931811e-05, 'getzedcouk': 7.92895654931811e-05, 'warning': 0.0001585791309863622, 'rates': 7.92895654931811e-05, 'chaps': 7.92895654931811e-05, 'en': 0.0001585791309863622, 'row/w1jhl': 7.92895654931811e-05, \"did'nt\": 0.0001585791309863622, 'loxahatchee': 0.0001585791309863622, '087123002209am-7pm': 7.92895654931811e-05, 'valentine': 0.0003964478274659055, 'phoenix': 7.92895654931811e-05, '29/03/05': 7.92895654931811e-05, '08715500022': 7.92895654931811e-05, '2667': 7.92895654931811e-05, '9061100010': 7.92895654931811e-05, 'wmlid=1b6a5ecef91ff9*37819&first=true180430-jul-05': 7.92895654931811e-05, 'questions': 0.0001585791309863622, 'secret': 0.0001585791309863622, 'lucozade': 7.92895654931811e-05, 'england': 7.92895654931811e-05, 'entered': 7.92895654931811e-05, '*billing': 7.92895654931811e-05, 'otbox': 7.92895654931811e-05, 'freefone': 7.92895654931811e-05, 'nyc': 0.0002378686964795433, 'singles': 7.92895654931811e-05, 'least': 0.0002378686964795433, 'soladha': 0.0001585791309863622, 'fgkslpo': 7.92895654931811e-05, '£12': 7.92895654931811e-05, 'informed': 7.92895654931811e-05, 'loving': 0.0002378686964795433, '2day': 7.92895654931811e-05, 'disclose': 0.0001585791309863622, '150p': 7.92895654931811e-05, 'turn': 0.0001585791309863622, '7250i': 7.92895654931811e-05, 'meets': 0.0001585791309863622, 'facebook': 0.0001585791309863622, '£5000': 7.92895654931811e-05, 'notxtcouk': 7.92895654931811e-05, 'credits': 7.92895654931811e-05, 'dark': 7.92895654931811e-05, 'darling': 7.92895654931811e-05, 'nights': 0.0001585791309863622, 'charts': 7.92895654931811e-05, 't-mobile': 7.92895654931811e-05, 'response': 7.92895654931811e-05, 'star': 7.92895654931811e-05, 'haf': 0.0001585791309863622, 'meal': 7.92895654931811e-05, 'global': 7.92895654931811e-05, 'infowww100percent-realcom': 7.92895654931811e-05, 'panren': 0.0001585791309863622, 'special-call': 7.92895654931811e-05, 'eyes': 0.0001585791309863622, 'grumble': 0.0001585791309863622, 'provided': 7.92895654931811e-05, '68866': 7.92895654931811e-05, 'bt-national-rate': 7.92895654931811e-05, 'box326': 7.92895654931811e-05, '£250': 7.92895654931811e-05, '6230': 7.92895654931811e-05, 'kiss*': 0.0001585791309863622, 'tcs': 7.92895654931811e-05, 'award': 7.92895654931811e-05, 'ru': 0.0001585791309863622, 'chance': 0.0001585791309863622, 'lookin': 0.0001585791309863622, \"ki'm\": 0.0001585791309863622, 'box1146': 7.92895654931811e-05, 'envelope': 7.92895654931811e-05, 'um': 0.0001585791309863622, 'bothering': 0.0001585791309863622, 'two': 0.0002378686964795433, '08712460324nat': 7.92895654931811e-05, 'vldo': 0.0001585791309863622, 'lucozadecouk/wrc': 7.92895654931811e-05, 'favourite': 0.0001585791309863622, 'normal': 0.0001585791309863622, 'dob': 7.92895654931811e-05, 'more': 0.000792895654931811, 'caller': 7.92895654931811e-05, 'tulip': 7.92895654931811e-05, 'brand': 7.92895654931811e-05, 'x49your': 7.92895654931811e-05, '09050001808': 7.92895654931811e-05, 'e-threats': 0.0001585791309863622, 'lions': 7.92895654931811e-05, 'statement': 7.92895654931811e-05, 'space': 7.92895654931811e-05, 'day': 0.0027751347922613384, 'still': 0.0011893434823977164, 'watch': 0.0005550269584522677, 'drinks': 7.92895654931811e-05, '12': 0.0001585791309863622, 'doublemins': 7.92895654931811e-05, '07xxxxxxxxx': 7.92895654931811e-05, 'daily': 0.0001585791309863622, 'ya': 0.0002378686964795433, 'smith-switch': 7.92895654931811e-05, '47': 7.92895654931811e-05, 'lab': 0.0001585791309863622, 'roomate': 0.0001585791309863622, '150p/mt': 7.92895654931811e-05, 'internet/service': 7.92895654931811e-05, 'strong-buy': 7.92895654931811e-05, 'pobox': 7.92895654931811e-05, 'pin': 0.0002378686964795433, 'quizwin': 7.92895654931811e-05, 'stockport': 7.92895654931811e-05, '2000': 7.92895654931811e-05, '087018728737': 7.92895654931811e-05, '£100000': 7.92895654931811e-05, 'paper': 0.0001585791309863622, 'rentl': 7.92895654931811e-05, 'pics': 7.92895654931811e-05, '09050000460': 7.92895654931811e-05, 'drivin': 0.0001585791309863622, 'poor': 0.0002378686964795433, 'wid': 7.92895654931811e-05, 'lifetime': 7.92895654931811e-05, '@warner': 7.92895654931811e-05, 'cm': 7.92895654931811e-05, '09058094599': 7.92895654931811e-05, '24': 7.92895654931811e-05, 'elaborating': 0.0001585791309863622, 'fancies': 7.92895654931811e-05, 'day2': 7.92895654931811e-05, '1327': 7.92895654931811e-05, 'verified': 0.0001585791309863622, 'lor': 0.0019029495718363464, 'car': 0.0005550269584522677, '09066362231': 7.92895654931811e-05, 'fuck': 0.0001585791309863622, 'guys': 0.0003171582619727244, 'cro1327': 7.92895654931811e-05, 'single': 0.0001585791309863622, 'hunt': 0.0001585791309863622, 'box177': 7.92895654931811e-05, 'movie': 7.92895654931811e-05, 'wrote': 7.92895654931811e-05, 'wot': 0.0002378686964795433, 'girl': 0.0004757373929590866, 'plans': 0.0003964478274659055, '09099726395': 7.92895654931811e-05, 'fb': 0.0002378686964795433, 'texts/weekend': 7.92895654931811e-05, 'catch': 0.0001585791309863622, 'spanish': 7.92895654931811e-05, 'islands': 7.92895654931811e-05, '61610': 7.92895654931811e-05, 'mean': 0.0003171582619727244, 'geeee': 0.0001585791309863622, '81151': 7.92895654931811e-05, '£150/msg': 7.92895654931811e-05, 'wwwtklscom': 7.92895654931811e-05, 'pobox334': 7.92895654931811e-05, 'santa': 7.92895654931811e-05, 'stuff': 0.0004757373929590866, 'pro': 7.92895654931811e-05, '08718725756': 7.92895654931811e-05, 'expensive': 0.0001585791309863622, 'ppl': 0.0001585791309863622, 'were': 0.0002378686964795433, 'aha': 0.0001585791309863622, '1013': 7.92895654931811e-05, 'pictxt': 7.92895654931811e-05, 'unsubscribe': 7.92895654931811e-05, '£5': 7.92895654931811e-05, 'include': 7.92895654931811e-05, 'aathiwhere': 0.0001585791309863622, '83355': 7.92895654931811e-05, 'cudnt': 0.0001585791309863622, '83332please': 7.92895654931811e-05, 'aom': 7.92895654931811e-05, 'healthy': 0.0001585791309863622, 'keyword': 7.92895654931811e-05, 'him': 0.0011100539169045353, 'ordered': 7.92895654931811e-05, 'urgent': 7.92895654931811e-05, '08002888812': 7.92895654931811e-05, 'console': 7.92895654931811e-05, 'silent': 0.0001585791309863622, 'word': 0.0003964478274659055, 'mrng': 0.0003964478274659055, '81618': 7.92895654931811e-05, 'customercare': 7.92895654931811e-05, 'birthday': 0.0003964478274659055, 'jade': 0.0001585791309863622, 'improved': 7.92895654931811e-05, 'evng': 0.0001585791309863622, 'dunno': 0.0002378686964795433, 'rows': 0.0001585791309863622, 'hardcore': 7.92895654931811e-05, '2': 0.0020615287028227084, 'free-nokia': 7.92895654931811e-05, '82277': 7.92895654931811e-05, 'matrix3': 7.92895654931811e-05, 'code': 0.0001585791309863622, 'shortly': 7.92895654931811e-05, 'line': 0.0001585791309863622, 'child': 7.92895654931811e-05, 'wow': 0.0003171582619727244, 'alrite': 0.0001585791309863622, 'frying': 0.0002378686964795433, 'ec2a': 7.92895654931811e-05, 'box334sk38ch': 7.92895654931811e-05, 'timing': 0.0002378686964795433, 'ph08704050406': 7.92895654931811e-05, '88800': 7.92895654931811e-05, 'tablets': 0.0002378686964795433, 'guaranteed': 7.92895654931811e-05, 'shitstorm': 0.0001585791309863622, 'i’m': 0.0001585791309863622, '2-4-1': 7.92895654931811e-05, 'xafter': 7.92895654931811e-05, 'availablei': 0.0001585791309863622, 'wwwgambtv': 7.92895654931811e-05, '09058095107': 7.92895654931811e-05, 'customer': 0.0002378686964795433, '[sic]': 7.92895654931811e-05, 'huh': 0.0003171582619727244, 'open': 0.0001585791309863622, '89545': 7.92895654931811e-05, 'earth': 0.0001585791309863622, 'able': 0.0002378686964795433, 'hot': 0.0001585791309863622, 'haha': 0.0003171582619727244, 'lacsthere': 0.0001585791309863622, \"where's\": 0.0001585791309863622, 'dont': 0.0011100539169045353, 'returns': 0.0001585791309863622, '08712103738': 7.92895654931811e-05, 'goto': 7.92895654931811e-05, 'luv': 0.0003171582619727244, 'nite': 0.0001585791309863622, 'busy': 0.0001585791309863622, 'tmr': 0.0003171582619727244, 'bed': 0.0004757373929590866, '11mths': 7.92895654931811e-05, 'mobs': 7.92895654931811e-05, 'detail': 0.0001585791309863622, 'info@ringtonekingcouk': 7.92895654931811e-05, 'everything': 0.0003964478274659055, 'awaiting': 7.92895654931811e-05, 'mobilesdirect': 7.92895654931811e-05, 'club4mobilescom': 7.92895654931811e-05, 'deposit': 0.0001585791309863622, 'custcare08718720201': 7.92895654931811e-05, '85023': 7.92895654931811e-05, 'barbie': 7.92895654931811e-05, 'bx526': 7.92895654931811e-05, 'both': 0.0001585791309863622, 'flowers': 7.92895654931811e-05, 'realized': 0.0001585791309863622, 'arrive': 7.92895654931811e-05, 'register': 0.0001585791309863622, 'deal': 0.0001585791309863622, 'drizzling': 0.0001585791309863622, 'nature': 0.0001585791309863622, 'format': 7.92895654931811e-05, '0871-872-9755': 7.92895654931811e-05, 'lecture': 0.0002378686964795433, 'wwwldewcomsubs16+1win150ppmx3': 7.92895654931811e-05, '20': 0.0001585791309863622, '150p/tone': 7.92895654931811e-05, 'thnx': 0.0001585791309863622, 'dun': 0.0007136060894386299, '48922': 7.92895654931811e-05, '08718738001': 7.92895654931811e-05, 'simple': 0.000792895654931811, 'slip': 0.0002378686964795433, 'linerental': 7.92895654931811e-05, 'artists': 7.92895654931811e-05, 'inches': 0.0001585791309863622, 'faber': 0.0001585791309863622, 'www07781482378com': 7.92895654931811e-05, 'okie': 0.0001585791309863622, 'company': 0.0002378686964795433, '09061744553': 7.92895654931811e-05, 'price': 0.0003171582619727244, 'tomorrow/today': 0.0001585791309863622, 'fran': 0.0001585791309863622, 'doggy': 0.0001585791309863622, 'now4t&': 7.92895654931811e-05, 'peak': 7.92895654931811e-05, 'hubby': 7.92895654931811e-05, 'november': 7.92895654931811e-05, 'collecting': 0.0001585791309863622, '10am-7pm': 7.92895654931811e-05, 'lazy': 0.0002378686964795433, 'ibiza': 7.92895654931811e-05, 'taxt': 0.0001585791309863622, 'fr': 0.0001585791309863622, 'instead': 0.0001585791309863622, 'gbp/week': 7.92895654931811e-05, '9yt': 7.92895654931811e-05, '07090298926': 7.92895654931811e-05, '07008009200': 7.92895654931811e-05, 'thin': 0.0001585791309863622, 'babygoodbye': 7.92895654931811e-05, 't&c': 7.92895654931811e-05, '&': 0.0002378686964795433, 'identifier': 7.92895654931811e-05, 'urself-': 0.0001585791309863622, 'weeks>': 7.92895654931811e-05, 'nok': 7.92895654931811e-05, '11': 7.92895654931811e-05, 'honeymoon': 0.0001585791309863622, '9': 0.0003171582619727244, 'garden': 7.92895654931811e-05, 'wwwasjesuscom': 7.92895654931811e-05, 'gossip': 7.92895654931811e-05, 'just': 0.0026958452267681573, 'lots': 0.0001585791309863622, '09066368753': 7.92895654931811e-05, 'roommates': 0.0001585791309863622, 'settle': 0.0001585791309863622, 'camera/video': 7.92895654931811e-05, '3qxj9': 7.92895654931811e-05, 'paris': 7.92895654931811e-05, 'xxsp': 7.92895654931811e-05, '0796xxxxxx': 7.92895654931811e-05, 'usual': 0.0002378686964795433, 'stopcost': 7.92895654931811e-05, 'ladiesu': 7.92895654931811e-05, 'unconscious': 0.0001585791309863622, 'wylie': 0.0001585791309863622, 'crack': 0.0001585791309863622, '89070': 7.92895654931811e-05, 'management': 0.0001585791309863622, 'bathe': 0.0002378686964795433, 'wats': 0.0002378686964795433, '4*': 7.92895654931811e-05, 'that‘s': 0.0001585791309863622, 'wings': 7.92895654931811e-05, '169': 7.92895654931811e-05, 'support': 7.92895654931811e-05, 'hor': 0.0001585791309863622, 'seem': 7.92895654931811e-05, 'gotta': 0.0002378686964795433, 'dontcha': 7.92895654931811e-05, '\\x93harry': 7.92895654931811e-05, '£900': 7.92895654931811e-05, 'videosounds+2': 7.92895654931811e-05, 'hotels': 7.92895654931811e-05, '81618-3': 7.92895654931811e-05, 'txts': 7.92895654931811e-05, 'british': 7.92895654931811e-05, 'tirunelvali': 0.0001585791309863622, '060505': 7.92895654931811e-05, 'opened': 0.0001585791309863622, 'sofa': 0.0001585791309863622, 'wwwldewcom': 7.92895654931811e-05, 'passion': 7.92895654931811e-05, '29/m': 7.92895654931811e-05, '100': 7.92895654931811e-05, 'wwwsmsac/u/nat27081980': 7.92895654931811e-05, 'joined': 7.92895654931811e-05, 'stairs': 0.0001585791309863622, 'nuerologist': 0.0001585791309863622, 'wkend': 7.92895654931811e-05, '09064015307': 7.92895654931811e-05, 'from': 0.0019822391373295273, '021': 7.92895654931811e-05, 'dot': 7.92895654931811e-05, 'services': 7.92895654931811e-05, 'deluxe': 7.92895654931811e-05, 'getting': 0.0005550269584522677, 'harlem': 0.0001585791309863622, 'slots': 0.0001585791309863622, 'bx420-ip4-5we': 7.92895654931811e-05, 'rays': 0.0003171582619727244, 'winning': 0.0002378686964795433, '40': 7.92895654931811e-05, 'gentle': 0.0001585791309863622, 'book': 0.0003964478274659055, 'natwest': 0.0001585791309863622, '21/11/04': 7.92895654931811e-05, '08002988890': 7.92895654931811e-05, 'had': 0.0003964478274659055, 'unfortunately': 0.0001585791309863622, 'downloads': 7.92895654931811e-05, 'splashmobile': 7.92895654931811e-05, 'barmed': 0.0001585791309863622, \"isn't\": 0.0002378686964795433, 'terms': 0.0002378686964795433, 'carlie': 7.92895654931811e-05, '87021': 7.92895654931811e-05, 'calldrove': 0.0001585791309863622, 'tonesreply': 7.92895654931811e-05, 'chic': 0.0001585791309863622, 'kallis': 0.0001585791309863622, '£450': 7.92895654931811e-05, '24/10/04': 7.92895654931811e-05, 'play': 0.0004757373929590866, 'might': 0.0003171582619727244, 'photo': 0.0001585791309863622, 'strokes': 7.92895654931811e-05, 'knickers': 7.92895654931811e-05, 'pookie': 0.0001585791309863622, 'minute': 0.0002378686964795433, 'large': 7.92895654931811e-05, 'buns': 0.0001585791309863622, 'heater': 0.0002378686964795433, 'become': 0.0001585791309863622, 'during': 0.0001585791309863622, 'gbp/sms': 7.92895654931811e-05, 'whose': 7.92895654931811e-05, 'ma': 0.0001585791309863622, 'breathe1': 7.92895654931811e-05, 'supply': 7.92895654931811e-05, 'something': 0.0008721852204249921, 'dey': 0.0001585791309863622, 'sms': 0.0003964478274659055, '08719180248': 7.92895654931811e-05, 'subscribe6gbp/mnth': 7.92895654931811e-05, '09061701461': 7.92895654931811e-05, 'stereophonics': 7.92895654931811e-05, 'found': 0.0001585791309863622, 'dining': 7.92895654931811e-05, '125gift': 7.92895654931811e-05, 'mornin': 0.0001585791309863622, 't&csc': 7.92895654931811e-05, 'these': 0.0002378686964795433, \"i'm\": 0.0029337139232477006, 'k': 0.0006343165239454488, '08717507382': 7.92895654931811e-05, '83738': 7.92895654931811e-05, 'blue': 0.0003964478274659055, 'diskyou': 0.0001585791309863622, 'friends': 0.0005550269584522677, 'accounting': 0.0001585791309863622, 'mat': 7.92895654931811e-05, 'awarded': 7.92895654931811e-05, 'enter': 0.0001585791309863622, \"tomocan't\": 0.0001585791309863622, 'icicibankcom': 0.0001585791309863622, 'degrees': 0.0001585791309863622, 'si': 0.0001585791309863622, 'charity': 7.92895654931811e-05, 'weeks': 7.92895654931811e-05, 'nookii': 7.92895654931811e-05, 'diff': 0.0001585791309863622, '09099726553': 7.92895654931811e-05, 'tc-llc': 7.92895654931811e-05, 'if': 0.004043767840152236, 'mids': 0.0001585791309863622, 'latest': 7.92895654931811e-05, 'protect': 0.0001585791309863622, 'user': 7.92895654931811e-05, 'la1': 7.92895654931811e-05, 'connection': 0.0001585791309863622, 'history': 0.0001585791309863622, 'txt250com': 7.92895654931811e-05, 'know': 0.0022201078338090706, 'c-red': 7.92895654931811e-05, 'pa': 0.0003964478274659055, 'phoned': 0.0001585791309863622, '82468': 7.92895654931811e-05, 'enjoyed': 0.0001585791309863622, 'dirty': 7.92895654931811e-05, 'wmlid=820554ad0a1705572711&first=true¡c': 7.92895654931811e-05, 'advise': 7.92895654931811e-05, 'done': 0.0004757373929590866, 'sol': 7.92895654931811e-05, 'mths': 7.92895654931811e-05, 'super': 7.92895654931811e-05, '09053750005': 7.92895654931811e-05, 'black': 7.92895654931811e-05, '087104711148': 7.92895654931811e-05, \"'terrorist'\": 0.0001585791309863622, 'calls£1/minmoremobsemspobox45po139wa': 7.92895654931811e-05, 'loved': 0.0003964478274659055, 'babysitting': 0.0001585791309863622, '2naughty': 0.0001585791309863622, 'armand': 0.0001585791309863622, '505060': 7.92895654931811e-05, 'helpline': 7.92895654931811e-05, 'ab': 7.92895654931811e-05, 'argh': 0.0001585791309863622, 'parties': 7.92895654931811e-05, 'mesages': 0.0001585791309863622, '4jx': 7.92895654931811e-05, 'ready': 0.0003171582619727244, '&amp': 0.0011100539169045353, '08081560665': 7.92895654931811e-05, 'txtauction': 7.92895654931811e-05, 'callcost': 7.92895654931811e-05, 'wherever': 0.0001585791309863622, 'ads': 7.92895654931811e-05, \"mum's\": 0.0001585791309863622, '+': 0.0002378686964795433, 'poured': 0.0001585791309863622, 'stylish': 0.0001585791309863622, 'sn': 7.92895654931811e-05, 'dom': 0.0001585791309863622, 'rite': 0.0002378686964795433, 'potential': 7.92895654931811e-05, 'sinco': 0.0001585791309863622, 'meeting': 0.0003171582619727244, 'mall': 0.0001585791309863622, '09071512432': 7.92895654931811e-05, 'simpsons': 7.92895654931811e-05, 'starwars3': 7.92895654931811e-05, 'http//alto18couk/wave/waveaspo=44345': 7.92895654931811e-05, 'porn': 7.92895654931811e-05, 'newest': 7.92895654931811e-05, '20p': 7.92895654931811e-05, '09061790125': 7.92895654931811e-05, 'inclu': 7.92895654931811e-05, 'ltdhelpdesk': 7.92895654931811e-05, 'voicemail': 7.92895654931811e-05, 'wwwringtonescouk': 7.92895654931811e-05, '80062': 7.92895654931811e-05, 'aiyah': 0.0002378686964795433, 'liverpool': 7.92895654931811e-05, '7684': 7.92895654931811e-05, '08714712394': 7.92895654931811e-05, '89034': 7.92895654931811e-05, 'messaging': 7.92895654931811e-05, 'while': 0.0002378686964795433, 'forgot': 0.000792895654931811, 'stamps': 0.0001585791309863622, 'video/pic': 7.92895654931811e-05, 'remember': 0.0004757373929590866, 'important': 0.0001585791309863622, 'tool': 0.0001585791309863622, 'ten': 0.0001585791309863622, 'twins': 0.0001585791309863622, 'bank': 0.0001585791309863622, 'x29': 7.92895654931811e-05, 'offers': 7.92895654931811e-05, '£5/month': 7.92895654931811e-05, '21st': 7.92895654931811e-05, 'subscribe': 7.92895654931811e-05, 'own': 0.0002378686964795433, 'weddingfriend': 7.92895654931811e-05, 'draw': 7.92895654931811e-05, 'm95': 7.92895654931811e-05, 'pai': 0.0001585791309863622, 'stamped': 7.92895654931811e-05, 'australia': 7.92895654931811e-05, 'chinchillas': 0.0001585791309863622, '2006': 7.92895654931811e-05, 'skip': 7.92895654931811e-05, 'txtx': 7.92895654931811e-05, 'tried': 7.92895654931811e-05, 'sf': 7.92895654931811e-05, 'barry': 7.92895654931811e-05, '-call': 7.92895654931811e-05, 'sen': 0.0001585791309863622, 'further': 7.92895654931811e-05, 'my-tonecom/enjoy': 7.92895654931811e-05, \"quote''\": 0.0001585791309863622, 'fa': 7.92895654931811e-05, 'sunday': 0.0002378686964795433, 'thru': 0.0002378686964795433, 'queries': 7.92895654931811e-05, 'my': 0.008483983507770377, 'quality': 7.92895654931811e-05, 'along': 0.0001585791309863622, 'strong': 7.92895654931811e-05, 'buzzzz': 0.0001585791309863622, 'billed': 7.92895654931811e-05, '83118': 7.92895654931811e-05, 'vouchers': 7.92895654931811e-05, 'prompts': 7.92895654931811e-05, 'easter': 7.92895654931811e-05, 'afternoon': 0.0003171582619727244, 'swat': 7.92895654931811e-05, 'trip': 0.0003171582619727244, '326': 7.92895654931811e-05, '07090201529': 7.92895654931811e-05, 'down': 0.0007136060894386299, 'savamob': 7.92895654931811e-05, '8pm': 7.92895654931811e-05, 'sorrow': 0.0001585791309863622, 'dnt': 0.0002378686964795433, \"we're\": 0.0001585791309863622, '02073162414': 7.92895654931811e-05, '“harry': 7.92895654931811e-05, '946': 7.92895654931811e-05, 'gsoh': 7.92895654931811e-05, 'nat': 7.92895654931811e-05, 'wktxt': 7.92895654931811e-05, 'ended': 0.0003171582619727244, 'john': 0.0002378686964795433, 'start': 0.0004757373929590866, '84025': 7.92895654931811e-05, 'alerts': 7.92895654931811e-05, 'three': 0.0001585791309863622, 'fixes': 0.0001585791309863622, 'sender': 7.92895654931811e-05, 'a-green': 7.92895654931811e-05, '20p/min': 7.92895654931811e-05, '3xx': 7.92895654931811e-05, '3uz': 7.92895654931811e-05, 'adam': 7.92895654931811e-05, 'kaypoh': 0.0001585791309863622, 'wwwclubzedcouk': 7.92895654931811e-05, '69855': 7.92895654931811e-05, 'question': 0.0001585791309863622, 'dislikes': 0.0001585791309863622, 'neighbor': 0.0001585791309863622, 'wwwcnupdatescom/newsletter': 7.92895654931811e-05, 'reunion': 0.0001585791309863622, 'california': 0.0001585791309863622, 'lingerie': 7.92895654931811e-05, 'wins': 7.92895654931811e-05, 'charges': 7.92895654931811e-05, 'as': 0.0020615287028227084, 'tomorrow': 0.0011893434823977164, 'upload': 0.0001585791309863622, '89080': 7.92895654931811e-05, 'mid': 0.0002378686964795433, 'self': 7.92895654931811e-05, '0870753331018+': 7.92895654931811e-05, 'ultimate': 7.92895654931811e-05, 'summers': 7.92895654931811e-05, 'fine': 0.0007136060894386299, '80878': 7.92895654931811e-05, 'fault': 0.0001585791309863622, 'juz': 0.0002378686964795433, 'sae': 7.92895654931811e-05, 'subscrition': 7.92895654931811e-05, 'x': 0.0003171582619727244, 'go': 0.0022201078338090706, 'trash': 0.0001585791309863622, 'bb': 0.0001585791309863622, 'http//wwwgr8prizescom': 7.92895654931811e-05, 'packalso': 0.0001585791309863622, 'mum': 0.0002378686964795433, 'lotr': 7.92895654931811e-05, '08718711108': 7.92895654931811e-05, 'wwworangecouk/ow': 7.92895654931811e-05, '450p': 7.92895654931811e-05, '2nights': 7.92895654931811e-05, 'hol': 7.92895654931811e-05, '6wu': 7.92895654931811e-05, 'dave': 7.92895654931811e-05, 'ask-': 0.0001585791309863622, 'dubsack': 0.0001585791309863622, 'phone750': 7.92895654931811e-05, 'bahamas': 7.92895654931811e-05, '|': 0.0003171582619727244, 'attach': 0.0001585791309863622, '01223585334': 7.92895654931811e-05, 'nokia6600': 7.92895654931811e-05, '#5000': 7.92895654931811e-05, 'euro': 7.92895654931811e-05, '150pm': 7.92895654931811e-05, 'adults': 0.0001585791309863622, '2stoptxt': 7.92895654931811e-05, 'worry': 0.0002378686964795433, 'work': 0.001585791309863622, 'wan2': 7.92895654931811e-05, 'missionary': 0.0001585791309863622, 'standard': 7.92895654931811e-05, 'law': 0.0001585791309863622, 'wa14': 7.92895654931811e-05, '87575': 7.92895654931811e-05, 'thanxxx': 0.0001585791309863622, '09064017295': 7.92895654931811e-05, 'source': 0.0001585791309863622, 'lesson': 0.0002378686964795433, 'freaking': 0.0001585791309863622, 'develop': 0.0001585791309863622, '$500': 7.92895654931811e-05, 'trying': 0.0003171582619727244, 'valentines': 0.0002378686964795433, 'cloud': 0.0001585791309863622, 'bw': 0.0001585791309863622, 'nt': 7.92895654931811e-05, 'tree': 0.0001585791309863622, 'acl03530150pm': 7.92895654931811e-05, 'poly': 7.92895654931811e-05, 'quickly': 0.0001585791309863622, 'smth': 0.0003964478274659055, '>>>more': 7.92895654931811e-05, 'dict': 0.0001585791309863622, 'todaydo': 0.0001585791309863622, 'bck': 0.0001585791309863622, 'deliveredtomorrow': 7.92895654931811e-05, 'salary': 0.0001585791309863622, 'any': 0.0011893434823977164, '220-cm2': 7.92895654931811e-05, 'd': 0.0010307643514113542, 'link': 7.92895654931811e-05, 'asap': 0.0001585791309863622, 'i‘m': 0.0001585791309863622, 'leona': 0.0001585791309863622, '0845': 7.92895654931811e-05, 'uu': 7.92895654931811e-05, 'valid12hrs': 7.92895654931811e-05, 'login': 7.92895654931811e-05, 'unable': 0.0001585791309863622, 'suite': 7.92895654931811e-05, 'worth': 7.92895654931811e-05, 'listening': 7.92895654931811e-05, 'survey': 7.92895654931811e-05, '26/11/04': 7.92895654931811e-05, 'lonely': 7.92895654931811e-05, 'land': 7.92895654931811e-05, 'pobox1': 7.92895654931811e-05, '08709222922': 7.92895654931811e-05, 'drawplease': 7.92895654931811e-05, 'finest': 7.92895654931811e-05, '22': 7.92895654931811e-05, 'original': 7.92895654931811e-05, 'see': 0.0011893434823977164, '09099726481': 7.92895654931811e-05, 'n-gage': 7.92895654931811e-05, '69911£150p': 7.92895654931811e-05, \"see's\": 0.0001585791309863622, '24hrs': 7.92895654931811e-05, 'rate': 7.92895654931811e-05, '69698': 7.92895654931811e-05, 'period': 0.0001585791309863622, 'interviews': 0.0001585791309863622, 'sonyericsson': 7.92895654931811e-05, 'silly': 0.0001585791309863622, 'processed': 7.92895654931811e-05, 'xmas': 0.0005550269584522677, 'snappy': 7.92895654931811e-05, 'sms-08718727870': 7.92895654931811e-05, 'box245c2150pm': 7.92895654931811e-05, '4get': 0.0002378686964795433, 'for': 0.004360926102124961, '69969': 7.92895654931811e-05, 'his': 0.000792895654931811, '7': 0.0002378686964795433, 'would': 0.0005550269584522677, 'cares': 0.0001585791309863622, 'cst': 7.92895654931811e-05, 'sprwm': 7.92895654931811e-05, 'treats': 0.0001585791309863622, 'hit': 0.0001585791309863622, 'discount': 0.0001585791309863622, 'vid': 7.92895654931811e-05, 'box434sk38wp150ppm18+': 7.92895654931811e-05, 'mini': 7.92895654931811e-05, 'rechargerakhesh': 0.0001585791309863622, 'ppt150x3+normal': 7.92895654931811e-05, '3030': 7.92895654931811e-05, '1mcfly-all': 7.92895654931811e-05, 'ringtone-get': 7.92895654931811e-05, 'distance': 0.0002378686964795433, 'house': 0.0002378686964795433, \"kki'm\": 0.0001585791309863622, 'raining': 0.0001585791309863622, 'apply2': 7.92895654931811e-05, 'unsub': 7.92895654931811e-05, '87121': 7.92895654931811e-05, 'bitch': 7.92895654931811e-05, 'sun': 0.0002378686964795433, 'teletext': 7.92895654931811e-05, 'stone': 0.0001585791309863622, 'mix': 7.92895654931811e-05, '£1000call': 7.92895654931811e-05, '18+': 7.92895654931811e-05, 'money': 0.0003964478274659055, 'num': 0.0001585791309863622, 'n': 0.0013479226133840787, 'cmon': 7.92895654931811e-05, '42049': 7.92895654931811e-05, 'jorge-shock': 7.92895654931811e-05, 'worlds': 7.92895654931811e-05, '09050280520': 7.92895654931811e-05, 'mon': 0.0001585791309863622, 'challenge': 0.0001585791309863622, 'died': 0.0001585791309863622, 'hi': 0.001665080875356803, 'replied': 7.92895654931811e-05, 'elephant': 0.0001585791309863622, 'cd': 7.92895654931811e-05, 'scratching': 0.0001585791309863622, 'laid': 7.92895654931811e-05, '09066358152': 7.92895654931811e-05, '09064011000': 7.92895654931811e-05, 'll': 7.92895654931811e-05, '08000776320': 7.92895654931811e-05, '09058094455': 7.92895654931811e-05, 'yoville': 0.0001585791309863622, 'smiling': 0.0003171582619727244, '3mobile': 7.92895654931811e-05, 'actor': 0.0001585791309863622, '0825': 7.92895654931811e-05, 'secretly': 7.92895654931811e-05, 'seems': 0.0002378686964795433, 'celebrate': 0.0001585791309863622, '09065171142-stopsms-08718727870150ppm': 7.92895654931811e-05, 'running': 7.92895654931811e-05, 'first': 0.000792895654931811, 'elvis': 7.92895654931811e-05, 'w8in': 7.92895654931811e-05, 'evone': 0.0001585791309863622, 'mjzgroup': 7.92895654931811e-05, 'customersqueries@netvisionukcom': 7.92895654931811e-05, 'mens': 7.92895654931811e-05, 'list': 0.0001585791309863622, 'mre': 7.92895654931811e-05, 'itz': 0.0001585791309863622, '09050000332': 7.92895654931811e-05, \"unicef's\": 7.92895654931811e-05, 'movies': 0.0001585791309863622, 'mfl': 7.92895654931811e-05, 'nytec2a3lpmsg@150p': 7.92895654931811e-05, 'this': 0.0026958452267681573, 'out': 0.0019822391373295273, 'kkwhat': 0.0001585791309863622, 'princess': 0.0003171582619727244, 'comuk220cm2': 7.92895654931811e-05, 'ave': 7.92895654931811e-05, 'of£2000': 7.92895654931811e-05, 'people': 0.0005550269584522677, '=': 7.92895654931811e-05, 'lovely': 0.0003964478274659055, 'invoices': 0.0001585791309863622, 'ig11': 7.92895654931811e-05, 'logo': 7.92895654931811e-05, 'blonde': 7.92895654931811e-05, 'safe': 0.0003964478274659055, 'apply': 7.92895654931811e-05, 'general': 0.0001585791309863622, '£500': 7.92895654931811e-05, 'o': 0.0002378686964795433, 'played': 7.92895654931811e-05, 'what': 0.0027751347922613384, 'foreign': 0.0001585791309863622, 'ag': 7.92895654931811e-05, '£125': 7.92895654931811e-05, 'coincidence': 7.92895654931811e-05, 'sept': 7.92895654931811e-05, 'mins/texts': 7.92895654931811e-05, 'mystery': 0.0001585791309863622, 'yahoo': 7.92895654931811e-05, 'auction': 0.0001585791309863622, 'matches': 7.92895654931811e-05, 'getstop': 7.92895654931811e-05, 'ba128nnfwfly150ppm': 7.92895654931811e-05, '06': 7.92895654931811e-05, '1956669': 7.92895654931811e-05, 'w111wx': 7.92895654931811e-05, 'phone': 0.000792895654931811, 'mins': 0.0002378686964795433, '400': 7.92895654931811e-05, 'prospects': 0.0002378686964795433, '09061701851': 7.92895654931811e-05, '150p/wk': 7.92895654931811e-05, 'it‘s': 0.0002378686964795433, '150p/sms': 7.92895654931811e-05, 'leaving': 0.0001585791309863622, 'normally': 0.0001585791309863622, 'footie': 0.0001585791309863622, 'tcr/w1': 7.92895654931811e-05, 'm6': 7.92895654931811e-05, 'fit': 0.0002378686964795433, 'lord': 7.92895654931811e-05, 'entry': 7.92895654931811e-05, 'babes': 0.0001585791309863622, '£200': 7.92895654931811e-05, 'no-434': 7.92895654931811e-05, 'promo': 7.92895654931811e-05, '09061221061': 7.92895654931811e-05, '28days': 7.92895654931811e-05, 'patent': 0.0001585791309863622, 'title': 7.92895654931811e-05, 'spider-man': 7.92895654931811e-05, 'wanted': 0.0004757373929590866, 'cup': 0.0001585791309863622, 'year': 0.0005550269584522677, 'optin': 7.92895654931811e-05, '<forwarded': 7.92895654931811e-05, 'bray': 7.92895654931811e-05, 'mobstorequiz10ppm': 7.92895654931811e-05, 'p': 0.0001585791309863622, '09058091870': 7.92895654931811e-05, '18p/txt': 7.92895654931811e-05, 'massagetie-pos': 0.0001585791309863622, 'noe': 0.0005550269584522677, 'officer': 0.0001585791309863622, 'portal': 0.0001585791309863622, 'rally': 7.92895654931811e-05, 'lies': 0.0001585791309863622, 'wkly': 7.92895654931811e-05, 'press': 7.92895654931811e-05, 'nokia': 0.0001585791309863622, 'lar': 0.0004757373929590866, '08448350055': 7.92895654931811e-05, 'smoke': 0.0003171582619727244, 'size': 0.0001585791309863622, 'call2optout/yhl': 7.92895654931811e-05, '09063442151': 7.92895654931811e-05, 'bathing': 0.0001585791309863622, 'currently': 7.92895654931811e-05, 'tel': 0.0002378686964795433, 'avoiding': 0.0001585791309863622, \"i'd\": 0.0001585791309863622, 'heroes': 7.92895654931811e-05, 'invited': 7.92895654931811e-05, 'wwwsmsac/u/goldviking': 7.92895654931811e-05, 'wwwtxt82228com': 7.92895654931811e-05, '08717898035': 7.92895654931811e-05, '09065171142-stopsms-08': 7.92895654931811e-05, 'reserve': 0.0001585791309863622, \"mom's\": 0.0001585791309863622, 'chatter': 7.92895654931811e-05, 'woulda': 0.0001585791309863622, '08000938767': 7.92895654931811e-05, 'password': 0.0002378686964795433, '09111030116': 7.92895654931811e-05, 'urgentlyits': 0.0001585791309863622, 'zoe': 7.92895654931811e-05, 'everyone': 0.0003171582619727244, 'walls': 0.0002378686964795433, 'adsense': 0.0001585791309863622, 'wwwsmsconet': 7.92895654931811e-05, '12mths': 7.92895654931811e-05, 'pocketbabecouk': 7.92895654931811e-05, 'violet': 7.92895654931811e-05, 'uks': 7.92895654931811e-05, 'tenerife': 7.92895654931811e-05, 'forevr': 0.0001585791309863622, '150p/day': 7.92895654931811e-05, 'strt': 7.92895654931811e-05, 'h': 0.0001585791309863622, 'coherently': 0.0001585791309863622, 'usualiam': 0.0001585791309863622, 'infra': 0.0001585791309863622, '08704439680ts&cs': 7.92895654931811e-05, 'xxxxx': 7.92895654931811e-05, '150p/mtmsg': 7.92895654931811e-05, 't&cs/stop': 7.92895654931811e-05, 'nit': 0.0001585791309863622, 'impossible': 0.0002378686964795433, 'goodies': 7.92895654931811e-05, 'boston': 0.0002378686964795433, 'conditions': 0.0001585791309863622, '09058094594': 7.92895654931811e-05, '09061743811': 7.92895654931811e-05, '09066362220': 7.92895654931811e-05, '84484': 7.92895654931811e-05, 'beautiful': 0.0003964478274659055, 'prices': 0.0001585791309863622, 'week': 0.0009514747859181732, 'one': 0.0019029495718363464, 'code4xx26': 7.92895654931811e-05, 'fraction': 7.92895654931811e-05, 'cruise': 0.0001585791309863622, 'real1': 7.92895654931811e-05, 'with': 0.002457976530288614, 'ring': 0.0001585791309863622, 'wallpaper': 7.92895654931811e-05, 'reveal': 7.92895654931811e-05, '£50award': 7.92895654931811e-05, '87131': 7.92895654931811e-05, \"08452810075over18's\": 7.92895654931811e-05, '8800': 7.92895654931811e-05, 'buddys': 7.92895654931811e-05, 'thanx': 0.0001585791309863622, 'txting': 7.92895654931811e-05, '0121': 7.92895654931811e-05, \"moon's\": 7.92895654931811e-05, 'opinions': 7.92895654931811e-05, 'serious': 0.0001585791309863622, 'making': 0.0003171582619727244, 'arsenal': 7.92895654931811e-05, 'request': 7.92895654931811e-05, \"blake's\": 0.0002378686964795433, 'wrongtake': 0.0001585791309863622, 'bt': 0.0002378686964795433, 'engaged': 0.0001585791309863622, 'pod': 7.92895654931811e-05, 'types': 7.92895654931811e-05, '87070': 7.92895654931811e-05, 'jordantxt': 7.92895654931811e-05, 'boys': 7.92895654931811e-05, 'chik': 7.92895654931811e-05, 'removed': 7.92895654931811e-05, 'strange': 0.0001585791309863622, 'wildest': 7.92895654931811e-05, '80086': 7.92895654931811e-05, 'network': 0.0002378686964795433, '2u': 7.92895654931811e-05, '10p/min': 7.92895654931811e-05, '08450542832': 7.92895654931811e-05, '08718730555': 7.92895654931811e-05, 'wit': 0.0002378686964795433, 'videosound': 7.92895654931811e-05, 'including': 0.0001585791309863622, 'pages': 0.0001585791309863622, 'yar': 0.0003171582619727244, 'eight': 0.0001585791309863622, 'good': 0.0020615287028227084, '30pp/txt': 7.92895654931811e-05, 'tot': 0.0003964478274659055, 'about': 0.0018236600063431653, 'nr31': 7.92895654931811e-05, 'cost£375max': 7.92895654931811e-05, 'recd@thirtyeight': 7.92895654931811e-05, 'access': 7.92895654931811e-05, '4rowdy': 0.0001585791309863622, 'speed': 7.92895654931811e-05, 'studying': 0.0001585791309863622, 'mobcudb': 7.92895654931811e-05, 'fromm': 7.92895654931811e-05, 'instantly': 7.92895654931811e-05, 'surely': 0.0002378686964795433, 'attempt': 0.0001585791309863622, 'station': 7.92895654931811e-05, 'box97n7qp': 7.92895654931811e-05, 'norcorp': 7.92895654931811e-05, 'cost': 0.0001585791309863622, 'willing': 0.0002378686964795433, '–': 0.0002378686964795433, 'break': 0.0001585791309863622, 'u-find': 7.92895654931811e-05, 'arrow': 7.92895654931811e-05, 'guild': 0.0001585791309863622, 'note': 0.0001585791309863622, 'fingers': 0.0001585791309863622, 'incredible': 7.92895654931811e-05, 'stewartsize': 7.92895654931811e-05, 'revealed': 7.92895654931811e-05, 'unique': 7.92895654931811e-05, 'meatballs': 0.0001585791309863622, 'half8th': 0.0001585791309863622, 'legitimat': 7.92895654931811e-05, 'uncle': 0.0001585791309863622, '08081263000': 7.92895654931811e-05, '08714712379': 7.92895654931811e-05, 'sib': 0.0001585791309863622, 'woodland': 0.0001585791309863622, 'cashbincouk': 7.92895654931811e-05, 'bring': 0.0002378686964795433, 'interesting': 0.0001585791309863622, \"s'fine\": 0.0001585791309863622, 'xxuk': 7.92895654931811e-05, '4press': 0.0001585791309863622, 'no-440': 7.92895654931811e-05, 'tampa': 0.0001585791309863622, '08715203694': 7.92895654931811e-05, 'ldn': 7.92895654931811e-05, 'shracomorsglsuplt10': 7.92895654931811e-05, 'booking': 7.92895654931811e-05, 'coimbatore': 0.0001585791309863622, 'official': 7.92895654931811e-05, 'hrs': 7.92895654931811e-05, 'dresser': 0.0001585791309863622, '2003': 7.92895654931811e-05, '08719899229': 7.92895654931811e-05, 'burgundy': 0.0001585791309863622, 'vomiting': 0.0001585791309863622, 'special': 0.0003171582619727244, 'booked': 0.0003171582619727244, 'ppm': 7.92895654931811e-05, 'living': 0.0002378686964795433, '£100': 7.92895654931811e-05, '078': 7.92895654931811e-05, '18+6*£150morefrmmob': 7.92895654931811e-05, 'wwwcomuknet': 7.92895654931811e-05, 'case': 0.0002378686964795433, 'within': 0.0001585791309863622, '08718720201': 7.92895654931811e-05, 'housewives': 7.92895654931811e-05, 'eg': 7.92895654931811e-05, 'ignorant': 0.0001585791309863622, 'distract': 0.0001585791309863622, 'sorry': 0.0017443704408499842, 'pg': 7.92895654931811e-05, 'draws': 7.92895654931811e-05, 'scotsman': 7.92895654931811e-05, '10/06/03': 7.92895654931811e-05, 'inclusive': 7.92895654931811e-05, 'approved': 0.0001585791309863622, 'points': 0.0001585791309863622, 'deltomorrow': 7.92895654931811e-05, '07123456789': 7.92895654931811e-05, 'make': 0.0007136060894386299, 'anywhere': 0.0001585791309863622, 'ate': 0.0001585791309863622, 'at': 0.003092293054234063, '2px': 7.92895654931811e-05, 'pap': 0.0001585791309863622, 'sony': 7.92895654931811e-05, 'photos': 0.0002378686964795433, 'please': 0.0011100539169045353, 'w14rg': 7.92895654931811e-05, '08712402578': 7.92895654931811e-05, 'lead': 0.0001585791309863622, 'art': 0.0001585791309863622, '08712405022': 7.92895654931811e-05, '08717205546': 7.92895654931811e-05, 'licks': 0.0001585791309863622, 'trav': 7.92895654931811e-05, 'vu': 7.92895654931811e-05, 'shortage': 0.0001585791309863622, 'dating': 7.92895654931811e-05, 'plyr': 7.92895654931811e-05, 'song-': 0.0001585791309863622, 'who': 0.0007136060894386299, '81010': 7.92895654931811e-05, 'folks': 7.92895654931811e-05, '08715705022': 7.92895654931811e-05, 'agency': 0.0001585791309863622, 'call2optout/hf8': 7.92895654931811e-05, 'mk45': 7.92895654931811e-05, 'india': 0.0001585791309863622, 'loan': 0.0001585791309863622, 'woke': 0.0003171582619727244, 'must': 0.0002378686964795433, 'gets': 0.0002378686964795433, 'project': 0.0003964478274659055, '30': 7.92895654931811e-05, '09071512433': 7.92895654931811e-05, 'trust': 0.0002378686964795433, 'floppy': 7.92895654931811e-05, 'gaytextbuddycom': 7.92895654931811e-05, '3680offer': 7.92895654931811e-05, 'different': 0.0001585791309863622, 'never': 0.0005550269584522677, 'show': 0.0003964478274659055, '$50': 0.0001585791309863622, 'selected': 7.92895654931811e-05, 'dog': 0.0001585791309863622, 'renewed': 7.92895654931811e-05, 'working': 0.0001585791309863622, 'tell': 0.0012686330478908975, 'abt': 0.0003171582619727244, '4fil': 7.92895654931811e-05, 'together': 0.0002378686964795433, 'box139': 7.92895654931811e-05, '*turn*': 7.92895654931811e-05, 'august': 7.92895654931811e-05, 'f': 0.0001585791309863622, 'fall': 7.92895654931811e-05, 'crazy': 0.0003171582619727244, '1er': 7.92895654931811e-05, 'conacted': 7.92895654931811e-05, 'closer': 0.0001585791309863622, '6missed': 0.0001585791309863622, '09065989180': 7.92895654931811e-05, 'dvd': 7.92895654931811e-05, 'tariffs': 7.92895654931811e-05, 'expression': 0.0001585791309863622, 'messages-text': 7.92895654931811e-05, 'fantasy': 7.92895654931811e-05, 'cochin': 0.0002378686964795433, 'saibaba': 0.0001585791309863622, 'be': 0.003250872185220425, 'real': 0.0004757373929590866, 'prescripiton': 7.92895654931811e-05, 'justbeen': 0.0001585791309863622, '£1250': 7.92895654931811e-05, 'dane': 0.0001585791309863622, 'motorola': 0.0001585791309863622, 'urgh': 0.0001585791309863622, 'find': 0.0006343165239454488, '08718726971': 7.92895654931811e-05, 'scrounge': 0.0001585791309863622, 'ideas': 0.0001585791309863622, 'bloo': 0.0003171582619727244, '9am-11pm': 7.92895654931811e-05, 'ystrdayice': 0.0001585791309863622, '-msg': 7.92895654931811e-05, 'maybe': 0.0003171582619727244, 'un-redeemed': 7.92895654931811e-05, 'b4280703': 7.92895654931811e-05, 'xxxmobilemovieclubcomn=qjkgighjjgcbl': 7.92895654931811e-05, 'dearregret': 0.0001585791309863622, 'laughing': 0.0003171582619727244, 'outstanding': 0.0001585791309863622, 'yrs': 0.0001585791309863622, '5/9/03': 7.92895654931811e-05, 'rock': 7.92895654931811e-05, 'six': 7.92895654931811e-05, 'ü': 0.0020615287028227084, 'mine': 0.0002378686964795433, 'toothpaste': 0.0001585791309863622, 'meet': 0.0007136060894386299, 'extreme': 7.92895654931811e-05, \"*i'm\": 0.0001585791309863622, 'top': 0.0001585791309863622, 'regard': 7.92895654931811e-05, '145': 7.92895654931811e-05, '08701417012': 7.92895654931811e-05, 'i': 0.02093244529019981, 'passwordsatm/sms': 0.0001585791309863622, 'parish': 0.0001585791309863622, 'okmail': 7.92895654931811e-05, 'euro2004': 7.92895654931811e-05, 'cashto': 7.92895654931811e-05, \"ratet&c's\": 7.92895654931811e-05, 'fink': 7.92895654931811e-05, '2c': 7.92895654931811e-05, 'dena': 7.92895654931811e-05, 'bang': 0.0001585791309863622, 'holla': 0.0001585791309863622, 'boost': 0.0001585791309863622, 'finishing': 0.0001585791309863622, 'showers': 0.0001585791309863622, '£400': 7.92895654931811e-05, 'tight': 0.0001585791309863622, 'leadership': 7.92895654931811e-05, '&lt#&gt': 0.003171582619727244, 'pouch': 0.0001585791309863622, 'cinema': 7.92895654931811e-05, 'shag': 7.92895654931811e-05, '08718726970': 7.92895654931811e-05, '13/4/04': 7.92895654931811e-05, 'next': 0.0004757373929590866, '89938': 7.92895654931811e-05, 'renewal': 7.92895654931811e-05, '1-month': 7.92895654931811e-05, 'pobox114/14tcr/w1': 7.92895654931811e-05, 'and/or': 0.0001585791309863622, 'president': 7.92895654931811e-05, 'spider': 7.92895654931811e-05, '114/14': 7.92895654931811e-05, 'twenty': 0.0001585791309863622, '0808': 7.92895654931811e-05, '864233': 7.92895654931811e-05, 'frog': 7.92895654931811e-05, '82324': 7.92895654931811e-05, 'minded': 7.92895654931811e-05, '150p/msgrcvdhg/suite342/2lands/row/w1j6hl': 7.92895654931811e-05, 'remind': 0.0001585791309863622, 'vary': 7.92895654931811e-05, 'membership': 7.92895654931811e-05, 'presence': 7.92895654931811e-05, '09064019014': 7.92895654931811e-05, 'sex': 7.92895654931811e-05, 'adventuring': 0.0001585791309863622, 'oil': 0.0001585791309863622, 'liked': 0.0001585791309863622, 'directly': 0.0001585791309863622, 'later': 0.0015065017443704409, 'dentists': 0.0001585791309863622, 'redeemable': 7.92895654931811e-05, 'success': 0.0001585791309863622, 'cuz': 0.0002378686964795433, 'southern': 0.0001585791309863622, 'we‘ll': 0.0001585791309863622, 'neville': 0.0001585791309863622, 'aiyo': 0.0002378686964795433, \"si'm\": 0.0001585791309863622, 'sell': 7.92895654931811e-05, 'thought': 0.0002378686964795433, 'sure': 0.0007136060894386299, 'calls150ppm': 7.92895654931811e-05, 'promised': 7.92895654931811e-05, 'nowcan': 0.0001585791309863622, '2untamed': 7.92895654931811e-05, 'box': 7.92895654931811e-05, 'fact': 7.92895654931811e-05, 'double': 7.92895654931811e-05, 'river': 0.0001585791309863622, 'colour': 7.92895654931811e-05, 'smile': 0.0007136060894386299, '@kiosk': 7.92895654931811e-05, 'only': 0.0010307643514113542, 'gwr': 0.0001585791309863622, 'wc1n': 7.92895654931811e-05, 'c52': 7.92895654931811e-05, 'yesfrom': 0.0001585791309863622, 'concert': 7.92895654931811e-05, 'margaret': 0.0001585791309863622, 'gpu': 0.0001585791309863622, 'buy': 0.000792895654931811, 'bian': 0.0001585791309863622, 'homeowners': 7.92895654931811e-05, 'sent': 0.0009514747859181732, 'specially': 7.92895654931811e-05, \"t's&c's\": 7.92895654931811e-05, '6romantic': 0.0001585791309863622, 'ni8swt': 0.0001585791309863622, 'tog': 0.0001585791309863622, 'cost£150/pm': 7.92895654931811e-05, '£1500': 7.92895654931811e-05, 'herself': 7.92895654931811e-05, 'started': 0.0001585791309863622, '121': 7.92895654931811e-05, 'naughty': 0.0001585791309863622, '32/f': 7.92895654931811e-05, 'dude': 0.0001585791309863622, 'hottest': 7.92895654931811e-05, '09050005321': 7.92895654931811e-05, '450ppw': 7.92895654931811e-05, 'travel': 7.92895654931811e-05, '06/11/04': 7.92895654931811e-05, 'leaves': 0.0003171582619727244, '/oz': 0.0001585791309863622, 'info@vipclub4u': 7.92895654931811e-05, \"there're\": 0.0001585791309863622, '80122300p/wk': 7.92895654931811e-05, 'lyricalladie21/f': 7.92895654931811e-05, 'flash': 0.0001585791309863622, 'canary': 7.92895654931811e-05, 'near': 0.0001585791309863622, 'slo': 7.92895654931811e-05, \"how's\": 0.0006343165239454488, '£150': 7.92895654931811e-05, 'term': 7.92895654931811e-05, 'action': 7.92895654931811e-05, 'mouth': 0.0001585791309863622, '08707509020': 7.92895654931811e-05, '24m': 7.92895654931811e-05, 'videos': 7.92895654931811e-05, 'jus': 0.0005550269584522677, '09094100151': 7.92895654931811e-05, '07099833605': 7.92895654931811e-05, 'recognise': 0.0001585791309863622, 'dial': 7.92895654931811e-05, 'condition': 7.92895654931811e-05, 'impressively': 0.0001585791309863622, '1st': 0.0001585791309863622, 'wwwtxt43com': 7.92895654931811e-05, 'change': 0.0003964478274659055, 'b-blue': 7.92895654931811e-05, 'starting': 7.92895654931811e-05, 'drvgsto': 7.92895654931811e-05, 'p£399': 7.92895654931811e-05, 'colours': 7.92895654931811e-05, 'holidayso': 0.0001585791309863622, '<ukp>2000': 7.92895654931811e-05, '0906346330': 7.92895654931811e-05, 'away': 0.0003171582619727244, 'right': 0.0008721852204249921, '2channel': 7.92895654931811e-05, 'fave': 0.0001585791309863622, 'pobox45w2tg150p': 7.92895654931811e-05, 'valid': 7.92895654931811e-05, 'current': 0.0001585791309863622, 'begging': 0.0001585791309863622, '542': 7.92895654931811e-05, 'names': 7.92895654931811e-05, 'misscall': 0.0001585791309863622, 'cs': 7.92895654931811e-05, 'changes': 0.0001585791309863622, \"don't\": 0.0014272121788772598, 'resubmit': 7.92895654931811e-05, 'nikiyu4net': 7.92895654931811e-05, 'confused': 0.0001585791309863622, 'friend': 0.0002378686964795433, \"'comfort'\": 0.0001585791309863622, 'didn\\x92t': 0.0001585791309863622, '118p/msg': 7.92895654931811e-05, 'bluetooth': 7.92895654931811e-05, 'magazine': 0.0001585791309863622, 'tacos': 0.0001585791309863622, 'personality': 0.0001585791309863622, 'videochat': 7.92895654931811e-05, 'personal': 7.92895654931811e-05, '09050000555': 7.92895654931811e-05, 'nasty': 7.92895654931811e-05, 'fones': 7.92895654931811e-05, 'instructions': 7.92895654931811e-05, 'keeping': 0.0001585791309863622, 'run': 0.0003171582619727244, 'stu': 0.0001585791309863622, '09066380611': 7.92895654931811e-05, 'always': 0.0008721852204249921, 'anytime': 0.0001585791309863622, 'mobiles': 7.92895654931811e-05, 'no83355': 7.92895654931811e-05, 'alert': 7.92895654931811e-05, '*grins*': 0.0003964478274659055, 'and': 0.009276879162702189, 'thousands': 7.92895654931811e-05, 'logos+musicnews': 7.92895654931811e-05, 'hence': 0.0001585791309863622, 'tackle': 0.0001585791309863622, 'follows': 7.92895654931811e-05, 'prizeto': 7.92895654931811e-05, 'channel': 7.92895654931811e-05, 'lounge': 7.92895654931811e-05, '*a': 0.0001585791309863622, 'fri': 7.92895654931811e-05, 'meaning': 0.0002378686964795433, '123': 7.92895654931811e-05, 'smashed': 7.92895654931811e-05, 'sunshine': 7.92895654931811e-05, 'captaining': 0.0001585791309863622, 'sport': 7.92895654931811e-05, 'either': 0.0001585791309863622, '08704439680': 7.92895654931811e-05, 'asian': 7.92895654931811e-05, 'nowt&cs': 7.92895654931811e-05, 'bcoz': 0.0002378686964795433, 'when': 0.0030130034887408817, 'hurry': 0.0001585791309863622, 'prizeawaiting': 7.92895654931811e-05, '08718726270150gbp/mtmsg18': 7.92895654931811e-05, 'thinks': 7.92895654931811e-05, 'yest': 0.0002378686964795433, 'del': 7.92895654931811e-05, '09061104276': 7.92895654931811e-05, 'hmmmstill': 0.0001585791309863622, 'charge': 0.0003171582619727244, 'another': 0.0004757373929590866, 'name1': 7.92895654931811e-05, 'meetins': 7.92895654931811e-05, 'sipix': 7.92895654931811e-05, 'satisfy': 7.92895654931811e-05, '10ppm': 7.92895654931811e-05, 'shake': 0.0001585791309863622, 'yeah': 0.000792895654931811, 'call': 0.003092293054234063, 'avenue': 0.0001585791309863622, '61200': 7.92895654931811e-05, 'head': 0.0003171582619727244, '6zf': 7.92895654931811e-05, '13/10/04': 7.92895654931811e-05, 'ou': 7.92895654931811e-05, 'audiitions': 0.0001585791309863622, '80182': 7.92895654931811e-05, 'row': 7.92895654931811e-05, 'wwwringtonekingcouk': 7.92895654931811e-05, 'gail': 0.0001585791309863622, \"t&c's\": 7.92895654931811e-05, 'bloodsend': 0.0001585791309863622, 'gained': 0.0001585791309863622, '450': 7.92895654931811e-05, '195': 7.92895654931811e-05, 'buzz': 0.0003171582619727244, 'anythiing': 0.0001585791309863622, 'literally': 0.0001585791309863622, 'cloth': 0.0001585791309863622, 'envy': 0.0001585791309863622, 'dps': 7.92895654931811e-05, 'capital': 7.92895654931811e-05, 'teach': 0.0001585791309863622, '+447797706009': 7.92895654931811e-05, 'early': 0.0004757373929590866, '08002986030': 7.92895654931811e-05, 'lessons': 0.0001585791309863622, 'dialling': 7.92895654931811e-05, '80608': 7.92895654931811e-05, \"'uptown\": 7.92895654931811e-05, 'bcm4284': 7.92895654931811e-05, 'loyalty': 7.92895654931811e-05, 'frndship': 0.0001585791309863622, 'entitled': 7.92895654931811e-05, \"didn't\": 0.0006343165239454488, 'online': 0.0003964478274659055, 'december': 7.92895654931811e-05, 'sooner': 0.0001585791309863622, 'set': 0.0003964478274659055, 'ls1': 7.92895654931811e-05, 'jesus': 0.0001585791309863622, 'hopefully': 0.0001585791309863622, 'balance': 7.92895654931811e-05, 'aathilove': 0.0002378686964795433, 'payment': 0.0001585791309863622, '150p/msg': 7.92895654931811e-05, 'misundrstud': 0.0001585791309863622, '5pm': 0.0001585791309863622, 'waking': 0.0001585791309863622, 'tom': 7.92895654931811e-05, 'saucy': 7.92895654931811e-05, 'refundedthis': 7.92895654931811e-05, 'bringing': 7.92895654931811e-05, 'news': 7.92895654931811e-05, 'unlimited': 0.0001585791309863622, 'jocks': 7.92895654931811e-05, '78p/min': 7.92895654931811e-05, 'bristol': 0.0001585791309863622, 'godi': 0.0001585791309863622, 'telephone': 0.0001585791309863622, 'sundayish': 0.0001585791309863622, 'goldviking': 7.92895654931811e-05, 'fucking': 0.0002378686964795433, 'txtno': 7.92895654931811e-05, 'predictive': 0.0001585791309863622, '2nd': 0.0003171582619727244, 'hotmix': 7.92895654931811e-05, 'anonymous': 7.92895654931811e-05, 'angry': 0.0001585791309863622, 'knock': 7.92895654931811e-05, 'or2optout/hv9d': 7.92895654931811e-05, 'posh': 7.92895654931811e-05, 'tiwary': 0.0001585791309863622, 'call2optout=j5q': 7.92895654931811e-05, '-message': 7.92895654931811e-05, 'slow': 0.0001585791309863622, 'duchess': 7.92895654931811e-05, \"wouldn't\": 0.0001585791309863622, 'prize': 7.92895654931811e-05, 'return': 0.0001585791309863622, 'claim': 7.92895654931811e-05, 'fantastic': 7.92895654931811e-05, '150p/rcvd': 7.92895654931811e-05, '62735=£450': 7.92895654931811e-05, \"today's\": 7.92895654931811e-05, 'manchester': 7.92895654931811e-05, 'ny-usa': 7.92895654931811e-05, 're-schedule': 7.92895654931811e-05, 'bx420': 7.92895654931811e-05, 'bloomberg': 7.92895654931811e-05, 'complementary': 7.92895654931811e-05, 'receipt': 7.92895654931811e-05, '3510i': 7.92895654931811e-05, '6months': 0.0001585791309863622, 'graduated': 0.0001585791309863622, 'investigate': 0.0001585791309863622, 'walked': 0.0001585791309863622, 'position': 0.0001585791309863622, 'ntwk': 7.92895654931811e-05, 'executive': 0.0001585791309863622, 'sed': 7.92895654931811e-05, 'panasonic': 7.92895654931811e-05, 'poboxox36504w45wq': 7.92895654931811e-05, 'mmmmm': 0.0001585791309863622, '09066364349': 7.92895654931811e-05, 'freemsgfeelin': 7.92895654931811e-05, 'pobox365o4w45wq': 7.92895654931811e-05, 'hlp': 7.92895654931811e-05, 'timeyou': 0.0001585791309863622, '08715203649': 7.92895654931811e-05, '113': 7.92895654931811e-05, 'songs': 0.0001585791309863622, 'knowthis': 0.0001585791309863622, 'freemsg>fav': 7.92895654931811e-05, '150ppmpobox10183bhamb64xe': 7.92895654931811e-05, 'boy': 0.0002378686964795433, '5we': 7.92895654931811e-05, 'toppoly': 7.92895654931811e-05, 'yeovil': 0.0001585791309863622, 'hmv1': 7.92895654931811e-05, 'expecting': 0.0001585791309863622, 'chrgd@50p': 7.92895654931811e-05, 'loyal': 7.92895654931811e-05, '150p/text': 7.92895654931811e-05, 'listen': 7.92895654931811e-05, 'wishin': 0.0002378686964795433, 'suppliers': 7.92895654931811e-05, 'mother': 0.0001585791309863622, 'okey': 0.0001585791309863622, 'hope': 0.001665080875356803, 'matched': 7.92895654931811e-05, 'e£nd': 7.92895654931811e-05, '£54': 7.92895654931811e-05, 'available': 0.0002378686964795433, 'eh': 0.0001585791309863622, 'music': 7.92895654931811e-05, '08712460324': 7.92895654931811e-05, '£75000': 7.92895654931811e-05, 'ooooooh': 0.0001585791309863622, 'burrito': 0.0001585791309863622, 'you-': 0.0001585791309863622, 'mob': 7.92895654931811e-05, 'mode': 0.0003171582619727244, 'tenants': 7.92895654931811e-05, 'westlife': 7.92895654931811e-05, 'street': 7.92895654931811e-05, 'ttyl': 0.0001585791309863622, 'uk-mobile-date': 7.92895654931811e-05, 'random': 0.0001585791309863622, 'freemsg': 7.92895654931811e-05, \"uk's\": 7.92895654931811e-05, '83039': 7.92895654931811e-05, 'ntt': 7.92895654931811e-05, 'dointerested': 7.92895654931811e-05, 'unredeemed': 7.92895654931811e-05, 'forever': 0.0001585791309863622, 'skins': 7.92895654931811e-05, 'shesil': 0.0002378686964795433, '£10': 7.92895654931811e-05, 'shd': 0.0001585791309863622, 'http//gotbabescouk': 7.92895654931811e-05, \"1000's\": 7.92895654931811e-05, '08706091795': 7.92895654931811e-05, 'true': 0.0003171582619727244, 'chk': 0.0001585791309863622, 'great': 0.0011893434823977164, 'yourinclusive': 7.92895654931811e-05, 'passed': 0.0001585791309863622, 'look': 0.0003171582619727244, 'shy': 7.92895654931811e-05, 'complimentary': 7.92895654931811e-05, 'wwwflirtpartyus': 7.92895654931811e-05, 'e=': 7.92895654931811e-05, 'actually': 0.0003171582619727244, '20m12aq': 7.92895654931811e-05, 'wwwwin-82050couk': 7.92895654931811e-05, 'felt': 0.0001585791309863622, 'stand': 0.0002378686964795433, '86688': 7.92895654931811e-05, '30s': 7.92895654931811e-05, 'marvel': 7.92895654931811e-05, '09066350750': 7.92895654931811e-05, 'firsg': 0.0001585791309863622, 'eerie': 7.92895654931811e-05, '050703': 7.92895654931811e-05, 'ar': 0.0003171582619727244, 'sppok': 7.92895654931811e-05, 'box385': 7.92895654931811e-05, 'round': 7.92895654931811e-05, 'without': 0.0003964478274659055, 'worried': 0.0001585791309863622, 'accommodationvouchers': 7.92895654931811e-05, 'so': 0.003964478274659055, 'overa': 0.0001585791309863622, 'eat': 0.0002378686964795433, 'offerthe': 7.92895654931811e-05, 'ladies': 7.92895654931811e-05, 'gbp450/week': 7.92895654931811e-05, 'gn-': 0.0001585791309863622, '1/08/03': 7.92895654931811e-05, 'gonna': 0.0003171582619727244, 'off': 0.0003171582619727244, 'premium': 7.92895654931811e-05, 'summer': 7.92895654931811e-05, 'shorter': 0.0001585791309863622, 'rd': 0.0002378686964795433, 'care': 0.0006343165239454488, 'algarve': 7.92895654931811e-05, 'gym': 0.0001585791309863622, '150p/mtmsgrcvd18': 7.92895654931811e-05, 'carlos': 0.0003171582619727244, 'some': 0.0012686330478908975, '86021': 7.92895654931811e-05, 'beware': 0.0001585791309863622, 'we‘re': 0.0001585791309863622, '31': 7.92895654931811e-05, 'fgkslpopw': 7.92895654931811e-05, 'confirmd': 0.0001585791309863622, 'male': 7.92895654931811e-05, 'wwwsantacallingcom': 7.92895654931811e-05, 'twelve': 0.0001585791309863622, 'called': 0.0002378686964795433, 'bbq': 0.0001585791309863622, 'lets': 0.0003171582619727244, 'amy': 7.92895654931811e-05, 'disconnect': 0.0001585791309863622, 'minapn': 7.92895654931811e-05, '30th': 7.92895654931811e-05, '450pw': 7.92895654931811e-05, '9ae': 7.92895654931811e-05, '09061213237': 7.92895654931811e-05, 'epi': 0.0001585791309863622, '5i\\x92m': 0.0001585791309863622, 'breaks': 7.92895654931811e-05, 'wanna': 0.0004757373929590866, 'hon': 0.0001585791309863622, 'she': 0.0015065017443704409, 'norm150p/tone': 7.92895654931811e-05, 'leh': 0.0003171582619727244, 'xxxx': 7.92895654931811e-05, 'calls£1/minmobsmore': 7.92895654931811e-05, 'straight': 7.92895654931811e-05, 'kisses*': 0.0001585791309863622, '3hrs': 7.92895654931811e-05, 'l8tr': 0.0001585791309863622, '09065394514': 7.92895654931811e-05, 'textoperator': 7.92895654931811e-05, 'rem': 0.0002378686964795433, 'reassuring': 0.0001585791309863622, 'bluetoothhdset': 7.92895654931811e-05, 'chennai': 0.0003964478274659055, 'msg*': 0.0001585791309863622, '0870737910216yrs': 7.92895654931811e-05, '+123': 7.92895654931811e-05, 'apparently': 0.0002378686964795433, 'delivery': 7.92895654931811e-05, 'lunch': 0.0003171582619727244, 'offer': 7.92895654931811e-05, 'champneys': 7.92895654931811e-05, 'glass': 0.0001585791309863622, '62468': 7.92895654931811e-05, 'picsfree1': 7.92895654931811e-05, 'wrong': 0.0003171582619727244, 'end': 0.0002378686964795433, 'mandy': 7.92895654931811e-05, '087147123779am-7pm': 7.92895654931811e-05, 'smart': 7.92895654931811e-05, 'regular': 0.0002378686964795433, 'else': 0.0003964478274659055, '£2000': 7.92895654931811e-05, 'hair': 0.0003964478274659055, 'wire3net': 7.92895654931811e-05, 'part': 0.0001585791309863622, 'free-message': 7.92895654931811e-05, '0870': 7.92895654931811e-05, 'http//wwwwtlpcouk/text': 7.92895654931811e-05, 'speedchat': 7.92895654931811e-05, 'bay': 0.0002378686964795433, 'wwwdbuknet': 7.92895654931811e-05, 'snap': 7.92895654931811e-05, 'advice': 0.0001585791309863622, '15541': 7.92895654931811e-05, 'graphics': 7.92895654931811e-05, 'share': 0.0002378686964795433, 'sexiest': 7.92895654931811e-05, 'dollar': 0.0001585791309863622, 'urself': 0.0002378686964795433, 'm221bp': 7.92895654931811e-05, '3aj': 7.92895654931811e-05, 'flight': 0.0001585791309863622, 'checkup': 0.0001585791309863622, 'rain': 0.0002378686964795433, 'argue': 0.0001585791309863622, 'phil': 0.0001585791309863622, 'la32wu': 7.92895654931811e-05, 'neo69': 7.92895654931811e-05, 'de': 0.0002378686964795433, 'meanwhile': 0.0001585791309863622, 'companies': 7.92895654931811e-05, 'dear': 0.0009514747859181732, 'broke': 0.0002378686964795433, 'kbut': 0.0001585791309863622, 'removal': 7.92895654931811e-05, 'keep': 0.0004757373929590866, 'colany': 0.0001585791309863622, 'gift': 0.0001585791309863622, 'looking': 0.0001585791309863622, 'fair': 0.0001585791309863622, '09071517866': 7.92895654931811e-05, 'bcm1896wc1n3xx': 7.92895654931811e-05, 'try': 0.0004757373929590866, '2end': 7.92895654931811e-05, 'brings': 0.0002378686964795433, 'gmw': 7.92895654931811e-05, '$95/pax': 0.0001585791309863622, 'kochi': 0.0001585791309863622, 'mailbox': 7.92895654931811e-05, \"ryan's\": 0.0001585791309863622, 'complete': 0.0002378686964795433, 'children': 0.0001585791309863622, 'helloyou': 7.92895654931811e-05, 'k61': 7.92895654931811e-05, 'lovable': 0.0002378686964795433, 'rude': 7.92895654931811e-05, 'love': 0.002537266095781795, 'gettin': 7.92895654931811e-05, 'the': 0.009831906121154456, '1225': 7.92895654931811e-05, 'jogging': 0.0001585791309863622, 'immediately': 7.92895654931811e-05, 'muchxxlove': 0.0001585791309863622, \"u're\": 0.0001585791309863622, 'wamma': 7.92895654931811e-05, 'library': 0.0001585791309863622, 'wan': 0.0004757373929590866, 'minutes': 0.0003171582619727244, 'range': 0.0001585791309863622, 'careful': 7.92895654931811e-05, '7shy': 0.0001585791309863622, \"you've\": 0.0003171582619727244, '88877': 7.92895654931811e-05, 'dept': 7.92895654931811e-05, 'opt': 7.92895654931811e-05, 'chances': 7.92895654931811e-05, 'recently': 7.92895654931811e-05, 'adds': 0.0001585791309863622, '@': 0.0001585791309863622, 'costs': 7.92895654931811e-05, 'cuddling': 0.0001585791309863622, 'outbid': 7.92895654931811e-05, '300': 7.92895654931811e-05, 'bcm': 7.92895654931811e-05, 'mad2': 7.92895654931811e-05, 'devils': 7.92895654931811e-05, 'going': 0.0017443704408499842, 'finance': 0.0001585791309863622, 'arng': 0.0001585791309863622, 'alright': 0.0003171582619727244, 'shows': 7.92895654931811e-05, 'ebay': 0.0001585791309863622, 'details': 0.0001585791309863622, 'cool': 0.0003964478274659055, 'ref': 7.92895654931811e-05, 'w45wq': 7.92895654931811e-05, \"aren't\": 0.0001585791309863622, 'nyt': 0.0001585791309863622, 'father': 0.0002378686964795433, 'walmart': 0.0001585791309863622, 'stocked': 0.0001585791309863622, '09050003091': 7.92895654931811e-05, 'baby': 0.0002378686964795433, 'logo/pic': 7.92895654931811e-05, 'concentrating': 0.0001585791309863622, 'parents': 0.0003171582619727244, 'bangb': 7.92895654931811e-05, '07815296484': 7.92895654931811e-05, 'tonight': 0.0005550269584522677, 'pounds': 0.0001585791309863622, '£3': 7.92895654931811e-05, 'name': 0.0005550269584522677, 'probably': 0.0003171582619727244, 'godyou': 0.0001585791309863622, 'behave': 0.0001585791309863622, 'chasing': 0.0001585791309863622, '09066649731from': 7.92895654931811e-05, 'secs': 7.92895654931811e-05, 'vague': 0.0001585791309863622, 'figure': 0.0001585791309863622, 'wondering': 0.0001585791309863622, 'landline': 0.0001585791309863622, 'likely': 0.0002378686964795433, 'naked': 0.0001585791309863622, '11mths+': 7.92895654931811e-05, 'lect': 0.0001585791309863622, 'may': 0.0010307643514113542, 'cash-in': 7.92895654931811e-05, 'wil': 0.0003171582619727244, 'da': 0.0011893434823977164, 'cheap': 0.0001585791309863622, 'except': 0.0001585791309863622, 'grab': 0.0001585791309863622, 'skillgame': 7.92895654931811e-05, 'garments': 0.0001585791309863622, \"weekend's\": 7.92895654931811e-05, 'def': 0.0001585791309863622, '4403ldnw1a7rw18': 7.92895654931811e-05, 'apart': 0.0001585791309863622, 'ta': 7.92895654931811e-05, 'mention': 0.0001585791309863622, 'asking': 0.0001585791309863622, 'snickering': 0.0001585791309863622, 'served': 0.0001585791309863622, 'calling': 0.0003171582619727244, 'village': 7.92895654931811e-05, '-pls': 7.92895654931811e-05, \"100's\": 7.92895654931811e-05, 'drink': 0.0001585791309863622, '1000': 7.92895654931811e-05, 'webeburnin': 7.92895654931811e-05, 'numbers': 7.92895654931811e-05, 'coping': 0.0001585791309863622, 'palm': 0.0001585791309863622, 'gm+gn+ge+gn': 0.0001585791309863622, 'pick': 0.0008721852204249921, 'eastenders': 7.92895654931811e-05, 'x2': 0.0001585791309863622, \"when's\": 0.0001585791309863622, 'think': 0.0009514747859181732, 'bonus': 7.92895654931811e-05, 'nte-': 0.0001585791309863622, '25': 0.0001585791309863622, 'information': 0.0001585791309863622, 'ringtone¡': 7.92895654931811e-05, 'hurt': 0.0003171582619727244, 'wwwrtfsphostingcom': 7.92895654931811e-05, '08701752560': 7.92895654931811e-05, 'postcode': 7.92895654931811e-05, '87066': 7.92895654931811e-05, \"he's\": 0.0004757373929590866, 'fans': 7.92895654931811e-05, 'genuine': 7.92895654931811e-05, 'postponed': 0.0001585791309863622, 'changed': 0.0003171582619727244, 'farrell': 7.92895654931811e-05, 'better': 0.0004757373929590866, \"we'll\": 0.0002378686964795433, '08717507711': 7.92895654931811e-05, '07753741225': 7.92895654931811e-05, 'apps': 0.0001585791309863622, 'high': 7.92895654931811e-05, 'grahmbell': 0.0001585791309863622, 'u’ve': 7.92895654931811e-05, '08715203652': 7.92895654931811e-05, '2exit': 7.92895654931811e-05, '20000': 7.92895654931811e-05, 'expires': 7.92895654931811e-05, '09050001295': 7.92895654931811e-05, 'sir': 0.0003964478274659055, 'divorce': 7.92895654931811e-05, 'stock': 0.0001585791309863622, '1hr': 0.0001585791309863622, '2309': 7.92895654931811e-05, '6hl': 7.92895654931811e-05, 'unsubscribed': 7.92895654931811e-05, 'inside': 0.0002378686964795433, 'iouri': 0.0001585791309863622, 'holiday': 0.0003171582619727244, 'whens': 0.0001585791309863622, 'dreading': 0.0001585791309863622, '09064017305': 7.92895654931811e-05, 'among': 7.92895654931811e-05, '08719181259': 7.92895654931811e-05, 'order': 0.0002378686964795433, 'im': 0.0005550269584522677, 'february': 0.0002378686964795433, 'meetin': 0.0001585791309863622, 'content': 7.92895654931811e-05, 'gd': 0.0001585791309863622, '140ppm': 7.92895654931811e-05, '08712300220': 7.92895654931811e-05, 'believe': 0.0005550269584522677, 'univ': 0.0001585791309863622, 'wwwsmsac/u/bootydelious': 7.92895654931811e-05, 'hg/suite342/2lands/row/w1j6hl': 7.92895654931811e-05, '0a$networks': 7.92895654931811e-05, 'moan': 0.0002378686964795433, 'watching': 0.0003964478274659055, '£600': 7.92895654931811e-05, 'starti': 0.0001585791309863622, 'no': 0.003171582619727244, 'class': 0.0003171582619727244, 'xt': 7.92895654931811e-05, 'sonathaya': 0.0001585791309863622, 'erm': 0.0001585791309863622, 'foley': 7.92895654931811e-05, 'triple': 7.92895654931811e-05, 'fml': 7.92895654931811e-05, 'thinkin': 0.0001585791309863622, 'msgs@150p': 7.92895654931811e-05, 'page': 0.0002378686964795433, 'oja': 7.92895654931811e-05, '07046744435': 7.92895654931811e-05, 'marry': 0.0001585791309863622, 'handset': 7.92895654931811e-05, 'operator': 7.92895654931811e-05, 'xxxmobilemovieclub': 7.92895654931811e-05, 'used': 0.0001585791309863622, 'digital': 7.92895654931811e-05, 'credited': 7.92895654931811e-05, 'school': 0.0003171582619727244, 'yoyyooo': 0.0001585791309863622, 'b4u': 7.92895654931811e-05, 'takes': 7.92895654931811e-05, '09061221066': 7.92895654931811e-05, 'recorder': 7.92895654931811e-05, 'up+not': 0.0001585791309863622, 'tooo': 0.0002378686964795433, \"guy's\": 0.0001585791309863622, \"month's\": 0.0001585791309863622, 'lion': 0.0001585791309863622, 'looks': 0.0001585791309863622, '2814032': 7.92895654931811e-05, 'finish': 0.0002378686964795433, 'sunny': 0.0002378686964795433, '3000': 7.92895654931811e-05, '*smiles*': 0.0001585791309863622, 'outside': 0.0001585791309863622, 'rhythm': 0.0002378686964795433, 'due': 0.0001585791309863622, 'community': 7.92895654931811e-05, 'help08712400602450p': 7.92895654931811e-05, 'pause': 7.92895654931811e-05, '10am': 7.92895654931811e-05, 'u': 0.008325404376784015, 'pobox84': 7.92895654931811e-05, 'sullivan': 7.92895654931811e-05, 'rg21': 7.92895654931811e-05, '07801543489': 7.92895654931811e-05, 'racal': 7.92895654931811e-05, '08702490080': 7.92895654931811e-05, 'bruv': 0.0001585791309863622, 'cr01327bt': 7.92895654931811e-05, 'favor': 0.0001585791309863622, 'u4': 7.92895654931811e-05, 'sports': 7.92895654931811e-05, 'quoting': 7.92895654931811e-05, 'bein': 0.0001585791309863622, 'talk': 0.0006343165239454488, '24/7mp': 7.92895654931811e-05, 'packs': 7.92895654931811e-05, 'texting': 7.92895654931811e-05, 'k718': 7.92895654931811e-05, 'abiola': 0.0001585791309863622, 'there': 0.001585791309863622, '2/3': 7.92895654931811e-05, 'chinese': 0.0001585791309863622, 'ill': 0.0010307643514113542, '80160': 7.92895654931811e-05, '12hrs': 7.92895654931811e-05, '07734396839': 7.92895654931811e-05, 'lot': 0.0005550269584522677, 'kept': 7.92895654931811e-05, 'glad': 0.0001585791309863622, '50%': 7.92895654931811e-05, 'mondaynxt': 0.0001585791309863622, 'am': 0.002457976530288614, 'ibn': 0.0001585791309863622, 'sptv': 7.92895654931811e-05, 'xx': 0.0001585791309863622, 'm263uz': 7.92895654931811e-05, 'hey': 0.0009514747859181732, 'dinnermsg': 0.0001585791309863622, '+cheer': 0.0001585791309863622, 'settings': 7.92895654931811e-05, 'golden': 0.0001585791309863622, 'thurs': 7.92895654931811e-05, 'quick': 0.0001585791309863622, '2im': 0.0001585791309863622, '2004': 7.92895654931811e-05, 'shit': 0.0002378686964795433, 'himso': 0.0001585791309863622, '***************': 7.92895654931811e-05, 'begin': 7.92895654931811e-05, 'babe': 0.0010307643514113542, 'vat': 7.92895654931811e-05, 'lol': 0.0007136060894386299, '08707808226': 7.92895654931811e-05, 'ptbo': 0.0001585791309863622, 'forth': 0.0001585791309863622, 'ctla': 0.0001585791309863622, 'din': 0.0001585791309863622, 'soundtrack': 7.92895654931811e-05, '3rd': 0.0002378686964795433, 'natalja': 7.92895654931811e-05, '7ws': 7.92895654931811e-05, 'grandfather': 0.0001585791309863622, 'afraid': 7.92895654931811e-05, 'whole': 0.0001585791309863622, 'once': 0.0004757373929590866, '09096102316': 7.92895654931811e-05, 'todays': 7.92895654931811e-05, 'http//wwwurawinnercom': 7.92895654931811e-05, 'ubandu': 0.0001585791309863622, 'april': 0.0001585791309863622, 'by': 0.0012686330478908975, 'sale': 7.92895654931811e-05, 'blessed': 0.0001585791309863622, 'oz': 7.92895654931811e-05, 'ac': 7.92895654931811e-05, '88039skilgmetscs087147403231winawkage16+£150perwksub': 7.92895654931811e-05, 'worryuse': 0.0001585791309863622, 'landlineonly': 7.92895654931811e-05, 'zac': 0.0001585791309863622, '3sentiment': 0.0001585791309863622, 'kiss': 0.0002378686964795433, 'abnormally': 0.0001585791309863622, 'yr': 0.0001585791309863622, '09058098002': 7.92895654931811e-05, 'energy': 0.0001585791309863622, 'missing': 0.0001585791309863622, 'bat': 0.0001585791309863622, 'optout': 7.92895654931811e-05, '08712400603': 7.92895654931811e-05, '83021': 7.92895654931811e-05, 'got': 0.0026958452267681573, 'laidwant': 7.92895654931811e-05, '0870241182716': 7.92895654931811e-05, 'donate': 7.92895654931811e-05, '2morro': 7.92895654931811e-05, 'matured': 0.0001585791309863622, 'wks': 7.92895654931811e-05, 'national': 7.92895654931811e-05, 'seh': 0.0001585791309863622, '3unkempt': 7.92895654931811e-05, 'monthlysubscription@50p/msg': 7.92895654931811e-05, 'tirunelvai': 0.0001585791309863622, 'delivered': 7.92895654931811e-05, 'ok': 0.002616555661274976, 'win150ppmx3age16': 7.92895654931811e-05, 'nearer': 0.0001585791309863622, 'arguments': 0.0001585791309863622, 'here': 0.0009514747859181732, 'texts': 0.0001585791309863622, 'date': 7.92895654931811e-05, 'put': 0.0003171582619727244, 'await': 7.92895654931811e-05, 'goodmorningmy': 0.0001585791309863622, 'convey': 0.0001585791309863622, 'domain': 0.0001585791309863622, 'dreams': 0.0003964478274659055, 'possessiveness': 0.0001585791309863622, '15p/min': 7.92895654931811e-05, 'canname': 7.92895654931811e-05, 'come': 0.0027751347922613384, 'morning': 0.0011893434823977164, 'gary': 0.0001585791309863622, '89123': 7.92895654931811e-05, '08715203685': 7.92895654931811e-05, '7zs': 7.92895654931811e-05, 'seventeen': 0.0001585791309863622, 'todayfrom': 7.92895654931811e-05, 'arcade': 7.92895654931811e-05, 'sucks': 0.0002378686964795433, 'duvet': 0.0001585791309863622, 'retrieve': 7.92895654931811e-05, '26th': 7.92895654931811e-05, 'burger': 7.92895654931811e-05, 'years': 0.0002378686964795433, '8': 0.0002378686964795433, 'kickoff': 7.92895654931811e-05, 'mega': 7.92895654931811e-05, 'rt-king': 7.92895654931811e-05, 'msgwe': 7.92895654931811e-05, '09090900040': 7.92895654931811e-05, '83049': 7.92895654931811e-05, 'mquiz': 7.92895654931811e-05, 'logos': 7.92895654931811e-05, '3lp': 7.92895654931811e-05, 'asleep': 0.0001585791309863622, 'smartcall': 7.92895654931811e-05, 'kidz': 0.0001585791309863622, '350': 7.92895654931811e-05, 'soiree': 0.0001585791309863622, '750': 7.92895654931811e-05, 'w/question': 7.92895654931811e-05, \"b'day\": 0.0001585791309863622, 'type': 0.0003171582619727244, 'wallet': 0.0001585791309863622, '5249': 7.92895654931811e-05, \"let's\": 7.92895654931811e-05, 'realize': 0.0001585791309863622, 'them': 0.0011100539169045353, '08714714011': 7.92895654931811e-05, 'costa': 7.92895654931811e-05, 'hunks': 7.92895654931811e-05, 'pc': 7.92895654931811e-05, 'mistake': 0.0002378686964795433, 'birds': 7.92895654931811e-05, 'dogging': 7.92895654931811e-05, 'pple': 0.0001585791309863622, 'colin': 7.92895654931811e-05, 'dream': 0.0002378686964795433, 'uve': 7.92895654931811e-05, 'hour': 0.0005550269584522677, 'uk': 7.92895654931811e-05, 'j89': 7.92895654931811e-05, 'restrictions': 7.92895654931811e-05, '0789xxxxxxx': 7.92895654931811e-05, 'jay': 0.0002378686964795433, 'belovd': 0.0001585791309863622, '2ez': 7.92895654931811e-05, 'checking': 0.0001585791309863622, 'mates': 7.92895654931811e-05, 'hav': 0.0003171582619727244, '09058099801': 7.92895654931811e-05, '21': 7.92895654931811e-05, '88600': 7.92895654931811e-05, '54': 7.92895654931811e-05, 'otherwise': 0.0002378686964795433, 'kinda': 7.92895654931811e-05, 'innings': 0.0001585791309863622, 'lei': 0.0003964478274659055, 'dick': 7.92895654931811e-05, 'dokey': 0.0001585791309863622, \"80's\": 7.92895654931811e-05, 'stayed': 0.0001585791309863622, '84': 7.92895654931811e-05, 'amazing': 0.0001585791309863622, 'picture': 7.92895654931811e-05, 'waiting': 0.0004757373929590866, '09061743386': 7.92895654931811e-05, 'requests': 7.92895654931811e-05, 'med': 7.92895654931811e-05, '27/6/03': 7.92895654931811e-05, 'nimyapls': 0.0001585791309863622, 'e14': 7.92895654931811e-05, 'really': 0.0005550269584522677, 'receivea': 7.92895654931811e-05, 'prizes': 7.92895654931811e-05, '08719839835': 7.92895654931811e-05, 'freeentry': 7.92895654931811e-05, '*****': 7.92895654931811e-05, 't&cs': 7.92895654931811e-05, 'search': 0.0001585791309863622, '3g': 7.92895654931811e-05, 'calls': 0.0003171582619727244, 'chosen': 7.92895654931811e-05, 'sleepingwith': 7.92895654931811e-05, 'howz': 0.0001585791309863622, 'ringtone': 7.92895654931811e-05, 'times': 0.0002378686964795433, \"u've\": 7.92895654931811e-05, 'itplspls': 0.0001585791309863622, '6669': 7.92895654931811e-05, '300%': 7.92895654931811e-05, 'every': 0.0005550269584522677, 'mnths': 7.92895654931811e-05, 'total': 7.92895654931811e-05, 'lt': 0.0001585791309863622, '45239': 7.92895654931811e-05, 'chg': 7.92895654931811e-05, 'logon': 7.92895654931811e-05, '300603': 7.92895654931811e-05, 'pain': 0.0001585791309863622, 'ts&cs': 7.92895654931811e-05, 'exhibition': 0.0001585791309863622, '***********': 7.92895654931811e-05, 'story': 0.0003171582619727244, 'completing': 0.0001585791309863622, 'returned': 0.0002378686964795433, '09061749602': 7.92895654931811e-05, '434': 7.92895654931811e-05, 'v': 0.0003964478274659055, 'to': 0.016412940057088488, 'janx': 0.0001585791309863622, '80488biz': 7.92895654931811e-05, 'tips': 7.92895654931811e-05, 'sleepingand': 0.0001585791309863622, 'months': 0.0002378686964795433, 'wwwt-cbiz': 7.92895654931811e-05, 'welcome': 0.0001585791309863622, '07786200117': 7.92895654931811e-05, 'lionp': 7.92895654931811e-05, '86888': 7.92895654931811e-05, 'cash-balance': 7.92895654931811e-05, 'holder': 7.92895654931811e-05, 'sub': 0.0001585791309863622, 'click': 7.92895654931811e-05, 'ls278bb': 7.92895654931811e-05, 'compare': 7.92895654931811e-05, 'bbc': 7.92895654931811e-05, 'sing': 0.0001585791309863622, '09063458130': 7.92895654931811e-05, 'hurts': 0.0002378686964795433, 'connections': 0.0001585791309863622, 'ref9280114': 7.92895654931811e-05, 'secured': 7.92895654931811e-05, 'becausethey': 7.92895654931811e-05, 'subscription': 7.92895654931811e-05, 'which': 0.0004757373929590866, 'ripped': 7.92895654931811e-05, 'hcl': 0.0001585791309863622, 'excellent': 0.0002378686964795433, \"'luxury'\": 0.0001585791309863622, '9funny': 0.0001585791309863622, 'spree': 7.92895654931811e-05, 'however': 0.0002378686964795433, 'anyone': 0.0003171582619727244, 'footy': 7.92895654931811e-05, 'signin': 0.0001585791309863622, 'nanny': 0.0001585791309863622, 'accept': 0.0001585791309863622, '8000930705': 7.92895654931811e-05, 'profit': 7.92895654931811e-05, 'boytoy': 0.0002378686964795433, '09066361921': 7.92895654931811e-05, 'isn’t': 0.0001585791309863622, 'miracle': 0.0002378686964795433, 'polyph': 7.92895654931811e-05, '5': 0.0002378686964795433, 'rec': 0.0001585791309863622, 'nasdaq': 7.92895654931811e-05, 'voice': 0.0002378686964795433, 'audition': 0.0001585791309863622, '08712404000': 7.92895654931811e-05, 'golddigger': 7.92895654931811e-05, 'cust': 7.92895654931811e-05, 'ipod': 7.92895654931811e-05, 'starts': 0.0002378686964795433, 'recent': 7.92895654931811e-05, 'promise': 0.0001585791309863622, 'sleep': 0.0005550269584522677, 'around': 0.0011893434823977164, 'tc': 7.92895654931811e-05, 'misbehaved': 0.0001585791309863622, 'oga': 0.0001585791309863622, 'area': 7.92895654931811e-05, 'phne': 0.0001585791309863622, 'little': 0.0001585791309863622, '7ish': 0.0001585791309863622, 'length': 0.0001585791309863622, 'jst': 7.92895654931811e-05, 'dartboard': 7.92895654931811e-05, 'collected': 7.92895654931811e-05, 'call2optout/lf56': 7.92895654931811e-05, '4utxt': 7.92895654931811e-05, 'do': 0.003330161750713606, '08452810073': 7.92895654931811e-05, '09066660100': 7.92895654931811e-05, 'vibrator': 0.0001585791309863622, 'june': 0.0001585791309863622, 'soo': 0.0001585791309863622, 'onto': 7.92895654931811e-05, 'simonwatson5120': 7.92895654931811e-05, 'inconsiderate': 0.0001585791309863622, \"'an\": 0.0001585791309863622, '500': 7.92895654931811e-05, 'joanna': 0.0001585791309863622, '2optout': 7.92895654931811e-05, 'yaxxx': 0.0001585791309863622, 'damn': 0.0002378686964795433, 'machan': 0.0001585791309863622, 'customers': 7.92895654931811e-05, 'deep': 0.0002378686964795433, 'dload': 7.92895654931811e-05, 'respond': 0.0001585791309863622, 'campus': 0.0001585791309863622, 'bf': 0.0001585791309863622, '31pmsg@150p': 7.92895654931811e-05, 'wwwbridalpetticoatdreamscouk': 7.92895654931811e-05, \"joy's\": 0.0002378686964795433, 'heartsnot': 0.0001585791309863622, 'met': 0.0001585791309863622, 'id': 0.0003171582619727244, '0844': 7.92895654931811e-05, '69669': 7.92895654931811e-05, 'fault&al': 0.0001585791309863622, 'sexual': 7.92895654931811e-05, 'co': 0.0001585791309863622, 'dat': 0.0001585791309863622, '£150perwksub': 7.92895654931811e-05, 'is': 0.008246114811290834, '+449071512431': 7.92895654931811e-05, 'rental': 7.92895654931811e-05, 'sang': 7.92895654931811e-05, 'club>>': 7.92895654931811e-05, 'explosive': 7.92895654931811e-05, 'chapter': 0.0001585791309863622, '1childish': 0.0001585791309863622, 'f>>>': 7.92895654931811e-05, 'skillgame1winaweek': 7.92895654931811e-05, '**free': 7.92895654931811e-05, 'amanda': 7.92895654931811e-05, 'wait': 0.0004757373929590866, 'stop2': 7.92895654931811e-05, 'upgrdcentre': 7.92895654931811e-05, 'textand': 7.92895654931811e-05, 'hols': 7.92895654931811e-05, 'need': 0.0010307643514113542, 'paying': 0.0002378686964795433, 'themob>': 7.92895654931811e-05, 'expiry': 7.92895654931811e-05, '02085076972': 7.92895654931811e-05, 'gprs': 7.92895654931811e-05, 'shall': 0.0004757373929590866, 'bffs': 0.0001585791309863622, 'deck': 7.92895654931811e-05, 'nowuse': 7.92895654931811e-05, 'knackered': 0.0002378686964795433, 'scallies': 7.92895654931811e-05, 'tarot': 7.92895654931811e-05, 'use': 0.0008721852204249921, 'corrct': 0.0001585791309863622, 'die': 0.0001585791309863622, 'twice': 0.0001585791309863622, 'error': 0.0001585791309863622, '600': 7.92895654931811e-05, 'local': 7.92895654931811e-05, 'gong': 0.0001585791309863622, 'read': 0.0001585791309863622, 'needs': 7.92895654931811e-05, '30apr': 7.92895654931811e-05, 'custcare': 7.92895654931811e-05, '92h': 7.92895654931811e-05, \"she's\": 0.0003171582619727244, 'lucky': 7.92895654931811e-05, 'giving': 7.92895654931811e-05, 'bootydelious': 7.92895654931811e-05, 'guesses': 0.0001585791309863622, 'trebles': 7.92895654931811e-05, '*': 0.0002378686964795433, 'party': 0.0003171582619727244, '2moro': 7.92895654931811e-05, 'bakrid': 0.0001585791309863622, \"that's\": 0.0005550269584522677, 'wont': 0.0006343165239454488, 'bishan': 0.0001585791309863622, 'card': 0.0003964478274659055, 'app': 7.92895654931811e-05, 'stop2stop': 7.92895654931811e-05, 'heart': 0.0007136060894386299, 'pls': 0.0010307643514113542, 'reference': 7.92895654931811e-05, 'her': 0.0008721852204249921, 'landlines': 7.92895654931811e-05, '10': 0.0001585791309863622, '4th': 0.0001585791309863622, 'selling': 7.92895654931811e-05, 'collect': 7.92895654931811e-05, 'same': 0.0006343165239454488, 'ge-': 0.0001585791309863622, \"george's\": 7.92895654931811e-05, 'lift': 0.0001585791309863622, 'mgs': 7.92895654931811e-05, 'stop': 0.0003171582619727244, 'will': 0.002537266095781795, '#': 0.0002378686964795433, 'luxury': 7.92895654931811e-05, '800': 7.92895654931811e-05, 'lines': 7.92895654931811e-05, 'thats': 0.0002378686964795433, 'cell': 0.0001585791309863622, 'anybody': 0.0002378686964795433, 'soon': 0.0006343165239454488, 'nice': 0.0005550269584522677, 'lighters': 0.0001585791309863622, 'track': 0.0002378686964795433, '3': 0.0006343165239454488, 'g': 0.0004757373929590866, 'uni': 0.0001585791309863622, 'le': 7.92895654931811e-05, 'nowi': 0.0001585791309863622, 'cc100p/min': 7.92895654931811e-05, 'july': 7.92895654931811e-05, 'comei': 0.0001585791309863622, 'm8': 7.92895654931811e-05, 'callin': 0.0001585791309863622, '09066364311': 7.92895654931811e-05, 'lastest': 7.92895654931811e-05, 'hockey': 7.92895654931811e-05, 'eaten': 0.0001585791309863622, \"t's\": 7.92895654931811e-05, 'slept': 0.0002378686964795433, 'especially': 0.0001585791309863622, 'words': 0.0003171582619727244, 'slap': 0.0001585791309863622, 'aka': 0.0001585791309863622, 'woman': 0.0001585791309863622, '08701237397': 7.92895654931811e-05, 'mobno': 7.92895654931811e-05, 'geting': 0.0001585791309863622, 'shinco': 7.92895654931811e-05, 'competition': 7.92895654931811e-05, 'hee': 0.0002378686964795433, 'brother': 0.0001585791309863622, 'sam': 7.92895654931811e-05, 'mu': 0.0001585791309863622, 'lick': 0.0002378686964795433, 'iscoming': 7.92895654931811e-05, 'mk17': 7.92895654931811e-05, \"you'll\": 0.0003171582619727244, 'm26': 7.92895654931811e-05, 'presleys': 7.92895654931811e-05, 'plz': 0.0004757373929590866, '09064018838': 7.92895654931811e-05, 'gobi': 0.0001585791309863622, 'cash': 0.0001585791309863622, 'choice': 7.92895654931811e-05, '09066364589': 7.92895654931811e-05, '£50-£500': 7.92895654931811e-05, '84128custcare': 7.92895654931811e-05, '9153': 7.92895654931811e-05, 'tune': 7.92895654931811e-05, 'representative': 7.92895654931811e-05, 'marley': 7.92895654931811e-05, 'responding': 7.92895654931811e-05, 'results': 7.92895654931811e-05, '08715203656': 7.92895654931811e-05, 'fullonsmscom': 0.0002378686964795433, 'scotland': 0.0001585791309863622, 'bookmark': 7.92895654931811e-05, 'w1t1jy': 7.92895654931811e-05, 'various': 0.0001585791309863622, 'interflora': 7.92895654931811e-05, '7732584351': 7.92895654931811e-05, 'email': 0.0004757373929590866, 'pre-book': 7.92895654931811e-05, 'cum': 0.0001585791309863622, 'also': 0.0011100539169045353, 'tessypls': 0.0001585791309863622, 'lccltd': 7.92895654931811e-05, 'install': 7.92895654931811e-05, 'havent': 0.0001585791309863622, 'celeb': 7.92895654931811e-05, 'attributed': 0.0001585791309863622, '09061209465': 7.92895654931811e-05, 'contacted': 7.92895654931811e-05, 'reply': 0.0004757373929590866, 'gudnitetcpractice': 0.0001585791309863622, 'nokias': 7.92895654931811e-05, 'http//wwwbubbletextcom': 7.92895654931811e-05, 'tone': 7.92895654931811e-05, 'shun': 0.0001585791309863622, 'tuesday': 0.0001585791309863622, 'atleast': 0.0001585791309863622, 'you‘ll': 0.0001585791309863622, 'dads': 0.0001585791309863622, \"what's\": 0.0003964478274659055, 'liao': 0.0004757373929590866, 'bath': 0.0001585791309863622, '3mins': 7.92895654931811e-05, 'crazyin': 7.92895654931811e-05, '-no': 0.0001585791309863622, 'left': 0.0003964478274659055, 'info': 7.92895654931811e-05, '3680': 7.92895654931811e-05, 'w/c': 7.92895654931811e-05, 'subsequent': 7.92895654931811e-05, 'tnc': 7.92895654931811e-05, 'wating': 0.0001585791309863622, 'myspace': 0.0001585791309863622, 'fell': 0.0001585791309863622, 'sweet': 0.0007136060894386299, '83435': 7.92895654931811e-05, 'feels': 0.0002378686964795433, 'tscs087147403231winawkage16': 7.92895654931811e-05, 'sea': 0.0001585791309863622, 'cornwall': 7.92895654931811e-05, 'rp176781': 7.92895654931811e-05, 'cds': 7.92895654931811e-05, 'freshers': 0.0001585791309863622, 'romantic': 7.92895654931811e-05, 'b4': 0.0001585791309863622, 'pic': 7.92895654931811e-05, 'sch': 0.0002378686964795433, 'increments': 7.92895654931811e-05, 'themob>yo': 7.92895654931811e-05, 'wasnt': 0.0001585791309863622, 'shagged': 7.92895654931811e-05, 'sections': 0.0001585791309863622, 'already': 0.0011100539169045353, '08701213186': 7.92895654931811e-05, '80488': 7.92895654931811e-05, 'happened': 0.0003964478274659055, 'in2': 7.92895654931811e-05, 'moms': 0.0001585791309863622, 'chat80155': 7.92895654931811e-05, 'anthony': 0.0001585791309863622, '88888': 7.92895654931811e-05, 'av': 0.0001585791309863622, 'you\\x92re': 0.0001585791309863622, 'went': 0.0004757373929590866, 'wicklow': 7.92895654931811e-05, 'pobox75ldns7': 7.92895654931811e-05, '28th': 7.92895654931811e-05, '85': 7.92895654931811e-05, 'ish': 0.0001585791309863622, 'boring': 0.0001585791309863622, 'aiyar': 0.0001585791309863622, 'orchard': 0.0003964478274659055, 'a21': 7.92895654931811e-05, 'meet+greet': 7.92895654931811e-05, 'ago': 0.0002378686964795433, 'notifications': 7.92895654931811e-05, 'declare': 0.0001585791309863622, 'world*': 0.0001585791309863622, 'select': 7.92895654931811e-05, 'chatim': 7.92895654931811e-05, 'akon-lonely>>>': 7.92895654931811e-05, '69696': 7.92895654931811e-05, 'much': 0.0009514747859181732, 'today-sundaysunday': 0.0001585791309863622, 'omg': 0.0001585791309863622, 'subscriptions': 7.92895654931811e-05, 'rgent': 7.92895654931811e-05, '69101': 7.92895654931811e-05, 'uncountable': 0.0001585791309863622, 'welcomes': 0.0001585791309863622, 'wwwphb1com': 7.92895654931811e-05, 'acc': 0.0001585791309863622, 'registered': 0.0002378686964795433, 'pie': 0.0001585791309863622, 'wwwfullonsmscom': 0.0001585791309863622, 'ducking': 0.0001585791309863622, 'browse': 7.92895654931811e-05, 'that': 0.005233111322549952, '4882': 7.92895654931811e-05, 'university': 0.0001585791309863622, 'forgets': 0.0001585791309863622, 'message**thanks': 7.92895654931811e-05, 'knows': 0.0001585791309863622, 'txtauctiontxt': 7.92895654931811e-05, 'wwwldewcom1win150ppmx3age16subscription': 7.92895654931811e-05, 'whatever': 0.0002378686964795433, '08707500020': 7.92895654931811e-05, 'yourself': 0.0003964478274659055, 'gave': 0.0004757373929590866, 'gbp5/month': 7.92895654931811e-05, '630': 0.0001585791309863622, 'sufficient': 7.92895654931811e-05, 'sexychat': 7.92895654931811e-05, 'hell': 0.0001585791309863622, 'several': 0.0001585791309863622, 'plenty': 0.0001585791309863622, 'prince': 0.0001585791309863622, 'logged': 0.0001585791309863622, '$350': 7.92895654931811e-05, 'wwwldewcom1win150ppmx3age16': 7.92895654931811e-05, 'between': 0.0002378686964795433, 'coughing': 0.0001585791309863622, 'visit': 0.0001585791309863622, 'thirunelvali': 0.0001585791309863622, 'cdgt': 7.92895654931811e-05, 'fun': 0.0002378686964795433, 'spook': 7.92895654931811e-05, 'resent': 7.92895654931811e-05, 'appendix': 0.0001585791309863622, 'tests': 0.0001585791309863622, 'mm': 0.0001585791309863622, '£s': 7.92895654931811e-05, 'xxx': 0.0004757373929590866, '08718723815': 7.92895654931811e-05, 'download': 7.92895654931811e-05, 'ben': 0.0001585791309863622, 'subpoly': 7.92895654931811e-05, 'funk': 7.92895654931811e-05, 'kl341': 7.92895654931811e-05, 'mayb': 0.0001585791309863622, \"prashanthettan's\": 0.0001585791309863622, 'maths': 0.0001585791309863622, 'trains': 0.0001585791309863622, '26/10/04': 7.92895654931811e-05, '97n7qp': 7.92895654931811e-05, \"x'mas\": 0.0001585791309863622, 'cnn': 0.0001585791309863622, '08718726978': 7.92895654931811e-05, 'usually': 0.0001585791309863622, 'previous': 7.92895654931811e-05, 'frauds': 0.0001585791309863622, 'lipo': 0.0001585791309863622, '146tf150p': 7.92895654931811e-05, 'released': 0.0001585791309863622, 'maximum': 7.92895654931811e-05, 'reminder': 7.92895654931811e-05, 'textcomp': 7.92895654931811e-05, 'ho': 0.0001585791309863622, 'cc': 7.92895654931811e-05, 'usher': 7.92895654931811e-05, 'oncall': 7.92895654931811e-05, '09056242159': 7.92895654931811e-05, '6ish': 0.0001585791309863622, 'fifa': 7.92895654931811e-05, 'galsu': 0.0001585791309863622, 'saw': 0.0003964478274659055, '373': 7.92895654931811e-05, 'petrol-rs': 0.0001585791309863622, '08714712388': 7.92895654931811e-05, 'grand': 0.0001585791309863622, 'i\\x92m': 0.0001585791309863622, 'lucy': 7.92895654931811e-05, 'contact': 0.0002378686964795433, 'loose': 0.0001585791309863622, 'nìte': 0.0001585791309863622, '18/11/04': 7.92895654931811e-05, 'logo&pic': 7.92895654931811e-05, 'weekends': 0.0001585791309863622, 'peace': 0.0001585791309863622, 'female': 7.92895654931811e-05, 'trackmarque': 7.92895654931811e-05, '08000407165': 7.92895654931811e-05, 'havnt': 0.0001585791309863622, 'lie': 0.0002378686964795433, 'afford': 0.0001585791309863622, 'arts': 0.0001585791309863622, \"ken's\": 7.92895654931811e-05, '08452810071': 7.92895654931811e-05, 'slo4msgs': 7.92895654931811e-05, 'yupz': 0.0001585791309863622, 'bbdeluxe': 7.92895654931811e-05, 'somebody': 0.0001585791309863622, '3100': 7.92895654931811e-05, 'http//wwwe-tlpcouk/reward': 7.92895654931811e-05, 'upto': 0.0002378686964795433, 'flights': 7.92895654931811e-05, 'rpl': 7.92895654931811e-05, 'hate': 0.0002378686964795433, 'b4190604': 7.92895654931811e-05, 'bslvyl': 0.0002378686964795433, 'screen': 0.0001585791309863622, 'chat': 0.0002378686964795433, 'moral': 0.0001585791309863622, 'don‘t': 0.0002378686964795433, 'post': 7.92895654931811e-05, 'laptop': 0.0003964478274659055, 'paid': 0.0001585791309863622, 'leave': 0.0007136060894386299, 'fat': 0.0003171582619727244, 'pray': 0.0001585791309863622, 'cumin': 7.92895654931811e-05, 'beer-rs': 0.0001585791309863622, 'finewhen': 0.0001585791309863622, 'gotto': 7.92895654931811e-05, 'dan': 0.0001585791309863622, 'den': 0.0002378686964795433, '87239': 7.92895654931811e-05, '09065069120': 7.92895654931811e-05, 'since': 0.0003964478274659055, 'ringtoneking': 7.92895654931811e-05, 'chillaxin': 0.0001585791309863622, '731': 7.92895654931811e-05, 'eire': 7.92895654931811e-05, 'into': 0.0001585791309863622, 'ofcourse': 0.0001585791309863622, 'http//wwwe-tlpcouk/expressoffer': 7.92895654931811e-05, '||': 0.0002378686964795433, 'dumb': 0.0001585791309863622, '2nite': 0.0001585791309863622, 'an': 0.0010307643514113542, 'swing': 0.0002378686964795433, 'benefits': 7.92895654931811e-05, 'favour': 0.0001585791309863622, 'txt>': 7.92895654931811e-05, '0870k': 7.92895654931811e-05, 'max£7': 7.92895654931811e-05, 'ignore': 7.92895654931811e-05, 'understanding': 0.0001585791309863622, 'indicate': 7.92895654931811e-05, 'yetunde': 0.0001585791309863622, '150ppm': 7.92895654931811e-05, 'many': 0.0006343165239454488, 'package': 0.0001585791309863622, 'responsible': 7.92895654931811e-05, 'replying': 7.92895654931811e-05, 'chest': 0.0001585791309863622, 'subscriber': 7.92895654931811e-05, 'finally': 7.92895654931811e-05, 'hg/suite342/2lands': 7.92895654931811e-05, 'pass': 0.0001585791309863622, 'msg+ticket@kioskvalid': 7.92895654931811e-05, '6hrs': 0.0002378686964795433, '5k': 7.92895654931811e-05, 'amount': 0.0002378686964795433, 'thanku': 0.0001585791309863622, 'red': 7.92895654931811e-05, 'pobox202': 7.92895654931811e-05, '40gb': 7.92895654931811e-05, 'cast': 7.92895654931811e-05, 'honey': 0.0001585791309863622, 'sextextukcom': 7.92895654931811e-05, 'its': 0.0021408182683158895, '18yrs': 7.92895654931811e-05, 'dad': 0.0001585791309863622, '300p': 7.92895654931811e-05, 'renewing': 7.92895654931811e-05, 'swell': 0.0001585791309863622, 'ass': 0.0002378686964795433, 'college': 0.0003171582619727244, 'why': 0.0003964478274659055, '1000s': 7.92895654931811e-05, '3lions': 7.92895654931811e-05, \"you're\": 0.000792895654931811, \"alex's\": 0.0001585791309863622, '0870141701216+': 7.92895654931811e-05, 'pale': 0.0001585791309863622, 'santha': 0.0001585791309863622, 'hotel': 7.92895654931811e-05, '449050000301': 7.92895654931811e-05, 'rodger': 7.92895654931811e-05, '402': 7.92895654931811e-05, '£71': 7.92895654931811e-05, 'fastest': 7.92895654931811e-05, '89555': 7.92895654931811e-05, 'free': 0.0009514747859181732, '6th': 0.0001585791309863622, 'help08714742804': 7.92895654931811e-05, 'looked': 0.0001585791309863622, 'stupid': 0.0001585791309863622, 'fire': 0.0001585791309863622, 'second': 0.0001585791309863622, 'germany': 7.92895654931811e-05, 'noun': 0.0001585791309863622, 'showing': 0.0001585791309863622, 'thk': 0.000792895654931811, 'hang': 0.0001585791309863622, 'aspects': 0.0001585791309863622, 'video': 7.92895654931811e-05, '08719181513': 7.92895654931811e-05, 'exp': 7.92895654931811e-05, 'person': 0.0007136060894386299, 'accounts': 0.0001585791309863622, 'announcement': 7.92895654931811e-05, 'features': 7.92895654931811e-05, 'sorts': 0.0001585791309863622, 'hours': 0.0002378686964795433, '3750': 7.92895654931811e-05, 'cops': 7.92895654931811e-05, \"'need'\": 0.0001585791309863622, 'before': 0.0006343165239454488, 'that\\x92s': 0.0001585791309863622, 'invnted': 0.0001585791309863622, 'best': 0.0003964478274659055, '153': 7.92895654931811e-05, '83600': 7.92895654931811e-05, 'shijas': 0.0001585791309863622, 'weird': 0.0001585791309863622, 'members': 7.92895654931811e-05, 'goodfriend': 0.0001585791309863622, 'past': 0.0001585791309863622, 'world-': 0.0001585791309863622, '1146': 7.92895654931811e-05, 'bugis': 0.0001585791309863622, '08702840625comuk': 7.92895654931811e-05, 'punto': 0.0001585791309863622, '09050000878': 7.92895654931811e-05, 'oic': 0.0001585791309863622, 'spam': 7.92895654931811e-05, 'someone': 0.0006343165239454488, 'airport': 0.0003171582619727244, '08718738002': 7.92895654931811e-05, '08719899230': 7.92895654931811e-05, 'ansr': 7.92895654931811e-05, 'wordcollect': 7.92895654931811e-05, 'radio': 0.0003171582619727244, 'business': 0.0001585791309863622, 's3xy': 7.92895654931811e-05, 'd=': 7.92895654931811e-05, 'definitely': 0.0001585791309863622, 'answering': 0.0002378686964795433, 'give': 0.0012686330478908975, '07973788240': 7.92895654931811e-05, 'xxxxxx': 7.92895654931811e-05, '*waitu': 0.0001585791309863622, 'boat': 0.0001585791309863622, 'member': 7.92895654931811e-05, '£79': 7.92895654931811e-05, '18+only': 7.92895654931811e-05, '£1450': 7.92895654931811e-05, 'philosophy': 0.0001585791309863622, 'lose': 7.92895654931811e-05, 'no-910': 7.92895654931811e-05, 'replys150': 7.92895654931811e-05, 'shes': 0.0003964478274659055, 'rent': 0.0003171582619727244, 'http//wap': 7.92895654931811e-05, 'c': 0.0005550269584522677, '4mths': 7.92895654931811e-05, 'burden': 0.0001585791309863622, 'did': 0.0011893434823977164, 'upgrading': 7.92895654931811e-05, 'reformat': 0.0001585791309863622, 'driving': 0.0002378686964795433, 'help08700469649': 7.92895654931811e-05, '1/2': 7.92895654931811e-05, 'most': 0.0002378686964795433, 'repair': 0.0001585791309863622, 'polyphonic': 7.92895654931811e-05, '177': 7.92895654931811e-05, 'tour': 0.0001585791309863622, 'stdtxtrate': 7.92895654931811e-05, 'miss': 0.0013479226133840787, 'tickets': 7.92895654931811e-05, \"week's\": 7.92895654931811e-05, 'helloooo': 0.0001585791309863622, '$': 0.0001585791309863622, 'toclaim': 7.92895654931811e-05, 'ms': 0.0001585791309863622, 'being': 0.0003171582619727244, 'few': 0.0002378686964795433, 'accordinglyor': 0.0001585791309863622, 'worse': 0.0003171582619727244, 'bmw': 0.0001585791309863622, 'cant': 0.000792895654931811, 'slowly': 0.0001585791309863622, 'enough': 0.0003171582619727244, '4217': 7.92895654931811e-05, 'tiring': 0.0001585791309863622, 'doinghow': 0.0001585791309863622, 'blu': 7.92895654931811e-05, 'per': 7.92895654931811e-05, 'popcornjust': 7.92895654931811e-05, '7th': 0.0001585791309863622, 'pissed': 0.0001585791309863622, 'drop': 0.0003171582619727244, \"riley's\": 0.0001585791309863622, 'vry': 0.0001585791309863622, 'matter': 0.0001585791309863622, 'walk': 0.0001585791309863622, 'hack': 7.92895654931811e-05, 'tgxxrz': 7.92895654931811e-05, '6': 0.0002378686964795433, 'polo': 7.92895654931811e-05, '09064012160': 7.92895654931811e-05, 'maturity': 0.0001585791309863622, '08719899217': 7.92895654931811e-05, 'str*': 7.92895654931811e-05, 'passionate': 0.0001585791309863622, '09061743806': 7.92895654931811e-05, 'future': 7.92895654931811e-05, 'films': 7.92895654931811e-05, 'gb': 7.92895654931811e-05, '310303': 7.92895654931811e-05, 'bruce': 0.0001585791309863622, 'availa': 7.92895654931811e-05, 'tkts': 7.92895654931811e-05, 'annoncement': 7.92895654931811e-05, '2/2': 7.92895654931811e-05, 'system': 0.0001585791309863622, 'messagesim': 7.92895654931811e-05, 'hii': 0.0001585791309863622, '08712402779': 7.92895654931811e-05, 'family': 0.0003964478274659055, 'y': 0.0007136060894386299, 'gent': 7.92895654931811e-05, 'premier': 7.92895654931811e-05, 'text': 0.0012686330478908975, 'rose': 0.0001585791309863622, 'chloe': 7.92895654931811e-05, 'yes-434': 7.92895654931811e-05, 'maximize': 7.92895654931811e-05, 'picking': 0.0002378686964795433, 'camera': 7.92895654931811e-05, 'bit': 0.0004757373929590866, '*have': 0.0001585791309863622, 'anna': 0.0001585791309863622, 'phones': 7.92895654931811e-05, 'ref9307622': 7.92895654931811e-05, 're': 0.0002378686964795433, 'outfit': 0.0001585791309863622, 'norm': 7.92895654931811e-05, 'kid': 0.0001585791309863622, 'age23': 7.92895654931811e-05, 'frnd': 0.0001585791309863622, 'infernal': 0.0001585791309863622, 'jd': 0.0001585791309863622, 'neva': 0.0003964478274659055, 'wed': 7.92895654931811e-05, '09701213186': 7.92895654931811e-05, 'massages': 0.0001585791309863622, 'quite': 0.0003964478274659055, 'harry': 7.92895654931811e-05, '&cs': 7.92895654931811e-05, '09058095201': 7.92895654931811e-05, 'chikku': 0.0003171582619727244, \"no's\": 0.0001585791309863622, 'tbs/persolvo': 7.92895654931811e-05, 'poly/true/pix/ringtones/games': 7.92895654931811e-05, '09064012103': 7.92895654931811e-05, 'touch': 0.0003964478274659055, '5free': 7.92895654931811e-05, '6031': 7.92895654931811e-05, 'asus': 0.0001585791309863622, 'feathery': 0.0001585791309863622, 'syria': 0.0001585791309863622, 'storming': 0.0001585791309863622, 'ltd': 7.92895654931811e-05, 'callback': 7.92895654931811e-05, '3650': 7.92895654931811e-05, 'bids': 7.92895654931811e-05, 'g696ga': 7.92895654931811e-05, 'help08718728876': 7.92895654931811e-05, 'sticky': 7.92895654931811e-05, 'clever': 0.0001585791309863622, '4': 0.0011100539169045353, 'days': 7.92895654931811e-05, 'city': 7.92895654931811e-05, '3cover': 0.0001585791309863622, 'gr8prizes': 7.92895654931811e-05, 'gold': 7.92895654931811e-05, 'settled': 0.0002378686964795433, 'reading': 0.0001585791309863622, 'necessary': 0.0001585791309863622, 'light': 0.0003964478274659055, 'recpt': 7.92895654931811e-05, 'wishes': 0.0001585791309863622, 'sptyrone': 7.92895654931811e-05, 'job': 0.0003171582619727244, 'discuss': 0.0001585791309863622, '2wt': 7.92895654931811e-05, 'vodafone': 7.92895654931811e-05, 'yes-910': 7.92895654931811e-05, 'feel': 0.0005550269584522677, 'messages': 0.0002378686964795433, 'walking': 0.0001585791309863622, 'tookplace': 0.0001585791309863622, 'or': 0.0019822391373295273, 'terrible': 0.0002378686964795433, 'r*reveal': 7.92895654931811e-05, 'th': 0.0001585791309863622, 'iz': 0.0002378686964795433, '88877>free': 7.92895654931811e-05, 'mind': 0.0002378686964795433, 'st': 7.92895654931811e-05, '07808': 7.92895654931811e-05, 'strip': 7.92895654931811e-05, 'no1': 7.92895654931811e-05, 'world': 0.0005550269584522677, 'jamsterget': 7.92895654931811e-05, 'carente': 0.0001585791309863622, '07821230901': 7.92895654931811e-05, 've': 7.92895654931811e-05, 'claims': 7.92895654931811e-05, '69888': 7.92895654931811e-05, 'muz': 0.0001585791309863622, 'basically': 0.0002378686964795433, 'how': 0.0028544243577545195, 'wwwtextcompcom': 7.92895654931811e-05, 'ask': 0.0006343165239454488, '02': 7.92895654931811e-05, '02/09/03': 7.92895654931811e-05, '£50': 7.92895654931811e-05, 'kg': 0.0001585791309863622, 'full': 0.0002378686964795433, 'research': 0.0001585791309863622, 'ha': 0.0001585791309863622, 'recieve': 7.92895654931811e-05, 'cool-mob': 7.92895654931811e-05, \"it's\": 0.0012686330478908975, 'wwwtxttowincouk': 7.92895654931811e-05, 'servs': 7.92895654931811e-05, 'ymca': 7.92895654931811e-05, 'wedding': 7.92895654931811e-05, 'nan': 0.0001585791309863622, 'guai': 0.0001585791309863622, 'login=': 7.92895654931811e-05, 'wwwcashbincouk': 7.92895654931811e-05, 'celeb4': 7.92895654931811e-05, 'shortcode': 7.92895654931811e-05, 'tick': 0.0003171582619727244, '3gbp': 7.92895654931811e-05, 'town': 0.0002378686964795433, 'cw25wx': 7.92895654931811e-05, 'their': 0.0002378686964795433, 'generally': 0.0001585791309863622, 'time': 0.0014272121788772598, 'recharge': 0.0001585791309863622, 'kusruthi': 0.0001585791309863622, '0871-4719-523': 7.92895654931811e-05, 'ip4': 7.92895654931811e-05, '85069': 7.92895654931811e-05, 'yo-here': 7.92895654931811e-05, '0721072': 7.92895654931811e-05, 'finished': 0.0002378686964795433, 'experiencehttp//wwwvouch4mecom/etlp/diningasp': 7.92895654931811e-05, 'ithis': 7.92895654931811e-05, '1/3': 7.92895654931811e-05, 'across': 0.0001585791309863622, 'accenture': 0.0001585791309863622, 'said': 0.0007136060894386299, '36504': 7.92895654931811e-05, 'jeri': 7.92895654931811e-05, 'polyh': 7.92895654931811e-05, 'establish': 0.0001585791309863622, '09058094565': 7.92895654931811e-05, '08718730666': 7.92895654931811e-05, 'seriously': 0.0001585791309863622, 'raise': 0.0001585791309863622, 'mokka': 0.0001585791309863622, 'neighbors': 0.0001585791309863622, 'php': 7.92895654931811e-05, 'warranty': 7.92895654931811e-05, 'are': 0.004360926102124961, 'subscribers': 7.92895654931811e-05, 'dizzee': 7.92895654931811e-05, 'w1j': 7.92895654931811e-05, 'hunlove': 0.0001585791309863622, '£10000': 7.92895654931811e-05, 'fish': 0.0001585791309863622, 'hello': 0.0005550269584522677, \"haven't\": 0.0001585791309863622, 'of': 0.00507453219156359, 'attend': 0.0001585791309863622, 'mobilesvary': 7.92895654931811e-05, 'surprise': 0.0002378686964795433, 'recession': 0.0001585791309863622, '*****up': 7.92895654931811e-05, 'darren': 0.0001585791309863622, 'check': 0.0003171582619727244, 'connect': 7.92895654931811e-05, 'ishtamayoohappy': 0.0001585791309863622, 'yellow': 0.0001585791309863622, 'smells': 0.0001585791309863622, 'hiya': 0.0001585791309863622, 'happy': 0.000792895654931811, 'phony': 7.92895654931811e-05, 'txtin': 7.92895654931811e-05, 'jackpot': 7.92895654931811e-05, \"28thfebt&c's\": 7.92895654931811e-05, 'cos': 0.0006343165239454488, 'till': 0.0001585791309863622, 'oranges': 7.92895654931811e-05, 'simply': 7.92895654931811e-05, 'seen': 0.0001585791309863622, 'subs': 7.92895654931811e-05, '200': 7.92895654931811e-05, 'yet': 0.0003171582619727244, 'truth': 0.0003171582619727244, '8wp': 7.92895654931811e-05, 'valued': 7.92895654931811e-05, '08715203028': 7.92895654931811e-05, 'superb': 7.92895654931811e-05, 'continued': 7.92895654931811e-05, 'heading': 0.0001585791309863622, 'five': 7.92895654931811e-05, '50p': 7.92895654931811e-05, '*sighs*': 0.0002378686964795433, 'fixedline': 7.92895654931811e-05, '07742676969': 7.92895654931811e-05, 'value': 0.0001585791309863622, 'hp20': 7.92895654931811e-05, 'box39822': 7.92895654931811e-05, 'through': 0.0001585791309863622, 'tear': 0.0002378686964795433, 'randy': 7.92895654931811e-05, '£150ea': 7.92895654931811e-05, 'decided': 0.0002378686964795433, '42810': 7.92895654931811e-05, 'fringe': 0.0001585791309863622, 'sim': 0.0001585791309863622, '260305': 7.92895654931811e-05, 'laughed': 0.0001585791309863622, 'bother': 0.0001585791309863622, '08712402050': 7.92895654931811e-05, 'until': 0.0001585791309863622, 'verify': 7.92895654931811e-05, 'ticket': 0.0003171582619727244, 'callfreefone': 7.92895654931811e-05, 'e': 0.0009514747859181732, 'menu': 7.92895654931811e-05, 'players': 0.0001585791309863622, 'cnl': 7.92895654931811e-05, 'update': 7.92895654931811e-05, 'semester': 0.0002378686964795433, 'funny': 0.0001585791309863622, 'unless': 0.0002378686964795433, 'omw': 0.0002378686964795433, '£3350': 7.92895654931811e-05, 'eng': 7.92895654931811e-05, 'sad': 0.0002378686964795433, '4u': 7.92895654931811e-05, 'bangbabes': 7.92895654931811e-05, 'a£150': 7.92895654931811e-05, 'mandan': 0.0001585791309863622, 'b': 0.0003171582619727244, 'warm': 0.0001585791309863622, '08001950382': 7.92895654931811e-05, 'flower': 7.92895654931811e-05, 'like': 0.0021408182683158895, 'marketing': 7.92895654931811e-05, 'men': 0.0003171582619727244, 'monthly': 0.0001585791309863622, 'truly': 0.0001585791309863622, 'feb': 7.92895654931811e-05, 'life': 0.0012686330478908975, 'center': 0.0001585791309863622, 'doubles': 7.92895654931811e-05, '£500000': 7.92895654931811e-05, 'ans': 0.0002378686964795433, 'charged@150p/msg2': 7.92895654931811e-05, 'stay': 0.0003171582619727244, 'rooms': 7.92895654931811e-05, \"they're\": 7.92895654931811e-05, 'lionm': 7.92895654931811e-05, 'dangerous': 0.0001585791309863622, 'traffic': 0.0001585791309863622, '008704050406': 7.92895654931811e-05, 'yours': 0.0003964478274659055, 'hardly': 0.0001585791309863622, 'message': 0.0004757373929590866, 'lost': 0.0002378686964795433, 'masters': 0.0001585791309863622, 'wonder': 0.0002378686964795433, 'in': 0.008880431335236283, 'escape': 0.0001585791309863622, '1yf': 7.92895654931811e-05, 'wwwareyouuniquecouk': 7.92895654931811e-05, 'copy': 0.0001585791309863622, 'january': 0.0001585791309863622, 'xchat': 7.92895654931811e-05, '08712101358': 7.92895654931811e-05, 'pence': 7.92895654931811e-05, 'r836': 7.92895654931811e-05, 't-shirt': 0.0001585791309863622, 'pm': 0.0002378686964795433, '2rcv': 7.92895654931811e-05, 'mail': 0.0001585791309863622, 'loverboy': 0.0001585791309863622, 'clearer': 0.0001585791309863622, 'bcmsfwc1n3xx': 7.92895654931811e-05, 'everyones': 0.0001585791309863622, 'pete': 0.0001585791309863622, '40411': 7.92895654931811e-05, 'hl': 7.92895654931811e-05, '32000': 7.92895654931811e-05, 'chip': 0.0002378686964795433, 'pussy': 0.0002378686964795433, '8077': 7.92895654931811e-05, 'custom': 0.0001585791309863622, '84128': 7.92895654931811e-05, 'wwwtextpodnet': 7.92895654931811e-05, 'candont': 0.0001585791309863622, '74355': 7.92895654931811e-05, '250': 7.92895654931811e-05, 'giv': 7.92895654931811e-05, '83338': 7.92895654931811e-05, 'wwwregalportfoliocouk': 7.92895654931811e-05, 'itself': 0.0001585791309863622, 'merry': 0.0002378686964795433, 'thinking': 0.0002378686964795433, 'pushbutton': 7.92895654931811e-05, 'orh': 0.0001585791309863622, 'askin': 0.0001585791309863622, 'sign': 0.0003171582619727244, 'even': 0.0008721852204249921, '10am-9pm': 7.92895654931811e-05, 'detroit': 7.92895654931811e-05, \"doesn't\": 0.0002378686964795433, 'painit': 0.0001585791309863622, 'pilates': 0.0001585791309863622, \"'help'\": 7.92895654931811e-05, 'erotic': 7.92895654931811e-05, 'brains': 0.0001585791309863622, 'ones': 0.0001585791309863622, 'randomly': 0.0001585791309863622, 'proof': 0.0001585791309863622, 'disturb': 0.0001585791309863622, 'wnt': 0.0001585791309863622, 'over': 0.0007136060894386299, '6days': 7.92895654931811e-05, 'completely': 0.0002378686964795433, 'amt': 0.0001585791309863622, 'ltd£150/mtmsgrcvd18+': 7.92895654931811e-05, 'police': 7.92895654931811e-05, 'likes': 0.0001585791309863622, '08702840625': 7.92895654931811e-05, 'netno': 0.0001585791309863622, 'tonights': 7.92895654931811e-05, '84122': 7.92895654931811e-05, 'latests': 7.92895654931811e-05, 'receiving': 7.92895654931811e-05, 'ending': 7.92895654931811e-05, 'gravel': 7.92895654931811e-05, '5th': 0.0001585791309863622, 'netcollex': 7.92895654931811e-05, 'guess': 0.0001585791309863622, 'gigolo': 7.92895654931811e-05, 'etc': 7.92895654931811e-05, '08712466669': 7.92895654931811e-05, 'knw': 0.0005550269584522677, 'smsservices': 7.92895654931811e-05, 'previously': 7.92895654931811e-05, '£1/minmobsmorelkpobox177hp51fl': 7.92895654931811e-05, 'common': 0.0001585791309863622, 'created': 7.92895654931811e-05, 'orange': 0.0002378686964795433, 'cal': 0.0001585791309863622, '+std': 7.92895654931811e-05, 'it+both': 0.0001585791309863622, 'mobile': 0.0004757373929590866, 'hard': 0.0003964478274659055, 'winner': 7.92895654931811e-05, '“': 7.92895654931811e-05, 'pdate_now': 7.92895654931811e-05, 'daddy': 0.0001585791309863622, '150p/meg': 7.92895654931811e-05, 'transferred': 7.92895654931811e-05, 'anything': 0.0009514747859181732, 'bob': 7.92895654931811e-05, 'wonders': 0.0001585791309863622, 'breaker': 7.92895654931811e-05, 'place': 0.000792895654931811, 'week-stop': 7.92895654931811e-05, 'jersey': 7.92895654931811e-05, 'sounds': 7.92895654931811e-05, 'txt': 0.0003171582619727244, 'til': 0.0001585791309863622, 'account': 0.0001585791309863622, 'english': 0.0001585791309863622, 'sun0819': 7.92895654931811e-05, 'filthy': 7.92895654931811e-05, '£300': 7.92895654931811e-05, 's': 0.0001585791309863622, 'b/tooth': 7.92895654931811e-05, 'brought': 7.92895654931811e-05, \"he'll\": 0.0001585791309863622, 'a': 0.010704091341579448, 'inform': 0.0002378686964795433, 'exciting': 7.92895654931811e-05, 'final': 0.0001585791309863622, 'guarantee': 7.92895654931811e-05, 'bloombergcom': 7.92895654931811e-05, 'not': 0.005233111322549952, '08002986906': 7.92895654931811e-05, 'mssuman': 0.0001585791309863622, 'msg@£150rcvd': 7.92895654931811e-05, 'country': 0.0001585791309863622, 'heard': 0.0001585791309863622, 'lkpobox177hp51fl': 7.92895654931811e-05, 'squatting': 0.0001585791309863622, '528': 7.92895654931811e-05, 'safety': 0.0001585791309863622, 'send': 0.0014272121788772598, 'reach': 0.0003964478274659055, '83222': 7.92895654931811e-05, 'sweetie': 0.0001585791309863622, 'growing': 7.92895654931811e-05, '09050090044': 7.92895654931811e-05, '81303': 7.92895654931811e-05, \"won't\": 0.0001585791309863622, 'darlin': 0.0001585791309863622, 'tones2u': 7.92895654931811e-05, 'yay': 0.0003171582619727244, '-sub': 7.92895654931811e-05, 'oops': 0.0002378686964795433, 'burns': 7.92895654931811e-05, \"can't\": 0.0005550269584522677, 'took': 0.0003171582619727244, 'horniest': 7.92895654931811e-05, 'skills': 7.92895654931811e-05, 'pobox12n146tf15': 7.92895654931811e-05, 'reason': 0.0002378686964795433, 'credit': 0.0001585791309863622, 'lover': 0.0001585791309863622, '5wb': 7.92895654931811e-05, '10th': 7.92895654931811e-05, 'extra': 0.0001585791309863622, '88066': 7.92895654931811e-05, 'luck': 7.92895654931811e-05, 'each': 7.92895654931811e-05, 'knowing': 0.0001585791309863622, 'cherthalain': 0.0001585791309863622, 'prepayment': 7.92895654931811e-05, 'evening': 0.0004757373929590866, 'accommodation': 7.92895654931811e-05, '09066612661': 7.92895654931811e-05, 'girlfrnd': 0.0002378686964795433, 'comedycant': 0.0001585791309863622, 'urn': 0.0002378686964795433, 'opener': 0.0001585791309863622, 'ahead': 0.0002378686964795433, 'mom': 0.0001585791309863622, '150p/min': 7.92895654931811e-05, 'bid': 7.92895654931811e-05, 'ibhltd': 7.92895654931811e-05, 'jason': 0.0002378686964795433, 'ouch': 0.0001585791309863622, 'widelivecom/index': 7.92895654931811e-05, 'address': 0.0004757373929590866, 'wake': 0.0004757373929590866, 'exam': 0.0001585791309863622, 'thanks': 0.0004757373929590866, '44': 7.92895654931811e-05, 'nitros': 0.0001585791309863622, 'cr9': 7.92895654931811e-05, 'sensible': 0.0001585791309863622, 'comp': 7.92895654931811e-05, 'stops': 0.0001585791309863622, 'lnly': 7.92895654931811e-05, 'if/when/how': 0.0001585791309863622, 'nusstu': 0.0001585791309863622, 'gt': 0.0001585791309863622, '89693': 7.92895654931811e-05, '50': 7.92895654931811e-05, '2go': 0.0001585791309863622, 'doubletxt': 7.92895654931811e-05, 'kate': 0.0003171582619727244, '80082': 7.92895654931811e-05, 'k52': 7.92895654931811e-05, 'mobileupd8': 7.92895654931811e-05, '300603t&csbcm4235wc1n3xxcallcost150ppmmobilesvary': 7.92895654931811e-05, 'pan': 0.0002378686964795433, 'datingi': 7.92895654931811e-05, '0871277810710p/min': 7.92895654931811e-05, 'mt': 0.0002378686964795433, 'aids': 0.0001585791309863622, 'quiz': 7.92895654931811e-05, 'team': 7.92895654931811e-05, 'guy': 0.0002378686964795433, 'pieces': 0.0002378686964795433, 'notice': 0.0001585791309863622, 'day2find': 7.92895654931811e-05, 'bout': 0.0001585791309863622, 'box403': 7.92895654931811e-05, 'ringtones': 7.92895654931811e-05, 'biggest': 7.92895654931811e-05, 'added': 0.0001585791309863622, 'kath': 7.92895654931811e-05, 'filthyguys': 7.92895654931811e-05, 'says': 0.0003171582619727244, '8027': 7.92895654931811e-05, '150': 7.92895654931811e-05, 'switch': 0.0001585791309863622, 'symbol': 7.92895654931811e-05, \"doesn\\\\'t\": 0.0002378686964795433, '08700621170150p': 7.92895654931811e-05, 'jeans': 0.0001585791309863622, 'free2day': 7.92895654931811e-05, '07808726822': 7.92895654931811e-05, 'files': 0.0001585791309863622, 'info@txt82228couk': 7.92895654931811e-05, 'jackson': 0.0001585791309863622, 'totally': 0.0001585791309863622, 'perhaps': 0.0001585791309863622, 'hand': 0.0003171582619727244, 'lily': 7.92895654931811e-05, '09066368470': 7.92895654931811e-05, 'owl': 0.0001585791309863622, 'pix': 7.92895654931811e-05, 'couple': 0.0002378686964795433, 'ur': 0.0028544243577545195, 'yes': 0.000792895654931811, 'those': 0.0003171582619727244, 'tons': 7.92895654931811e-05, 'anyways': 0.0001585791309863622, 'office': 7.92895654931811e-05, 'ugh': 0.0002378686964795433, '09058094454': 7.92895654931811e-05, 'discreet': 7.92895654931811e-05, '4742': 7.92895654931811e-05, 'hide': 0.0001585791309863622, 'me': 0.009197589597209007, 'home': 0.0011893434823977164, 'weekend': 0.0003171582619727244, 'i‘ll': 0.0001585791309863622, 'themob': 7.92895654931811e-05, 'yep': 0.0001585791309863622, 'weed': 0.0001585791309863622, 'hoping': 0.0001585791309863622, 'voucher': 7.92895654931811e-05, '/': 0.0001585791309863622, 'occurs': 0.0001585791309863622, '69876': 7.92895654931811e-05, 'callcoz': 0.0001585791309863622, 'doesnt': 0.0001585791309863622, 'sk38xh': 7.92895654931811e-05, 'rcvd': 7.92895654931811e-05, '[colour=red]text[/colour]txtstar': 7.92895654931811e-05, 'kids': 0.0001585791309863622, '087016248': 7.92895654931811e-05, '2p': 7.92895654931811e-05, 'chords': 0.0001585791309863622, '2mrw': 0.0001585791309863622, 'lemme': 0.0003171582619727244, 'cheaper': 7.92895654931811e-05, '01223585236': 7.92895654931811e-05, 'usc': 0.0002378686964795433, 'wonderful': 0.0001585791309863622, 'homeleft': 0.0001585791309863622, '0871-872-9758': 7.92895654931811e-05, 'take': 0.0009514747859181732, 'chill': 0.0001585791309863622, '0089my': 7.92895654931811e-05, 'door': 7.92895654931811e-05, 'proze': 7.92895654931811e-05, 'box61m60': 7.92895654931811e-05, 'king': 7.92895654931811e-05, 'teaching': 0.0001585791309863622, 'de-': 0.0001585791309863622, 'ba': 0.0001585791309863622, 'free*': 7.92895654931811e-05, 'hmv': 7.92895654931811e-05, 'bhaskar': 0.0001585791309863622, 'lmao': 0.0002378686964795433, '09050000301': 7.92895654931811e-05, 'paul': 0.0001585791309863622, 'horny': 7.92895654931811e-05, 'macedonia': 7.92895654931811e-05, 'mac': 0.0001585791309863622, 'truekdo': 0.0001585791309863622, 'log': 0.0003171582619727244, 'legal': 0.0001585791309863622, '08712405020': 7.92895654931811e-05, '0207': 7.92895654931811e-05, '3pound': 7.92895654931811e-05, 'sorry-i': 0.0001585791309863622, 'wetherspoons': 0.0001585791309863622, 'dinner': 0.0002378686964795433, 'means': 0.0003964478274659055, 'efreefone': 7.92895654931811e-05, 'wanting': 7.92895654931811e-05, 'thinkthis': 0.0001585791309863622, '41685': 7.92895654931811e-05, 'canada': 0.0001585791309863622, 'aiya': 0.0002378686964795433, 'box95qu': 7.92895654931811e-05, '10k': 7.92895654931811e-05, 'accident': 7.92895654931811e-05, 'web2mobile': 7.92895654931811e-05, 'aft': 0.0002378686964795433, 'carefully': 0.0001585791309863622, 'poop': 0.0001585791309863622, 'ringsreturn': 7.92895654931811e-05, 'chatlines': 7.92895654931811e-05, 'aight': 0.0006343165239454488, 'potter': 7.92895654931811e-05, 'easy': 0.0001585791309863622, '*covers': 0.0001585791309863622, 'permissions': 0.0001585791309863622, 'pickle': 0.0001585791309863622, 'laugh': 0.0001585791309863622, 'fantasies': 7.92895654931811e-05, 'yes-440': 7.92895654931811e-05, '=d': 0.0001585791309863622, '31/10/04': 7.92895654931811e-05, 'onion-rs': 0.0001585791309863622, 'instant': 7.92895654931811e-05, 'o2couk/games': 7.92895654931811e-05, 'god': 0.0003171582619727244, 'stoptxtstop£150/week': 7.92895654931811e-05, '4txt/ú120': 7.92895654931811e-05, 'vco': 7.92895654931811e-05, 'hear': 0.0005550269584522677, 'csh11': 7.92895654931811e-05, '08715203677': 7.92895654931811e-05, 'wild': 7.92895654931811e-05, 'drive': 0.0003171582619727244, 'sparkling': 7.92895654931811e-05, 'stories': 7.92895654931811e-05, 'vip': 7.92895654931811e-05, 'max6/month': 7.92895654931811e-05, 'fone': 0.0002378686964795433, 'season': 0.0001585791309863622, 'wife': 0.0001585791309863622, '4t&ctxt': 7.92895654931811e-05, 'pound': 7.92895654931811e-05, 'bt-national': 7.92895654931811e-05, 'hitteranyway': 0.0001585791309863622, 'invaders': 7.92895654931811e-05, 'wwwapplausestorecom': 7.92895654931811e-05, 'wwwtxt-2-shopcom': 7.92895654931811e-05, 'sound': 0.0002378686964795433, 'warner': 7.92895654931811e-05, 'things': 0.0007136060894386299, 'now': 0.002457976530288614, '08000930705': 7.92895654931811e-05, 'he': 0.001665080875356803, 'shopping': 0.0003964478274659055, 'puzzeles': 0.0001585791309863622, 'girls': 0.0001585791309863622, '21870000>hi': 7.92895654931811e-05, 'subscribed': 7.92895654931811e-05, 'no81151': 7.92895654931811e-05, 'renting': 0.0001585791309863622, 'yes-762': 7.92895654931811e-05, 'kick': 7.92895654931811e-05, 'dropped': 0.0001585791309863622, 'half': 0.0003171582619727244, 'character': 0.0002378686964795433, 'abta': 7.92895654931811e-05, '1winaweek': 7.92895654931811e-05, '08718727870': 7.92895654931811e-05, '150p/msgrcvd': 7.92895654931811e-05, 'theatre': 0.0001585791309863622, '£1million': 7.92895654931811e-05, '150ppermesssubscription': 7.92895654931811e-05, 'pobox36504w45wq': 7.92895654931811e-05, 'long': 0.0002378686964795433, '83370': 7.92895654931811e-05, '09065394973': 7.92895654931811e-05, 'wt': 0.0001585791309863622, 'wc1n3xx': 7.92895654931811e-05, 'housing': 0.0001585791309863622, 'charming': 0.0001585791309863622, '5p': 7.92895654931811e-05, 'highest': 7.92895654931811e-05, 'game': 0.0003964478274659055, 'freephone': 7.92895654931811e-05, 'sort': 0.0001585791309863622, 'truble': 0.0001585791309863622, 'advisors': 7.92895654931811e-05, 'motor': 0.0001585791309863622, 'halloween': 7.92895654931811e-05, 'sos': 0.0001585791309863622, 'ice': 0.0001585791309863622, 'picked': 7.92895654931811e-05, 'park': 0.0003171582619727244, 'carly': 0.0001585791309863622, 'batch': 0.0001585791309863622, 'cock': 0.0001585791309863622, 'wwwgetzedcouk': 7.92895654931811e-05, 'gud': 0.000792895654931811, 'kgive': 0.0001585791309863622, 'wiv': 7.92895654931811e-05, 'thesmszonecom': 7.92895654931811e-05, 'ccna': 0.0001585791309863622, 'psychic': 7.92895654931811e-05, '0871277810810': 7.92895654931811e-05, '09077818151': 7.92895654931811e-05, 'yup': 0.0003171582619727244, 'inc': 7.92895654931811e-05, 'mrt': 0.0001585791309863622, 'tscs': 7.92895654931811e-05, 'std': 7.92895654931811e-05, '42478': 7.92895654931811e-05, 'fault&fed': 0.0001585791309863622, 'anymore': 0.0001585791309863622, 'accidant': 0.0001585791309863622, 'realy': 0.0001585791309863622, 'spring': 0.0001585791309863622, 'hates': 0.0001585791309863622, 'don': 0.0001585791309863622, 'urgnt': 0.0003171582619727244, '85555': 7.92895654931811e-05, 'memory': 0.0001585791309863622, 'paru': 0.0001585791309863622, '85233': 7.92895654931811e-05, 'teasing': 0.0001585791309863622, 'studyn': 0.0001585791309863622, 'food': 0.0002378686964795433, 'specify': 0.0001585791309863622, 'topped': 7.92895654931811e-05, 'age': 0.0001585791309863622, '2025050': 7.92895654931811e-05, 'trial': 7.92895654931811e-05, 'ah': 0.0004757373929590866, 'cancel': 7.92895654931811e-05, 'asked': 0.0003171582619727244, 'wap': 7.92895654931811e-05, 'charged': 7.92895654931811e-05, 'no>': 7.92895654931811e-05, '02/06/03': 7.92895654931811e-05, 'thing': 0.0005550269584522677, 'q': 7.92895654931811e-05, 'mtalk': 7.92895654931811e-05, 'direct': 7.92895654931811e-05, '1unbreakable': 7.92895654931811e-05, 'alone': 0.0002378686964795433, '25/f': 7.92895654931811e-05, 'ages': 7.92895654931811e-05, 'dogs': 7.92895654931811e-05, 'match': 7.92895654931811e-05, 'atm': 0.0001585791309863622, 'max': 0.0001585791309863622, 'surfing': 0.0001585791309863622, 'treat': 0.0001585791309863622, 'www4-tcbiz': 7.92895654931811e-05, 'tsandcs': 7.92895654931811e-05, 'we': 0.0019029495718363464, 'has': 0.0011893434823977164, 'receive': 0.0001585791309863622, '5ful': 0.0001585791309863622, '4txt/120p': 7.92895654931811e-05, 'way': 0.0008721852204249921, '1131': 7.92895654931811e-05, 'telphone': 0.0001585791309863622, 'no-762': 7.92895654931811e-05, 'croydon': 7.92895654931811e-05, \"c's\": 7.92895654931811e-05, 'listed': 0.0001585791309863622, 'box420': 7.92895654931811e-05, 'whenever': 0.0001585791309863622, 'britney': 7.92895654931811e-05, 'row/w1j6hl': 7.92895654931811e-05, 'enjoy': 0.0003964478274659055, 'let': 0.0009514747859181732, 'comin': 0.0002378686964795433, 'blow': 0.0001585791309863622, '9th': 7.92895654931811e-05, '08701417012150p': 7.92895654931811e-05, 'talking': 0.0001585791309863622, 'film': 7.92895654931811e-05, 'evei': 0.0001585791309863622, '3x£150pw': 7.92895654931811e-05, 'live': 0.0003171582619727244, 'blood': 0.0002378686964795433, 't&csbcm4235wc1n3xx': 7.92895654931811e-05, 'perfect': 7.92895654931811e-05, '12hours': 7.92895654931811e-05, 'swap': 7.92895654931811e-05, 'colleagues': 0.0002378686964795433, 'been': 0.0006343165239454488, 'standing|': 0.0001585791309863622, '…': 0.0002378686964795433, 'don\\x92t': 0.0001585791309863622, '0776xxxxxxx': 7.92895654931811e-05, 'table': 0.0001585791309863622, 'decide': 0.0001585791309863622, 'yck': 0.0001585791309863622, '09061702893': 7.92895654931811e-05, '08717895698': 7.92895654931811e-05, 'moves': 0.0001585791309863622, '<fone': 7.92895654931811e-05, 'ron': 0.0001585791309863622, 'follow': 7.92895654931811e-05, 'pretty': 0.0002378686964795433, '84199': 7.92895654931811e-05, 'sat': 0.0001585791309863622, 'old': 0.0005550269584522677, 'fmyou': 7.92895654931811e-05, 'sk3': 7.92895654931811e-05, '82277unsub': 7.92895654931811e-05, 'it': 0.006105296542974944, 'course': 0.0003171582619727244, 'thou': 0.0001585791309863622, 'w1a': 7.92895654931811e-05, 'refused': 7.92895654931811e-05, 'attitude': 0.0001585791309863622, 'bakra': 0.0001585791309863622, 'm': 0.0002378686964795433, 'networks': 7.92895654931811e-05, 'unsecured': 7.92895654931811e-05, 'our': 0.0004757373929590866, 'zed': 7.92895654931811e-05, 'club': 7.92895654931811e-05, 'all': 0.0021408182683158895, \"ny's\": 0.0001585791309863622, 'miserable': 0.0001585791309863622, 'someonone': 7.92895654931811e-05, 'frndz': 0.0001585791309863622, '786': 7.92895654931811e-05, 'disaster': 7.92895654931811e-05, 'magic': 0.0001585791309863622, '0871277810910p/min': 7.92895654931811e-05, 'contract': 7.92895654931811e-05, 'rstm': 7.92895654931811e-05, 'moment': 0.0002378686964795433, 'road': 0.0003171582619727244, 'want': 0.0019029495718363464, 'ummmmmaah': 0.0001585791309863622, 'html': 7.92895654931811e-05, 'again': 0.0003171582619727244, 'suprman': 7.92895654931811e-05, 'saying': 0.0003171582619727244, 'hook': 0.0002378686964795433, '09095350301': 7.92895654931811e-05, 'suzy': 7.92895654931811e-05, 'pleased': 7.92895654931811e-05, 'answers': 0.0001585791309863622, 'prob': 0.0003964478274659055, '530': 0.0001585791309863622, 'eurodisinc': 7.92895654931811e-05, 'eyed-dont': 7.92895654931811e-05, 'wif': 0.0001585791309863622, 'gua': 0.0001585791309863622, 'eldest': 0.0001585791309863622, 'body': 0.0001585791309863622, '£1000': 7.92895654931811e-05, 'say': 0.0014272121788772598, 'planettalkinstantcom': 7.92895654931811e-05, 'fixed': 0.0001585791309863622, 'x49': 7.92895654931811e-05, 'last': 0.0003964478274659055, '80155': 7.92895654931811e-05, 'scared': 0.0001585791309863622, 'march': 0.0003171582619727244, 'gsex': 7.92895654931811e-05, 'breath': 7.92895654931811e-05, \"i've\": 0.0007136060894386299, 'spl': 0.0001585791309863622, '7548': 7.92895654931811e-05, 'expiredso': 0.0001585791309863622, 'www80488biz': 7.92895654931811e-05, 'doing': 0.0009514747859181732, '83110': 7.92895654931811e-05, 'shop': 0.0001585791309863622, 'backdoor': 7.92895654931811e-05, '2007': 7.92895654931811e-05, '10p': 7.92895654931811e-05, 'strings': 7.92895654931811e-05, 'burning': 0.0001585791309863622, 'stolen': 7.92895654931811e-05, 'echo': 7.92895654931811e-05, 'limits': 0.0001585791309863622, 'late': 0.0006343165239454488, 'subject': 7.92895654931811e-05, 'processexcellent': 0.0001585791309863622, '*phews*': 0.0001585791309863622, 'bowl': 0.0001585791309863622, 'taking': 0.0003171582619727244, 'goodmorning': 0.0003171582619727244, 'privacy': 7.92895654931811e-05, 'records': 7.92895654931811e-05, 'saristar': 7.92895654931811e-05, '5gently': 0.0001585791309863622, 'won': 7.92895654931811e-05, 'monday': 0.0002378686964795433, 'longer': 0.0002378686964795433, 'visionsmscom': 7.92895654931811e-05, 'for£38': 7.92895654931811e-05, 'meare': 0.0001585791309863622, 'arrange': 7.92895654931811e-05, 'alertfrom': 7.92895654931811e-05, 'fifteen': 0.0001585791309863622, 'uses': 0.0001585791309863622, 'hmm': 0.0001585791309863622, 'pole': 7.92895654931811e-05, 'ard': 0.0002378686964795433, 'libertines': 7.92895654931811e-05, 'irritating': 0.0001585791309863622, 'tho': 0.0001585791309863622, 'prods': 7.92895654931811e-05, 'was': 0.001665080875356803, '09061701444': 7.92895654931811e-05, 'titles': 7.92895654931811e-05, 'sw7': 7.92895654931811e-05, 'goodnite': 0.0001585791309863622, 'box42wr29c': 7.92895654931811e-05, 'nownyt': 7.92895654931811e-05, '6986618': 7.92895654931811e-05, 'marsms': 7.92895654931811e-05, 'ringtonefrom': 7.92895654931811e-05, 'hvae': 7.92895654931811e-05, '1': 0.0005550269584522677, 'places': 0.0001585791309863622, 'workin': 0.0001585791309863622, '60p/min': 7.92895654931811e-05, 'bfore': 0.0001585791309863622, 'month': 0.0003171582619727244, '69200': 7.92895654931811e-05, 'o2fwd': 7.92895654931811e-05, 'smsshsexnetun': 7.92895654931811e-05, '08714712412': 7.92895654931811e-05, 'problem': 0.0005550269584522677, 'joy': 0.0001585791309863622, 'wish': 0.0008721852204249921, 'weightloss': 0.0001585791309863622, '9am': 0.0001585791309863622, '2stop': 7.92895654931811e-05, 'pressure': 0.0001585791309863622, \"\\x93it's\": 7.92895654931811e-05, 'tones2youcouk': 7.92895654931811e-05, 'does': 0.0003171582619727244, 'orno': 7.92895654931811e-05, 'wordstart': 7.92895654931811e-05, 'private': 7.92895654931811e-05, 'filth': 7.92895654931811e-05, 'band': 7.92895654931811e-05, 'stoptxt': 7.92895654931811e-05, '45': 7.92895654931811e-05, '09041940223': 7.92895654931811e-05, 'videophones': 7.92895654931811e-05, 'itmail': 0.0001585791309863622, '1stchoicecouk': 7.92895654931811e-05, 'datebox1282essexcm61xn': 7.92895654931811e-05, 'answer': 7.92895654931811e-05, 'speak': 0.0003171582619727244, 'store': 7.92895654931811e-05, 'readers': 7.92895654931811e-05, 'skilgme': 7.92895654931811e-05, 'wwwsmsac/u/hmmross': 7.92895654931811e-05, 'afternon': 0.0001585791309863622, 'camcorder': 7.92895654931811e-05, 'letters': 0.0001585791309863622, '16+only': 7.92895654931811e-05, 'too': 0.0011100539169045353, 'explain': 0.0002378686964795433, 'cute': 7.92895654931811e-05, 'wen': 0.0004757373929590866, '28': 7.92895654931811e-05, 'immed': 0.0001585791309863622, 'max10mins': 7.92895654931811e-05, '08718727868': 7.92895654931811e-05, '83383': 7.92895654931811e-05, 'quizclub': 7.92895654931811e-05, '09061790126': 7.92895654931811e-05, 'screaming': 0.0001585791309863622, '88222': 7.92895654931811e-05, 'teenager': 7.92895654931811e-05, 'cbe': 0.0001585791309863622, 'man': 0.0002378686964795433, '08718726270': 7.92895654931811e-05, 'installing': 0.0001585791309863622, '9996': 7.92895654931811e-05, 'behind': 0.0002378686964795433, 'hold': 0.0001585791309863622, 'night': 0.0010307643514113542, 'oredi': 0.0003964478274659055, 'fancy': 7.92895654931811e-05, 'feeling': 0.0001585791309863622, 'happens': 0.0001585791309863622, 'wwwmusic-trivianet': 7.92895654931811e-05, '1st4terms': 7.92895654931811e-05, 'split': 0.0001585791309863622, 'asks': 0.0002378686964795433, 'neededsalary': 0.0001585791309863622, 'thot': 0.0001585791309863622, 'chit-chat': 7.92895654931811e-05, 'wkent/150p16+': 7.92895654931811e-05, 'four': 7.92895654931811e-05, 'fondly': 0.0001585791309863622, 'up': 0.0035680304471931495, 'can': 0.004519505233111323, 'sheffield': 0.0001585791309863622, 'posts': 7.92895654931811e-05, 'wet': 0.0001585791309863622, \"dat's\": 0.0001585791309863622, 'r': 0.000792895654931811, 'chart': 7.92895654931811e-05, 'tv': 0.0003171582619727244, 'bus': 0.0001585791309863622, 'dates': 7.92895654931811e-05, 'noline': 7.92895654931811e-05, '07732584351': 7.92895654931811e-05, '150p/mtmsgrcvd18+': 7.92895654931811e-05, 'jess': 0.0002378686964795433, '087143423992stop': 7.92895654931811e-05, '2005': 7.92895654931811e-05, \"there's\": 0.0003171582619727244, 'made': 0.0002378686964795433, 'wear': 0.0001585791309863622, '0800': 7.92895654931811e-05, 'ree': 7.92895654931811e-05, '861': 7.92895654931811e-05, 'sometimes': 0.0003171582619727244, '1x150p/wk': 7.92895654931811e-05, \"i'll\": 0.0020615287028227084, '-via': 0.0001585791309863622, 'hundred': 0.0001585791309863622, 'web': 7.92895654931811e-05, 'ever': 0.0003171582619727244, 'evening*': 0.0001585791309863622, 'gravity': 0.0001585791309863622, 'lit': 0.0001585791309863622, '14thmarch': 7.92895654931811e-05, 'dis': 0.0003171582619727244, 'saturday': 0.0003171582619727244, 'then': 0.0020615287028227084, 'tncs': 7.92895654931811e-05, 'al': 0.0001585791309863622, '-': 0.0009514747859181732, 'sister': 0.0003171582619727244, 'pt2': 7.92895654931811e-05, 'worries': 0.0003964478274659055, 'club4': 7.92895654931811e-05, 'us': 0.0006343165239454488, '2yr': 7.92895654931811e-05, 'agent': 7.92895654931811e-05, 'mustprovide': 7.92895654931811e-05, 'cut': 0.0001585791309863622, 'leading': 7.92895654931811e-05, 'relocate': 0.0001585791309863622, 'tones': 7.92895654931811e-05, 'yer': 7.92895654931811e-05, 'beneath': 0.0001585791309863622, 'coffee': 0.0001585791309863622, 'mp3': 7.92895654931811e-05, '-shakespeare-': 0.0001585791309863622, 'close': 0.0002378686964795433, 'having': 0.0005550269584522677, 'forget': 0.0001585791309863622, 'gr8': 0.0002378686964795433, 'fowler': 0.0001585791309863622, 'http//tms': 7.92895654931811e-05, 'website': 7.92895654931811e-05, 'usb': 0.0001585791309863622, 'msgs': 0.0002378686964795433, 'sw73ss': 7.92895654931811e-05, 'well': 0.0007136060894386299, 'romcapspam': 7.92895654931811e-05, '078498****7': 7.92895654931811e-05, 'isn‘t': 0.0001585791309863622, 'using': 0.0001585791309863622, 'told': 0.0007136060894386299, 'webadres': 0.0001585791309863622, 'low-cost': 7.92895654931811e-05, 'wants': 0.0003964478274659055, 'medicine': 0.0001585791309863622, 'issues': 0.0001585791309863622, 'lacsthats': 0.0001585791309863622, 'update_now': 7.92895654931811e-05, 'have': 0.004440215667618141, 'wah': 0.0001585791309863622, 'record': 0.0001585791309863622, 'bloke': 7.92895654931811e-05, 'psp': 7.92895654931811e-05, '60p': 7.92895654931811e-05, 'wat': 0.0007136060894386299, 'dearme': 0.0001585791309863622, 'age16150ppermesssubscription': 7.92895654931811e-05, 'flirting': 7.92895654931811e-05, 'bulbs': 7.92895654931811e-05, '£1': 7.92895654931811e-05, 'loads': 0.0001585791309863622, 'recd': 7.92895654931811e-05, 'obey': 0.0001585791309863622, 'shove': 0.0001585791309863622, 'worryc': 0.0001585791309863622, 'dammit': 0.0001585791309863622, 'nokia6650': 7.92895654931811e-05, 'waste': 0.0001585791309863622, '85222': 7.92895654931811e-05, '09064019788': 7.92895654931811e-05, 'stopbcm': 7.92895654931811e-05, '8ball': 7.92895654931811e-05, '25p': 7.92895654931811e-05, 'replies': 7.92895654931811e-05, 'because': 0.0004757373929590866, '08719180219': 7.92895654931811e-05, 'wlcome': 0.0001585791309863622, 'selection': 7.92895654931811e-05, '29/10/0': 7.92895654931811e-05, 'choose': 0.0001585791309863622, 'slovely': 0.0001585791309863622, 'via': 0.0001585791309863622, 'congratulations': 7.92895654931811e-05, 'style': 0.0003171582619727244, 'partner': 7.92895654931811e-05, 'm227xy': 7.92895654931811e-05, 'whats': 0.0003171582619727244, 'small': 0.0002378686964795433, '4041': 7.92895654931811e-05, '08006344447': 7.92895654931811e-05, 'okay': 0.0005550269584522677, 'very': 0.0008721852204249921, 'weekly': 7.92895654931811e-05, 'thank': 0.0003171582619727244, '£3/wk': 7.92895654931811e-05, 'add': 0.0001585791309863622, 'virgins': 7.92895654931811e-05, 'planned': 0.0001585791309863622, 'should': 0.0007136060894386299, 'lool': 0.0001585791309863622, 'polys': 7.92895654931811e-05, 'call09050000327': 7.92895654931811e-05, 'opt-out': 7.92895654931811e-05, 'awesome': 0.0003964478274659055, '8552': 7.92895654931811e-05, 'ignoring': 0.0001585791309863622, 'aco&entry41': 7.92895654931811e-05, 'cam': 7.92895654931811e-05, 'other': 0.0004757373929590866, \"hubby's\": 7.92895654931811e-05, 'urgentbut': 0.0001585791309863622, '49557': 7.92895654931811e-05, 'eve': 0.0002378686964795433}\n"
     ]
    }
   ],
   "source": [
    "p_spam = sum(y_train == 1) / len(y_train)  # probability of spam message\n",
    "p_ham = sum(y_train == 0) / len(y_train)  # probability of ham message\n",
    "\n",
    "# Preprocess data to separate words\n",
    "vocab = set()\n",
    "spam_words = []\n",
    "ham_words = []\n",
    "vocab_size = len(vocab)\n",
    "\n",
    "# Separate words by classification\n",
    "for message, classification in zip(X_train, y_train):\n",
    "    for word in message.split():\n",
    "        vocab.add(word)\n",
    "        if classification == 1:\n",
    "            spam_words.append(word)\n",
    "        else:  # ham\n",
    "            ham_words.append(word)\n",
    "\n",
    "# Laplace Smoothing for probability of word in each classification\n",
    "k = 1  # Laplace smoothing constant\n",
    "\n",
    "spam_word_probs = {word: (spam_words.count(word) + 1) / (len(spam_words) + len(vocab)) for word in vocab}\n",
    "ham_word_probs = {word: (ham_words.count(word) + 1) / (len(ham_words) + len(vocab)) for word in vocab}\n",
    "\n",
    "# Classify a new message\n",
    "def classify(message):\n",
    "    p_message_given_spam = np.log(p_spam)\n",
    "    p_message_given_ham = np.log(p_ham)\n",
    "    for word in message.split():\n",
    "        if word in spam_word_probs:\n",
    "            p_message_given_spam += np.log(spam_word_probs.get(word, 1 / (len(spam_words) + vocab_size * k)))\n",
    "        if word in ham_word_probs:\n",
    "            p_message_given_ham += np.log(ham_word_probs.get(word, 1 / (len(ham_words) + vocab_size * k)))\n",
    "    return 'spam' if p_message_given_spam > p_message_given_ham else 'ham'\n",
    "\n",
    "# Print probabilities of each classification\n",
    "print(f\"Probability of spam: {p_spam}\")\n",
    "print(f\"Probability of ham: {p_ham}\")\n",
    "\n",
    "# Print probabilities of each word in each classification\n",
    "print(f\"\\nSpam word probabilities: {spam_word_probs}\")\n",
    "print(f\"Ham word probabilities: {ham_word_probs}\")"
   ]
  },
  {
   "cell_type": "markdown",
   "metadata": {},
   "source": [
    "La métrica a utilizar será la precisión ya que las clases están equilibradas y ayudará a la proporción de predicciones correctas entre todas las predicciones."
   ]
  },
  {
   "cell_type": "code",
   "execution_count": 18,
   "metadata": {},
   "outputs": [
    {
     "name": "stdout",
     "output_type": "stream",
     "text": [
      "Accuracy on testing set: 0.9665551839464883\n",
      "Accuracy on training set: 0.9774058577405857\n"
     ]
    }
   ],
   "source": [
    "# Test the model on the TESTING set\n",
    "y_pred = [classify(message) for message in X_test]\n",
    "\n",
    "# Encode the predictions as 0 and 1\n",
    "y_pred_encoded = [1 if prediction == 'spam' else 0 for prediction in y_pred]\n",
    "\n",
    "# Calculate accuracy\n",
    "accuracy = sum(y_pred_encoded == y_test) / len(y_test)\n",
    "\n",
    "print(f\"Accuracy on testing set: {accuracy}\")\n",
    "\n",
    "# Test the model on the TRAINING set\n",
    "y_pred_train = [classify(message) for message in X_train]\n",
    "\n",
    "# Encode the predictions as 0 and 1\n",
    "y_pred_train_encoded = [1 if prediction == 'spam' else 0 for prediction in y_pred_train]\n",
    "\n",
    "# Calculate accuracy\n",
    "accuracy_train = sum(y_pred_train_encoded == y_train) / len(y_train)\n",
    "\n",
    "print(f\"Accuracy on training set: {accuracy_train}\")"
   ]
  },
  {
   "cell_type": "markdown",
   "metadata": {},
   "source": [
    "Las precisiones de los modelos al ser cercanas, indica que el modelo se está generalizando bien, no está sobreajustado ni insuficientemente ajustado."
   ]
  },
  {
   "cell_type": "markdown",
   "metadata": {},
   "source": [
    "# Task 2.3"
   ]
  },
  {
   "cell_type": "code",
   "execution_count": 38,
   "metadata": {},
   "outputs": [
    {
     "name": "stdout",
     "output_type": "stream",
     "text": [
      "Spam message probability: 2.3777355481917977e-67\n",
      "Ham message probability: 1.3681660617415548e-74\n",
      "\n",
      "Message classification: spam\n"
     ]
    }
   ],
   "source": [
    "# Convert the message to lowercase, remove punctuation, and remove non-ASCII characters\n",
    "def clean_message(message):\n",
    "    return \"\".join(char for char in message.lower() if char.isascii() and char not in string.punctuation)\n",
    "\n",
    "# Asks for the input message and classifies it\n",
    "Imessage = input('Introduce your message: ')\n",
    "cleaned_message = clean_message(Imessage)\n",
    "\n",
    "# Calculate the probability of the message being spam and ham\n",
    "p_message_given_spam = np.log(p_spam)\n",
    "p_message_given_ham = np.log(p_ham)\n",
    "for word in cleaned_message.split():\n",
    "    if word in spam_word_probs:\n",
    "        p_message_given_spam += np.log(spam_word_probs.get(word, 1 / (len(spam_words) + vocab_size * k)))\n",
    "    if word in ham_word_probs:\n",
    "        p_message_given_ham += np.log(ham_word_probs.get(word, 1 / (len(ham_words) + vocab_size * k)))\n",
    "\n",
    "print(f\"Spam message probability: {np.exp(p_message_given_spam)}\") \n",
    "print(f\"Ham message probability: {np.exp(p_message_given_ham)}\") \n",
    "print(f\"\\nMessage classification: {classify(cleaned_message)}\") "
   ]
  },
  {
   "cell_type": "markdown",
   "metadata": {},
   "source": [
    "# Task 2.4"
   ]
  },
  {
   "cell_type": "markdown",
   "metadata": {},
   "source": [
    "# Task 3 Clasificación de Partidas de League of Legends\n",
    "\n",
    "## Análisis Exploratorio"
   ]
  },
  {
   "cell_type": "code",
   "execution_count": 193,
   "metadata": {
    "ExecuteTime": {
     "end_time": "2024-01-26T20:23:23.928214Z",
     "start_time": "2024-01-26T20:23:23.862012700Z"
    },
    "collapsed": false
   },
   "outputs": [],
   "source": [
    "df_lol = pd.read_csv('data/high_diamond_ranked_10min.csv')"
   ]
  },
  {
   "cell_type": "code",
   "execution_count": 194,
   "metadata": {
    "ExecuteTime": {
     "end_time": "2024-01-26T20:23:23.954436900Z",
     "start_time": "2024-01-26T20:23:23.914189600Z"
    },
    "collapsed": false
   },
   "outputs": [
    {
     "data": {
      "text/html": [
       "<div>\n",
       "<style scoped>\n",
       "    .dataframe tbody tr th:only-of-type {\n",
       "        vertical-align: middle;\n",
       "    }\n",
       "\n",
       "    .dataframe tbody tr th {\n",
       "        vertical-align: top;\n",
       "    }\n",
       "\n",
       "    .dataframe thead th {\n",
       "        text-align: right;\n",
       "    }\n",
       "</style>\n",
       "<table border=\"1\" class=\"dataframe\">\n",
       "  <thead>\n",
       "    <tr style=\"text-align: right;\">\n",
       "      <th></th>\n",
       "      <th>gameId</th>\n",
       "      <th>blueWins</th>\n",
       "      <th>blueWardsPlaced</th>\n",
       "      <th>blueWardsDestroyed</th>\n",
       "      <th>blueFirstBlood</th>\n",
       "      <th>blueKills</th>\n",
       "      <th>blueDeaths</th>\n",
       "      <th>blueAssists</th>\n",
       "      <th>blueEliteMonsters</th>\n",
       "      <th>blueDragons</th>\n",
       "      <th>...</th>\n",
       "      <th>redTowersDestroyed</th>\n",
       "      <th>redTotalGold</th>\n",
       "      <th>redAvgLevel</th>\n",
       "      <th>redTotalExperience</th>\n",
       "      <th>redTotalMinionsKilled</th>\n",
       "      <th>redTotalJungleMinionsKilled</th>\n",
       "      <th>redGoldDiff</th>\n",
       "      <th>redExperienceDiff</th>\n",
       "      <th>redCSPerMin</th>\n",
       "      <th>redGoldPerMin</th>\n",
       "    </tr>\n",
       "  </thead>\n",
       "  <tbody>\n",
       "    <tr>\n",
       "      <th>0</th>\n",
       "      <td>4519157822</td>\n",
       "      <td>0</td>\n",
       "      <td>28</td>\n",
       "      <td>2</td>\n",
       "      <td>1</td>\n",
       "      <td>9</td>\n",
       "      <td>6</td>\n",
       "      <td>11</td>\n",
       "      <td>0</td>\n",
       "      <td>0</td>\n",
       "      <td>...</td>\n",
       "      <td>0</td>\n",
       "      <td>16567</td>\n",
       "      <td>6.8</td>\n",
       "      <td>17047</td>\n",
       "      <td>197</td>\n",
       "      <td>55</td>\n",
       "      <td>-643</td>\n",
       "      <td>8</td>\n",
       "      <td>19.7</td>\n",
       "      <td>1656.7</td>\n",
       "    </tr>\n",
       "    <tr>\n",
       "      <th>1</th>\n",
       "      <td>4523371949</td>\n",
       "      <td>0</td>\n",
       "      <td>12</td>\n",
       "      <td>1</td>\n",
       "      <td>0</td>\n",
       "      <td>5</td>\n",
       "      <td>5</td>\n",
       "      <td>5</td>\n",
       "      <td>0</td>\n",
       "      <td>0</td>\n",
       "      <td>...</td>\n",
       "      <td>1</td>\n",
       "      <td>17620</td>\n",
       "      <td>6.8</td>\n",
       "      <td>17438</td>\n",
       "      <td>240</td>\n",
       "      <td>52</td>\n",
       "      <td>2908</td>\n",
       "      <td>1173</td>\n",
       "      <td>24.0</td>\n",
       "      <td>1762.0</td>\n",
       "    </tr>\n",
       "    <tr>\n",
       "      <th>2</th>\n",
       "      <td>4521474530</td>\n",
       "      <td>0</td>\n",
       "      <td>15</td>\n",
       "      <td>0</td>\n",
       "      <td>0</td>\n",
       "      <td>7</td>\n",
       "      <td>11</td>\n",
       "      <td>4</td>\n",
       "      <td>1</td>\n",
       "      <td>1</td>\n",
       "      <td>...</td>\n",
       "      <td>0</td>\n",
       "      <td>17285</td>\n",
       "      <td>6.8</td>\n",
       "      <td>17254</td>\n",
       "      <td>203</td>\n",
       "      <td>28</td>\n",
       "      <td>1172</td>\n",
       "      <td>1033</td>\n",
       "      <td>20.3</td>\n",
       "      <td>1728.5</td>\n",
       "    </tr>\n",
       "    <tr>\n",
       "      <th>3</th>\n",
       "      <td>4524384067</td>\n",
       "      <td>0</td>\n",
       "      <td>43</td>\n",
       "      <td>1</td>\n",
       "      <td>0</td>\n",
       "      <td>4</td>\n",
       "      <td>5</td>\n",
       "      <td>5</td>\n",
       "      <td>1</td>\n",
       "      <td>0</td>\n",
       "      <td>...</td>\n",
       "      <td>0</td>\n",
       "      <td>16478</td>\n",
       "      <td>7.0</td>\n",
       "      <td>17961</td>\n",
       "      <td>235</td>\n",
       "      <td>47</td>\n",
       "      <td>1321</td>\n",
       "      <td>7</td>\n",
       "      <td>23.5</td>\n",
       "      <td>1647.8</td>\n",
       "    </tr>\n",
       "    <tr>\n",
       "      <th>4</th>\n",
       "      <td>4436033771</td>\n",
       "      <td>0</td>\n",
       "      <td>75</td>\n",
       "      <td>4</td>\n",
       "      <td>0</td>\n",
       "      <td>6</td>\n",
       "      <td>6</td>\n",
       "      <td>6</td>\n",
       "      <td>0</td>\n",
       "      <td>0</td>\n",
       "      <td>...</td>\n",
       "      <td>0</td>\n",
       "      <td>17404</td>\n",
       "      <td>7.0</td>\n",
       "      <td>18313</td>\n",
       "      <td>225</td>\n",
       "      <td>67</td>\n",
       "      <td>1004</td>\n",
       "      <td>-230</td>\n",
       "      <td>22.5</td>\n",
       "      <td>1740.4</td>\n",
       "    </tr>\n",
       "  </tbody>\n",
       "</table>\n",
       "<p>5 rows × 40 columns</p>\n",
       "</div>"
      ],
      "text/plain": [
       "       gameId  blueWins  blueWardsPlaced  blueWardsDestroyed  blueFirstBlood  \\\n",
       "0  4519157822         0               28                   2               1   \n",
       "1  4523371949         0               12                   1               0   \n",
       "2  4521474530         0               15                   0               0   \n",
       "3  4524384067         0               43                   1               0   \n",
       "4  4436033771         0               75                   4               0   \n",
       "\n",
       "   blueKills  blueDeaths  blueAssists  blueEliteMonsters  blueDragons  ...  \\\n",
       "0          9           6           11                  0            0  ...   \n",
       "1          5           5            5                  0            0  ...   \n",
       "2          7          11            4                  1            1  ...   \n",
       "3          4           5            5                  1            0  ...   \n",
       "4          6           6            6                  0            0  ...   \n",
       "\n",
       "   redTowersDestroyed  redTotalGold  redAvgLevel  redTotalExperience  \\\n",
       "0                   0         16567          6.8               17047   \n",
       "1                   1         17620          6.8               17438   \n",
       "2                   0         17285          6.8               17254   \n",
       "3                   0         16478          7.0               17961   \n",
       "4                   0         17404          7.0               18313   \n",
       "\n",
       "   redTotalMinionsKilled  redTotalJungleMinionsKilled  redGoldDiff  \\\n",
       "0                    197                           55         -643   \n",
       "1                    240                           52         2908   \n",
       "2                    203                           28         1172   \n",
       "3                    235                           47         1321   \n",
       "4                    225                           67         1004   \n",
       "\n",
       "   redExperienceDiff  redCSPerMin  redGoldPerMin  \n",
       "0                  8         19.7         1656.7  \n",
       "1               1173         24.0         1762.0  \n",
       "2               1033         20.3         1728.5  \n",
       "3                  7         23.5         1647.8  \n",
       "4               -230         22.5         1740.4  \n",
       "\n",
       "[5 rows x 40 columns]"
      ]
     },
     "execution_count": 194,
     "metadata": {},
     "output_type": "execute_result"
    }
   ],
   "source": [
    "df_lol.head()"
   ]
  },
  {
   "cell_type": "code",
   "execution_count": 195,
   "metadata": {
    "ExecuteTime": {
     "end_time": "2024-01-26T20:23:24.025736200Z",
     "start_time": "2024-01-26T20:23:23.942021800Z"
    },
    "collapsed": false
   },
   "outputs": [
    {
     "name": "stdout",
     "output_type": "stream",
     "text": [
      "<class 'pandas.core.frame.DataFrame'>\n",
      "RangeIndex: 9879 entries, 0 to 9878\n",
      "Data columns (total 40 columns):\n",
      " #   Column                        Non-Null Count  Dtype  \n",
      "---  ------                        --------------  -----  \n",
      " 0   gameId                        9879 non-null   int64  \n",
      " 1   blueWins                      9879 non-null   int64  \n",
      " 2   blueWardsPlaced               9879 non-null   int64  \n",
      " 3   blueWardsDestroyed            9879 non-null   int64  \n",
      " 4   blueFirstBlood                9879 non-null   int64  \n",
      " 5   blueKills                     9879 non-null   int64  \n",
      " 6   blueDeaths                    9879 non-null   int64  \n",
      " 7   blueAssists                   9879 non-null   int64  \n",
      " 8   blueEliteMonsters             9879 non-null   int64  \n",
      " 9   blueDragons                   9879 non-null   int64  \n",
      " 10  blueHeralds                   9879 non-null   int64  \n",
      " 11  blueTowersDestroyed           9879 non-null   int64  \n",
      " 12  blueTotalGold                 9879 non-null   int64  \n",
      " 13  blueAvgLevel                  9879 non-null   float64\n",
      " 14  blueTotalExperience           9879 non-null   int64  \n",
      " 15  blueTotalMinionsKilled        9879 non-null   int64  \n",
      " 16  blueTotalJungleMinionsKilled  9879 non-null   int64  \n",
      " 17  blueGoldDiff                  9879 non-null   int64  \n",
      " 18  blueExperienceDiff            9879 non-null   int64  \n",
      " 19  blueCSPerMin                  9879 non-null   float64\n",
      " 20  blueGoldPerMin                9879 non-null   float64\n",
      " 21  redWardsPlaced                9879 non-null   int64  \n",
      " 22  redWardsDestroyed             9879 non-null   int64  \n",
      " 23  redFirstBlood                 9879 non-null   int64  \n",
      " 24  redKills                      9879 non-null   int64  \n",
      " 25  redDeaths                     9879 non-null   int64  \n",
      " 26  redAssists                    9879 non-null   int64  \n",
      " 27  redEliteMonsters              9879 non-null   int64  \n",
      " 28  redDragons                    9879 non-null   int64  \n",
      " 29  redHeralds                    9879 non-null   int64  \n",
      " 30  redTowersDestroyed            9879 non-null   int64  \n",
      " 31  redTotalGold                  9879 non-null   int64  \n",
      " 32  redAvgLevel                   9879 non-null   float64\n",
      " 33  redTotalExperience            9879 non-null   int64  \n",
      " 34  redTotalMinionsKilled         9879 non-null   int64  \n",
      " 35  redTotalJungleMinionsKilled   9879 non-null   int64  \n",
      " 36  redGoldDiff                   9879 non-null   int64  \n",
      " 37  redExperienceDiff             9879 non-null   int64  \n",
      " 38  redCSPerMin                   9879 non-null   float64\n",
      " 39  redGoldPerMin                 9879 non-null   float64\n",
      "dtypes: float64(6), int64(34)\n",
      "memory usage: 3.0 MB\n"
     ]
    }
   ],
   "source": [
    "df_lol.info()"
   ]
  },
  {
   "cell_type": "code",
   "execution_count": 196,
   "metadata": {
    "ExecuteTime": {
     "end_time": "2024-01-26T20:23:24.150805100Z",
     "start_time": "2024-01-26T20:23:23.961682900Z"
    },
    "collapsed": false
   },
   "outputs": [
    {
     "data": {
      "text/html": [
       "<div>\n",
       "<style scoped>\n",
       "    .dataframe tbody tr th:only-of-type {\n",
       "        vertical-align: middle;\n",
       "    }\n",
       "\n",
       "    .dataframe tbody tr th {\n",
       "        vertical-align: top;\n",
       "    }\n",
       "\n",
       "    .dataframe thead th {\n",
       "        text-align: right;\n",
       "    }\n",
       "</style>\n",
       "<table border=\"1\" class=\"dataframe\">\n",
       "  <thead>\n",
       "    <tr style=\"text-align: right;\">\n",
       "      <th></th>\n",
       "      <th>gameId</th>\n",
       "      <th>blueWins</th>\n",
       "      <th>blueWardsPlaced</th>\n",
       "      <th>blueWardsDestroyed</th>\n",
       "      <th>blueFirstBlood</th>\n",
       "      <th>blueKills</th>\n",
       "      <th>blueDeaths</th>\n",
       "      <th>blueAssists</th>\n",
       "      <th>blueEliteMonsters</th>\n",
       "      <th>blueDragons</th>\n",
       "      <th>...</th>\n",
       "      <th>redTowersDestroyed</th>\n",
       "      <th>redTotalGold</th>\n",
       "      <th>redAvgLevel</th>\n",
       "      <th>redTotalExperience</th>\n",
       "      <th>redTotalMinionsKilled</th>\n",
       "      <th>redTotalJungleMinionsKilled</th>\n",
       "      <th>redGoldDiff</th>\n",
       "      <th>redExperienceDiff</th>\n",
       "      <th>redCSPerMin</th>\n",
       "      <th>redGoldPerMin</th>\n",
       "    </tr>\n",
       "  </thead>\n",
       "  <tbody>\n",
       "    <tr>\n",
       "      <th>count</th>\n",
       "      <td>9.879000e+03</td>\n",
       "      <td>9879.000000</td>\n",
       "      <td>9879.000000</td>\n",
       "      <td>9879.000000</td>\n",
       "      <td>9879.000000</td>\n",
       "      <td>9879.000000</td>\n",
       "      <td>9879.000000</td>\n",
       "      <td>9879.000000</td>\n",
       "      <td>9879.000000</td>\n",
       "      <td>9879.000000</td>\n",
       "      <td>...</td>\n",
       "      <td>9879.000000</td>\n",
       "      <td>9879.000000</td>\n",
       "      <td>9879.000000</td>\n",
       "      <td>9879.000000</td>\n",
       "      <td>9879.000000</td>\n",
       "      <td>9879.000000</td>\n",
       "      <td>9879.000000</td>\n",
       "      <td>9879.000000</td>\n",
       "      <td>9879.000000</td>\n",
       "      <td>9879.000000</td>\n",
       "    </tr>\n",
       "    <tr>\n",
       "      <th>mean</th>\n",
       "      <td>4.500084e+09</td>\n",
       "      <td>0.499038</td>\n",
       "      <td>22.288288</td>\n",
       "      <td>2.824881</td>\n",
       "      <td>0.504808</td>\n",
       "      <td>6.183925</td>\n",
       "      <td>6.137666</td>\n",
       "      <td>6.645106</td>\n",
       "      <td>0.549954</td>\n",
       "      <td>0.361980</td>\n",
       "      <td>...</td>\n",
       "      <td>0.043021</td>\n",
       "      <td>16489.041401</td>\n",
       "      <td>6.925316</td>\n",
       "      <td>17961.730438</td>\n",
       "      <td>217.349226</td>\n",
       "      <td>51.313088</td>\n",
       "      <td>-14.414111</td>\n",
       "      <td>33.620306</td>\n",
       "      <td>21.734923</td>\n",
       "      <td>1648.904140</td>\n",
       "    </tr>\n",
       "    <tr>\n",
       "      <th>std</th>\n",
       "      <td>2.757328e+07</td>\n",
       "      <td>0.500024</td>\n",
       "      <td>18.019177</td>\n",
       "      <td>2.174998</td>\n",
       "      <td>0.500002</td>\n",
       "      <td>3.011028</td>\n",
       "      <td>2.933818</td>\n",
       "      <td>4.064520</td>\n",
       "      <td>0.625527</td>\n",
       "      <td>0.480597</td>\n",
       "      <td>...</td>\n",
       "      <td>0.216900</td>\n",
       "      <td>1490.888406</td>\n",
       "      <td>0.305311</td>\n",
       "      <td>1198.583912</td>\n",
       "      <td>21.911668</td>\n",
       "      <td>10.027885</td>\n",
       "      <td>2453.349179</td>\n",
       "      <td>1920.370438</td>\n",
       "      <td>2.191167</td>\n",
       "      <td>149.088841</td>\n",
       "    </tr>\n",
       "    <tr>\n",
       "      <th>min</th>\n",
       "      <td>4.295358e+09</td>\n",
       "      <td>0.000000</td>\n",
       "      <td>5.000000</td>\n",
       "      <td>0.000000</td>\n",
       "      <td>0.000000</td>\n",
       "      <td>0.000000</td>\n",
       "      <td>0.000000</td>\n",
       "      <td>0.000000</td>\n",
       "      <td>0.000000</td>\n",
       "      <td>0.000000</td>\n",
       "      <td>...</td>\n",
       "      <td>0.000000</td>\n",
       "      <td>11212.000000</td>\n",
       "      <td>4.800000</td>\n",
       "      <td>10465.000000</td>\n",
       "      <td>107.000000</td>\n",
       "      <td>4.000000</td>\n",
       "      <td>-11467.000000</td>\n",
       "      <td>-8348.000000</td>\n",
       "      <td>10.700000</td>\n",
       "      <td>1121.200000</td>\n",
       "    </tr>\n",
       "    <tr>\n",
       "      <th>25%</th>\n",
       "      <td>4.483301e+09</td>\n",
       "      <td>0.000000</td>\n",
       "      <td>14.000000</td>\n",
       "      <td>1.000000</td>\n",
       "      <td>0.000000</td>\n",
       "      <td>4.000000</td>\n",
       "      <td>4.000000</td>\n",
       "      <td>4.000000</td>\n",
       "      <td>0.000000</td>\n",
       "      <td>0.000000</td>\n",
       "      <td>...</td>\n",
       "      <td>0.000000</td>\n",
       "      <td>15427.500000</td>\n",
       "      <td>6.800000</td>\n",
       "      <td>17209.500000</td>\n",
       "      <td>203.000000</td>\n",
       "      <td>44.000000</td>\n",
       "      <td>-1596.000000</td>\n",
       "      <td>-1212.000000</td>\n",
       "      <td>20.300000</td>\n",
       "      <td>1542.750000</td>\n",
       "    </tr>\n",
       "    <tr>\n",
       "      <th>50%</th>\n",
       "      <td>4.510920e+09</td>\n",
       "      <td>0.000000</td>\n",
       "      <td>16.000000</td>\n",
       "      <td>3.000000</td>\n",
       "      <td>1.000000</td>\n",
       "      <td>6.000000</td>\n",
       "      <td>6.000000</td>\n",
       "      <td>6.000000</td>\n",
       "      <td>0.000000</td>\n",
       "      <td>0.000000</td>\n",
       "      <td>...</td>\n",
       "      <td>0.000000</td>\n",
       "      <td>16378.000000</td>\n",
       "      <td>7.000000</td>\n",
       "      <td>17974.000000</td>\n",
       "      <td>218.000000</td>\n",
       "      <td>51.000000</td>\n",
       "      <td>-14.000000</td>\n",
       "      <td>28.000000</td>\n",
       "      <td>21.800000</td>\n",
       "      <td>1637.800000</td>\n",
       "    </tr>\n",
       "    <tr>\n",
       "      <th>75%</th>\n",
       "      <td>4.521733e+09</td>\n",
       "      <td>1.000000</td>\n",
       "      <td>20.000000</td>\n",
       "      <td>4.000000</td>\n",
       "      <td>1.000000</td>\n",
       "      <td>8.000000</td>\n",
       "      <td>8.000000</td>\n",
       "      <td>9.000000</td>\n",
       "      <td>1.000000</td>\n",
       "      <td>1.000000</td>\n",
       "      <td>...</td>\n",
       "      <td>0.000000</td>\n",
       "      <td>17418.500000</td>\n",
       "      <td>7.200000</td>\n",
       "      <td>18764.500000</td>\n",
       "      <td>233.000000</td>\n",
       "      <td>57.000000</td>\n",
       "      <td>1585.500000</td>\n",
       "      <td>1290.500000</td>\n",
       "      <td>23.300000</td>\n",
       "      <td>1741.850000</td>\n",
       "    </tr>\n",
       "    <tr>\n",
       "      <th>max</th>\n",
       "      <td>4.527991e+09</td>\n",
       "      <td>1.000000</td>\n",
       "      <td>250.000000</td>\n",
       "      <td>27.000000</td>\n",
       "      <td>1.000000</td>\n",
       "      <td>22.000000</td>\n",
       "      <td>22.000000</td>\n",
       "      <td>29.000000</td>\n",
       "      <td>2.000000</td>\n",
       "      <td>1.000000</td>\n",
       "      <td>...</td>\n",
       "      <td>2.000000</td>\n",
       "      <td>22732.000000</td>\n",
       "      <td>8.200000</td>\n",
       "      <td>22269.000000</td>\n",
       "      <td>289.000000</td>\n",
       "      <td>92.000000</td>\n",
       "      <td>10830.000000</td>\n",
       "      <td>9333.000000</td>\n",
       "      <td>28.900000</td>\n",
       "      <td>2273.200000</td>\n",
       "    </tr>\n",
       "  </tbody>\n",
       "</table>\n",
       "<p>8 rows × 40 columns</p>\n",
       "</div>"
      ],
      "text/plain": [
       "             gameId     blueWins  blueWardsPlaced  blueWardsDestroyed  \\\n",
       "count  9.879000e+03  9879.000000      9879.000000         9879.000000   \n",
       "mean   4.500084e+09     0.499038        22.288288            2.824881   \n",
       "std    2.757328e+07     0.500024        18.019177            2.174998   \n",
       "min    4.295358e+09     0.000000         5.000000            0.000000   \n",
       "25%    4.483301e+09     0.000000        14.000000            1.000000   \n",
       "50%    4.510920e+09     0.000000        16.000000            3.000000   \n",
       "75%    4.521733e+09     1.000000        20.000000            4.000000   \n",
       "max    4.527991e+09     1.000000       250.000000           27.000000   \n",
       "\n",
       "       blueFirstBlood    blueKills   blueDeaths  blueAssists  \\\n",
       "count     9879.000000  9879.000000  9879.000000  9879.000000   \n",
       "mean         0.504808     6.183925     6.137666     6.645106   \n",
       "std          0.500002     3.011028     2.933818     4.064520   \n",
       "min          0.000000     0.000000     0.000000     0.000000   \n",
       "25%          0.000000     4.000000     4.000000     4.000000   \n",
       "50%          1.000000     6.000000     6.000000     6.000000   \n",
       "75%          1.000000     8.000000     8.000000     9.000000   \n",
       "max          1.000000    22.000000    22.000000    29.000000   \n",
       "\n",
       "       blueEliteMonsters  blueDragons  ...  redTowersDestroyed  redTotalGold  \\\n",
       "count        9879.000000  9879.000000  ...         9879.000000   9879.000000   \n",
       "mean            0.549954     0.361980  ...            0.043021  16489.041401   \n",
       "std             0.625527     0.480597  ...            0.216900   1490.888406   \n",
       "min             0.000000     0.000000  ...            0.000000  11212.000000   \n",
       "25%             0.000000     0.000000  ...            0.000000  15427.500000   \n",
       "50%             0.000000     0.000000  ...            0.000000  16378.000000   \n",
       "75%             1.000000     1.000000  ...            0.000000  17418.500000   \n",
       "max             2.000000     1.000000  ...            2.000000  22732.000000   \n",
       "\n",
       "       redAvgLevel  redTotalExperience  redTotalMinionsKilled  \\\n",
       "count  9879.000000         9879.000000            9879.000000   \n",
       "mean      6.925316        17961.730438             217.349226   \n",
       "std       0.305311         1198.583912              21.911668   \n",
       "min       4.800000        10465.000000             107.000000   \n",
       "25%       6.800000        17209.500000             203.000000   \n",
       "50%       7.000000        17974.000000             218.000000   \n",
       "75%       7.200000        18764.500000             233.000000   \n",
       "max       8.200000        22269.000000             289.000000   \n",
       "\n",
       "       redTotalJungleMinionsKilled   redGoldDiff  redExperienceDiff  \\\n",
       "count                  9879.000000   9879.000000        9879.000000   \n",
       "mean                     51.313088    -14.414111          33.620306   \n",
       "std                      10.027885   2453.349179        1920.370438   \n",
       "min                       4.000000 -11467.000000       -8348.000000   \n",
       "25%                      44.000000  -1596.000000       -1212.000000   \n",
       "50%                      51.000000    -14.000000          28.000000   \n",
       "75%                      57.000000   1585.500000        1290.500000   \n",
       "max                      92.000000  10830.000000        9333.000000   \n",
       "\n",
       "       redCSPerMin  redGoldPerMin  \n",
       "count  9879.000000    9879.000000  \n",
       "mean     21.734923    1648.904140  \n",
       "std       2.191167     149.088841  \n",
       "min      10.700000    1121.200000  \n",
       "25%      20.300000    1542.750000  \n",
       "50%      21.800000    1637.800000  \n",
       "75%      23.300000    1741.850000  \n",
       "max      28.900000    2273.200000  \n",
       "\n",
       "[8 rows x 40 columns]"
      ]
     },
     "execution_count": 196,
     "metadata": {},
     "output_type": "execute_result"
    }
   ],
   "source": [
    "df_lol.describe()"
   ]
  },
  {
   "cell_type": "code",
   "execution_count": 197,
   "metadata": {
    "ExecuteTime": {
     "end_time": "2024-01-26T20:23:24.150805100Z",
     "start_time": "2024-01-26T20:23:24.078121100Z"
    },
    "collapsed": false
   },
   "outputs": [
    {
     "data": {
      "text/plain": [
       "blueWins\n",
       "0    0.500962\n",
       "1    0.499038\n",
       "Name: proportion, dtype: float64"
      ]
     },
     "execution_count": 197,
     "metadata": {},
     "output_type": "execute_result"
    }
   ],
   "source": [
    "df_lol['blueWins'].value_counts(normalize=True)"
   ]
  },
  {
   "cell_type": "code",
   "execution_count": 198,
   "metadata": {
    "ExecuteTime": {
     "end_time": "2024-01-26T20:23:24.180693200Z",
     "start_time": "2024-01-26T20:23:24.099664Z"
    },
    "collapsed": false
   },
   "outputs": [],
   "source": [
    "features_lol = df_lol.drop(columns=['blueWins', 'gameId'])\n",
    "target_lol = df_lol['blueWins']"
   ]
  },
  {
   "cell_type": "code",
   "execution_count": 199,
   "metadata": {
    "ExecuteTime": {
     "end_time": "2024-01-26T20:23:24.230977600Z",
     "start_time": "2024-01-26T20:23:24.160545700Z"
    },
    "collapsed": false
   },
   "outputs": [],
   "source": [
    "# Scale everything\n",
    "features_lol = pd.DataFrame(scaler.fit_transform(features_lol), columns=features_lol.columns)"
   ]
  },
  {
   "cell_type": "code",
   "execution_count": 200,
   "metadata": {
    "ExecuteTime": {
     "end_time": "2024-01-26T20:23:24.315913100Z",
     "start_time": "2024-01-26T20:23:24.190198200Z"
    },
    "collapsed": false
   },
   "outputs": [
    {
     "data": {
      "text/html": [
       "<div>\n",
       "<style scoped>\n",
       "    .dataframe tbody tr th:only-of-type {\n",
       "        vertical-align: middle;\n",
       "    }\n",
       "\n",
       "    .dataframe tbody tr th {\n",
       "        vertical-align: top;\n",
       "    }\n",
       "\n",
       "    .dataframe thead th {\n",
       "        text-align: right;\n",
       "    }\n",
       "</style>\n",
       "<table border=\"1\" class=\"dataframe\">\n",
       "  <thead>\n",
       "    <tr style=\"text-align: right;\">\n",
       "      <th></th>\n",
       "      <th>blueWardsPlaced</th>\n",
       "      <th>blueWardsDestroyed</th>\n",
       "      <th>blueFirstBlood</th>\n",
       "      <th>blueKills</th>\n",
       "      <th>blueDeaths</th>\n",
       "      <th>blueAssists</th>\n",
       "      <th>blueEliteMonsters</th>\n",
       "      <th>blueDragons</th>\n",
       "      <th>blueHeralds</th>\n",
       "      <th>blueTowersDestroyed</th>\n",
       "      <th>...</th>\n",
       "      <th>redTowersDestroyed</th>\n",
       "      <th>redTotalGold</th>\n",
       "      <th>redAvgLevel</th>\n",
       "      <th>redTotalExperience</th>\n",
       "      <th>redTotalMinionsKilled</th>\n",
       "      <th>redTotalJungleMinionsKilled</th>\n",
       "      <th>redGoldDiff</th>\n",
       "      <th>redExperienceDiff</th>\n",
       "      <th>redCSPerMin</th>\n",
       "      <th>redGoldPerMin</th>\n",
       "    </tr>\n",
       "  </thead>\n",
       "  <tbody>\n",
       "    <tr>\n",
       "      <th>count</th>\n",
       "      <td>9.879000e+03</td>\n",
       "      <td>9.879000e+03</td>\n",
       "      <td>9.879000e+03</td>\n",
       "      <td>9.879000e+03</td>\n",
       "      <td>9.879000e+03</td>\n",
       "      <td>9.879000e+03</td>\n",
       "      <td>9.879000e+03</td>\n",
       "      <td>9.879000e+03</td>\n",
       "      <td>9.879000e+03</td>\n",
       "      <td>9.879000e+03</td>\n",
       "      <td>...</td>\n",
       "      <td>9.879000e+03</td>\n",
       "      <td>9.879000e+03</td>\n",
       "      <td>9.879000e+03</td>\n",
       "      <td>9.879000e+03</td>\n",
       "      <td>9.879000e+03</td>\n",
       "      <td>9.879000e+03</td>\n",
       "      <td>9.879000e+03</td>\n",
       "      <td>9.879000e+03</td>\n",
       "      <td>9.879000e+03</td>\n",
       "      <td>9.879000e+03</td>\n",
       "    </tr>\n",
       "    <tr>\n",
       "      <th>mean</th>\n",
       "      <td>-2.876982e-17</td>\n",
       "      <td>5.034719e-18</td>\n",
       "      <td>-1.078868e-18</td>\n",
       "      <td>1.125619e-16</td>\n",
       "      <td>-1.179563e-16</td>\n",
       "      <td>-1.111234e-16</td>\n",
       "      <td>3.308530e-17</td>\n",
       "      <td>-8.702872e-17</td>\n",
       "      <td>-5.753965e-18</td>\n",
       "      <td>-2.733133e-17</td>\n",
       "      <td>...</td>\n",
       "      <td>2.589284e-17</td>\n",
       "      <td>1.146837e-15</td>\n",
       "      <td>1.444245e-15</td>\n",
       "      <td>3.394839e-16</td>\n",
       "      <td>5.897814e-16</td>\n",
       "      <td>8.055551e-17</td>\n",
       "      <td>-1.258680e-17</td>\n",
       "      <td>1.438491e-18</td>\n",
       "      <td>-1.352901e-15</td>\n",
       "      <td>-6.883180e-16</td>\n",
       "    </tr>\n",
       "    <tr>\n",
       "      <th>std</th>\n",
       "      <td>1.000051e+00</td>\n",
       "      <td>1.000051e+00</td>\n",
       "      <td>1.000051e+00</td>\n",
       "      <td>1.000051e+00</td>\n",
       "      <td>1.000051e+00</td>\n",
       "      <td>1.000051e+00</td>\n",
       "      <td>1.000051e+00</td>\n",
       "      <td>1.000051e+00</td>\n",
       "      <td>1.000051e+00</td>\n",
       "      <td>1.000051e+00</td>\n",
       "      <td>...</td>\n",
       "      <td>1.000051e+00</td>\n",
       "      <td>1.000051e+00</td>\n",
       "      <td>1.000051e+00</td>\n",
       "      <td>1.000051e+00</td>\n",
       "      <td>1.000051e+00</td>\n",
       "      <td>1.000051e+00</td>\n",
       "      <td>1.000051e+00</td>\n",
       "      <td>1.000051e+00</td>\n",
       "      <td>1.000051e+00</td>\n",
       "      <td>1.000051e+00</td>\n",
       "    </tr>\n",
       "    <tr>\n",
       "      <th>min</th>\n",
       "      <td>-9.594869e-01</td>\n",
       "      <td>-1.298863e+00</td>\n",
       "      <td>-1.009663e+00</td>\n",
       "      <td>-2.053863e+00</td>\n",
       "      <td>-2.092146e+00</td>\n",
       "      <td>-1.634988e+00</td>\n",
       "      <td>-8.792310e-01</td>\n",
       "      <td>-7.532257e-01</td>\n",
       "      <td>-4.811324e-01</td>\n",
       "      <td>-2.104390e-01</td>\n",
       "      <td>...</td>\n",
       "      <td>-1.983529e-01</td>\n",
       "      <td>-3.539707e+00</td>\n",
       "      <td>-6.961495e+00</td>\n",
       "      <td>-6.254973e+00</td>\n",
       "      <td>-5.036349e+00</td>\n",
       "      <td>-4.718391e+00</td>\n",
       "      <td>-4.668380e+00</td>\n",
       "      <td>-4.364806e+00</td>\n",
       "      <td>-5.036349e+00</td>\n",
       "      <td>-3.539707e+00</td>\n",
       "    </tr>\n",
       "    <tr>\n",
       "      <th>25%</th>\n",
       "      <td>-4.599937e-01</td>\n",
       "      <td>-8.390689e-01</td>\n",
       "      <td>-1.009663e+00</td>\n",
       "      <td>-7.253456e-01</td>\n",
       "      <td>-7.286663e-01</td>\n",
       "      <td>-6.508123e-01</td>\n",
       "      <td>-8.792310e-01</td>\n",
       "      <td>-7.532257e-01</td>\n",
       "      <td>-4.811324e-01</td>\n",
       "      <td>-2.104390e-01</td>\n",
       "      <td>...</td>\n",
       "      <td>-1.983529e-01</td>\n",
       "      <td>-7.120554e-01</td>\n",
       "      <td>-4.104749e-01</td>\n",
       "      <td>-6.276311e-01</td>\n",
       "      <td>-6.549000e-01</td>\n",
       "      <td>-7.293122e-01</td>\n",
       "      <td>-6.446966e-01</td>\n",
       "      <td>-6.486683e-01</td>\n",
       "      <td>-6.549000e-01</td>\n",
       "      <td>-7.120554e-01</td>\n",
       "    </tr>\n",
       "    <tr>\n",
       "      <th>50%</th>\n",
       "      <td>-3.489952e-01</td>\n",
       "      <td>8.051859e-02</td>\n",
       "      <td>9.904294e-01</td>\n",
       "      <td>-6.108705e-02</td>\n",
       "      <td>-4.692613e-02</td>\n",
       "      <td>-1.587244e-01</td>\n",
       "      <td>-8.792310e-01</td>\n",
       "      <td>-7.532257e-01</td>\n",
       "      <td>-4.811324e-01</td>\n",
       "      <td>-2.104390e-01</td>\n",
       "      <td>...</td>\n",
       "      <td>-1.983529e-01</td>\n",
       "      <td>-7.448379e-02</td>\n",
       "      <td>2.446271e-01</td>\n",
       "      <td>1.023723e-02</td>\n",
       "      <td>2.970140e-02</td>\n",
       "      <td>-3.122336e-02</td>\n",
       "      <td>1.688026e-04</td>\n",
       "      <td>-2.926826e-03</td>\n",
       "      <td>2.970140e-02</td>\n",
       "      <td>-7.448379e-02</td>\n",
       "    </tr>\n",
       "    <tr>\n",
       "      <th>75%</th>\n",
       "      <td>-1.269983e-01</td>\n",
       "      <td>5.403123e-01</td>\n",
       "      <td>9.904294e-01</td>\n",
       "      <td>6.031716e-01</td>\n",
       "      <td>6.348140e-01</td>\n",
       "      <td>5.794075e-01</td>\n",
       "      <td>7.195032e-01</td>\n",
       "      <td>1.327623e+00</td>\n",
       "      <td>-4.811324e-01</td>\n",
       "      <td>-2.104390e-01</td>\n",
       "      <td>...</td>\n",
       "      <td>-1.983529e-01</td>\n",
       "      <td>6.234576e-01</td>\n",
       "      <td>8.997291e-01</td>\n",
       "      <td>6.697989e-01</td>\n",
       "      <td>7.143028e-01</td>\n",
       "      <td>5.671385e-01</td>\n",
       "      <td>6.521677e-01</td>\n",
       "      <td>6.545317e-01</td>\n",
       "      <td>7.143028e-01</td>\n",
       "      <td>6.234576e-01</td>\n",
       "    </tr>\n",
       "    <tr>\n",
       "      <th>max</th>\n",
       "      <td>1.263783e+01</td>\n",
       "      <td>1.111557e+01</td>\n",
       "      <td>9.904294e-01</td>\n",
       "      <td>5.252982e+00</td>\n",
       "      <td>5.406995e+00</td>\n",
       "      <td>5.500287e+00</td>\n",
       "      <td>2.318237e+00</td>\n",
       "      <td>1.327623e+00</td>\n",
       "      <td>2.078430e+00</td>\n",
       "      <td>1.615907e+01</td>\n",
       "      <td>...</td>\n",
       "      <td>9.022956e+00</td>\n",
       "      <td>4.187620e+00</td>\n",
       "      <td>4.175239e+00</td>\n",
       "      <td>3.593814e+00</td>\n",
       "      <td>3.270148e+00</td>\n",
       "      <td>4.057583e+00</td>\n",
       "      <td>4.420473e+00</td>\n",
       "      <td>4.842738e+00</td>\n",
       "      <td>3.270148e+00</td>\n",
       "      <td>4.187620e+00</td>\n",
       "    </tr>\n",
       "  </tbody>\n",
       "</table>\n",
       "<p>8 rows × 38 columns</p>\n",
       "</div>"
      ],
      "text/plain": [
       "       blueWardsPlaced  blueWardsDestroyed  blueFirstBlood     blueKills  \\\n",
       "count     9.879000e+03        9.879000e+03    9.879000e+03  9.879000e+03   \n",
       "mean     -2.876982e-17        5.034719e-18   -1.078868e-18  1.125619e-16   \n",
       "std       1.000051e+00        1.000051e+00    1.000051e+00  1.000051e+00   \n",
       "min      -9.594869e-01       -1.298863e+00   -1.009663e+00 -2.053863e+00   \n",
       "25%      -4.599937e-01       -8.390689e-01   -1.009663e+00 -7.253456e-01   \n",
       "50%      -3.489952e-01        8.051859e-02    9.904294e-01 -6.108705e-02   \n",
       "75%      -1.269983e-01        5.403123e-01    9.904294e-01  6.031716e-01   \n",
       "max       1.263783e+01        1.111557e+01    9.904294e-01  5.252982e+00   \n",
       "\n",
       "         blueDeaths   blueAssists  blueEliteMonsters   blueDragons  \\\n",
       "count  9.879000e+03  9.879000e+03       9.879000e+03  9.879000e+03   \n",
       "mean  -1.179563e-16 -1.111234e-16       3.308530e-17 -8.702872e-17   \n",
       "std    1.000051e+00  1.000051e+00       1.000051e+00  1.000051e+00   \n",
       "min   -2.092146e+00 -1.634988e+00      -8.792310e-01 -7.532257e-01   \n",
       "25%   -7.286663e-01 -6.508123e-01      -8.792310e-01 -7.532257e-01   \n",
       "50%   -4.692613e-02 -1.587244e-01      -8.792310e-01 -7.532257e-01   \n",
       "75%    6.348140e-01  5.794075e-01       7.195032e-01  1.327623e+00   \n",
       "max    5.406995e+00  5.500287e+00       2.318237e+00  1.327623e+00   \n",
       "\n",
       "        blueHeralds  blueTowersDestroyed  ...  redTowersDestroyed  \\\n",
       "count  9.879000e+03         9.879000e+03  ...        9.879000e+03   \n",
       "mean  -5.753965e-18        -2.733133e-17  ...        2.589284e-17   \n",
       "std    1.000051e+00         1.000051e+00  ...        1.000051e+00   \n",
       "min   -4.811324e-01        -2.104390e-01  ...       -1.983529e-01   \n",
       "25%   -4.811324e-01        -2.104390e-01  ...       -1.983529e-01   \n",
       "50%   -4.811324e-01        -2.104390e-01  ...       -1.983529e-01   \n",
       "75%   -4.811324e-01        -2.104390e-01  ...       -1.983529e-01   \n",
       "max    2.078430e+00         1.615907e+01  ...        9.022956e+00   \n",
       "\n",
       "       redTotalGold   redAvgLevel  redTotalExperience  redTotalMinionsKilled  \\\n",
       "count  9.879000e+03  9.879000e+03        9.879000e+03           9.879000e+03   \n",
       "mean   1.146837e-15  1.444245e-15        3.394839e-16           5.897814e-16   \n",
       "std    1.000051e+00  1.000051e+00        1.000051e+00           1.000051e+00   \n",
       "min   -3.539707e+00 -6.961495e+00       -6.254973e+00          -5.036349e+00   \n",
       "25%   -7.120554e-01 -4.104749e-01       -6.276311e-01          -6.549000e-01   \n",
       "50%   -7.448379e-02  2.446271e-01        1.023723e-02           2.970140e-02   \n",
       "75%    6.234576e-01  8.997291e-01        6.697989e-01           7.143028e-01   \n",
       "max    4.187620e+00  4.175239e+00        3.593814e+00           3.270148e+00   \n",
       "\n",
       "       redTotalJungleMinionsKilled   redGoldDiff  redExperienceDiff  \\\n",
       "count                 9.879000e+03  9.879000e+03       9.879000e+03   \n",
       "mean                  8.055551e-17 -1.258680e-17       1.438491e-18   \n",
       "std                   1.000051e+00  1.000051e+00       1.000051e+00   \n",
       "min                  -4.718391e+00 -4.668380e+00      -4.364806e+00   \n",
       "25%                  -7.293122e-01 -6.446966e-01      -6.486683e-01   \n",
       "50%                  -3.122336e-02  1.688026e-04      -2.926826e-03   \n",
       "75%                   5.671385e-01  6.521677e-01       6.545317e-01   \n",
       "max                   4.057583e+00  4.420473e+00       4.842738e+00   \n",
       "\n",
       "        redCSPerMin  redGoldPerMin  \n",
       "count  9.879000e+03   9.879000e+03  \n",
       "mean  -1.352901e-15  -6.883180e-16  \n",
       "std    1.000051e+00   1.000051e+00  \n",
       "min   -5.036349e+00  -3.539707e+00  \n",
       "25%   -6.549000e-01  -7.120554e-01  \n",
       "50%    2.970140e-02  -7.448379e-02  \n",
       "75%    7.143028e-01   6.234576e-01  \n",
       "max    3.270148e+00   4.187620e+00  \n",
       "\n",
       "[8 rows x 38 columns]"
      ]
     },
     "execution_count": 200,
     "metadata": {},
     "output_type": "execute_result"
    }
   ],
   "source": [
    "features_lol.describe()"
   ]
  },
  {
   "cell_type": "markdown",
   "metadata": {
    "collapsed": false
   },
   "source": [
    "### Pasos del análisis exploratorio\n",
    "\n",
    "#### Encoding\n",
    "- No se ha realizado encoding, ya que no hay variables categóricas\n",
    "\n",
    "#### Balanceo\n",
    "- No se ha realizado balanceo, ya que el dataset está balanceado\n",
    "\n",
    "#### Escalamiento\n",
    "- Se ha realizado escalamiento de los datos, ya que las variables tienen diferentes escalas\n",
    "\n",
    "#### Selección de Variables\n",
    "- No se ha realizado selección de variables, ya que todas las variables son relevantes"
   ]
  },
  {
   "cell_type": "code",
   "execution_count": 201,
   "metadata": {
    "ExecuteTime": {
     "end_time": "2024-01-26T20:23:24.324817600Z",
     "start_time": "2024-01-26T20:23:24.294849200Z"
    },
    "collapsed": false
   },
   "outputs": [],
   "source": [
    "X_train_lol, X_test_lol, y_train_lol, y_test_lol = train_test_split(features_lol, target_lol, test_size=0.2, random_state=7)"
   ]
  },
  {
   "cell_type": "markdown",
   "metadata": {},
   "source": [
    "## Task 3.1 Support Vector Machines"
   ]
  },
  {
   "cell_type": "markdown",
   "metadata": {},
   "source": [
    "## Task 3.2 Árboles de Decisión"
   ]
  },
  {
   "cell_type": "markdown",
   "metadata": {},
   "source": [
    "## Task 3.3 Comparación"
   ]
  },
  {
   "cell_type": "code",
   "execution_count": 201,
   "metadata": {
    "ExecuteTime": {
     "end_time": "2024-01-26T20:23:24.357504700Z",
     "start_time": "2024-01-26T20:23:24.321314800Z"
    },
    "collapsed": false
   },
   "outputs": [],
   "source": []
  }
 ],
 "metadata": {
  "kernelspec": {
   "display_name": "Python 3 (ipykernel)",
   "language": "python",
   "name": "python3"
  },
  "language_info": {
   "codemirror_mode": {
    "name": "ipython",
    "version": 3
   },
   "file_extension": ".py",
   "mimetype": "text/x-python",
   "name": "python",
   "nbconvert_exporter": "python",
   "pygments_lexer": "ipython3",
   "version": "3.11.7"
  }
 },
 "nbformat": 4,
 "nbformat_minor": 2
}
