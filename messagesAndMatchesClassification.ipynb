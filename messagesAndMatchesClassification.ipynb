{
 "cells": [
  {
   "cell_type": "markdown",
   "metadata": {},
   "source": [
    "# Laboratorio 2\n",
    "## Miembros del equipo\n",
    "- Ricardo Méndez 21289\n",
    "- Sara Echeverría 21371\n",
    "- Melissa Pérez 21385\n",
    "- Francisco Castillo 21562"
   ]
  },
  {
   "cell_type": "markdown",
   "metadata": {},
   "source": [
    "# Task 1"
   ]
  },
  {
   "cell_type": "markdown",
   "metadata": {},
   "source": [
    "#### ¿Por qué el modelo de Naive Bayes se le considera “naive”?\n",
    "\n",
    "La teoría de Bayes asume que los eventos son dependientes entre sí. Al implementarlo con un acercamiento _naive_ implica que asumimos que los eventos son independientes entre sí. Donde, básicamente, describe que una característica de un conjunto de datos no está relacionada con otra de ellas. En otras palabras, es por su simplicidad de la independencia condicional entre las características o atributos que describen los datos. [(Shoba, 2018)](https://www.sciencedirect.com/science/article/abs/pii/S0169716118300191)"
   ]
  },
  {
   "cell_type": "markdown",
   "metadata": {},
   "source": [
    "#### Explique la formulación matemática que se busca optimizar en Support Vector Machine, además responda ¿cómo funciona el truco del Kernel para este modelo? \n",
    "Las máquinas de soporte vectorial buscan encontrar una frontera que maximice el margen de separation para la classification de los datos. La prediction de los datos se realiza con la siguiente formula:\n",
    "$$\n",
    "y_i = sign(w^Tx_i+b)\n",
    "$$\n",
    "El margen se optimiza a traves de la distancia perpendicular desde la frontera hacia al punto mas cercano de cada clase; es decir, maximizamos esta distancia. Esto se resuelve con multiplicadores de Lagrange (Tantos multiplicadores como cantidad de puntos tenemos)\n",
    "$$\n",
    "argmin_{w,ɑ} \\frac{1}{2}w^Tw- \\sum_{n,m=1}^{N}ɑ_mɑ_ny_my_nx_n,x_m\n",
    "$$\n",
    "Tras resolver el problema de optimización, se obtiene la siguiente formula:\n",
    "$$\n",
    "argmax_w \\sum_{n=1}^{N}ɑ_n - \\frac{1}{2} \\sum_{n,m=1}^{N}ɑ_nɑ_my_my_n{x_n}^Tx_m\n",
    "$$\n",
    "Se puede apreciar que ya no dependemos de los pesos ($w$) y el bias ($b$), sino que dependemos de los multiplicadores de Lagrange ($ɑ$). Estos multiplicadores son los que nos permiten encontrar la frontera de decision.\n",
    "\n",
    "Las predicciones ahora se hacen de la siguiente manera:\n",
    "$$\n",
    "y_i = sign(\\sum_{n=1}^{N}ɑ_ny_nx_n^Tx_i+b)\n",
    "$$\n",
    "Los datos de $x_i$ solamente aparecen como un producto punto, el cual podemos representar con una función de kernel.\n",
    "$$\n",
    "y_i = sign(\\sum_{n=1}^{N}ɑ_ny_nK(x_n,x_i)+b)\n",
    "$$\n",
    "\n",
    "EL utilizar esta function nos permite ingress el _truco del kernel_. Este truco nos permite mapear los datos a un espacio de mayor dimension, donde es más facial encontrar una frontera de decision que no es necesariamente lineal.  [(Ranjan, 2019)](https://towardsdatascience.com/truly-understanding-the-kernel-trick-1aeb11560769)"
   ]
  },
  {
   "cell_type": "markdown",
   "metadata": {},
   "source": [
    "### ¿Qué tipo de ensemble learning es este modelo (Random Forest)?\n",
    "Random Forest es un ensemble learning de tipo _Bootsrap Aggregation_ o _bagging_. Se utiliza para reducir la varianza de un modelo de machine learning a base de crear multiples modelos y combinarlos para obtener un modelo final. En un _Random Forest_ todos los modelos son árboles de decision. Cada arbol se entrena con diferentes subconjuntos de datos los cuales son combinados para obtener un modelo final. [(Sruthi, 2024)](https://www.analyticsvidhya.com/blog/2021/06/understanding-random-forest/)"
   ]
  },
  {
   "cell_type": "markdown",
   "metadata": {},
   "source": [
    "### ¿Cuál es la idea general detrás de Random Forest?\n",
    "Como se ha mencionado anteriormente, el objetivo es crear un modelo de aprendizaje que combine la salida de multiples arboles de decision para llegar a un resultado unico. "
   ]
  },
  {
   "cell_type": "markdown",
   "metadata": {},
   "source": [
    "### ¿Por qué se busca baja correlación entre los árboles de Random Forest?\n",
    "Se busca que los _features_ tengan baja correlación para reducir la varianza y mejorar la precision de las predicciones. Si la correlación es alta entre estos arboles, es muy probable que cometan los mismos errores en la predicción, lo que no ofrecería ninguna mejora. [(Breiman & Cutler, s.f.)](https://www.stat.berkeley.edu/~breiman/RandomForests/cc_home.htm)"
   ]
  },
  {
   "cell_type": "code",
   "outputs": [],
   "source": [
    "import pandas as pd\n",
    "import numpy as np\n",
    "import matplotlib.pyplot as plt\n",
    "from sklearn.preprocessing import StandardScaler\n",
    "from sklearn.model_selection import train_test_split\n",
    "\n",
    "scaler = StandardScaler()"
   ],
   "metadata": {
    "collapsed": false,
    "ExecuteTime": {
     "end_time": "2024-01-26T19:18:37.234637800Z",
     "start_time": "2024-01-26T19:18:37.094455500Z"
    }
   },
   "execution_count": 26
  },
  {
   "cell_type": "markdown",
   "metadata": {},
   "source": [
    "# Task 2 Naive Bayes: Clasificador de Mensajes Ham/Spam\n",
    "\n",
    "Los datos de prueba han sido obtenidos de [este enlace](https://github.com/Sk70249/NLP-Spam-Ham-Classifier/blob/master/data/SMSSpamCollection.tsv)"
   ]
  },
  {
   "cell_type": "markdown",
   "metadata": {},
   "source": [
    "# Task 2.1"
   ]
  },
  {
   "cell_type": "markdown",
   "metadata": {},
   "source": [
    "# Task 2.2"
   ]
  },
  {
   "cell_type": "markdown",
   "metadata": {},
   "source": [
    "# Task 2.3"
   ]
  },
  {
   "cell_type": "markdown",
   "metadata": {},
   "source": [
    "# Task 2.4"
   ]
  },
  {
   "cell_type": "markdown",
   "metadata": {},
   "source": [
    "# Task 3 Clasificación de Partidas de League of Legends\n",
    "\n",
    "## Análisis Exploratorio"
   ]
  },
  {
   "cell_type": "code",
   "outputs": [],
   "source": [
    "df = pd.read_csv('data/high_diamond_ranked_10min.csv')"
   ],
   "metadata": {
    "collapsed": false,
    "ExecuteTime": {
     "end_time": "2024-01-26T19:18:37.351356300Z",
     "start_time": "2024-01-26T19:18:37.240156600Z"
    }
   },
   "execution_count": 27
  },
  {
   "cell_type": "code",
   "outputs": [
    {
     "data": {
      "text/plain": "       gameId  blueWins  blueWardsPlaced  blueWardsDestroyed  blueFirstBlood  \\\n0  4519157822         0               28                   2               1   \n1  4523371949         0               12                   1               0   \n2  4521474530         0               15                   0               0   \n3  4524384067         0               43                   1               0   \n4  4436033771         0               75                   4               0   \n\n   blueKills  blueDeaths  blueAssists  blueEliteMonsters  blueDragons  ...  \\\n0          9           6           11                  0            0  ...   \n1          5           5            5                  0            0  ...   \n2          7          11            4                  1            1  ...   \n3          4           5            5                  1            0  ...   \n4          6           6            6                  0            0  ...   \n\n   redTowersDestroyed  redTotalGold  redAvgLevel  redTotalExperience  \\\n0                   0         16567          6.8               17047   \n1                   1         17620          6.8               17438   \n2                   0         17285          6.8               17254   \n3                   0         16478          7.0               17961   \n4                   0         17404          7.0               18313   \n\n   redTotalMinionsKilled  redTotalJungleMinionsKilled  redGoldDiff  \\\n0                    197                           55         -643   \n1                    240                           52         2908   \n2                    203                           28         1172   \n3                    235                           47         1321   \n4                    225                           67         1004   \n\n   redExperienceDiff  redCSPerMin  redGoldPerMin  \n0                  8         19.7         1656.7  \n1               1173         24.0         1762.0  \n2               1033         20.3         1728.5  \n3                  7         23.5         1647.8  \n4               -230         22.5         1740.4  \n\n[5 rows x 40 columns]",
      "text/html": "<div>\n<style scoped>\n    .dataframe tbody tr th:only-of-type {\n        vertical-align: middle;\n    }\n\n    .dataframe tbody tr th {\n        vertical-align: top;\n    }\n\n    .dataframe thead th {\n        text-align: right;\n    }\n</style>\n<table border=\"1\" class=\"dataframe\">\n  <thead>\n    <tr style=\"text-align: right;\">\n      <th></th>\n      <th>gameId</th>\n      <th>blueWins</th>\n      <th>blueWardsPlaced</th>\n      <th>blueWardsDestroyed</th>\n      <th>blueFirstBlood</th>\n      <th>blueKills</th>\n      <th>blueDeaths</th>\n      <th>blueAssists</th>\n      <th>blueEliteMonsters</th>\n      <th>blueDragons</th>\n      <th>...</th>\n      <th>redTowersDestroyed</th>\n      <th>redTotalGold</th>\n      <th>redAvgLevel</th>\n      <th>redTotalExperience</th>\n      <th>redTotalMinionsKilled</th>\n      <th>redTotalJungleMinionsKilled</th>\n      <th>redGoldDiff</th>\n      <th>redExperienceDiff</th>\n      <th>redCSPerMin</th>\n      <th>redGoldPerMin</th>\n    </tr>\n  </thead>\n  <tbody>\n    <tr>\n      <th>0</th>\n      <td>4519157822</td>\n      <td>0</td>\n      <td>28</td>\n      <td>2</td>\n      <td>1</td>\n      <td>9</td>\n      <td>6</td>\n      <td>11</td>\n      <td>0</td>\n      <td>0</td>\n      <td>...</td>\n      <td>0</td>\n      <td>16567</td>\n      <td>6.8</td>\n      <td>17047</td>\n      <td>197</td>\n      <td>55</td>\n      <td>-643</td>\n      <td>8</td>\n      <td>19.7</td>\n      <td>1656.7</td>\n    </tr>\n    <tr>\n      <th>1</th>\n      <td>4523371949</td>\n      <td>0</td>\n      <td>12</td>\n      <td>1</td>\n      <td>0</td>\n      <td>5</td>\n      <td>5</td>\n      <td>5</td>\n      <td>0</td>\n      <td>0</td>\n      <td>...</td>\n      <td>1</td>\n      <td>17620</td>\n      <td>6.8</td>\n      <td>17438</td>\n      <td>240</td>\n      <td>52</td>\n      <td>2908</td>\n      <td>1173</td>\n      <td>24.0</td>\n      <td>1762.0</td>\n    </tr>\n    <tr>\n      <th>2</th>\n      <td>4521474530</td>\n      <td>0</td>\n      <td>15</td>\n      <td>0</td>\n      <td>0</td>\n      <td>7</td>\n      <td>11</td>\n      <td>4</td>\n      <td>1</td>\n      <td>1</td>\n      <td>...</td>\n      <td>0</td>\n      <td>17285</td>\n      <td>6.8</td>\n      <td>17254</td>\n      <td>203</td>\n      <td>28</td>\n      <td>1172</td>\n      <td>1033</td>\n      <td>20.3</td>\n      <td>1728.5</td>\n    </tr>\n    <tr>\n      <th>3</th>\n      <td>4524384067</td>\n      <td>0</td>\n      <td>43</td>\n      <td>1</td>\n      <td>0</td>\n      <td>4</td>\n      <td>5</td>\n      <td>5</td>\n      <td>1</td>\n      <td>0</td>\n      <td>...</td>\n      <td>0</td>\n      <td>16478</td>\n      <td>7.0</td>\n      <td>17961</td>\n      <td>235</td>\n      <td>47</td>\n      <td>1321</td>\n      <td>7</td>\n      <td>23.5</td>\n      <td>1647.8</td>\n    </tr>\n    <tr>\n      <th>4</th>\n      <td>4436033771</td>\n      <td>0</td>\n      <td>75</td>\n      <td>4</td>\n      <td>0</td>\n      <td>6</td>\n      <td>6</td>\n      <td>6</td>\n      <td>0</td>\n      <td>0</td>\n      <td>...</td>\n      <td>0</td>\n      <td>17404</td>\n      <td>7.0</td>\n      <td>18313</td>\n      <td>225</td>\n      <td>67</td>\n      <td>1004</td>\n      <td>-230</td>\n      <td>22.5</td>\n      <td>1740.4</td>\n    </tr>\n  </tbody>\n</table>\n<p>5 rows × 40 columns</p>\n</div>"
     },
     "execution_count": 28,
     "metadata": {},
     "output_type": "execute_result"
    }
   ],
   "source": [
    "df.head()"
   ],
   "metadata": {
    "collapsed": false,
    "ExecuteTime": {
     "end_time": "2024-01-26T19:18:37.418729500Z",
     "start_time": "2024-01-26T19:18:37.296135300Z"
    }
   },
   "execution_count": 28
  },
  {
   "cell_type": "code",
   "outputs": [
    {
     "name": "stdout",
     "output_type": "stream",
     "text": [
      "<class 'pandas.core.frame.DataFrame'>\n",
      "RangeIndex: 9879 entries, 0 to 9878\n",
      "Data columns (total 40 columns):\n",
      " #   Column                        Non-Null Count  Dtype  \n",
      "---  ------                        --------------  -----  \n",
      " 0   gameId                        9879 non-null   int64  \n",
      " 1   blueWins                      9879 non-null   int64  \n",
      " 2   blueWardsPlaced               9879 non-null   int64  \n",
      " 3   blueWardsDestroyed            9879 non-null   int64  \n",
      " 4   blueFirstBlood                9879 non-null   int64  \n",
      " 5   blueKills                     9879 non-null   int64  \n",
      " 6   blueDeaths                    9879 non-null   int64  \n",
      " 7   blueAssists                   9879 non-null   int64  \n",
      " 8   blueEliteMonsters             9879 non-null   int64  \n",
      " 9   blueDragons                   9879 non-null   int64  \n",
      " 10  blueHeralds                   9879 non-null   int64  \n",
      " 11  blueTowersDestroyed           9879 non-null   int64  \n",
      " 12  blueTotalGold                 9879 non-null   int64  \n",
      " 13  blueAvgLevel                  9879 non-null   float64\n",
      " 14  blueTotalExperience           9879 non-null   int64  \n",
      " 15  blueTotalMinionsKilled        9879 non-null   int64  \n",
      " 16  blueTotalJungleMinionsKilled  9879 non-null   int64  \n",
      " 17  blueGoldDiff                  9879 non-null   int64  \n",
      " 18  blueExperienceDiff            9879 non-null   int64  \n",
      " 19  blueCSPerMin                  9879 non-null   float64\n",
      " 20  blueGoldPerMin                9879 non-null   float64\n",
      " 21  redWardsPlaced                9879 non-null   int64  \n",
      " 22  redWardsDestroyed             9879 non-null   int64  \n",
      " 23  redFirstBlood                 9879 non-null   int64  \n",
      " 24  redKills                      9879 non-null   int64  \n",
      " 25  redDeaths                     9879 non-null   int64  \n",
      " 26  redAssists                    9879 non-null   int64  \n",
      " 27  redEliteMonsters              9879 non-null   int64  \n",
      " 28  redDragons                    9879 non-null   int64  \n",
      " 29  redHeralds                    9879 non-null   int64  \n",
      " 30  redTowersDestroyed            9879 non-null   int64  \n",
      " 31  redTotalGold                  9879 non-null   int64  \n",
      " 32  redAvgLevel                   9879 non-null   float64\n",
      " 33  redTotalExperience            9879 non-null   int64  \n",
      " 34  redTotalMinionsKilled         9879 non-null   int64  \n",
      " 35  redTotalJungleMinionsKilled   9879 non-null   int64  \n",
      " 36  redGoldDiff                   9879 non-null   int64  \n",
      " 37  redExperienceDiff             9879 non-null   int64  \n",
      " 38  redCSPerMin                   9879 non-null   float64\n",
      " 39  redGoldPerMin                 9879 non-null   float64\n",
      "dtypes: float64(6), int64(34)\n",
      "memory usage: 3.0 MB\n"
     ]
    }
   ],
   "source": [
    "df.info()"
   ],
   "metadata": {
    "collapsed": false,
    "ExecuteTime": {
     "end_time": "2024-01-26T19:18:37.470289200Z",
     "start_time": "2024-01-26T19:18:37.376213600Z"
    }
   },
   "execution_count": 29
  },
  {
   "cell_type": "code",
   "outputs": [
    {
     "data": {
      "text/plain": "             gameId     blueWins  blueWardsPlaced  blueWardsDestroyed  \\\ncount  9.879000e+03  9879.000000      9879.000000         9879.000000   \nmean   4.500084e+09     0.499038        22.288288            2.824881   \nstd    2.757328e+07     0.500024        18.019177            2.174998   \nmin    4.295358e+09     0.000000         5.000000            0.000000   \n25%    4.483301e+09     0.000000        14.000000            1.000000   \n50%    4.510920e+09     0.000000        16.000000            3.000000   \n75%    4.521733e+09     1.000000        20.000000            4.000000   \nmax    4.527991e+09     1.000000       250.000000           27.000000   \n\n       blueFirstBlood    blueKills   blueDeaths  blueAssists  \\\ncount     9879.000000  9879.000000  9879.000000  9879.000000   \nmean         0.504808     6.183925     6.137666     6.645106   \nstd          0.500002     3.011028     2.933818     4.064520   \nmin          0.000000     0.000000     0.000000     0.000000   \n25%          0.000000     4.000000     4.000000     4.000000   \n50%          1.000000     6.000000     6.000000     6.000000   \n75%          1.000000     8.000000     8.000000     9.000000   \nmax          1.000000    22.000000    22.000000    29.000000   \n\n       blueEliteMonsters  blueDragons  ...  redTowersDestroyed  redTotalGold  \\\ncount        9879.000000  9879.000000  ...         9879.000000   9879.000000   \nmean            0.549954     0.361980  ...            0.043021  16489.041401   \nstd             0.625527     0.480597  ...            0.216900   1490.888406   \nmin             0.000000     0.000000  ...            0.000000  11212.000000   \n25%             0.000000     0.000000  ...            0.000000  15427.500000   \n50%             0.000000     0.000000  ...            0.000000  16378.000000   \n75%             1.000000     1.000000  ...            0.000000  17418.500000   \nmax             2.000000     1.000000  ...            2.000000  22732.000000   \n\n       redAvgLevel  redTotalExperience  redTotalMinionsKilled  \\\ncount  9879.000000         9879.000000            9879.000000   \nmean      6.925316        17961.730438             217.349226   \nstd       0.305311         1198.583912              21.911668   \nmin       4.800000        10465.000000             107.000000   \n25%       6.800000        17209.500000             203.000000   \n50%       7.000000        17974.000000             218.000000   \n75%       7.200000        18764.500000             233.000000   \nmax       8.200000        22269.000000             289.000000   \n\n       redTotalJungleMinionsKilled   redGoldDiff  redExperienceDiff  \\\ncount                  9879.000000   9879.000000        9879.000000   \nmean                     51.313088    -14.414111          33.620306   \nstd                      10.027885   2453.349179        1920.370438   \nmin                       4.000000 -11467.000000       -8348.000000   \n25%                      44.000000  -1596.000000       -1212.000000   \n50%                      51.000000    -14.000000          28.000000   \n75%                      57.000000   1585.500000        1290.500000   \nmax                      92.000000  10830.000000        9333.000000   \n\n       redCSPerMin  redGoldPerMin  \ncount  9879.000000    9879.000000  \nmean     21.734923    1648.904140  \nstd       2.191167     149.088841  \nmin      10.700000    1121.200000  \n25%      20.300000    1542.750000  \n50%      21.800000    1637.800000  \n75%      23.300000    1741.850000  \nmax      28.900000    2273.200000  \n\n[8 rows x 40 columns]",
      "text/html": "<div>\n<style scoped>\n    .dataframe tbody tr th:only-of-type {\n        vertical-align: middle;\n    }\n\n    .dataframe tbody tr th {\n        vertical-align: top;\n    }\n\n    .dataframe thead th {\n        text-align: right;\n    }\n</style>\n<table border=\"1\" class=\"dataframe\">\n  <thead>\n    <tr style=\"text-align: right;\">\n      <th></th>\n      <th>gameId</th>\n      <th>blueWins</th>\n      <th>blueWardsPlaced</th>\n      <th>blueWardsDestroyed</th>\n      <th>blueFirstBlood</th>\n      <th>blueKills</th>\n      <th>blueDeaths</th>\n      <th>blueAssists</th>\n      <th>blueEliteMonsters</th>\n      <th>blueDragons</th>\n      <th>...</th>\n      <th>redTowersDestroyed</th>\n      <th>redTotalGold</th>\n      <th>redAvgLevel</th>\n      <th>redTotalExperience</th>\n      <th>redTotalMinionsKilled</th>\n      <th>redTotalJungleMinionsKilled</th>\n      <th>redGoldDiff</th>\n      <th>redExperienceDiff</th>\n      <th>redCSPerMin</th>\n      <th>redGoldPerMin</th>\n    </tr>\n  </thead>\n  <tbody>\n    <tr>\n      <th>count</th>\n      <td>9.879000e+03</td>\n      <td>9879.000000</td>\n      <td>9879.000000</td>\n      <td>9879.000000</td>\n      <td>9879.000000</td>\n      <td>9879.000000</td>\n      <td>9879.000000</td>\n      <td>9879.000000</td>\n      <td>9879.000000</td>\n      <td>9879.000000</td>\n      <td>...</td>\n      <td>9879.000000</td>\n      <td>9879.000000</td>\n      <td>9879.000000</td>\n      <td>9879.000000</td>\n      <td>9879.000000</td>\n      <td>9879.000000</td>\n      <td>9879.000000</td>\n      <td>9879.000000</td>\n      <td>9879.000000</td>\n      <td>9879.000000</td>\n    </tr>\n    <tr>\n      <th>mean</th>\n      <td>4.500084e+09</td>\n      <td>0.499038</td>\n      <td>22.288288</td>\n      <td>2.824881</td>\n      <td>0.504808</td>\n      <td>6.183925</td>\n      <td>6.137666</td>\n      <td>6.645106</td>\n      <td>0.549954</td>\n      <td>0.361980</td>\n      <td>...</td>\n      <td>0.043021</td>\n      <td>16489.041401</td>\n      <td>6.925316</td>\n      <td>17961.730438</td>\n      <td>217.349226</td>\n      <td>51.313088</td>\n      <td>-14.414111</td>\n      <td>33.620306</td>\n      <td>21.734923</td>\n      <td>1648.904140</td>\n    </tr>\n    <tr>\n      <th>std</th>\n      <td>2.757328e+07</td>\n      <td>0.500024</td>\n      <td>18.019177</td>\n      <td>2.174998</td>\n      <td>0.500002</td>\n      <td>3.011028</td>\n      <td>2.933818</td>\n      <td>4.064520</td>\n      <td>0.625527</td>\n      <td>0.480597</td>\n      <td>...</td>\n      <td>0.216900</td>\n      <td>1490.888406</td>\n      <td>0.305311</td>\n      <td>1198.583912</td>\n      <td>21.911668</td>\n      <td>10.027885</td>\n      <td>2453.349179</td>\n      <td>1920.370438</td>\n      <td>2.191167</td>\n      <td>149.088841</td>\n    </tr>\n    <tr>\n      <th>min</th>\n      <td>4.295358e+09</td>\n      <td>0.000000</td>\n      <td>5.000000</td>\n      <td>0.000000</td>\n      <td>0.000000</td>\n      <td>0.000000</td>\n      <td>0.000000</td>\n      <td>0.000000</td>\n      <td>0.000000</td>\n      <td>0.000000</td>\n      <td>...</td>\n      <td>0.000000</td>\n      <td>11212.000000</td>\n      <td>4.800000</td>\n      <td>10465.000000</td>\n      <td>107.000000</td>\n      <td>4.000000</td>\n      <td>-11467.000000</td>\n      <td>-8348.000000</td>\n      <td>10.700000</td>\n      <td>1121.200000</td>\n    </tr>\n    <tr>\n      <th>25%</th>\n      <td>4.483301e+09</td>\n      <td>0.000000</td>\n      <td>14.000000</td>\n      <td>1.000000</td>\n      <td>0.000000</td>\n      <td>4.000000</td>\n      <td>4.000000</td>\n      <td>4.000000</td>\n      <td>0.000000</td>\n      <td>0.000000</td>\n      <td>...</td>\n      <td>0.000000</td>\n      <td>15427.500000</td>\n      <td>6.800000</td>\n      <td>17209.500000</td>\n      <td>203.000000</td>\n      <td>44.000000</td>\n      <td>-1596.000000</td>\n      <td>-1212.000000</td>\n      <td>20.300000</td>\n      <td>1542.750000</td>\n    </tr>\n    <tr>\n      <th>50%</th>\n      <td>4.510920e+09</td>\n      <td>0.000000</td>\n      <td>16.000000</td>\n      <td>3.000000</td>\n      <td>1.000000</td>\n      <td>6.000000</td>\n      <td>6.000000</td>\n      <td>6.000000</td>\n      <td>0.000000</td>\n      <td>0.000000</td>\n      <td>...</td>\n      <td>0.000000</td>\n      <td>16378.000000</td>\n      <td>7.000000</td>\n      <td>17974.000000</td>\n      <td>218.000000</td>\n      <td>51.000000</td>\n      <td>-14.000000</td>\n      <td>28.000000</td>\n      <td>21.800000</td>\n      <td>1637.800000</td>\n    </tr>\n    <tr>\n      <th>75%</th>\n      <td>4.521733e+09</td>\n      <td>1.000000</td>\n      <td>20.000000</td>\n      <td>4.000000</td>\n      <td>1.000000</td>\n      <td>8.000000</td>\n      <td>8.000000</td>\n      <td>9.000000</td>\n      <td>1.000000</td>\n      <td>1.000000</td>\n      <td>...</td>\n      <td>0.000000</td>\n      <td>17418.500000</td>\n      <td>7.200000</td>\n      <td>18764.500000</td>\n      <td>233.000000</td>\n      <td>57.000000</td>\n      <td>1585.500000</td>\n      <td>1290.500000</td>\n      <td>23.300000</td>\n      <td>1741.850000</td>\n    </tr>\n    <tr>\n      <th>max</th>\n      <td>4.527991e+09</td>\n      <td>1.000000</td>\n      <td>250.000000</td>\n      <td>27.000000</td>\n      <td>1.000000</td>\n      <td>22.000000</td>\n      <td>22.000000</td>\n      <td>29.000000</td>\n      <td>2.000000</td>\n      <td>1.000000</td>\n      <td>...</td>\n      <td>2.000000</td>\n      <td>22732.000000</td>\n      <td>8.200000</td>\n      <td>22269.000000</td>\n      <td>289.000000</td>\n      <td>92.000000</td>\n      <td>10830.000000</td>\n      <td>9333.000000</td>\n      <td>28.900000</td>\n      <td>2273.200000</td>\n    </tr>\n  </tbody>\n</table>\n<p>8 rows × 40 columns</p>\n</div>"
     },
     "execution_count": 30,
     "metadata": {},
     "output_type": "execute_result"
    }
   ],
   "source": [
    "df.describe()"
   ],
   "metadata": {
    "collapsed": false,
    "ExecuteTime": {
     "end_time": "2024-01-26T19:18:37.671525600Z",
     "start_time": "2024-01-26T19:18:37.427847200Z"
    }
   },
   "execution_count": 30
  },
  {
   "cell_type": "code",
   "outputs": [
    {
     "data": {
      "text/plain": "blueWins\n0    0.500962\n1    0.499038\nName: proportion, dtype: float64"
     },
     "execution_count": 31,
     "metadata": {},
     "output_type": "execute_result"
    }
   ],
   "source": [
    "df['blueWins'].value_counts(normalize=True)"
   ],
   "metadata": {
    "collapsed": false,
    "ExecuteTime": {
     "end_time": "2024-01-26T19:18:37.672523600Z",
     "start_time": "2024-01-26T19:18:37.549Z"
    }
   },
   "execution_count": 31
  },
  {
   "cell_type": "code",
   "outputs": [],
   "source": [
    "features = df.drop(columns=['blueWins', 'gameId'])\n",
    "target = df['blueWins']"
   ],
   "metadata": {
    "collapsed": false,
    "ExecuteTime": {
     "end_time": "2024-01-26T19:18:37.676088200Z",
     "start_time": "2024-01-26T19:18:37.581825200Z"
    }
   },
   "execution_count": 32
  },
  {
   "cell_type": "code",
   "outputs": [],
   "source": [
    "# Scale everything\n",
    "features = pd.DataFrame(scaler.fit_transform(features), columns=features.columns)"
   ],
   "metadata": {
    "collapsed": false,
    "ExecuteTime": {
     "end_time": "2024-01-26T19:18:37.847369Z",
     "start_time": "2024-01-26T19:18:37.682133900Z"
    }
   },
   "execution_count": 33
  },
  {
   "cell_type": "code",
   "outputs": [
    {
     "data": {
      "text/plain": "       blueWardsPlaced  blueWardsDestroyed  blueFirstBlood     blueKills  \\\ncount     9.879000e+03        9.879000e+03    9.879000e+03  9.879000e+03   \nmean     -2.876982e-17        5.034719e-18   -1.078868e-18  1.125619e-16   \nstd       1.000051e+00        1.000051e+00    1.000051e+00  1.000051e+00   \nmin      -9.594869e-01       -1.298863e+00   -1.009663e+00 -2.053863e+00   \n25%      -4.599937e-01       -8.390689e-01   -1.009663e+00 -7.253456e-01   \n50%      -3.489952e-01        8.051859e-02    9.904294e-01 -6.108705e-02   \n75%      -1.269983e-01        5.403123e-01    9.904294e-01  6.031716e-01   \nmax       1.263783e+01        1.111557e+01    9.904294e-01  5.252982e+00   \n\n         blueDeaths   blueAssists  blueEliteMonsters   blueDragons  \\\ncount  9.879000e+03  9.879000e+03       9.879000e+03  9.879000e+03   \nmean  -1.179563e-16 -1.111234e-16       3.308530e-17 -8.702872e-17   \nstd    1.000051e+00  1.000051e+00       1.000051e+00  1.000051e+00   \nmin   -2.092146e+00 -1.634988e+00      -8.792310e-01 -7.532257e-01   \n25%   -7.286663e-01 -6.508123e-01      -8.792310e-01 -7.532257e-01   \n50%   -4.692613e-02 -1.587244e-01      -8.792310e-01 -7.532257e-01   \n75%    6.348140e-01  5.794075e-01       7.195032e-01  1.327623e+00   \nmax    5.406995e+00  5.500287e+00       2.318237e+00  1.327623e+00   \n\n        blueHeralds  blueTowersDestroyed  ...  redTowersDestroyed  \\\ncount  9.879000e+03         9.879000e+03  ...        9.879000e+03   \nmean  -5.753965e-18        -2.733133e-17  ...        2.589284e-17   \nstd    1.000051e+00         1.000051e+00  ...        1.000051e+00   \nmin   -4.811324e-01        -2.104390e-01  ...       -1.983529e-01   \n25%   -4.811324e-01        -2.104390e-01  ...       -1.983529e-01   \n50%   -4.811324e-01        -2.104390e-01  ...       -1.983529e-01   \n75%   -4.811324e-01        -2.104390e-01  ...       -1.983529e-01   \nmax    2.078430e+00         1.615907e+01  ...        9.022956e+00   \n\n       redTotalGold   redAvgLevel  redTotalExperience  redTotalMinionsKilled  \\\ncount  9.879000e+03  9.879000e+03        9.879000e+03           9.879000e+03   \nmean   1.146837e-15  1.444245e-15        3.394839e-16           5.897814e-16   \nstd    1.000051e+00  1.000051e+00        1.000051e+00           1.000051e+00   \nmin   -3.539707e+00 -6.961495e+00       -6.254973e+00          -5.036349e+00   \n25%   -7.120554e-01 -4.104749e-01       -6.276311e-01          -6.549000e-01   \n50%   -7.448379e-02  2.446271e-01        1.023723e-02           2.970140e-02   \n75%    6.234576e-01  8.997291e-01        6.697989e-01           7.143028e-01   \nmax    4.187620e+00  4.175239e+00        3.593814e+00           3.270148e+00   \n\n       redTotalJungleMinionsKilled   redGoldDiff  redExperienceDiff  \\\ncount                 9.879000e+03  9.879000e+03       9.879000e+03   \nmean                  8.055551e-17 -1.258680e-17       1.438491e-18   \nstd                   1.000051e+00  1.000051e+00       1.000051e+00   \nmin                  -4.718391e+00 -4.668380e+00      -4.364806e+00   \n25%                  -7.293122e-01 -6.446966e-01      -6.486683e-01   \n50%                  -3.122336e-02  1.688026e-04      -2.926826e-03   \n75%                   5.671385e-01  6.521677e-01       6.545317e-01   \nmax                   4.057583e+00  4.420473e+00       4.842738e+00   \n\n        redCSPerMin  redGoldPerMin  \ncount  9.879000e+03   9.879000e+03  \nmean  -1.352901e-15  -6.883180e-16  \nstd    1.000051e+00   1.000051e+00  \nmin   -5.036349e+00  -3.539707e+00  \n25%   -6.549000e-01  -7.120554e-01  \n50%    2.970140e-02  -7.448379e-02  \n75%    7.143028e-01   6.234576e-01  \nmax    3.270148e+00   4.187620e+00  \n\n[8 rows x 38 columns]",
      "text/html": "<div>\n<style scoped>\n    .dataframe tbody tr th:only-of-type {\n        vertical-align: middle;\n    }\n\n    .dataframe tbody tr th {\n        vertical-align: top;\n    }\n\n    .dataframe thead th {\n        text-align: right;\n    }\n</style>\n<table border=\"1\" class=\"dataframe\">\n  <thead>\n    <tr style=\"text-align: right;\">\n      <th></th>\n      <th>blueWardsPlaced</th>\n      <th>blueWardsDestroyed</th>\n      <th>blueFirstBlood</th>\n      <th>blueKills</th>\n      <th>blueDeaths</th>\n      <th>blueAssists</th>\n      <th>blueEliteMonsters</th>\n      <th>blueDragons</th>\n      <th>blueHeralds</th>\n      <th>blueTowersDestroyed</th>\n      <th>...</th>\n      <th>redTowersDestroyed</th>\n      <th>redTotalGold</th>\n      <th>redAvgLevel</th>\n      <th>redTotalExperience</th>\n      <th>redTotalMinionsKilled</th>\n      <th>redTotalJungleMinionsKilled</th>\n      <th>redGoldDiff</th>\n      <th>redExperienceDiff</th>\n      <th>redCSPerMin</th>\n      <th>redGoldPerMin</th>\n    </tr>\n  </thead>\n  <tbody>\n    <tr>\n      <th>count</th>\n      <td>9.879000e+03</td>\n      <td>9.879000e+03</td>\n      <td>9.879000e+03</td>\n      <td>9.879000e+03</td>\n      <td>9.879000e+03</td>\n      <td>9.879000e+03</td>\n      <td>9.879000e+03</td>\n      <td>9.879000e+03</td>\n      <td>9.879000e+03</td>\n      <td>9.879000e+03</td>\n      <td>...</td>\n      <td>9.879000e+03</td>\n      <td>9.879000e+03</td>\n      <td>9.879000e+03</td>\n      <td>9.879000e+03</td>\n      <td>9.879000e+03</td>\n      <td>9.879000e+03</td>\n      <td>9.879000e+03</td>\n      <td>9.879000e+03</td>\n      <td>9.879000e+03</td>\n      <td>9.879000e+03</td>\n    </tr>\n    <tr>\n      <th>mean</th>\n      <td>-2.876982e-17</td>\n      <td>5.034719e-18</td>\n      <td>-1.078868e-18</td>\n      <td>1.125619e-16</td>\n      <td>-1.179563e-16</td>\n      <td>-1.111234e-16</td>\n      <td>3.308530e-17</td>\n      <td>-8.702872e-17</td>\n      <td>-5.753965e-18</td>\n      <td>-2.733133e-17</td>\n      <td>...</td>\n      <td>2.589284e-17</td>\n      <td>1.146837e-15</td>\n      <td>1.444245e-15</td>\n      <td>3.394839e-16</td>\n      <td>5.897814e-16</td>\n      <td>8.055551e-17</td>\n      <td>-1.258680e-17</td>\n      <td>1.438491e-18</td>\n      <td>-1.352901e-15</td>\n      <td>-6.883180e-16</td>\n    </tr>\n    <tr>\n      <th>std</th>\n      <td>1.000051e+00</td>\n      <td>1.000051e+00</td>\n      <td>1.000051e+00</td>\n      <td>1.000051e+00</td>\n      <td>1.000051e+00</td>\n      <td>1.000051e+00</td>\n      <td>1.000051e+00</td>\n      <td>1.000051e+00</td>\n      <td>1.000051e+00</td>\n      <td>1.000051e+00</td>\n      <td>...</td>\n      <td>1.000051e+00</td>\n      <td>1.000051e+00</td>\n      <td>1.000051e+00</td>\n      <td>1.000051e+00</td>\n      <td>1.000051e+00</td>\n      <td>1.000051e+00</td>\n      <td>1.000051e+00</td>\n      <td>1.000051e+00</td>\n      <td>1.000051e+00</td>\n      <td>1.000051e+00</td>\n    </tr>\n    <tr>\n      <th>min</th>\n      <td>-9.594869e-01</td>\n      <td>-1.298863e+00</td>\n      <td>-1.009663e+00</td>\n      <td>-2.053863e+00</td>\n      <td>-2.092146e+00</td>\n      <td>-1.634988e+00</td>\n      <td>-8.792310e-01</td>\n      <td>-7.532257e-01</td>\n      <td>-4.811324e-01</td>\n      <td>-2.104390e-01</td>\n      <td>...</td>\n      <td>-1.983529e-01</td>\n      <td>-3.539707e+00</td>\n      <td>-6.961495e+00</td>\n      <td>-6.254973e+00</td>\n      <td>-5.036349e+00</td>\n      <td>-4.718391e+00</td>\n      <td>-4.668380e+00</td>\n      <td>-4.364806e+00</td>\n      <td>-5.036349e+00</td>\n      <td>-3.539707e+00</td>\n    </tr>\n    <tr>\n      <th>25%</th>\n      <td>-4.599937e-01</td>\n      <td>-8.390689e-01</td>\n      <td>-1.009663e+00</td>\n      <td>-7.253456e-01</td>\n      <td>-7.286663e-01</td>\n      <td>-6.508123e-01</td>\n      <td>-8.792310e-01</td>\n      <td>-7.532257e-01</td>\n      <td>-4.811324e-01</td>\n      <td>-2.104390e-01</td>\n      <td>...</td>\n      <td>-1.983529e-01</td>\n      <td>-7.120554e-01</td>\n      <td>-4.104749e-01</td>\n      <td>-6.276311e-01</td>\n      <td>-6.549000e-01</td>\n      <td>-7.293122e-01</td>\n      <td>-6.446966e-01</td>\n      <td>-6.486683e-01</td>\n      <td>-6.549000e-01</td>\n      <td>-7.120554e-01</td>\n    </tr>\n    <tr>\n      <th>50%</th>\n      <td>-3.489952e-01</td>\n      <td>8.051859e-02</td>\n      <td>9.904294e-01</td>\n      <td>-6.108705e-02</td>\n      <td>-4.692613e-02</td>\n      <td>-1.587244e-01</td>\n      <td>-8.792310e-01</td>\n      <td>-7.532257e-01</td>\n      <td>-4.811324e-01</td>\n      <td>-2.104390e-01</td>\n      <td>...</td>\n      <td>-1.983529e-01</td>\n      <td>-7.448379e-02</td>\n      <td>2.446271e-01</td>\n      <td>1.023723e-02</td>\n      <td>2.970140e-02</td>\n      <td>-3.122336e-02</td>\n      <td>1.688026e-04</td>\n      <td>-2.926826e-03</td>\n      <td>2.970140e-02</td>\n      <td>-7.448379e-02</td>\n    </tr>\n    <tr>\n      <th>75%</th>\n      <td>-1.269983e-01</td>\n      <td>5.403123e-01</td>\n      <td>9.904294e-01</td>\n      <td>6.031716e-01</td>\n      <td>6.348140e-01</td>\n      <td>5.794075e-01</td>\n      <td>7.195032e-01</td>\n      <td>1.327623e+00</td>\n      <td>-4.811324e-01</td>\n      <td>-2.104390e-01</td>\n      <td>...</td>\n      <td>-1.983529e-01</td>\n      <td>6.234576e-01</td>\n      <td>8.997291e-01</td>\n      <td>6.697989e-01</td>\n      <td>7.143028e-01</td>\n      <td>5.671385e-01</td>\n      <td>6.521677e-01</td>\n      <td>6.545317e-01</td>\n      <td>7.143028e-01</td>\n      <td>6.234576e-01</td>\n    </tr>\n    <tr>\n      <th>max</th>\n      <td>1.263783e+01</td>\n      <td>1.111557e+01</td>\n      <td>9.904294e-01</td>\n      <td>5.252982e+00</td>\n      <td>5.406995e+00</td>\n      <td>5.500287e+00</td>\n      <td>2.318237e+00</td>\n      <td>1.327623e+00</td>\n      <td>2.078430e+00</td>\n      <td>1.615907e+01</td>\n      <td>...</td>\n      <td>9.022956e+00</td>\n      <td>4.187620e+00</td>\n      <td>4.175239e+00</td>\n      <td>3.593814e+00</td>\n      <td>3.270148e+00</td>\n      <td>4.057583e+00</td>\n      <td>4.420473e+00</td>\n      <td>4.842738e+00</td>\n      <td>3.270148e+00</td>\n      <td>4.187620e+00</td>\n    </tr>\n  </tbody>\n</table>\n<p>8 rows × 38 columns</p>\n</div>"
     },
     "execution_count": 34,
     "metadata": {},
     "output_type": "execute_result"
    }
   ],
   "source": [
    "features.describe()"
   ],
   "metadata": {
    "collapsed": false,
    "ExecuteTime": {
     "end_time": "2024-01-26T19:18:38.020955200Z",
     "start_time": "2024-01-26T19:18:37.804715100Z"
    }
   },
   "execution_count": 34
  },
  {
   "cell_type": "markdown",
   "source": [
    "### Pasos del análisis exploratorio\n",
    "\n",
    "#### Encoding\n",
    "- No se ha realizado encoding, ya que no hay variables categóricas\n",
    "\n",
    "#### Balanceo\n",
    "- No se ha realizado balanceo, ya que el dataset está balanceado\n",
    "\n",
    "#### Escalamiento\n",
    "- Se ha realizado escalamiento de los datos, ya que las variables tienen diferentes escalas\n",
    "\n",
    "#### Selección de Variables\n",
    "- No se ha realizado selección de variables, ya que todas las variables son relevantes"
   ],
   "metadata": {
    "collapsed": false
   }
  },
  {
   "cell_type": "code",
   "outputs": [],
   "source": [
    "X_train, X_test, y_train, y_test = train_test_split(features, target, test_size=0.2, random_state=7)"
   ],
   "metadata": {
    "collapsed": false,
    "ExecuteTime": {
     "end_time": "2024-01-26T19:18:38.020955200Z",
     "start_time": "2024-01-26T19:18:37.949250400Z"
    }
   },
   "execution_count": 35
  },
  {
   "cell_type": "markdown",
   "metadata": {},
   "source": [
    "## Task 3.1 Support Vector Machines"
   ]
  },
  {
   "cell_type": "markdown",
   "metadata": {},
   "source": [
    "## Task 3.2 Árboles de Decisión"
   ]
  },
  {
   "cell_type": "markdown",
   "metadata": {},
   "source": [
    "## Task 3.3 Comparación"
   ]
  },
  {
   "cell_type": "code",
   "outputs": [],
   "source": [],
   "metadata": {
    "collapsed": false,
    "ExecuteTime": {
     "end_time": "2024-01-26T19:18:38.030576900Z",
     "start_time": "2024-01-26T19:18:37.966990400Z"
    }
   },
   "execution_count": 35
  }
 ],
 "metadata": {
  "language_info": {
   "name": "python"
  },
  "kernelspec": {
   "name": "python3",
   "language": "python",
   "display_name": "Python 3 (ipykernel)"
  }
 },
 "nbformat": 4,
 "nbformat_minor": 2
}
